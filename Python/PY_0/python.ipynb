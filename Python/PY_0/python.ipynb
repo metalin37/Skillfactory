{
 "cells": [
  {
   "attachments": {},
   "cell_type": "markdown",
   "metadata": {},
   "source": [
    "tuple() или() создаем кортеж\n",
    "\n",
    "set() или {} создаем множества\n",
    "\n",
    "list() или [] создаем список"
   ]
  },
  {
   "attachments": {},
   "cell_type": "markdown",
   "metadata": {},
   "source": [
    "1 УСЛОВНЫЕ ОПЕРАТОРЫ\n",
    "\n",
    "ВЫРАЖЕНИЕ ВОЗВРАЩАЮЩЕЕ TRUE"
   ]
  },
  {
   "cell_type": "code",
   "execution_count": 2,
   "metadata": {},
   "outputs": [
    {
     "data": {
      "text/plain": [
       "False"
      ]
     },
     "execution_count": 2,
     "metadata": {},
     "output_type": "execute_result"
    }
   ],
   "source": [
    "x=50\n",
    "(x % 400 == 0) or (( x % 4 == 0) and ( x % 100 != 0))"
   ]
  },
  {
   "attachments": {},
   "cell_type": "markdown",
   "metadata": {},
   "source": [
    "ВЫРАЖЕНИЕ ВОЗВРАЩАЮЩЕЕ TRUE ПО 1 ИЗ УСЛОВИЙ"
   ]
  },
  {
   "cell_type": "code",
   "execution_count": 4,
   "metadata": {},
   "outputs": [],
   "source": [
    "diagnosis_1= 'yes'\n",
    "diagnosis_2 = 'no'\n",
    "diagnosis_3= 'yes'\n",
    "result = (diagnosis_1 == 'yes') or (diagnosis_2 == 'yes') or (diagnosis_3 == 'yes')"
   ]
  },
  {
   "attachments": {},
   "cell_type": "markdown",
   "metadata": {},
   "source": [
    "ВЫРАЖЕНИЕ ПРОВЕРЯЮЩЕЕ ПРИНАДЛЕЖНОСТЬ ЦИФРЫ К ЧИСЛУ "
   ]
  },
  {
   "cell_type": "code",
   "execution_count": 5,
   "metadata": {},
   "outputs": [
    {
     "data": {
      "text/plain": [
       "True"
      ]
     },
     "execution_count": 5,
     "metadata": {},
     "output_type": "execute_result"
    }
   ],
   "source": [
    "N = 1237\n",
    "'3' in str(N) and '7' in str(N)\n",
    "# True"
   ]
  },
  {
   "attachments": {},
   "cell_type": "markdown",
   "metadata": {},
   "source": [
    "ВЫРАЖЕНИЕ ПРОВЕРЯЮЩЕЕ НАЧАЛО ЧИСЛА С ЧЕТНОЙ ЦЫФРЫ"
   ]
  },
  {
   "cell_type": "code",
   "execution_count": 6,
   "metadata": {},
   "outputs": [
    {
     "name": "stdout",
     "output_type": "stream",
     "text": [
      "False\n"
     ]
    }
   ],
   "source": [
    "N = 123\n",
    "N_str = str(N)\n",
    "first_digit = int(N_str[0])\n",
    "print(first_digit % 2 == 0)\n",
    "# False"
   ]
  },
  {
   "attachments": {},
   "cell_type": "markdown",
   "metadata": {},
   "source": [
    "СКРИПТ ПРИНИМАЮЩИЙ СТРОКИ И КОНВЕРТИРУЮЩИЙ ИХ В ЧИСЛА"
   ]
  },
  {
   "cell_type": "code",
   "execution_count": 8,
   "metadata": {},
   "outputs": [
    {
     "name": "stdout",
     "output_type": "stream",
     "text": [
      "You entered 6\n",
      "Exit\n"
     ]
    }
   ],
   "source": [
    "try:\n",
    "    i = int(input('Enter a number:\\t')) # Введите число\n",
    "except ValueError as e:\n",
    "    print('You entered a wrong number') # Вы ввели неправильное число\n",
    "else:\n",
    "    print('You entered {}'.format(i)) # Вы ввели {i}\n",
    "finally:\n",
    "    print('Exit') # Выход из программы"
   ]
  },
  {
   "attachments": {},
   "cell_type": "markdown",
   "metadata": {},
   "source": [
    "ФУНКЦИЯ ОПРЕДЕЛЯЮЩАЯ ЧЕТНОСТЬ 2Х ЧИСЕЛ"
   ]
  },
  {
   "cell_type": "code",
   "execution_count": 9,
   "metadata": {},
   "outputs": [],
   "source": [
    "def are_both_odd(A, B):\n",
    "    return A % 2 == 1 and B % 2 == 1"
   ]
  },
  {
   "attachments": {},
   "cell_type": "markdown",
   "metadata": {},
   "source": [
    "ЦИКЛ, КОТОРЫЙ ВОЗВРАЩАЕТ ИЗ ФУНКЦИИ КЛАСС ВЕТРА В ЗАВИСИМОСТИ ОТ ЕГО ХАРАКТЕРА"
   ]
  },
  {
   "cell_type": "code",
   "execution_count": 10,
   "metadata": {},
   "outputs": [
    {
     "name": "stdout",
     "output_type": "stream",
     "text": [
      "weak [1]\n"
     ]
    }
   ],
   "source": [
    "def get_wind_class(speed): #объявление функции\n",
    "    if 1 <= speed <= 4: #только аргумент\n",
    "        return \"weak [1]\"\n",
    "    elif 5 <= speed <= 10:\n",
    "        return \"moderate [2]\"\n",
    "    elif 11 <= speed <= 18:\n",
    "        return\"strong [3]\"\n",
    "    elif speed >= 19:\n",
    "        return \"hurricane [4]\"\n",
    "print(get_wind_class(3)) #мы просим программу напечатать то, что в скобках"
   ]
  },
  {
   "attachments": {},
   "cell_type": "markdown",
   "metadata": {},
   "source": [
    "ФУНКЦИЯ СВЕРЯЮЩАЯ ЛОГИН И ПАРОЛЬ"
   ]
  },
  {
   "cell_type": "code",
   "execution_count": 14,
   "metadata": {},
   "outputs": [],
   "source": [
    "user_database = {\n",
    "    'user': 'password',\n",
    "    'iseedeadpeople': 'greedisgood',\n",
    "    'hesoyam': 'tgm'}\n",
    "def check_user(username, password):\n",
    "    if username in user_database:\n",
    "        if password == user_database[username]:\n",
    "            return True\n",
    "        else:\n",
    "            return False\n",
    "    else:\n",
    "        return False"
   ]
  },
  {
   "attachments": {},
   "cell_type": "markdown",
   "metadata": {},
   "source": [
    "ФУНКЦИЯ ПРОВЕРЯЮЩАЯ ЧТО ВСЕ ЧИСЛА МЕНЬШЕ ДРУГОГО ЧИСЛА\n"
   ]
  },
  {
   "cell_type": "code",
   "execution_count": 15,
   "metadata": {},
   "outputs": [
    {
     "name": "stdout",
     "output_type": "stream",
     "text": [
      "There is no number less than 45 or there are a few\n"
     ]
    }
   ],
   "source": [
    "A = int(input('Enter the first number\\n')) # Введите первое число\n",
    "B = int(input('Enter the second number\\n')) # Введите второе число\n",
    "C = int(input('Enter the third number\\n')) # Введите третье число\n",
    "\n",
    "if ((A < 45) and (B >= 45) and (C >=45)) or \\\n",
    "    ((A >= 45) and (B < 45) and (C >=45)) or \\\n",
    "    ((A >= 45) and (B >= 45) and (C < 45)):\n",
    "    print('There is a number less than 45, such a number is the only one') # Есть число меньше 45 и только одно\n",
    "else:\n",
    "    print('There is no number less than 45 or there are a few') # Числа меньше 45 нет или их несколько"
   ]
  },
  {
   "attachments": {},
   "cell_type": "markdown",
   "metadata": {},
   "source": [
    "логическое выражение, которое определяет, что число А не принадлежит интервалу от -10 до -1 или интервалу от 2 до 15"
   ]
  },
  {
   "cell_type": "code",
   "execution_count": 16,
   "metadata": {},
   "outputs": [
    {
     "name": "stdout",
     "output_type": "stream",
     "text": [
      "The number belongs to the interval\n"
     ]
    }
   ],
   "source": [
    "A = int(input('Enter a number\\n')) # Введите число\n",
    "\n",
    "if not (-10 <= A <= -1 or 2 <= A <= 15):\n",
    "    print(\"The number does not belong to the interval\") # Число не принадлежит интервалу\n",
    "else:\n",
    "    print(\"The number belongs to the interval\") # Число принадлежит интервалу"
   ]
  },
  {
   "attachments": {},
   "cell_type": "markdown",
   "metadata": {},
   "source": [
    "ФУНКЦИЯ ПРОВЕРКИ ВХОЖДЕНИЯ ЦИВРЫ В ЧИСЛО"
   ]
  },
  {
   "cell_type": "code",
   "execution_count": 17,
   "metadata": {},
   "outputs": [
    {
     "name": "stdout",
     "output_type": "stream",
     "text": [
      "True\n"
     ]
    }
   ],
   "source": [
    "n = 15\n",
    "first_digit = n // 10\n",
    "second_digit = n % 10\n",
    "\n",
    "print((first_digit == 5) or (second_digit == 5))"
   ]
  },
  {
   "attachments": {},
   "cell_type": "markdown",
   "metadata": {},
   "source": [
    "ПРОВЕРКА ЭЛЕМЕНТОВ В СПИСКЕ НА УНИКАЛЬНОСТЬ"
   ]
  },
  {
   "cell_type": "code",
   "execution_count": 18,
   "metadata": {},
   "outputs": [
    {
     "name": "stdout",
     "output_type": "stream",
     "text": [
      "True\n"
     ]
    }
   ],
   "source": [
    "list_ = [-5, 2, 4, 8, 12, -7, 5]\n",
    "\n",
    "print(len(list_) == len(set(list_)))"
   ]
  },
  {
   "attachments": {},
   "cell_type": "markdown",
   "metadata": {},
   "source": [
    "ПРОВЕРКА НА ПАЛИНДРОМ"
   ]
  },
  {
   "cell_type": "code",
   "execution_count": 19,
   "metadata": {},
   "outputs": [
    {
     "name": "stdout",
     "output_type": "stream",
     "text": [
      "False\n"
     ]
    }
   ],
   "source": [
    "num = 12345678\n",
    "print(str(num) == str(num)[::-1])"
   ]
  },
  {
   "attachments": {},
   "cell_type": "markdown",
   "metadata": {},
   "source": [
    "Цыклы\n",
    "\n",
    "ВЫРАЖЕНИЕ НАХОДЯЩЕЕ ПРОИЗВЕДЕНИЕ ЭЛЕМЕНТОВ СПИСКА"
   ]
  },
  {
   "cell_type": "code",
   "execution_count": 20,
   "metadata": {},
   "outputs": [
    {
     "name": "stdout",
     "output_type": "stream",
     "text": [
      "1947456\n"
     ]
    }
   ],
   "source": [
    "\"\"\"обратите внимание, что P = 1, потому что если бы\n",
    "мы умножали на 0, то всё произведение было бы равно 0\"\"\"\n",
    "lst = [98, 24, 23, 12, 3] \n",
    "P = 1 #создаём переменную, в которой будем считать произведение\n",
    "#создаём цикл по элементам списка\n",
    "for element in lst:\n",
    "     P = P * element #умножаем текущее значение P на текущий element\n",
    "print(P) #выводим результат"
   ]
  },
  {
   "attachments": {},
   "cell_type": "markdown",
   "metadata": {},
   "source": [
    "ВЫРАЖЕНИЕ НАХОДЯЩЕЕ ПРОИЗВЕДЕНИЕ ДИАПАЗОНА ЧИСЕЛ ОТ P ДО N"
   ]
  },
  {
   "cell_type": "code",
   "execution_count": 21,
   "metadata": {},
   "outputs": [
    {
     "name": "stdout",
     "output_type": "stream",
     "text": [
      "120\n"
     ]
    }
   ],
   "source": [
    "\"\"\"обратите внимание, что P = 1, потому что если бы\n",
    "мы умножали на 0, то всё произведение было бы равно 0\"\"\"\n",
    "P = 1 # создаём переменную-счётчик, в которой мы будем считать произведение\n",
    "N = 5\n",
    "\n",
    "# запишите цикл for для подсчёта произведения\n",
    "for i in range(1, N+1):\n",
    "    P *= i\n",
    "print(P)"
   ]
  },
  {
   "attachments": {},
   "cell_type": "markdown",
   "metadata": {},
   "source": [
    "ПЕЧАТЬ ЛЕСЕНКИ ИЗ ЗВЕЗДОЧЕК"
   ]
  },
  {
   "cell_type": "code",
   "execution_count": 22,
   "metadata": {},
   "outputs": [
    {
     "name": "stdout",
     "output_type": "stream",
     "text": [
      "*\n",
      "**\n",
      "***\n",
      "****\n",
      "*****\n"
     ]
    }
   ],
   "source": [
    "N = 5\n",
    "\n",
    "for i in range(1, N + 1):\n",
    "    print(\"*\" * i)"
   ]
  },
  {
   "attachments": {},
   "cell_type": "markdown",
   "metadata": {},
   "source": [
    "ЦИКЛ, КОТОРЫЙ СКЛАДЫВАЕТ ВСЕ СТРОКИ ИЗ СПИСКА В ОДНО ПРЕДЛОЖЕНИЕ"
   ]
  },
  {
   "cell_type": "code",
   "execution_count": 23,
   "metadata": {},
   "outputs": [
    {
     "name": "stdout",
     "output_type": "stream",
     "text": [
      "My name is Ivan \n"
     ]
    }
   ],
   "source": [
    "word_list = ['My', 'name', 'is', 'Ivan'] #список слов\n",
    "sentence = '' #создаём накопительную переменную, в которую будем добавлять слова\n",
    "#создаём цикл по словам из списка word_list\n",
    "for word in word_list:\n",
    "    sentence += word + ' ' #добавляем к текущему предложению слово и пробел\n",
    "print(sentence) #выводим предложение на экран"
   ]
  },
  {
   "attachments": {},
   "cell_type": "markdown",
   "metadata": {},
   "source": [
    "СОРТИРОВКА И ПОСЛЕДОВАТЕЛЬНЫЙ ВЫВОД НА ЭКРАН ЭЛЕМЕНТОВ СПИСКА"
   ]
  },
  {
   "cell_type": "code",
   "execution_count": 24,
   "metadata": {},
   "outputs": [
    {
     "name": "stdout",
     "output_type": "stream",
     "text": [
      "-5\n",
      "1\n",
      "3\n",
      "10\n"
     ]
    }
   ],
   "source": [
    "num_list = [1, 10, 3, -5] #заданный список\n",
    "num_list.sort() #сортируем список по возрастанию\n",
    "#создаём цикл по элементам отсортированного списка\n",
    "for num in num_list:\n",
    "    print(num) #выводим каждый элемент на экран"
   ]
  },
  {
   "attachments": {},
   "cell_type": "markdown",
   "metadata": {},
   "source": [
    "ПОДСЧЕТ ЧЕТНЫХ ЭЛЕМЕНТОВ СПИСКА"
   ]
  },
  {
   "cell_type": "code",
   "execution_count": 25,
   "metadata": {},
   "outputs": [
    {
     "name": "stdout",
     "output_type": "stream",
     "text": [
      "17\n"
     ]
    }
   ],
   "source": [
    "my_list = list(range(0, 100, 3)) #заданный список\n",
    "count = 0 #создаём переменную, в которой будем считать количество чётных элементов\n",
    "#создаём цикл по элементам списка\n",
    "for elem in my_list:\n",
    "    #число является чётным, если оно делится на 2 без остатка\n",
    "    if elem % 2 == 0: #сравниваем остаток от деления на 2 с 0\n",
    "        count += 1 #если условие выполняется, увеличиваем количество\n",
    "print(count) #выводим количество чётных элементов на экран"
   ]
  },
  {
   "attachments": {},
   "cell_type": "markdown",
   "metadata": {},
   "source": [
    "ПОДСЧЕТ ЭЛЕМЕНТОВ СПИСКА ТИПА STR"
   ]
  },
  {
   "cell_type": "code",
   "execution_count": 26,
   "metadata": {},
   "outputs": [
    {
     "name": "stdout",
     "output_type": "stream",
     "text": [
      "3\n"
     ]
    }
   ],
   "source": [
    "my_list = [True, 1, -10, \"hello\", False, \"string_1\", 123, 2.5, [1, 2], \"another\"] #заданный список\n",
    "str_count = 0 #вводим переменную, в которой будем считать количество строк\n",
    "#создаём цикл по элементам исходного списка\n",
    "for el in my_list: \n",
    "    if type(el) is str: #проверяем тип данных элемента\n",
    "        str_count += 1 #если условие выполняется, увеличиваем количество на 1\n",
    "print(str_count) #выводим результат"
   ]
  },
  {
   "attachments": {},
   "cell_type": "markdown",
   "metadata": {},
   "source": [
    "ЦИКЛ СЧИТАЮЩИЙ КОЛЛИЧЕСТВО ДОЛИВОК И ИЗЛИШЕК"
   ]
  },
  {
   "cell_type": "code",
   "execution_count": 27,
   "metadata": {},
   "outputs": [
    {
     "name": "stdout",
     "output_type": "stream",
     "text": [
      "3.1999999999999993\n"
     ]
    }
   ],
   "source": [
    "volume = 10 #задаём объём сосуда в литрах\n",
    "v = 0.0033 * 1000 #задаём количество заливаемой жидкости в литрах\n",
    "S = 0 #задаём суммарный объём залитой жидкости\n",
    "#создаём цикл, который будет выполняться, пока объём залитой жидкости меньше объёма сосуда\n",
    "while S < volume: #делай, пока...\n",
    "    S += v #увеличиваем суммарный объём\n",
    "print(S - volume) #выводим объём вылитой жидкости"
   ]
  },
  {
   "attachments": {},
   "cell_type": "markdown",
   "metadata": {},
   "source": [
    "ЦИКЛ WHILE, КОТОРЫЙ НАХОДИТ МАКСИМАЛЬНОЕ НАТУРАЛЬНОЕ ЧИСЛО, КВАДРАТ КОТОРОГО МЕНЬШЕ 1000."
   ]
  },
  {
   "cell_type": "code",
   "execution_count": 28,
   "metadata": {},
   "outputs": [
    {
     "name": "stdout",
     "output_type": "stream",
     "text": [
      "Required number 31\n"
     ]
    }
   ],
   "source": [
    "n = 1\n",
    "while n**2 < 1000:\n",
    "    n += 1\n",
    "print(\"Required number\", n - 1) # искомое число"
   ]
  },
  {
   "attachments": {},
   "cell_type": "markdown",
   "metadata": {},
   "source": [
    "БЕСКОНЕЧНЫЙ ЦИКЛ WHILE С УСЛОВИЕМ ВЫХОДА ВНУТРИ ЦИКЛА, КОТОРЫЙ НАХОДИТ МАКСИМАЛЬНОЕ НАТУРАЛЬНОЕ ЧИСЛО, КВАДРАТ КОТОРОГО МЕНЬШЕ 1000."
   ]
  },
  {
   "cell_type": "code",
   "execution_count": 30,
   "metadata": {},
   "outputs": [
    {
     "name": "stdout",
     "output_type": "stream",
     "text": [
      "Required number 31\n"
     ]
    }
   ],
   "source": [
    "n = 1\n",
    "while True:\n",
    "    if n**2 >= 1000:\n",
    "        print(\"Required number\", n - 1) # искомое число\n",
    "        break\n",
    "    n += 1"
   ]
  },
  {
   "attachments": {},
   "cell_type": "markdown",
   "metadata": {},
   "source": [
    "ЦИКЛ WHILE, КОТОРЫЙ ВЫЧИСЛЯЕТ ПРОИЗВЕДЕНИЕ НАТУРАЛЬНЫХ ЧИСЕЛ (1*2*3*4*...). ЦИКЛ ДОЛЖЕН ВЫПОЛНЯТЬСЯ ДО ТЕХ ПОР, ПОКА ЗНАЧЕНИЕ ПРОИЗВЕДЕНИЯ НЕ ПРЕВЫСИТ 1 000."
   ]
  },
  {
   "cell_type": "code",
   "execution_count": 31,
   "metadata": {},
   "outputs": [
    {
     "name": "stdout",
     "output_type": "stream",
     "text": [
      "5040\n"
     ]
    }
   ],
   "source": [
    "\"\"\"обратите внимание, что P = 1, потому что если бы\n",
    "мы умножали на 0, то всё произведение было бы равно 0\"\"\"\n",
    "p = 1 #задаём начальное значение произведения\n",
    "n = 1 #задаём первое натуральное число\n",
    "#создаём цикл, который будет выполняться, пока произведение не превысит 1 000\n",
    "while p < 1000: #делай, пока...\n",
    "    p *= n #умножаем произведение на текущее натуральное число\n",
    "    n += 1 #увеличиваем натуральное число на 1\n",
    "print(p) #выводим результирующее значение произведения"
   ]
  },
  {
   "attachments": {},
   "cell_type": "markdown",
   "metadata": {},
   "source": [
    "ПРОГРАММА, КОТОРАЯ ВОЗВОДИТ ЧИСЛО 3 В N-Ю СТЕПЕНЬ (3, 9, 27 …), НАЧИНАЯ С N = 1, ПОКА РЕЗУЛЬТАТ БУДЕТ МЕНЕЕ 1000. СО СЧЕТЧИКОМ ИТЕРАЦИЙ"
   ]
  },
  {
   "cell_type": "code",
   "execution_count": 32,
   "metadata": {},
   "outputs": [
    {
     "name": "stdout",
     "output_type": "stream",
     "text": [
      "6\n"
     ]
    }
   ],
   "source": [
    "n = 1 #задаём начальное значение степени\n",
    "count = 0 #задаём количество итераций\n",
    "#создаём цикл, который будет выполняться, пока 3 в степени n меньше 1000\n",
    "while 3 ** n < 1000: #делай, пока...\n",
    "    count += 1 #увеличиваем количество итераций\n",
    "    n += 1 #увеличиваем степень на 1\n",
    "print(count) #выводим результирующее количество итераций"
   ]
  },
  {
   "attachments": {},
   "cell_type": "markdown",
   "metadata": {},
   "source": [
    "ЦИКЛ СЧИТАЮЩИЙ КОЛЛИЧЕСТВО ЛЕТ ДЛЯ НАКОПЛЕНИЯ СУММЫ"
   ]
  },
  {
   "cell_type": "code",
   "execution_count": 33,
   "metadata": {},
   "outputs": [
    {
     "name": "stdout",
     "output_type": "stream",
     "text": [
      "15\n"
     ]
    }
   ],
   "source": [
    "money = 1000 #задаём начальное значение суммы на счёте\n",
    "year_count = 0 #задаём начальное значение срока вклада\n",
    "#создаём цикл, который будет выполняться, пока сумма на счёте меньше 3000\n",
    "while money < 3000: #делай, пока...\n",
    "    money = money * 1.08 #увеличиваем сумму на счёте на 8 %\n",
    "    year_count += 1 #увеличиваем срок хранения денег на счёте\n",
    "print(year_count) #выводим результирующий срок вклада"
   ]
  },
  {
   "attachments": {},
   "cell_type": "markdown",
   "metadata": {},
   "source": [
    "ВЛОЖЕННЫЙ ЦИКЛ, КОТОРЫЙ БУДЕТ ВЫВОДИТЬ НА ЭКРАН ВРЕМЯ, В КОТОРОЕ ПРОЗВЕНЯТ БУДИЛЬНИКИ"
   ]
  },
  {
   "cell_type": "code",
   "execution_count": null,
   "metadata": {},
   "outputs": [],
   "source": [
    "hours = list(range(9, 24, 2)) #создаём список часов\n",
    "minutes = list(range(0, 60, 15)) #создаём список минут\n",
    "#создаём цикл по элементам списка часов\n",
    "for hour in hours: #hour — текущее значение часа (9, 11, 13, ...)\n",
    "    #создаём цикл по элементам списка минут\n",
    "    for minute in minutes: #second — текущее значение минуты\n",
    "        print('Alarm is set {}:{}'.format(hour, minute))"
   ]
  },
  {
   "attachments": {},
   "cell_type": "markdown",
   "metadata": {},
   "source": [
    "ЦИКЛ СЧИТАЮЩИЙ КОЛЛИЧЕСТВО БУКВ «А» ВО ВСЕХ ЭЛЕМЕНТАХ СПИСКА"
   ]
  },
  {
   "cell_type": "code",
   "execution_count": 35,
   "metadata": {},
   "outputs": [
    {
     "name": "stdout",
     "output_type": "stream",
     "text": [
      "10\n"
     ]
    }
   ],
   "source": [
    "text_list = [\n",
    "    'afbaad',\n",
    "    'faaf',\n",
    "    'afaga',\n",
    "    'agag'\n",
    "] #заданный список\n",
    "count = 0 #задаём начальное значение количества\n",
    "#создаём цикл по элементам списка text_list\n",
    "for row in text_list: #row — текущая строка из списка text_list\n",
    "    #создаём цикл по символам в строке row\n",
    "    for symbol in row: #symbol — текущий символ в строке row\n",
    "        #проверяем условие, что текущий символ — это символ 'а'\n",
    "        if symbol == 'a': #если условие истинно,\n",
    "            count+=1\n",
    "print(count) #выводим результат на экран"
   ]
  },
  {
   "attachments": {},
   "cell_type": "markdown",
   "metadata": {},
   "source": [
    "АЛГОРИТМ ИЩЮЩИЙ МАКСИМУМ В СТРОКАХ ТАБЛИЦЫ"
   ]
  },
  {
   "cell_type": "code",
   "execution_count": 36,
   "metadata": {},
   "outputs": [
    {
     "name": "stdout",
     "output_type": "stream",
     "text": [
      "Maximum elements: [9, 5, 8]\n"
     ]
    }
   ],
   "source": [
    "random_matrix = [\n",
    "    [9, 2, 1],\n",
    "    [2, 5, 3],\n",
    "    [4, 8, 5]\n",
    "] #заданная матрица\n",
    "max_value_rows = [] #задаём пустой список с максимальными значениями строк\n",
    "#создаём цикл по строкам матрицы random_matrix \n",
    "for row in random_matrix: #row — текущая строка таблицы\n",
    "    max_value = row[0] #начальное значение кандидата на максимум\n",
    "    #создаём цикл по элементам списка row\n",
    "    for elem in row: #elem — текущий элемент из списка row\n",
    "        #проверяем условие, что текущий элемент больше кандидата на максимум\n",
    "        if elem > max_value: #если условие выполняется,\n",
    "            max_value = elem #заменяем кандидата на максимум\n",
    "    max_value_rows.append(max_value) #добавляем полученный максимум строки в список\n",
    "print(\"Maximum elements:\", max_value_rows) #выводим максимальные элементы"
   ]
  },
  {
   "attachments": {},
   "cell_type": "markdown",
   "metadata": {},
   "source": [
    "ПРОВЕРКА СПИСКА НА КВАДРАТНУЮ МАТРИЦУ"
   ]
  },
  {
   "cell_type": "code",
   "execution_count": 37,
   "metadata": {},
   "outputs": [
    {
     "name": "stdout",
     "output_type": "stream",
     "text": [
      "True\n"
     ]
    }
   ],
   "source": [
    "test_matrix1 = [\n",
    "    [1, 2, 3],\n",
    "    [7, -1, 2],\n",
    "    [123, 2, -1]\n",
    "] #заданная тестовая матрица\n",
    "\n",
    "num_lines = len(test_matrix1) #вычисляем число строк в матрице\n",
    "count = 0 #задаём начальное количество строк, длина которых совпадает с числом строк в матрице\n",
    "#создаём цикл по строкам матрицы\n",
    "for line in test_matrix1: #line — текущая строка матрицы\n",
    "    #проверяем, что длина текущей строки равна количеству строк\n",
    "    if len(line) == num_lines: #если условие выполняется,\n",
    "        count += 1 #увеличиваем количество строк, длина которых совпадает с числом строк в матрице\n",
    "#сравниваем полученное число с числом строк в матрице и выводим результат\n",
    "print(num_lines == count)"
   ]
  },
  {
   "attachments": {},
   "cell_type": "markdown",
   "metadata": {},
   "source": [
    "ПРОГРАММА, КОТОРАЯ НАХОДИТ НОМЕР ВСЕХ ДНЕЙ, КОГДА НАБЛЮДАЛСЯ ОТТОК КЛИЕНТОВ (ДИНАМИКА БЫЛА ОТРИЦАТЕЛЬНОЙ), А ТАКЖЕ НАХОДИТ КОЛИЧЕСТВО УШЕДШИХ В ЭТИ ДНИ КЛИЕНТОВ"
   ]
  },
  {
   "cell_type": "code",
   "execution_count": 38,
   "metadata": {},
   "outputs": [
    {
     "name": "stdout",
     "output_type": "stream",
     "text": [
      "Churn value:  -5\n",
      "Number day:  1\n",
      "Churn value:  -7\n",
      "Number day:  6\n"
     ]
    }
   ],
   "source": [
    "user_dynamics = [-5, 2, 4, 8, 12, -7, 5] #заданный список динамики пользователей\n",
    "number_negative = None # объявляем переменную, в которой будем хранить номер последнего дня оттока, изначально она пустая (None)\n",
    "#создаём цикл по индексам и элементам списка \n",
    "for i, dynamic in enumerate(user_dynamics): #index — индекс текущего элемента, dymanic — текущее значение из списка\n",
    "    if dynamic < 0:\n",
    "        number_negative = i+1 #перезаписываем значение номера дня\n",
    "        print(\"Churn value: \", dynamic) # выводим количество ушедших в этот день пользователей\n",
    "        print(\"Number day: \", number_negative) # выводим номер дня"
   ]
  },
  {
   "attachments": {},
   "cell_type": "markdown",
   "metadata": {},
   "source": [
    "ПРОГРАММА, КОТОРАЯ ПРОВЕРЯЕТ ГИПОТЕЗУ СИРАКУЗ"
   ]
  },
  {
   "cell_type": "code",
   "execution_count": 39,
   "metadata": {},
   "outputs": [
    {
     "name": "stdout",
     "output_type": "stream",
     "text": [
      "Syracuse hypothesis holds\n"
     ]
    }
   ],
   "source": [
    "n = 19 #задаём число\n",
    "#создаём бесконечный цикл\n",
    "while True:\n",
    "    #проверяем условие, что число чётное\n",
    "    if n % 2 == 0: #если число чётное,\n",
    "        n = n // 2 #делим число на 2\n",
    "    else: #если число нечётное,\n",
    "        n = (n*3 + 1) // 2 #умножаем число на 3, прибавляем к нему 1 и делим на 2\n",
    "    if n == 1: #если результат равен 1,\n",
    "        print('Syracuse hypothesis holds') #выводим утвердительное сообщение\n",
    "        break #выходим из цикла"
   ]
  },
  {
   "attachments": {},
   "cell_type": "markdown",
   "metadata": {},
   "source": [
    "ПОДСЧЕТ ЗНАЧЕНИЙ В СПИСКЕ ТИПА INT"
   ]
  },
  {
   "cell_type": "code",
   "execution_count": 40,
   "metadata": {},
   "outputs": [
    {
     "name": "stdout",
     "output_type": "stream",
     "text": [
      "4\n"
     ]
    }
   ],
   "source": [
    "my_dict = {'a': 15, 'b': 10.5, 'c': '15', 'd': 50, 'e': 15, 'f': '15'} #заданный словарь\n",
    "count = 0 #задаём начальное количество\n",
    "#создаём цикл по ключам словаря my_dict\n",
    "for key in my_dict: #key — текущий ключ из словаря\n",
    "    #проверяем условие, что тип данных значения — строка\n",
    "    if type(my_dict[key]) is str: #если условие выполняется, \n",
    "        continue #переходим на следующую итерацию\n",
    "    else: #в противном случае \n",
    "        count += 1 #увеличиваем количество\n",
    "print(count) #выводим результат"
   ]
  },
  {
   "attachments": {},
   "cell_type": "markdown",
   "metadata": {},
   "source": [
    "ПОДСЧЕТ ЧАСТОТЫ СИМВОЛОВ В ТЕКСТЕ"
   ]
  },
  {
   "cell_type": "code",
   "execution_count": 41,
   "metadata": {},
   "outputs": [
    {
     "name": "stdout",
     "output_type": "stream",
     "text": [
      "{'s': 33, 'h': 18, 'e': 29, 'l': 18, 'a': 12, 'o': 6, 'n': 2, 't': 8, 'r': 7, ';': 1, 'i': 3, 'm': 2, 'u': 2, '.': 2, 'f': 1, ',': 1}\n"
     ]
    }
   ],
   "source": [
    "text = \"\"\"\n",
    "She sells sea shells on the sea shore;\n",
    "The shells that she sells are sea shells I am sure.\n",
    "So if she sells sea shells on the sea shore,\n",
    "I am sure that the shells are sea shore shells.\n",
    "\"\"\"\n",
    "text = text.lower() #приводим текст к нижнему регистру\n",
    "text = text.replace(\" \", \"\") #заменяем пробелы на пустые строки\n",
    "text = text.replace(\"\\n\", \"\") #заменяем символы переноса строки на пустые строки\n",
    "count_dict = {} #создаём пустой словарь для подсчёта количества символов\n",
    "#создаём цикл по символам в строке text\n",
    "for symbol in text: #symbol — текущий символ в тексте\n",
    "    #проверяем условие, что символа ещё нет среди ключей словаря\n",
    "    if symbol not in count_dict: #если условие выполняется,\n",
    "        count_dict[symbol] = 1 #заносим символ в словарь со значением 1\n",
    "    else: #в противном случае\n",
    "        count_dict[symbol] += 1 #увеличиваем частоту символа\n",
    "print(count_dict) #выводим результирующий словарь"
   ]
  },
  {
   "attachments": {},
   "cell_type": "markdown",
   "metadata": {},
   "source": [
    "ПРОВЕРКА СПИСКА(РАНДОМ) НА ПОВТОРЯЮЩИЕСЯ ЗНАЧЕНИЯ"
   ]
  },
  {
   "cell_type": "code",
   "execution_count": 42,
   "metadata": {},
   "outputs": [
    {
     "name": "stdout",
     "output_type": "stream",
     "text": [
      "yes\n"
     ]
    }
   ],
   "source": [
    "import random\n",
    "my_list = []\n",
    "for i in range(0, 10):\n",
    "    my_list.append(random.randint(0, 10))\n",
    "#создаём цикл по элементам полученного списка\n",
    "for elem in my_list: #elem — текущий элемент списка\n",
    "    #проверяем, что элемент встречается в списке не один раз\n",
    "    if my_list.count(elem) > 1: #если условие выполняется,\n",
    "        print('yes') #выводим фразу на экран\n",
    "        break #прерываем цикл"
   ]
  },
  {
   "attachments": {},
   "cell_type": "markdown",
   "metadata": {},
   "source": [
    "ВЫЧИСЛЕНИЕ СУММЫ ЭЛЕМЕНТОВ СПИСКА"
   ]
  },
  {
   "cell_type": "code",
   "execution_count": 43,
   "metadata": {},
   "outputs": [
    {
     "name": "stdout",
     "output_type": "stream",
     "text": [
      "Result 14\n"
     ]
    }
   ],
   "source": [
    "import random\n",
    "my_list = []\n",
    "for i in range(0, 10):\n",
    "    my_list.append(random.randint(0, 10))\n",
    "    \n",
    "S = 0 #создаём накопительную переменную суммы\n",
    "i = 0 #создаём переменную, которая будет хранить индекс текущего элемента списка\n",
    "#создаём цикл, условие выхода из которого — сумма >= 10\n",
    "while S < 10:\n",
    "    S += my_list[i] #добавляем к сумме текущий элемент списка\n",
    "    i += 1 #увеличиваем индекс элемента\n",
    "print('Result', S)"
   ]
  },
  {
   "attachments": {},
   "cell_type": "markdown",
   "metadata": {},
   "source": [
    "ЦИКЛ ОТНИМАЮЩИЙ ЧИСЛО Н И СЧИТАЮЩИЙ КОЛЛИЧЕСТВО ВРЕМЕНИ"
   ]
  },
  {
   "cell_type": "code",
   "execution_count": 44,
   "metadata": {},
   "outputs": [],
   "source": [
    "current_health = 500 #заданный показатель здоровья\n",
    "attack = 80 #заданная атака босса\n",
    "seconds_num = 0 #задаём начальное время схватки\n",
    "#создаём цикл, который будет выполняться, пока показатель здоровья >= 0\n",
    "while current_health >= 0:\n",
    "    current_health -= attack #уменьшаем текущий показатель здоровья\n",
    "    seconds_num += 1 #увеличиваем время схватки"
   ]
  },
  {
   "attachments": {},
   "cell_type": "markdown",
   "metadata": {},
   "source": [
    "ЦИКЛ СОЗДАЮЩИЙ НОВЫЙ СПИСОК С ПОРЯДКОВЫМ ЧИСЛОМ К КАЖДОМУ СЛОВУ"
   ]
  },
  {
   "cell_type": "code",
   "execution_count": 45,
   "metadata": {},
   "outputs": [],
   "source": [
    "str_list = [\"Hello\", \"my\", \"name\", \"is\", \"Ezeikel\", \"I\", \"like\", \"knitting\"] #заданный список\n",
    "cut_str_list = [] #новый список\n",
    "#создаём цикл по индексам и элементам списка str_list\n",
    "for index, word in enumerate(str_list): #index — текущий индекс (номер) элемента, word — текущая строка\n",
    "    cut_str_list.append([index, word[:3]]) #добавляем в список cut_str_list список из номера строки и первых трёх символов из строки"
   ]
  },
  {
   "attachments": {},
   "cell_type": "markdown",
   "metadata": {},
   "source": [
    "ПРОГРАММА ПРИВОДЯЩАЯ СТРОКИ К 1 РЕГИСТРУ УДАЛЯЕТ ЗНАКИ ПРИПЕНАНИЯ ДЕЛИТ ПРОБЕЛАМИ И СЧИТАЕТ КОЛЛИЧЕСТВО ПОВТОРЯЮЩИХСЯ СЛОВ"
   ]
  },
  {
   "cell_type": "code",
   "execution_count": 46,
   "metadata": {},
   "outputs": [],
   "source": [
    "sentence = \"A roboT MAY Not injure a humAn BEING or, tHROugh INACtion, allow a human BEING to come to harm\"\n",
    "sentence = sentence.lower() #приводим строку к нижнему регистру\n",
    "sentence = sentence.replace(\",\", \"\") #удаляем знаки препинания из предложения\n",
    "word_list = sentence.split(' ') #разделяем строку по пробелам\n",
    "word_dict = {} #создаём словарь для подсчёта количества слов\n",
    "#создаём цикл по словам в списке word_list\n",
    "for word in word_list: #word — текущее слово из списка\n",
    "    #проверяем условие, что текущего слова ещё нет в словаре\n",
    "    if word not in word_dict: #если условие выполняется, \n",
    "        word_dict[word] = 1 #заносим новое слово в словарь со значением 1\n",
    "    else: #в противном случае\n",
    "        word_dict[word] += 1 #увеличиваем количество слов"
   ]
  },
  {
   "attachments": {},
   "cell_type": "markdown",
   "metadata": {},
   "source": [
    "ПОДСЧЕТ ВХОЖДЕНИЯ БУКВЫ В КАЖДОЕ СЛОВО И ВЫВОДЯЩЕЕ ЭТО ЗНАЧЕНИЕ СОЛОВ:КОЛ-ВО БУКВ"
   ]
  },
  {
   "cell_type": "code",
   "execution_count": 47,
   "metadata": {},
   "outputs": [
    {
     "name": "stdout",
     "output_type": "stream",
     "text": [
      "{'text': 2, 'morning': 0, 'notepad': 1, 'television': 1, 'ornament': 1}\n"
     ]
    }
   ],
   "source": [
    "str_list = [\"text\", \"morning\", \"notepad\", \"television\", \"ornament\"]\n",
    "symbol_to_check = \"t\" #задаём символ, который будем искать\n",
    "words_dict = {} #задаём пустой словарь для подсчёта\n",
    " \n",
    "#создаём внешний цикл по элементам списка\n",
    "for word in str_list:\n",
    "    #заносим текущее слово в словарь со значением 0\n",
    "    words_dict[word] = 0\n",
    "    #создаём внутренний цикл по символам в строке\n",
    "    for letter in word:\n",
    "        #проверяем условие, что текущий символ в строке — это искомый символ\n",
    "        if letter == symbol_to_check: #если условие выполняется,\n",
    "            words_dict[word] += 1 #увеличиваем количество символов в слове\n",
    "print(words_dict) #выводим результирующий словарь"
   ]
  },
  {
   "attachments": {},
   "cell_type": "markdown",
   "metadata": {},
   "source": [
    "Функции\n",
    "\n",
    "ПРИНИМАЕТ НА ВХОД ЧИСЛО ЕДИНИЦ ТОВАРА И СТОИМОСТЬ КАЖДОЙ ЕДИНИЦЫ. ФУНКЦИЯ ВОЗВРАЩАЕТ ОДНО ЧИСЛО — ОБЩУЮ СТОИМОСТЬ ДАННОГО ЧИСЛА ТОВАРОВ."
   ]
  },
  {
   "cell_type": "code",
   "execution_count": 48,
   "metadata": {},
   "outputs": [],
   "source": [
    "def get_total(units, price):\n",
    "    return units * price"
   ]
  },
  {
   "attachments": {},
   "cell_type": "markdown",
   "metadata": {},
   "source": [
    "ПРОВЕРКУ СКОРОСТИ НА РАВЕНСТВО НУЛЮ. ЕСЛИ СКОРОСТЬ РАВНА НУЛЮ, ВЕРНИТЕ VALUEERROR С СООБЩЕНИЕМ \"SPEED CANNOT BE EQUAL TO 0!\""
   ]
  },
  {
   "cell_type": "code",
   "execution_count": 49,
   "metadata": {},
   "outputs": [],
   "source": [
    "def get_time(distance, speed):\n",
    "    if distance < 0 or speed < 0:\n",
    "        raise ValueError('Distance or speed cannot be below 0!')\n",
    "    if speed == 0:\n",
    "        raise ValueError('Speed cannot be equal to 0!')\n",
    "    result = distance / speed\n",
    "    return result\n"
   ]
  },
  {
   "cell_type": "code",
   "execution_count": 50,
   "metadata": {},
   "outputs": [],
   "source": [
    "#Альтернативный вариант решения:\n",
    "def get_time(distance, speed):\n",
    "    if speed == 0:\n",
    "        raise ValueError('Speed cannot be equal to 0!')\n",
    "    if distance < 0 or speed < 0:\n",
    "        raise ValueError('Distance or speed cannot be below 0!')\n",
    "    result = distance / speed\n",
    "    return result"
   ]
  },
  {
   "attachments": {},
   "cell_type": "markdown",
   "metadata": {},
   "source": [
    "ФУНКЦИЯ ДОЛЖНА ВОЗВРАЩАТЬ ЗНАЧЕНИЕ КВАДРАТНОГО КОРНЯ."
   ]
  },
  {
   "cell_type": "code",
   "execution_count": 51,
   "metadata": {},
   "outputs": [],
   "source": [
    "# Необходимо добавить только n=2,\n",
    "# чтобы задать параметру n значение по умолчанию\n",
    "def root(value, n=2):\n",
    "    result = value ** (1/n)\n",
    "    return result"
   ]
  },
  {
   "attachments": {},
   "cell_type": "markdown",
   "metadata": {},
   "source": [
    "ФУНКЦИЯ ДОБАВЛЯЮЩАЯ ОЦЕНКУ К ЭЛЕМЕНТАМ СПИСКА С ОТЛОВОМ ОШИБКИ В СЛУЧАЕ ДОБАВЛЕНИЯ ОЦЕНКИ К ЭЛЕМЕНТУ ОТСУТСТВУЮЩЕМ В СПИСКЕ"
   ]
  },
  {
   "cell_type": "code",
   "execution_count": 52,
   "metadata": {},
   "outputs": [],
   "source": [
    "def add_mark(name, mark, journal=None):\n",
    "    if mark not in [2, 3, 4, 5]:\n",
    "        raise ValueError('Invalid Mark!')\n",
    "    if journal is None:\n",
    "        journal = {}\n",
    "    journal[name] = mark\n",
    "    return journal"
   ]
  },
  {
   "attachments": {},
   "cell_type": "markdown",
   "metadata": {},
   "source": [
    "ВЫВОДИТ СПИСОК ЧЕРЕЗ ЗАПЯТУЮ"
   ]
  },
  {
   "cell_type": "code",
   "execution_count": 53,
   "metadata": {},
   "outputs": [
    {
     "name": "stdout",
     "output_type": "stream",
     "text": [
      "Shopping list: bread, butter, eggs\n"
     ]
    }
   ],
   "source": [
    "print(\"Shopping list:\", end=' ')\n",
    "# Достаточно добавить параметр sep=', '\n",
    "print(\"bread\", \"butter\", \"eggs\", sep=', ')\n",
    "# Будет напечатано:\n",
    "# Shopping list: bread, butter, eggs"
   ]
  },
  {
   "attachments": {},
   "cell_type": "markdown",
   "metadata": {},
   "source": [
    "ФУНКЦИЯ СЧИТАЕТ ПРОИЗВЕДЕНИЕ ПЕРЕДАННЫХ В НЕЁ ЧИСЕЛ ЧЕРЕЗ ЗАПЯТУЮ"
   ]
  },
  {
   "cell_type": "code",
   "execution_count": 54,
   "metadata": {},
   "outputs": [
    {
     "name": "stdout",
     "output_type": "stream",
     "text": [
      "150\n"
     ]
    }
   ],
   "source": [
    "def mult(*args):\n",
    "    result = 1\n",
    "    for num in args:\n",
    "        result *= num\n",
    "    return result\n",
    "print(mult(3,5,10))"
   ]
  },
  {
   "attachments": {},
   "cell_type": "markdown",
   "metadata": {},
   "source": [
    "КАК В ПРИМЕРЕ ВЫШЕ, НО ЧЕРЕЗ ЗАПЯТУЮ С ПРОБЕЛОМ."
   ]
  },
  {
   "cell_type": "code",
   "execution_count": 59,
   "metadata": {},
   "outputs": [
    {
     "name": "stdout",
     "output_type": "stream",
     "text": [
      "Python, SQL, Machine Learning, Statistics\n"
     ]
    }
   ],
   "source": [
    "langs=['Python, SQL, Machine Learning, Statistics']\n",
    "def mult(*langs):\n",
    "    result = 1\n",
    "    for num in langs:\n",
    "        result *= num\n",
    "    return result\n",
    "print(*langs, sep=', ')\n",
    "# Будет напечатано:\n",
    "# Python, SQL, Machine Learning, Statistics"
   ]
  },
  {
   "attachments": {},
   "cell_type": "markdown",
   "metadata": {},
   "source": [
    "ЗАДАНИЕ 5.3"
   ]
  },
  {
   "cell_type": "code",
   "execution_count": null,
   "metadata": {},
   "outputs": [],
   "source": [
    "def mean_mark(name, *marks):\n",
    "    result = sum(marks) / len(marks)\n",
    "    # Не возвращаем результат, а печатаем его\n",
    "    print(name+':', result)\n",
    "\n",
    "mean_mark('Kuznetsov', *marks)\n",
    "# Должно быть напечатано:\n",
    "# Kuznetsov: 4.454545454545454"
   ]
  },
  {
   "attachments": {},
   "cell_type": "markdown",
   "metadata": {},
   "source": [
    "ЗАДАНИЕ 6.1"
   ]
  },
  {
   "cell_type": "code",
   "execution_count": 61,
   "metadata": {},
   "outputs": [],
   "source": [
    "def get_length(line):\n",
    "    return len(line)"
   ]
  },
  {
   "attachments": {},
   "cell_type": "markdown",
   "metadata": {},
   "source": [
    "LAMBDA-ФУНКЦИЮ ДЛЯ РАСЧЁТА ГИПОТЕНУЗЫ ПРЯМОУГОЛЬНОГО ТРЕУГОЛЬНИКА:"
   ]
  },
  {
   "cell_type": "code",
   "execution_count": 62,
   "metadata": {},
   "outputs": [
    {
     "name": "stdout",
     "output_type": "stream",
     "text": [
      "5.0\n",
      "9.055385138137417\n"
     ]
    }
   ],
   "source": [
    "hyp = lambda a, b: (a**2 + b**2) ** (1/2)\n",
    "print(hyp(3,4))\n",
    "print(hyp(1,9))\n",
    "# 5.0\n",
    "# 9.055385138137417"
   ]
  },
  {
   "attachments": {},
   "cell_type": "markdown",
   "metadata": {},
   "source": [
    "ФУНКЦИЮ SORT_SIDES, КОТОРАЯ СОРТИРУЕТ ПЕРЕДАННЫЙ В НЕЁ СПИСОК."
   ]
  },
  {
   "cell_type": "code",
   "execution_count": 63,
   "metadata": {},
   "outputs": [
    {
     "name": "stdout",
     "output_type": "stream",
     "text": [
      "[(1, 2), (3, 4), (10, 10)]\n"
     ]
    }
   ],
   "source": [
    "def sort_sides(l_in):\n",
    "    l_in.sort(key=lambda x: (x[0]**2 + x[1]**2) ** (1/2))\n",
    "    return l_in\n",
    "print(sort_sides([(3,4), (1,2), (10,10)]))\n",
    "# [(1, 2), (3, 4), (10, 10)]"
   ]
  },
  {
   "attachments": {},
   "cell_type": "markdown",
   "metadata": {},
   "source": [
    "ФУНКЦИЯ ДОЛЖНА ВЕРНУТЬ ПЕРВОЕ НАЙДЕННОЕ ЧИСЛО ИЗ СПИСКА, КОТОРОЕ МЕНЬШЕ ПЕРЕДАННОГО ВО ВТОРОМ АРГУМЕНТЕ. ЕСЛИ ТАКОГО ЧИСЛА НЕТ, НЕОБХОДИМО ВЕРНУТЬ NONE."
   ]
  },
  {
   "cell_type": "code",
   "execution_count": 64,
   "metadata": {},
   "outputs": [
    {
     "name": "stdout",
     "output_type": "stream",
     "text": [
      "1\n",
      "None\n"
     ]
    }
   ],
   "source": [
    "def get_less(list_in, num):\n",
    "    for i in list_in:\n",
    "        if i < num:\n",
    "            return i\n",
    "    return None\n",
    "l = [1, 5, 8, 10]\n",
    "print(get_less(l, 8))\n",
    "# 1\n",
    " \n",
    "print(get_less(l, 0))\n",
    "# None"
   ]
  },
  {
   "attachments": {},
   "cell_type": "markdown",
   "metadata": {},
   "source": [
    "ФУНКЦИЯ ДОЛЖНА ВЕРНУТЬ КОРТЕЖ ИЗ ЧИСЕЛ (INT): ДЕНЬ, МЕСЯЦ, ГОД"
   ]
  },
  {
   "cell_type": "code",
   "execution_count": 65,
   "metadata": {},
   "outputs": [
    {
     "name": "stdout",
     "output_type": "stream",
     "text": [
      "(31, 1, 2019)\n"
     ]
    }
   ],
   "source": [
    "def split_date(date):\n",
    "    day, month, year = date[:2], date[2:4], date[4:]\n",
    "    return int(day), int(month), int(year)\n",
    "print(split_date(\"31012019\"))\n",
    "# (31, 1, 2019)"
   ]
  },
  {
   "attachments": {},
   "cell_type": "markdown",
   "metadata": {},
   "source": [
    "ФУНКЦИЯ ДОЛЖНА ВЕРНУТЬ TRUE, ЕСЛИ ЧИСЛО ПРОСТОЕ, ИНАЧЕ — FALSE."
   ]
  },
  {
   "cell_type": "code",
   "execution_count": 66,
   "metadata": {},
   "outputs": [
    {
     "name": "stdout",
     "output_type": "stream",
     "text": [
      "False\n",
      "False\n",
      "True\n"
     ]
    }
   ],
   "source": [
    "def is_prime(num):\n",
    "    if num == 1:\n",
    "        return False\n",
    "    for i in range(2, num):\n",
    "        if num % i == 0:\n",
    "            return False\n",
    "    return True\n",
    "print(is_prime(1))\n",
    "print(is_prime(10))\n",
    "print(is_prime(13))\n",
    "# False\n",
    "# False\n",
    "# True"
   ]
  },
  {
   "attachments": {},
   "cell_type": "markdown",
   "metadata": {},
   "source": [
    "ФУНКЦИЯ ВОЗВРАЩАЕТ СРЕДНЕЕ АРИФМЕТИЧЕСКОЕ МЕЖДУ МАКСИМАЛЬНЫМ И МИНИМАЛЬНЫМ ЗНАЧЕНИЕМ ЭТИХ ЧИСЕЛ, ТО ЕСТЬ (MAX + MIN)/2."
   ]
  },
  {
   "cell_type": "code",
   "execution_count": 67,
   "metadata": {},
   "outputs": [
    {
     "name": "stdout",
     "output_type": "stream",
     "text": [
      "10.0\n",
      "3.0\n"
     ]
    }
   ],
   "source": [
    "def between_min_max(*nums):\n",
    "    mn = min(nums)\n",
    "    mx = max(nums)\n",
    "    return (mn + mx) / 2\n",
    "print(between_min_max(10))\n",
    "print(between_min_max(1,2,3,4,5))\n",
    "# 10.0\n",
    "# 3.0"
   ]
  },
  {
   "attachments": {},
   "cell_type": "markdown",
   "metadata": {},
   "source": [
    "ФУНКЦИЮ BEST_STUDENT(...), КОТОРАЯ ПРИНИМАЕТ НА ВХОД В ВИДЕ ИМЕНОВАННЫХ АРГУМЕНТОВ ИМЕНА СТУДЕНТОВ И ИХ НОМЕРА В РЕЙТИНГЕ , НЕОБХОДИМО ВЕРНУТЬ ФАМИЛИЮ СТУДЕНТА С МИНИМАЛЬНЫМ НОМЕРОМ ПО РЕЙТИНГУ."
   ]
  },
  {
   "cell_type": "code",
   "execution_count": 68,
   "metadata": {},
   "outputs": [
    {
     "name": "stdout",
     "output_type": "stream",
     "text": [
      "Mike\n",
      "Tom\n",
      "Jerry\n"
     ]
    }
   ],
   "source": [
    "def best_student(**students):\n",
    "    best_name = None\n",
    "    best_rating = None\n",
    "    for (student, rating) in students.items():\n",
    "        if best_name is None:\n",
    "            best_name = student\n",
    "            best_rating = rating\n",
    "        if rating < best_rating:\n",
    "            best_rating = rating\n",
    "            best_name = student\n",
    "    return best_name\n",
    "print(best_student(Tom=12, Mike=3))\n",
    "print(best_student(Tom=12))\n",
    "print(best_student(Tom=12, Jerry=1, Jane=2))\n",
    "# Mike\n",
    "# Tom\n",
    "# Jerry\n"
   ]
  },
  {
   "attachments": {},
   "cell_type": "markdown",
   "metadata": {},
   "source": [
    "LAMBDA-ФУНКЦИЮ IS_PALINDROM, КОТОРАЯ ПРИНИМАЕТ НА ВХОД ОДНУ СТРОКУ И ПРОВЕРЯЕТ, ЯВЛЯЕТСЯ ЛИ ОНА ПАЛИНДРОМОМ"
   ]
  },
  {
   "cell_type": "code",
   "execution_count": 69,
   "metadata": {},
   "outputs": [
    {
     "name": "stdout",
     "output_type": "stream",
     "text": [
      "no\n",
      "yes\n"
     ]
    }
   ],
   "source": [
    "is_palindrom = lambda x: 'yes' if x == x[::-1] else 'no'\n",
    "print(is_palindrom('1234'))\n",
    "print(is_palindrom('12321'))\n",
    "# no\n",
    "# yes"
   ]
  },
  {
   "attachments": {},
   "cell_type": "markdown",
   "metadata": {},
   "source": [
    "LAMBDA-ФУНКЦИЮ AREA, КОТОРАЯ ПРИНИМАЕТ НА ВХОД ДВА ЧИСЛА — СТОРОНЫ ПРЯМОУГОЛЬНИКА — ЧЕРЕЗ ЗАПЯТУЮ И ВОЗВРАЩАЕТ ПЛОЩАДЬ ПРЯМОУГОЛЬНИКА. "
   ]
  },
  {
   "cell_type": "code",
   "execution_count": 70,
   "metadata": {},
   "outputs": [
    {
     "name": "stdout",
     "output_type": "stream",
     "text": [
      "60\n"
     ]
    }
   ],
   "source": [
    "area = lambda a, b: a*b\n",
    "print(area(12,5))\n",
    "# 60"
   ]
  },
  {
   "attachments": {},
   "cell_type": "markdown",
   "metadata": {},
   "source": [
    "LAMBDA-ФУНКЦИЮ. ФУНКЦИЯ ПРИНИМАЕТ НА ВХОД ЧИСЛА ЧЕРЕЗ ЗАПЯТУЮ И ВОЗВРАЩАЕТ ОДНО ЧИСЛО — СРЕДНЕЕ МЕЖДУ МАКСИМУМОМ И МИНИМУМОМ ЭТИХ ЧИСЕЛ."
   ]
  },
  {
   "cell_type": "code",
   "execution_count": 71,
   "metadata": {},
   "outputs": [
    {
     "name": "stdout",
     "output_type": "stream",
     "text": [
      "3.0\n"
     ]
    }
   ],
   "source": [
    "between_min_max = lambda *nums: (min(nums) + max(nums)) / 2\n",
    "print(between_min_max(1,2,3,4,5))\n",
    "# 3.0"
   ]
  },
  {
   "attachments": {},
   "cell_type": "markdown",
   "metadata": {},
   "source": [
    "ФУНКЦИЮ SORT_IGNORE_CASE, КОТОРАЯ ПРИНИМАЕТ НА ВХОД СПИСОК И СОРТИРУЕТ ЕГО БЕЗ УЧЁТА РЕГИСТРА ПО АЛФАВИТУ"
   ]
  },
  {
   "cell_type": "code",
   "execution_count": 72,
   "metadata": {},
   "outputs": [
    {
     "name": "stdout",
     "output_type": "stream",
     "text": [
      "['abc', 'Acc']\n"
     ]
    }
   ],
   "source": [
    "def sort_ignore_case(ls):\n",
    "    ls.sort(key=lambda x: x.lower())\n",
    "    return ls\n",
    "print(sort_ignore_case(['Acc', 'abc']))\n",
    "# ['abc', 'Acc']"
   ]
  },
  {
   "attachments": {},
   "cell_type": "markdown",
   "metadata": {},
   "source": [
    "ЗАДАНИЕ 7.18 функцию exchange(usd, rub, rate), которая может принимать на вход сумму в долларах (usd), сумму в рублях (rub) и обменный курс (rate). Обменный курс показывает, сколько стоит один доллар. Например, курс 85.46 означает, что один доллар стоит 85 рублей и 46 копеек.\n",
    "В функцию должно одновременно передавать два аргумента. Если передано менее двух аргументов, должна возникнуть ошибка ValueError('Not enough arguments'). Если же передано три аргумента, должна возникнуть ошибка: ValueError('Too many arguments').\n",
    "Функция должна находить третий аргумент по двум переданным. Например, если переданы суммы в разных валютах, должен возвращаться обменный курс. Если известны сумма в рублях и курс, должна быть получена эквивалентная сумма в долларах, аналогично — если передана сумма в долларах и обменный курс."
   ]
  },
  {
   "cell_type": "code",
   "execution_count": 82,
   "metadata": {},
   "outputs": [
    {
     "name": "stdout",
     "output_type": "stream",
     "text": [
      "85.0\n",
      "8500\n",
      "11.764705882352942\n"
     ]
    }
   ],
   "source": [
    "def exchange(usd=None, rub=None, rate=None):\n",
    "    check = [usd, rub, rate].count(None)\n",
    "    check_lst = ['Too many arguments', None, 'Not enough arguments', 'Not enough arguments']\n",
    "    if check != 1: raise ValueError(check_lst[check])\n",
    "    if usd is None:\n",
    "        usd = rub / rate\n",
    "        return usd\n",
    "    if rub is None:\n",
    "        rub = usd * rate\n",
    "        return rub\n",
    "    if rate is None:\n",
    "        rate = rub / usd\n",
    "        return rate\n",
    "#exchange(usd=None, rub=None, rate=None)\n",
    "print(exchange(usd=100, rub=8500))\n",
    "print(exchange(usd=100, rate=85))\n",
    "print(exchange(rub=1000, rate=85))\n",
    "# 85.0\n",
    "# 8500\n",
    "# 11.764705882352942\n",
    "#print(exchange(rub=1000, rate=85, usd=90))\n",
    "# ValueError: Too many arguments\n",
    "#print(exchange(rub=1000))\n",
    "# ValueError: Not enough arguments"
   ]
  },
  {
   "attachments": {},
   "cell_type": "markdown",
   "metadata": {},
   "source": [
    "ЗАДАНИЕ 2.5 функцию-копилку с названием saver(), которая не принимает никаких аргументов. Она должна возвращать внутреннюю функцию adder(), которая принимает на вход одно число и возвращает сумму в копилке после прибавления числа."
   ]
  },
  {
   "cell_type": "code",
   "execution_count": 83,
   "metadata": {},
   "outputs": [
    {
     "name": "stdout",
     "output_type": "stream",
     "text": [
      "25\n",
      "125\n",
      "144\n"
     ]
    }
   ],
   "source": [
    "def saver():\n",
    "    money = 0\n",
    "    def adder(val):\n",
    "        nonlocal money\n",
    "        money += val\n",
    "        return money\n",
    "    return adder\n",
    "pig = saver()\n",
    "print(pig(25))\n",
    "print(pig(100))\n",
    "print(pig(19))\n",
    "# 25\n",
    "# 125\n",
    "# 144"
   ]
  },
  {
   "attachments": {},
   "cell_type": "markdown",
   "metadata": {},
   "source": [
    "ЗАДАНИЕ 3.4 рекурсивную функцию multiply_lst(), которая перемножает элементы заданного списка между собой.    Со сложением будет + и ретурн 1"
   ]
  },
  {
   "cell_type": "code",
   "execution_count": 84,
   "metadata": {},
   "outputs": [
    {
     "name": "stdout",
     "output_type": "stream",
     "text": [
      "60480\n"
     ]
    }
   ],
   "source": [
    "def multiply_lst(lst):\n",
    "    # Задаём условие выхода из рекурсии\n",
    "    if len(lst) == 0: return 1\n",
    "    # Во всех других случаях возвращаем\n",
    "    # произведение первого элемента списка \n",
    "    # и результат умножения оставшихся\n",
    "    return lst[0] * multiply_lst(lst[1:])\n",
    "my_lst = [10, 21, 24, 12]\n",
    "print(multiply_lst(my_lst))"
   ]
  },
  {
   "attachments": {},
   "cell_type": "markdown",
   "metadata": {},
   "source": [
    "ЗАДАНИЕ 3.7 рекурсивную функцию fib(n), которая считает -ое число Фибоначчи"
   ]
  },
  {
   "cell_type": "code",
   "execution_count": 85,
   "metadata": {},
   "outputs": [
    {
     "name": "stdout",
     "output_type": "stream",
     "text": [
      "0\n",
      "1\n",
      "8\n"
     ]
    }
   ],
   "source": [
    "def fib(n):\n",
    "    # Задаём условия выхода из рекурсии:\n",
    "    if n == 0: return 0\n",
    "    if n == 1: return 1\n",
    "    # Возвращаемое значение согласно рекурсивной функции:\n",
    "    return fib(n-1) + fib(n-2)\n",
    "print(fib(0))\n",
    "print(fib(2))\n",
    "print(fib(6))\n",
    "# 0\n",
    "# 1\n",
    "# 8"
   ]
  },
  {
   "attachments": {},
   "cell_type": "markdown",
   "metadata": {},
   "source": [
    "ЗАДАНИЕ 4.5 функцию power(val, n), которая возводит число в заданную целую натуральную степень (или в степень 0)"
   ]
  },
  {
   "cell_type": "code",
   "execution_count": 86,
   "metadata": {},
   "outputs": [
    {
     "name": "stdout",
     "output_type": "stream",
     "text": [
      "1\n",
      "625\n"
     ]
    }
   ],
   "source": [
    "# Объявляем рекурсивную функцию для вычисления степени\n",
    "def power(val, n):\n",
    "    # Задаём условия выхода из рекурсии\n",
    "    if n==0: return 1\n",
    "    if n==1: return val\n",
    "    # Если условия не выполняются,\n",
    "    # умножаем число val на результат умножения на само себя n-1 раз\n",
    "    return val*power(val, n-1)\n",
    "print(power(25,0))\n",
    "print(power(-5,4))\n",
    "# 1\n",
    "# 625"
   ]
  },
  {
   "attachments": {},
   "cell_type": "markdown",
   "metadata": {},
   "source": [
    "ЗАДАНИЕ 4.6 функцию is_leap(year), которая принимает на вход год и возвращает True, если год високосный, иначе — False."
   ]
  },
  {
   "cell_type": "code",
   "execution_count": 87,
   "metadata": {},
   "outputs": [
    {
     "name": "stdout",
     "output_type": "stream",
     "text": [
      "True\n",
      "False\n",
      "True\n"
     ]
    }
   ],
   "source": [
    "def is_leap(year):\n",
    "    if year % 400 == 0: return True\n",
    "    if year % 100 == 0: return False\n",
    "    if year % 4 == 0: return True\n",
    "    return False\n",
    "print(is_leap(2000))\n",
    "print(is_leap(1900))\n",
    "print(is_leap(2020))\n",
    "# True"
   ]
  },
  {
   "attachments": {},
   "cell_type": "markdown",
   "metadata": {},
   "source": [
    "ЗАДАНИЕ 4.7 функцию check_date(day, month, year), которая проверяет корректность даты рождения по следующим условиям:\n",
    "\t\n",
    "\t1.\tВсе аргументы должны быть целыми числами (проверить с помощью type(day) is int).\n",
    "\t\n",
    "\t2.\tГодом рождения не может быть год до 1900 и год после 2022.\n",
    "\t\n",
    "\t3.\tНомер месяца не может быть больше 12 и меньше 1.\n",
    "\t\n",
    "\t4.\tНомер дня не может быть больше 31 и меньше 1.\n",
    "\t\n",
    "\t5.\tВ сентябре, апреле, июне и ноябре 30 дней.\n",
    "\t\n",
    "\t6.\tЕсли год является високосным, то в феврале (второй месяц) должно быть 29 дней, в противном случае — 28.\n",
    "\n",
    "Если дата корректна, вернуть True, если же хотя бы одно из представленных условий не было выполнено — False."
   ]
  },
  {
   "cell_type": "code",
   "execution_count": 96,
   "metadata": {},
   "outputs": [
    {
     "name": "stdout",
     "output_type": "stream",
     "text": [
      "True\n",
      "True\n",
      "False\n",
      "False\n",
      "False\n"
     ]
    }
   ],
   "source": [
    "def check_date(day, month, year):\n",
    "    def is_leap(year):\n",
    "        if year % 400 == 0: return True\n",
    "        if year % 100 == 0: return False\n",
    "        if year % 4 == 0: return True\n",
    "        return False\n",
    "    #Проверяем день, месяц и год на целочисленность\n",
    "    if (type(day) is not int) or (type(month) is not int) or (type(year) is not int):\n",
    "        return False\n",
    "    #Проверяем год на заданный диапазон\n",
    "    if (year <= 1900) or (year >= 2022):\n",
    "        return False\n",
    "    #Проверяем месяц на заданный диапазон       \n",
    "    if (month > 12) or (month < 1):\n",
    "        return False\n",
    "    #Проверяем день на заданный диапазон  \n",
    "    if (day < 1) or (day > 31): \n",
    "        return False\n",
    "    #Проверяем апрель, июнь, сентябрь и ноябрь на количество дней\n",
    "    if (month in [4,6,9,11]) and (day > 30):\n",
    "        return False\n",
    "       #Проверяем количество дней в феврале в зависимости от того, високосный ли год\n",
    "    if month == 2:\n",
    "        if is_leap(year):\n",
    "            if day > 29: return False\n",
    "        else:\n",
    "            if day > 28: return False\n",
    "    return True\n",
    "print(check_date(18,9,1999))\n",
    "print(check_date(29,2,2000))\n",
    "print(check_date(29,2,2021))\n",
    "print(check_date(13,13,2021))\n",
    "print(check_date(13.5,12,2021))\n",
    "# True\n",
    "# True\n",
    "# False\n",
    "# False\n",
    "# False"
   ]
  },
  {
   "attachments": {},
   "cell_type": "markdown",
   "metadata": {},
   "source": [
    "ЗАДАНИЕ 4.8 функцию register(surname, name, date, middle_name, registry).\n",
    "Функция имеет следующие аргументы:\n",
    "\t◦\tsurname — фамилия;\n",
    "\t◦\tname — имя;\n",
    "\t◦\tdate — дата рождения (в виде кортежа из трёх чисел — день, месяц, год);\n",
    "\t◦\tmiddle_name — отчество ;\n",
    "\t◦\tregistry — список, в который необходимо добавить полученные аргументы в виде кортежа в следующем порядке: фамилия, имя, отчество, день, месяц, год рождения.\n",
    "Функция должна возвращать список, в который добавила запись."
   ]
  },
  {
   "cell_type": "code",
   "execution_count": null,
   "metadata": {},
   "outputs": [],
   "source": [
    "def check_date(day, month, year):\n",
    "    def is_leap(year):\n",
    "        if year % 400 == 0: return True\n",
    "        if year % 100 == 0: return False\n",
    "        if year % 4 == 0: return True\n",
    "        return False\n",
    "    #Проверяем день, месяц и год на целочисленность\n",
    "    if (type(day) is not int) or (type(month) is not int) or (type(year) is not int):\n",
    "        return False\n",
    "    #Проверяем год на заданный диапазон\n",
    "    if (year <= 1900) or (year >= 2022):\n",
    "        return False\n",
    "    #Проверяем месяц на заданный диапазон     \n",
    "    if (month > 12) or (month < 1):\n",
    "        return False\n",
    "    #Проверяем день на заданный диапазон  \n",
    "    if (day < 1) or (day > 31): \n",
    "        return False\n",
    "    #Проверяем апрель, июнь, сентябрь и ноябрь на количество дней\n",
    "    if (month in [4,6,9,11]) and (day > 30):\n",
    "        return False\n",
    "    #Проверяем количество дней в феврале в зависимости от того, високосный ли год\n",
    "    if month == 2:\n",
    "        if is_leap(year):\n",
    "            if day > 29: return False\n",
    "        else:\n",
    "            if day > 28: return False\n",
    "    return True\n",
    "\n",
    "def register(surname, name, date, middle_name=None, registry=None):\n",
    "    if registry is None:\n",
    "        registry = list()\n",
    "    if not check_date(*date):\n",
    "        raise ValueError(\"Invalid Date!\")\n",
    "    registry.append((surname, name, middle_name, date[0], date[1], date[2]))\n",
    "    return registry\n",
    "reg = register('Petrova', 'Maria', (13, 3, 2003), 'Ivanovna')\n",
    "reg = register('Ivanov', 'Sergej', (24, 9, 1995), registry=reg)\n",
    "reg = register('Smith', 'John', (13, 2, 2003), registry=reg)\n",
    "print(reg)\n",
    "# [('Petrova', 'Maria', 'Ivanovna', 13, 3, 2003), ('Ivanov', 'Sergej', None, 24, 9, 1995), ('Smith', 'John', None, 13, 2, 2003)]\n",
    " \n",
    "reg = register('Ivanov', 'Sergej', (24, 13, 1995))\n",
    "# ValueError: Invalid Date!"
   ]
  },
  {
   "attachments": {},
   "cell_type": "markdown",
   "metadata": {},
   "source": [
    "Генератор"
   ]
  },
  {
   "cell_type": "code",
   "execution_count": 98,
   "metadata": {},
   "outputs": [
    {
     "name": "stdout",
     "output_type": "stream",
     "text": [
      "1050.0\n",
      "1545.0\n",
      "1591.35\n"
     ]
    },
    {
     "ename": "StopIteration",
     "evalue": "",
     "output_type": "error",
     "traceback": [
      "\u001b[0;31m---------------------------------------------------------------------------\u001b[0m",
      "\u001b[0;31mStopIteration\u001b[0m                             Traceback (most recent call last)",
      "Cell \u001b[0;32mIn [98], line 29\u001b[0m\n\u001b[1;32m     27\u001b[0m \u001b[39mprint\u001b[39m(\u001b[39mnext\u001b[39m(bank2))\n\u001b[1;32m     28\u001b[0m \u001b[39mprint\u001b[39m(\u001b[39mnext\u001b[39m(bank2))\n\u001b[0;32m---> 29\u001b[0m \u001b[39mprint\u001b[39m(\u001b[39mnext\u001b[39m(bank2))\n",
      "\u001b[0;31mStopIteration\u001b[0m: "
     ]
    }
   ],
   "source": [
    "# Объявляем функцию для расчёта суммы вклада\n",
    "def deposit(money, interest):\n",
    "    # Процент по вкладу преобразуем во множитель:\n",
    "    # делим процент на 100 и прибавляем 1\n",
    "    interest = interest/100 + 1\n",
    "    # Создаем бесконечный цикл\n",
    "    while True:\n",
    "        # Сумма вклада через год — это\n",
    "        # текущая сумма, умноженная на коэффициент и\n",
    "        # округлённая до двух знаков после запятой\n",
    "        money = round(interest * money, 2)\n",
    "        # Выдаём полученную сумму вклада\n",
    "        yield money\n",
    "bank = deposit(1000, 5)\n",
    "print(next(bank))\n",
    "\n",
    "# Объявляем функцию для расчёта суммы вклада\n",
    "# Аргумент years принимает число лет, на которое рассчитан вклад\n",
    "def deposit_years(money, interest, years):\n",
    "    interest = interest/100 + 1\n",
    "    # Вместо while используем цикл for с range\n",
    "    for year in range(years):\n",
    "        money = round(interest * money, 2)\n",
    "        # Выдаём полученную сумму вклада\n",
    "        yield money\n",
    "bank2 = deposit_years(1500, 3, 2)\n",
    "print(next(bank2))\n",
    "print(next(bank2))\n",
    "print(next(bank2))\n",
    "# Будет напечатано:\n",
    "# 1545.0\n",
    "# 1591.35\n",
    "# StopIteration:"
   ]
  },
  {
   "attachments": {},
   "cell_type": "markdown",
   "metadata": {},
   "source": [
    "ЗАДАНИЕ 5.7 генератор с названием inf_iter, который принимает на вход список и возвращает элементы из него через yield.\n",
    "Когда элементы в списке заканчиваются, генератор снова возвращает элементы из списка, начиная с нулевого."
   ]
  },
  {
   "cell_type": "code",
   "execution_count": 99,
   "metadata": {},
   "outputs": [
    {
     "name": "stdout",
     "output_type": "stream",
     "text": [
      "101\n",
      "102\n",
      "103\n",
      "101\n",
      "102\n",
      "103\n",
      "101\n",
      "102\n",
      "103\n",
      "101\n"
     ]
    }
   ],
   "source": [
    "def inf_iter(l_in):\n",
    "    while True:\n",
    "        for elem in l_in:\n",
    "            yield elem\n",
    "l = [101, 102, 103]\n",
    "gen = inf_iter(l)\n",
    "for _ in range(10):\n",
    "    print(next(gen))"
   ]
  },
  {
   "attachments": {},
   "cell_type": "markdown",
   "metadata": {},
   "source": [
    "ЗАДАНИЕ 5.8 генератор group_gen(n). Он должен при каждом вызове выдавать порядковый номер от 1 до n (включая n). После достижения n генератор должен снова возвращать номера, начиная с 1."
   ]
  },
  {
   "cell_type": "code",
   "execution_count": 102,
   "metadata": {},
   "outputs": [
    {
     "name": "stdout",
     "output_type": "stream",
     "text": [
      "1\n",
      "2\n",
      "3\n",
      "1\n",
      "2\n",
      "3\n",
      "1\n",
      "2\n",
      "3\n",
      "1\n"
     ]
    }
   ],
   "source": [
    "def group_gen(n):\n",
    "    while True:\n",
    "        for i in range(1, n+1):\n",
    "            yield i\n",
    "groups = group_gen(3)\n",
    "for _ in range(10):\n",
    "    print(next(groups))"
   ]
  },
  {
   "attachments": {},
   "cell_type": "markdown",
   "metadata": {},
   "source": [
    "Сокращенный генератор с условием"
   ]
  },
  {
   "cell_type": "code",
   "execution_count": 103,
   "metadata": {},
   "outputs": [
    {
     "name": "stdout",
     "output_type": "stream",
     "text": [
      "[27, 216, 729, 1728, 3375]\n"
     ]
    }
   ],
   "source": [
    "triple_cubes_generator =(x**3 for x in range(1,16) if x % 3 == 0)\n",
    "print(list(triple_cubes_generator))"
   ]
  },
  {
   "attachments": {},
   "cell_type": "markdown",
   "metadata": {},
   "source": [
    "дополнить все элементы списка другим элементом функция map"
   ]
  },
  {
   "cell_type": "code",
   "execution_count": 104,
   "metadata": {},
   "outputs": [
    {
     "name": "stdout",
     "output_type": "stream",
     "text": [
      "['https://www.kommersant.ru//doc/5041434?query=data%20science', 'https://www.kommersant.ru//doc/5041567?query=data%20science', 'https://www.kommersant.ru//doc/4283670?query=data%20science', 'https://www.kommersant.ru//doc/3712659?query=data%20science', 'https://www.kommersant.ru//doc/4997267?query=data%20science', 'https://www.kommersant.ru//doc/4372673?query=data%20science', 'https://www.kommersant.ru//doc/3779060?query=data%20science', 'https://www.kommersant.ru//doc/3495410?query=data%20science', 'https://www.kommersant.ru//doc/4308832?query=data%20science', 'https://www.kommersant.ru//doc/4079881?query=data%20science']\n"
     ]
    }
   ],
   "source": [
    "main_link = 'https://www.kommersant.ru'\n",
    "docs = [\n",
    "    '//doc/5041434?query=data%20science',\n",
    "    '//doc/5041567?query=data%20science',\n",
    "    '//doc/4283670?query=data%20science',\n",
    "    '//doc/3712659?query=data%20science',\n",
    "    '//doc/4997267?query=data%20science',\n",
    "    '//doc/4372673?query=data%20science',\n",
    "    '//doc/3779060?query=data%20science',\n",
    "    '//doc/3495410?query=data%20science',\n",
    "    '//doc/4308832?query=data%20science',\n",
    "    '//doc/4079881?query=data%20science'\n",
    "]\n",
    "\n",
    "links = list(map(main_link.__add__,docs))\n",
    "print(links)\n"
   ]
  },
  {
   "attachments": {},
   "cell_type": "markdown",
   "metadata": {},
   "source": [
    "Сверить списки и выдать совпадающие значения функция filter"
   ]
  },
  {
   "cell_type": "code",
   "execution_count": 105,
   "metadata": {},
   "outputs": [
    {
     "name": "stdout",
     "output_type": "stream",
     "text": [
      "['parking permit', 'maternity capital', 'tax benefit']\n"
     ]
    }
   ],
   "source": [
    "def family(*args):\n",
    "    family_list = [\n",
    "    'certificate of a large family',\n",
    "    'social card',\n",
    "    'maternity capital',\n",
    "    'parking permit',\n",
    "    'tax benefit',\n",
    "    'reimbursement of expenses',\n",
    "    \"compensation for the purchase of children's goods\"\n",
    "    ]\n",
    "    return list(filter(lambda x: x in family_list, args))\n",
    "print(family(\n",
    "    'newborn registration',\n",
    "    'parking permit',\n",
    "    'maternity capital',\n",
    "    'tax benefit',\n",
    "    'medical policy'\n",
    "    )\n",
    ")"
   ]
  },
  {
   "attachments": {},
   "cell_type": "markdown",
   "metadata": {},
   "source": [
    "Определяем порядок имя фамилия год рождения и убираем <2000г"
   ]
  },
  {
   "cell_type": "code",
   "execution_count": 106,
   "metadata": {},
   "outputs": [
    {
     "name": "stdout",
     "output_type": "stream",
     "text": [
      "[('Smith J.', 13, 2, 2003), ('Petrova M.', 13, 3, 2003)]\n"
     ]
    }
   ],
   "source": [
    "reg = [('Ivanov', 'Sergej', 24, 9, 1995),\n",
    "    ('Smith', 'John', 13, 2, 2003),\n",
    "    ('Petrova', 'Maria', 13, 3, 2003)]\n",
    "def delit(arg):\n",
    "    surname = arg[0]\n",
    "    # Выделяем имя из кортежа\n",
    "    name = arg[1]\n",
    "    # Создаём новую запись: фамилия + пробел + первая буква имени + точка\n",
    "    new_surname = surname + ' ' + name[0] + '.'\n",
    "    # Возвращаем обновлённый кортеж\n",
    "    return (new_surname, arg[2], arg[3], arg[4])\n",
    "# Фильтруем записи по условию, что последний элемент кортежа > 2000\n",
    "filter_reg = filter(lambda x: x[-1] > 2000, reg)\n",
    "# Применяем функцию-преобразование к каждому кортежу из списка и создаём новый список\n",
    "new_reg = list(map(delit, filter_reg))\n",
    "print(new_reg)"
   ]
  },
  {
   "attachments": {},
   "cell_type": "markdown",
   "metadata": {},
   "source": [
    "Создаем генератор распределяющий пользователей в 3 группы с помощью функции  zip"
   ]
  },
  {
   "cell_type": "code",
   "execution_count": 107,
   "metadata": {},
   "outputs": [
    {
     "name": "stdout",
     "output_type": "stream",
     "text": [
      "Smith J. in group 1\n",
      "Petrova M. in group 2\n",
      "Lubimov M. in group 3\n",
      "Holov J. in group 1\n"
     ]
    }
   ],
   "source": [
    "def group_gen(n=3):\n",
    "    while True:\n",
    "        for i in range(1, n+1):\n",
    "            yield i\n",
    "\n",
    "def print_groups(users):\n",
    "    # Создаём цикл по списку и генератору одновременно\n",
    "    for user, group in zip(users, group_gen()):\n",
    "        # Выводим пользователя и его группу в заданном формате\n",
    "        print(user, 'in group', group)\n",
    "\n",
    "users = ['Smith J.', 'Petrova M.', 'Lubimov M.', 'Holov J.']\n",
    "print_groups(users)"
   ]
  },
  {
   "attachments": {},
   "cell_type": "markdown",
   "metadata": {},
   "source": [
    "расчет произведения первых 2х чисел в цикле"
   ]
  },
  {
   "cell_type": "code",
   "execution_count": 108,
   "metadata": {},
   "outputs": [
    {
     "name": "stdout",
     "output_type": "stream",
     "text": [
      "120\n",
      "<class 'function'>\n",
      "Input:\n",
      "Positional: (625, 4)\n",
      "Named: {}\n",
      "Result: 5.0\n",
      "5.0\n"
     ]
    }
   ],
   "source": [
    "# Импортируем модуль functools\n",
    "from functools import reduce\n",
    "\n",
    "iterable = list(range(1, 6))\n",
    "# Применяем lambda-функцию для вычисления к произведения к списку\n",
    "reduced = reduce(lambda x,y: x*y, iterable)\n",
    "print(reduced)\n",
    "# Будет напечатано:\n",
    "# 120\n",
    "\n",
    "# Декорирующая функция принимает в качестве\n",
    "# аргумента название функции\n",
    "def simple_decorator(func):\n",
    " \n",
    "    # Функция, в которой происходит модификация поведения\n",
    "    # функции func. Она будет принимать те же аргументы,\n",
    "    # что и функция func, которую декорирует decorated_function.\n",
    "    # Чтобы принять все возможные аргументы, используем сочетание\n",
    "    # *args и *kwargs.\n",
    "    def decorated_function(*args, **kwargs):\n",
    "        # Печатаем принятые аргументы\n",
    "        print(\"Input:\")\n",
    "        print(\"Positional:\", args)\n",
    "        print(\"Named:\", kwargs)\n",
    "        # С помощью конструкции *args/**kwargs\n",
    "        # считаем результат выполнения функции func\n",
    "        result = func(*args, **kwargs)\n",
    "        # Печатаем результат выполнения функции\n",
    "        print(\"Result:\", result)\n",
    "        # Не забываем вернуть результат, чтобы\n",
    "        # не повлиять на поведение декорируемой функции!\n",
    "        return result\n",
    "    # Внешняя функция возвращает функцию\n",
    "    # decorated_function\n",
    "    return decorated_function\n",
    "def root(value, n=2):\n",
    "    result = value ** (1/n)\n",
    "    return result\n",
    "# Декорируем функцию root с помощью функции simple_decorator\n",
    "decorated_root = simple_decorator(root)\n",
    "# В decorated_root теперь действительно хранится функция\n",
    "print(type(decorated_root))\n",
    "# Будет напечатано:\n",
    "# <class 'function'>\n",
    "print(decorated_root(625, 4))\n",
    "# Будет напечатано:\n",
    "# Input:\n",
    "# Positional: (625, 4)\n",
    "# Named: {}\n",
    "# Result: 5.0\n",
    "# 5.0"
   ]
  },
  {
   "attachments": {},
   "cell_type": "markdown",
   "metadata": {},
   "source": [
    "В Python декораторы используются довольно часто. Они позволяют значительно упростить жизнь разработчику. Чтобы применять декораторы было удобнее, используется запись названия декоратора через символ @ прямо над сигнатурой основной функции:"
   ]
  },
  {
   "cell_type": "code",
   "execution_count": 109,
   "metadata": {},
   "outputs": [],
   "source": [
    "@simple_decorator\n",
    "def root(value, n=2):\n",
    "    result = value ** (1/n)\n",
    "    return result"
   ]
  },
  {
   "attachments": {},
   "cell_type": "markdown",
   "metadata": {},
   "source": [
    "Такая запись говорит интерпретатору о том, что необходимо применить функцию simple_decorator  к функции root. При этом удобным оказывается то, что название самой декорированной функции от применения декоратора не меняется."
   ]
  },
  {
   "cell_type": "code",
   "execution_count": 110,
   "metadata": {},
   "outputs": [
    {
     "name": "stdout",
     "output_type": "stream",
     "text": [
      "Input:\n",
      "Positional: (625,)\n",
      "Named: {}\n",
      "Result: 25.0\n",
      "25.0\n"
     ]
    }
   ],
   "source": [
    "print(root(625))"
   ]
  },
  {
   "cell_type": "code",
   "execution_count": 111,
   "metadata": {},
   "outputs": [
    {
     "name": "stdout",
     "output_type": "stream",
     "text": [
      "Runtime: 5.9604644775390625e-06\n",
      "9.0\n",
      "Runtime: 1.0967254638671875e-05\n",
      "9.0\n",
      "Runtime: 9.5367431640625e-07\n",
      "9.0\n",
      "Runtime: 9.5367431640625e-07\n",
      "9.0\n"
     ]
    }
   ],
   "source": [
    "# Из модуля time импортируем функцию time\n",
    "from time import time\n",
    " \n",
    "def time_decorator(func):\n",
    "    def decorated_func(*args, **kwargs):\n",
    "        # Получаем время на момент начала вычисления\n",
    "        start = time()\n",
    "        result = func(*args, **kwargs)\n",
    "        # Получаем время на момент окончания вычисления\n",
    "        end = time()\n",
    "        # Считаем длительность вычисления\n",
    "        delta = end - start\n",
    "        # Печатаем время работы функции\n",
    "        print(\"Runtime:\", delta)\n",
    "        return result\n",
    "    return decorated_func\n",
    "@time_decorator\n",
    "def root(value, n=2):\n",
    "    result = value ** (1/n)\n",
    "    return result\n",
    " \n",
    "print(root(81))\n",
    "print(root(81))\n",
    "print(root(81))\n",
    "print(root(81))"
   ]
  },
  {
   "cell_type": "code",
   "execution_count": 112,
   "metadata": {},
   "outputs": [
    {
     "name": "stdout",
     "output_type": "stream",
     "text": [
      "Mean runtime: 5.565690994262696e-07\n",
      "9.0\n",
      "Mean runtime: 4.330959320068359e-07\n",
      "9.0\n",
      "Mean runtime: 4.2679977416992186e-07\n",
      "9.0\n",
      "Mean runtime: 4.864749908447265e-07\n",
      "9.0\n"
     ]
    }
   ],
   "source": [
    "from time import time\n",
    " \n",
    "# Декоратор, который возвращает декоратор. Он принимает число\n",
    "# запусков декорируемой функции для усреднения времени\n",
    "def time_runs(n_runs):\n",
    "    # Декоратор, который уже будет возвращать непосредственно\n",
    "    # декорированную функцию\n",
    "    def time_decorator(func):\n",
    "        # Функция, в которой непосредственно\n",
    "        # происходит запуск основной функции\n",
    "        def decorated_func(*args, **kwargs):\n",
    "            start = time()\n",
    "            # Запускаем основную функцию столько раз,\n",
    "            # сколько передано в n_runs\n",
    "            for i in range(n_runs):\n",
    "                result = func(*args, **kwargs)\n",
    "            end = time()\n",
    "            # Считаем разницу во времени\n",
    "            delta = end - start\n",
    "            # Делим разницу на число запусков, чтобы получить\n",
    "            # среднее время одного запуска\n",
    "            mean_time = delta / n_runs\n",
    "            # Печатаем полученное среднее время\n",
    "            print(\"Mean runtime:\", mean_time)\n",
    "            # Не забываем вернуть сам результат\n",
    "            return result\n",
    "        # Возвращаем функцию, в которой происходит запуск основной функции\n",
    "        return decorated_func\n",
    "    # Возвращаем декоратор, который будет применяться к функции\n",
    "    return time_decorator\n",
    "# Передадим в декоратор time_runs число запусков\n",
    "# для усреднения\n",
    "@time_runs(1000000)\n",
    "def root(value, n=2):\n",
    "    result = value ** (1/n)\n",
    "    return result\n",
    " \n",
    "print(root(81))\n",
    "print(root(81))\n",
    "print(root(81))\n",
    "print(root(81))"
   ]
  },
  {
   "attachments": {},
   "cell_type": "markdown",
   "metadata": {},
   "source": [
    "ЗАДАНИЕ 7.3"
   ]
  },
  {
   "cell_type": "code",
   "execution_count": 113,
   "metadata": {},
   "outputs": [
    {
     "name": "stdout",
     "output_type": "stream",
     "text": [
      "MainLogger: Function root started\n",
      "MainLogger: Function root finished\n",
      "5.0\n"
     ]
    }
   ],
   "source": [
    "def logger(name):\n",
    "\n",
    "    def decorator(func):\n",
    "\n",
    "        def decorated_func(*args, **kwargs):\n",
    "            print (name + ':', 'Function', func.__name__, 'started')\n",
    "            res = func(*args, **kwargs)\n",
    "            print (name + ':', 'Function', func.__name__, 'finished')\n",
    "            return res\n",
    "\n",
    "        return decorated_func\n",
    "\n",
    "    return decorator\n",
    "@logger('MainLogger')\n",
    "def root(val, n=2):\n",
    "    res = val ** (1/n)\n",
    "    return res\n",
    " \n",
    "print(root(25))"
   ]
  },
  {
   "attachments": {},
   "cell_type": "markdown",
   "metadata": {},
   "source": [
    "ЗАДАНИЕ 2.5функцию get_unique_words(), которая избавляется от знаков препинания в тексте и возвращает упорядоченный список (слова расположены по алфавиту) из уникальных (неповторяющихся) слов"
   ]
  },
  {
   "cell_type": "code",
   "execution_count": 114,
   "metadata": {},
   "outputs": [],
   "source": [
    "def get_unique_words(text):\n",
    "    punctuation_list = ['.', ',', ';', ':', '...', '!', '?', '-', '\"', '(', ')']\n",
    "    for symbol in punctuation_list:\n",
    "        text = text.replace(symbol, \"\")\n",
    "    text = text.lower()\n",
    "    words_list = text.split()\n",
    "    words_list = list(set(words_list))\n",
    "    words_list.sort()\n",
    "    return words_list"
   ]
  },
  {
   "attachments": {},
   "cell_type": "markdown",
   "metadata": {},
   "source": [
    "ЗАДАНИЕ 2.6функцию get_most_frequent_word(), которая возвращает самое часто встречающееся слово в тексте"
   ]
  },
  {
   "cell_type": "code",
   "execution_count": 115,
   "metadata": {},
   "outputs": [
    {
     "name": "stdout",
     "output_type": "stream",
     "text": [
      "the\n"
     ]
    }
   ],
   "source": [
    "text_example = \"A beginning is the time for taking the most delicate care that the balances are correct. This every sister of the Bene Gesserit knows. To begin your study of the life of Muad'Dib, then take care that you first place him in his time: born in the 57th year of the Padishah Emperor, Shaddam IV. And take the most special care that you locate Muad'Dib in his place: the planet Arrakis. Do not be deceived by the fact that he was born on Caladan and lived his first fifteen years there. Arrakis, the planet known as Dune, is forever his place.\"\n",
    "\n",
    "def get_most_frequent_word(text):\n",
    "    punctuation_list = ['.', ',', ';', ':', '...', '!', '?', '-', '\"', '(', ')']\n",
    "    for symbol in punctuation_list:\n",
    "        text = text.replace(symbol, \"\")\n",
    "    text = text.lower()\n",
    "    words_list = text.split()\n",
    "    unique_words = list(set(words_list))\n",
    "    unique_words.sort()\n",
    "    word_count = 0\n",
    "    most_frequent_word = ''\n",
    "    for word in unique_words:\n",
    "        if words_list.count(word) > word_count:\n",
    "            word_count = words_list.count(word)\n",
    "            most_frequent_word = word\n",
    "    return most_frequent_word\n",
    "\n",
    "print(get_most_frequent_word(text_example))"
   ]
  },
  {
   "attachments": {},
   "cell_type": "markdown",
   "metadata": {},
   "source": [
    "ЗАДАНИЕ 2.7функцию holes_count(), которая подсчитывает количество отверстий в заданном числе. Например, в цифре 8 два отверстия, в цифре 9 — одно. В числе 146 два отверстия."
   ]
  },
  {
   "cell_type": "code",
   "execution_count": 117,
   "metadata": {},
   "outputs": [
    {
     "name": "stdout",
     "output_type": "stream",
     "text": [
      "0\n",
      "8\n"
     ]
    }
   ],
   "source": [
    "def holes_count(number):\n",
    "    holes_dict = {\"0\": 1, \"4\": 1, \"6\": 1, \"8\": 2, \"9\": 1}\n",
    "    str_number = str(number)\n",
    "    holes_count = 0\n",
    "    for digit in str_number:\n",
    "        holes_count += holes_dict.get(digit, 0)\n",
    "    return holes_count\n",
    "\n",
    "print(holes_count(123))\n",
    "print(holes_count(8888))"
   ]
  },
  {
   "attachments": {},
   "cell_type": "markdown",
   "metadata": {},
   "source": [
    "ЗАДАНИЕ 2.8Напишите программу, которая запрашивает у пользователя следующие данные : username, age, email о нескольких пользователях и собирает эти данные в структуру:"
   ]
  },
  {
   "cell_type": "code",
   "execution_count": 121,
   "metadata": {},
   "outputs": [
    {
     "name": "stdout",
     "output_type": "stream",
     "text": [
      "[(1, {'username': '2', 'age': 3, 'email': '4'})]\n",
      "{'username': ['2'], 'age': [3], 'email': ['4']}\n"
     ]
    }
   ],
   "source": [
    "num_users = int(input('Enter number of users: '))\n",
    "user_analytics = {'username': [], 'age': [], 'email': []}\n",
    "user_list = []\n",
    "\n",
    "for i in range(num_users):\n",
    "    user = {}\n",
    "    user['username'] = input(\"Enter username: \")\n",
    "    user['age'] = int(input(\"Enter user age: \"))\n",
    "    user['email'] = input(\"Enter user email: \")\n",
    "    user_analytics['username'].append(user['username'])\n",
    "    user_analytics['age'].append(user['age'])\n",
    "    user_analytics['email'].append(user['email'])\n",
    "    user_list.append((i + 1, user))\n",
    "\n",
    "print(user_list)\n",
    "print(user_analytics)"
   ]
  },
  {
   "attachments": {},
   "cell_type": "markdown",
   "metadata": {},
   "source": [
    "ЗАДАНИЕ 3.4 функцию find_min_number(), которая принимает три числа на вход и возвращает наименьшее из них"
   ]
  },
  {
   "cell_type": "code",
   "execution_count": 122,
   "metadata": {},
   "outputs": [
    {
     "name": "stdout",
     "output_type": "stream",
     "text": [
      "1\n",
      "-10\n"
     ]
    }
   ],
   "source": [
    "def find_min_number(a, b, c):\n",
    "    min_number = 0\n",
    "    if a < b:\n",
    "        min_number = a\n",
    "    else:\n",
    "        min_number = b\n",
    "    if min_number > c:\n",
    "        min_number = c\n",
    "    return min_number\n",
    "\n",
    "\n",
    "print(find_min_number(1, 2, 3))\n",
    "print(find_min_number(1, 2, -10))"
   ]
  },
  {
   "attachments": {},
   "cell_type": "markdown",
   "metadata": {},
   "source": [
    "ЗАДАНИЕ 3.5 функцию sum_min_numbers(), которая также принимает на вход три числа и возвращает сумму двух наименьших."
   ]
  },
  {
   "cell_type": "code",
   "execution_count": 125,
   "metadata": {},
   "outputs": [
    {
     "name": "stdout",
     "output_type": "stream",
     "text": [
      "3\n",
      "-9\n"
     ]
    }
   ],
   "source": [
    "def sum_min_numbers(a, b, c):\n",
    "    min_number = find_min_number(a, b, c)\n",
    "    number_list = [a, b, c]\n",
    "    number_list.remove(min_number)\n",
    "    if number_list[0] < number_list[1]:\n",
    "        min_sum = number_list[0] + min_number\n",
    "    else:\n",
    "        min_sum = number_list[1] + min_number\n",
    "    return min_sum\n",
    "\n",
    "\n",
    "print(sum_min_numbers(1, 2, 3))\n",
    "print(sum_min_numbers(1, 2, -10))"
   ]
  },
  {
   "attachments": {},
   "cell_type": "markdown",
   "metadata": {},
   "source": [
    "ЗАДАНИЕ 3.6 Напишите функцию is_divided_by_six(), которая проверяет, делится ли число на 6."
   ]
  },
  {
   "cell_type": "code",
   "execution_count": 126,
   "metadata": {},
   "outputs": [
    {
     "name": "stdout",
     "output_type": "stream",
     "text": [
      "False\n",
      "True\n"
     ]
    }
   ],
   "source": [
    "def is_divided_by_six(number):\n",
    "    is_divided_by_six = True if number % 2 == 0 and number % 3 == 0 else False\n",
    "    return is_divided_by_six\n",
    "\n",
    "\n",
    "print(is_divided_by_six(13))\n",
    "print(is_divided_by_six(12))"
   ]
  },
  {
   "attachments": {},
   "cell_type": "markdown",
   "metadata": {},
   "source": [
    "ЗАДАНИЕ 3.7 функцию check_number_sign(), которая возвращает 1, если число положительное, -1, если число отрицательное, 0, если число — 0."
   ]
  },
  {
   "cell_type": "code",
   "execution_count": 127,
   "metadata": {},
   "outputs": [
    {
     "name": "stdout",
     "output_type": "stream",
     "text": [
      "0\n",
      "1\n",
      "-1\n"
     ]
    }
   ],
   "source": [
    "def check_number_sign(x):\n",
    "    if x > 0:\n",
    "        return 1\n",
    "    elif x < 0:\n",
    "        return -1\n",
    "    else:\n",
    "        return 0\n",
    "\n",
    "print(check_number_sign(0))\n",
    "print(check_number_sign(100))\n",
    "print(check_number_sign(-1))"
   ]
  },
  {
   "attachments": {},
   "cell_type": "markdown",
   "metadata": {},
   "source": [
    "ЗАДАНИЕ 3.8 функцию def division(), которая осуществляет деление двух чисел.\n",
    "Необходимо реализовать внутри функции отлов исключения ZeroDivisionError на случай, если пользователь при вызове функции попытается поделить на ноль."
   ]
  },
  {
   "cell_type": "code",
   "execution_count": 128,
   "metadata": {},
   "outputs": [
    {
     "name": "stdout",
     "output_type": "stream",
     "text": [
      "Zero division error!\n",
      "None\n",
      "1.0\n"
     ]
    }
   ],
   "source": [
    "def division(a, b):\n",
    "    try:\n",
    "        c = a / b\n",
    "    except ZeroDivisionError:\n",
    "        print(\"Zero division error!\")\n",
    "        return\n",
    "    return c\n",
    "\n",
    "print(division(1, 0))\n",
    "print(division(1, 1))"
   ]
  },
  {
   "attachments": {},
   "cell_type": "markdown",
   "metadata": {},
   "source": [
    "ЗАДАНИЕ 4.4 функцию lucky_ticket(), которая проверяет, является ли сумма первых трёх цифр равна сумме последних трёх цифр."
   ]
  },
  {
   "cell_type": "code",
   "execution_count": 129,
   "metadata": {},
   "outputs": [
    {
     "name": "stdout",
     "output_type": "stream",
     "text": [
      "True\n",
      "False\n"
     ]
    }
   ],
   "source": [
    "def lucky_ticket(ticket_number):\n",
    "    first_three_num_str = str(ticket_number // 1000)\n",
    "    last_three_num_str = str(ticket_number % 1000)\n",
    "    first_three_sum = 0\n",
    "    last_three_sum = 0\n",
    "    for digit in first_three_num_str:\n",
    "        first_three_sum += int(digit)\n",
    "    for digit in last_three_num_str:\n",
    "        last_three_sum += int(digit)\n",
    "    if first_three_sum == last_three_sum:\n",
    "        return True\n",
    "    else:\n",
    "        return False\n",
    "\n",
    "print(lucky_ticket(111111))\n",
    "print(lucky_ticket(123456))"
   ]
  },
  {
   "attachments": {},
   "cell_type": "markdown",
   "metadata": {},
   "source": [
    "ЗАДАНИЕ 4.5 Функцию def fib_number(), которая получает на вход некоторое число n и выводит n-e число Фибоначчи."
   ]
  },
  {
   "cell_type": "code",
   "execution_count": 130,
   "metadata": {},
   "outputs": [
    {
     "name": "stdout",
     "output_type": "stream",
     "text": [
      "0\n",
      "1\n",
      "1\n",
      "2\n",
      "3\n",
      "8\n"
     ]
    }
   ],
   "source": [
    "def fib_number(n):\n",
    "    a_res = None\n",
    "    a0 = 0\n",
    "    a1 = 1\n",
    "    if n == 1:\n",
    "        return a1\n",
    "    if n == 0:\n",
    "        return a0\n",
    "    count = 2\n",
    "    while count <= n:\n",
    "        a_res = a0 + a1\n",
    "        a0 = a1\n",
    "        a1 = a_res\n",
    "        count += 1\n",
    "    return a_res\n",
    "\n",
    "print(fib_number(0))\n",
    "print(fib_number(1))\n",
    "print(fib_number(2))\n",
    "print(fib_number(3))\n",
    "print(fib_number(4))\n",
    "print(fib_number(6))"
   ]
  },
  {
   "attachments": {},
   "cell_type": "markdown",
   "metadata": {},
   "source": [
    "ЗАДАНИЕ 4.6 функцию def even_numbers_in_matrix(), которая получает на вход матрицу (список из списков) и возвращает количество чётных чисел в ней."
   ]
  },
  {
   "cell_type": "code",
   "execution_count": 131,
   "metadata": {},
   "outputs": [
    {
     "name": "stdout",
     "output_type": "stream",
     "text": [
      "5\n"
     ]
    }
   ],
   "source": [
    "matrix_example = [\n",
    "                [1, 5, 4],\n",
    "                [4, 2, -2],\n",
    "                [7, 65, 88]\n",
    "]\n",
    "def even_numbers_in_matrix(matrix):\n",
    "    even_numbers_num = 0\n",
    "    for line in matrix:\n",
    "        for element in line:\n",
    "            if element % 2 == 0:\n",
    "                even_numbers_num += 1\n",
    "    return even_numbers_num\n",
    "\n",
    "print(even_numbers_in_matrix(matrix_example))"
   ]
  },
  {
   "attachments": {},
   "cell_type": "markdown",
   "metadata": {},
   "source": [
    "ЗАДАНИЕ 4.7 функцию def matrix_sum(), которая получает на вход две матрицы и возвращает их сумму."
   ]
  },
  {
   "cell_type": "code",
   "execution_count": 132,
   "metadata": {},
   "outputs": [
    {
     "name": "stdout",
     "output_type": "stream",
     "text": [
      "[[2, 10, 8], [8, 4, -4], [14, 130, 176]]\n"
     ]
    }
   ],
   "source": [
    "matrix_example = [\n",
    "        [1, 5, 4],\n",
    "        [4, 2, -2],\n",
    "        [7, 65, 88]\n",
    "]\n",
    "\n",
    "def matrix_sum(matrix1, matrix2):\n",
    "\n",
    " # check matrices dimensions\n",
    "\n",
    "    if len(matrix1) != len(matrix2) or len(matrix1[0]) \\\n",
    "        != len(matrix2[0]):\n",
    "        print('Error! Matrices dimensions are different!')\n",
    "        return\n",
    "\n",
    "    matrix_lines = len(matrix1)\n",
    "    matrix_rows = len(matrix1[0])\n",
    "\n",
    " # find matrix sum\n",
    "\n",
    "    sum_matrix = []\n",
    "\n",
    "    for i in range(matrix_lines):    \n",
    "        line_tmp = []\n",
    "        for j in range(matrix_rows):\n",
    "            line_tmp.append(matrix1[i][j] + matrix2[i][j])\n",
    "        sum_matrix.append(line_tmp)\n",
    "\n",
    "    return sum_matrix\n",
    "\n",
    "print(matrix_sum(matrix_example, matrix_example))"
   ]
  },
  {
   "attachments": {},
   "cell_type": "markdown",
   "metadata": {},
   "source": [
    "ЗАДАНИЕ 4.8 программу, которая сжимает последовательность символов. На вход подаётся последовательность вида:\n",
    "aaabbccccdaa\n",
    "Необходимо вывести строку, состоящую из символов и количества повторений этого символа. Вывод должен выглядеть как:"
   ]
  },
  {
   "cell_type": "code",
   "execution_count": 133,
   "metadata": {},
   "outputs": [
    {
     "name": "stdout",
     "output_type": "stream",
     "text": [
      "a3b2c4d1a2\n"
     ]
    }
   ],
   "source": [
    "str_example = 'aaabbccccdaa'\n",
    "first_symbol = str_example[0]\n",
    "count = 0\n",
    "new_str = ''\n",
    "for symbol in str_example:\n",
    "    if symbol == first_symbol:\n",
    "        count += 1\n",
    "    else:\n",
    "        new_str += first_symbol + str(count)\n",
    "        first_symbol = symbol\n",
    "        count = 1\n",
    "\n",
    "new_str += first_symbol + str(count)\n",
    "print(new_str)"
   ]
  },
  {
   "attachments": {},
   "cell_type": "markdown",
   "metadata": {},
   "source": [
    "ЗАДАНИЕ 5.4 Функция должна получать на вход координаты двух точек (в виде четырёх чисел) и возвращать расстояние между ними."
   ]
  },
  {
   "cell_type": "code",
   "execution_count": 134,
   "metadata": {},
   "outputs": [
    {
     "name": "stdout",
     "output_type": "stream",
     "text": [
      "1.4142135623730951\n",
      "Arguments are not numbers!\n",
      "None\n"
     ]
    }
   ],
   "source": [
    "def distance_between_dots(x1, y1, x2, y2):\n",
    "    try:\n",
    "        coordinates = [x1, y1, x2, y2]\n",
    "        for c in coordinates:\n",
    "            if (type(c) is not int) and (type(c) is not float):\n",
    "                raise ValueError\n",
    "    except ValueError:\n",
    "        print(\"Arguments are not numbers!\")\n",
    "        return\n",
    "    distance = ((x1 - x2) ** 2 + (y1 - y2) ** 2) ** (1 / 2)\n",
    "    return distance\n",
    "\n",
    "print(distance_between_dots(1, 1, 2, 2))\n",
    "print(distance_between_dots(\"a\", 1, 2, 3))"
   ]
  },
  {
   "attachments": {},
   "cell_type": "markdown",
   "metadata": {},
   "source": [
    "ЗАДАНИЕ 5.5 функцию, которая вычисляет среднее арифметическое значений списка."
   ]
  },
  {
   "cell_type": "code",
   "execution_count": 135,
   "metadata": {},
   "outputs": [
    {
     "name": "stdout",
     "output_type": "stream",
     "text": [
      "2.0\n",
      "You should pass list to this function!\n",
      "None\n",
      "List should contain numbers!\n",
      "None\n"
     ]
    }
   ],
   "source": [
    "def calculate_average(number_list):\n",
    "    try:\n",
    "        if type(number_list) is not list:\n",
    "            raise ValueError(\"You should pass list to this function!\")\n",
    "    except ValueError as err:\n",
    "        print(err)\n",
    "        return\n",
    "    try:\n",
    "        average = sum(number_list) / len(number_list)\n",
    "    except TypeError:\n",
    "        print(\"List should contain numbers!\")\n",
    "        return\n",
    "    return average\n",
    "\n",
    "print(calculate_average([1, 2, 3]))\n",
    "print(calculate_average(1))\n",
    "print(calculate_average([\"a\", 1]))"
   ]
  },
  {
   "attachments": {},
   "cell_type": "markdown",
   "metadata": {},
   "source": [
    "ЗАДАНИЕ 5.6 функцию из предыдущей задачи (5.5) в виде lambda-функции."
   ]
  },
  {
   "cell_type": "code",
   "execution_count": 136,
   "metadata": {},
   "outputs": [
    {
     "name": "stdout",
     "output_type": "stream",
     "text": [
      "2.0\n"
     ]
    }
   ],
   "source": [
    "calculate_average = lambda number_list: sum(number_list) / len(number_list)\n",
    "\n",
    "print(calculate_average([1, 2, 3]))"
   ]
  },
  {
   "attachments": {},
   "cell_type": "markdown",
   "metadata": {},
   "source": [
    "ЗАДАНИЕ 5.7 функцию, которая принимает на вход строку и подсчитывает в ней количество слов начинающихся на каждую букву алфавита."
   ]
  },
  {
   "cell_type": "code",
   "execution_count": 137,
   "metadata": {},
   "outputs": [
    {
     "name": "stdout",
     "output_type": "stream",
     "text": [
      "{'a': 4, 'b': 1, 'c': 1, 'd': 0, 'e': 1, 'f': 4, 'g': 3, 'h': 0, 'i': 3, 'j': 0, 'k': 0, 'l': 0, 'm': 0, 'n': 6, 'o': 2, 'p': 0, 'q': 0, 'r': 5, 's': 1, 't': 11, 'u': 0, 'v': 0, 'w': 0, 'y': 0, 'z': 0}\n"
     ]
    }
   ],
   "source": [
    "def count_words(sentence_str):\n",
    "    alphabet_str = \"abcdefghijklmnopqrstuvwqyz\"\n",
    "    letters_dict = {letter: 0 for letter in alphabet_str}\n",
    "\n",
    "    words_list = sentence_str.lower().split()\n",
    "    for word in words_list:\n",
    "        letters_dict[word[0]] += 1\n",
    "    return letters_dict\n",
    "\n",
    "str_example = \"Fibonacci numbers are strongly related to the golden ratio: Binet's formula expresses the nth Fibonacci number in terms of n and the golden ratio, and implies that the ratio of two consecutive Fibonacci numbers tends to the golden ratio as n increases.\"\n",
    "print(count_words(str_example))"
   ]
  },
  {
   "attachments": {},
   "cell_type": "markdown",
   "metadata": {},
   "source": [
    "ЗАДАНИЕ 5.8 декоратор, который запрашивает имя пользователя и проверяет, есть ли оно в списке пользователей"
   ]
  },
  {
   "cell_type": "code",
   "execution_count": 140,
   "metadata": {},
   "outputs": [
    {
     "name": "stdout",
     "output_type": "stream",
     "text": [
      "Unknown user!\n"
     ]
    }
   ],
   "source": [
    "users_list = [\"admin\", \"ivan\", \"ivan_ivan\"]\n",
    "\n",
    "def user_auth(func):\n",
    "    def wrapper():\n",
    "        user = input(\"Enter username: \")\n",
    "        if user in users_list:\n",
    "            print(\"User authed\")\n",
    "            func()\n",
    "        else:\n",
    "            print(\"Unknown user!\")\n",
    "\n",
    "    return wrapper\n",
    "\n",
    "\n",
    "@user_auth\n",
    "def get_data_from_database():\n",
    "    print(\"Super secure data from database\")\n",
    "\n",
    "get_data_from_database()"
   ]
  }
 ],
 "metadata": {
  "kernelspec": {
   "display_name": "Python 3",
   "language": "python",
   "name": "python3"
  },
  "language_info": {
   "codemirror_mode": {
    "name": "ipython",
    "version": 3
   },
   "file_extension": ".py",
   "mimetype": "text/x-python",
   "name": "python",
   "nbconvert_exporter": "python",
   "pygments_lexer": "ipython3",
   "version": "3.10.7"
  },
  "orig_nbformat": 4,
  "vscode": {
   "interpreter": {
    "hash": "aee8b7b246df8f9039afb4144a1f6fd8d2ca17a180786b69acc140d282b71a49"
   }
  }
 },
 "nbformat": 4,
 "nbformat_minor": 2
}
