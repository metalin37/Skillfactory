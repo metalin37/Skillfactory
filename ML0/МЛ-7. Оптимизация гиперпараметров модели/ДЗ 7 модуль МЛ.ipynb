{
 "cells": [
  {
   "cell_type": "code",
   "execution_count": 1,
   "metadata": {},
   "outputs": [],
   "source": [
    "import os, sys, re\n",
    "import pandas as pd\n",
    "import numpy as np\n",
    "import plotly.express as px\n",
    "import matplotlib\n",
    "import matplotlib.pyplot as plt\n",
    "import seaborn as sns\n",
    "\n",
    "# установка стиля matplotlib\n",
    "%matplotlib inline\n",
    "plt.style.use('ggplot')\n",
    "\n",
    "# библиотека для расчетов корреляций\n",
    "from scipy import stats\n",
    "from sklearn import metrics\n",
    "\n",
    "# библиотека модели линейной регрессии\n",
    "from sklearn import linear_model\n",
    "\n",
    "# библиотека модели деревьев решения\n",
    "from sklearn import tree\n",
    "\n",
    "# библиотека модели ансамблей\n",
    "from sklearn import ensemble\n",
    "\n",
    "# библиотека для разделения датасета\n",
    "from sklearn import model_selection\n",
    "\n",
    "# для обработки timestamp в формате utc\n",
    "import datetime, time\n",
    "\n",
    "# выводить все результаты вычислений в ячейках Code\n",
    "from IPython.core.interactiveshell import InteractiveShell\n",
    "InteractiveShell.ast_node_interactivity = \"all\"\n",
    "\n",
    "# логгирование / логирование\n",
    "import logging\n",
    "\n",
    "# скрытие сообщений об ошибках при обработке ответов\n",
    "import warnings\n",
    "# игнорируем предупреждения\n",
    "warnings.filterwarnings('ignore')\n",
    "\n",
    "# библиотека для передачи функции обратного вызова\n",
    "from functools import partial\n",
    "\n",
    "# библиотека поиска гиперпараметров hyperopt\n",
    "import hyperopt\n",
    "from hyperopt import hp, fmin, tpe, Trials\n",
    "\n",
    "# библиотека поиска гиперпараметров optuna\n",
    "import optuna\n",
    "from optuna import Trial, study, samplers"
   ]
  },
  {
   "cell_type": "code",
   "execution_count": 2,
   "metadata": {},
   "outputs": [],
   "source": [
    "## КОНСТАНТЫ\n",
    "# делитель для констант (для более быстрых расчётов)\n",
    "DIVIDER = 2\n",
    "\n",
    "# фиксация генерации воспроизведения \n",
    "RANDOM_SEED = 42\n",
    "\n",
    "# число фолдов кросс-валидации\n",
    "CV_FOLDS = 5\n",
    "\n",
    "# число ядер для расчётов моделей\n",
    "CPU = -1\n",
    "\n",
    "# число итераций RandomizedSearchCV\n",
    "N_ITER = int(50 / DIVIDER)\n",
    "\n",
    "# число итераций Hyperopt\n",
    "MAX_EVALS = int(50 / DIVIDER)\n",
    "\n",
    "# число итераций Optuna\n",
    "N_TRIALS = int(50 / DIVIDER)"
   ]
  },
  {
   "cell_type": "code",
   "execution_count": 3,
   "metadata": {},
   "outputs": [],
   "source": [
    "# создаём объект класса LogisticRegression как estimator\n",
    "def get_estimator_log_reg(**params:dict | None) -> linear_model.LogisticRegression:\n",
    "    \"\"\" Функция генерации объекта класса: логистической регрессии (объекта класса LogisticRegression).\n",
    "        Принимает на вход словарь с параметрами. Если словарь пустой - создаётся модель с параметрами по умолчанию.\n",
    "\n",
    "    Args:\n",
    "        params (dict | None):   внешний словарь параметров модели | значение None (пустой словарь). \n",
    "                                При значении None генерируется стандартный объект класса + заданные параметры в estimator_log_reg\n",
    "\n",
    "    Returns:\n",
    "        estimator_log_reg(linear_model.LogisticRegression): объект класса логистическая регрессия (LogisticRegression)\n",
    "    \"\"\"\n",
    "    estimator_log_reg = linear_model.LogisticRegression(\n",
    "        **params,\n",
    "        random_state=RANDOM_SEED,\n",
    "        n_jobs=CPU\n",
    "    )\n",
    "    return estimator_log_reg\n",
    "\n",
    "# создаём объект класса RandomForestClassifier как estimator\n",
    "def get_estimator_rf_clf(**params:dict | None) -> ensemble.RandomForestClassifier:\n",
    "    \"\"\" Функция генерации объекта класса: \"случайного леса\" (объекта класса RandomForestClassifier).\n",
    "        Принимает на вход словарь с параметрами. Если словарь пустой - создаётся модель с параметрами по умолчанию.\n",
    "\n",
    "    Args:\n",
    "        params (dict | None):   внешний словарь параметров модели | значение None (пустой словарь). \n",
    "                                При значении None генерируется стандартный объект класса + заданные параметры в estimator_rf_clf\n",
    "        \n",
    "    Returns:\n",
    "        estimator_rf_clf(ensemble.RandomForestClassifier): объект класса \"случайный лес\" (RandomForestClassifier)\n",
    "    \"\"\"\n",
    "    estimator_rf_clf = ensemble.RandomForestClassifier(\n",
    "        **params,\n",
    "        class_weight='balanced',        # веса классов\n",
    "        random_state=RANDOM_SEED,\n",
    "        n_jobs=CPU\n",
    "    )\n",
    "    return estimator_rf_clf"
   ]
  },
  {
   "attachments": {},
   "cell_type": "markdown",
   "metadata": {},
   "source": [
    "# 1. Загрузка данных, знакомство с данными, оценка данных"
   ]
  },
  {
   "cell_type": "code",
   "execution_count": 2,
   "metadata": {},
   "outputs": [
    {
     "data": {
      "text/html": [
       "<div>\n",
       "<style scoped>\n",
       "    .dataframe tbody tr th:only-of-type {\n",
       "        vertical-align: middle;\n",
       "    }\n",
       "\n",
       "    .dataframe tbody tr th {\n",
       "        vertical-align: top;\n",
       "    }\n",
       "\n",
       "    .dataframe thead th {\n",
       "        text-align: right;\n",
       "    }\n",
       "</style>\n",
       "<table border=\"1\" class=\"dataframe\">\n",
       "  <thead>\n",
       "    <tr style=\"text-align: right;\">\n",
       "      <th></th>\n",
       "      <th>Activity</th>\n",
       "      <th>D1</th>\n",
       "      <th>D2</th>\n",
       "      <th>D3</th>\n",
       "      <th>D4</th>\n",
       "      <th>D5</th>\n",
       "      <th>D6</th>\n",
       "      <th>D7</th>\n",
       "      <th>D8</th>\n",
       "      <th>D9</th>\n",
       "      <th>...</th>\n",
       "      <th>D1767</th>\n",
       "      <th>D1768</th>\n",
       "      <th>D1769</th>\n",
       "      <th>D1770</th>\n",
       "      <th>D1771</th>\n",
       "      <th>D1772</th>\n",
       "      <th>D1773</th>\n",
       "      <th>D1774</th>\n",
       "      <th>D1775</th>\n",
       "      <th>D1776</th>\n",
       "    </tr>\n",
       "  </thead>\n",
       "  <tbody>\n",
       "    <tr>\n",
       "      <th>0</th>\n",
       "      <td>1</td>\n",
       "      <td>0.000000</td>\n",
       "      <td>0.497009</td>\n",
       "      <td>0.10</td>\n",
       "      <td>0.0</td>\n",
       "      <td>0.132956</td>\n",
       "      <td>0.678031</td>\n",
       "      <td>0.273166</td>\n",
       "      <td>0.585445</td>\n",
       "      <td>0.743663</td>\n",
       "      <td>...</td>\n",
       "      <td>0</td>\n",
       "      <td>0</td>\n",
       "      <td>0</td>\n",
       "      <td>0</td>\n",
       "      <td>0</td>\n",
       "      <td>0</td>\n",
       "      <td>0</td>\n",
       "      <td>0</td>\n",
       "      <td>0</td>\n",
       "      <td>0</td>\n",
       "    </tr>\n",
       "    <tr>\n",
       "      <th>1</th>\n",
       "      <td>1</td>\n",
       "      <td>0.366667</td>\n",
       "      <td>0.606291</td>\n",
       "      <td>0.05</td>\n",
       "      <td>0.0</td>\n",
       "      <td>0.111209</td>\n",
       "      <td>0.803455</td>\n",
       "      <td>0.106105</td>\n",
       "      <td>0.411754</td>\n",
       "      <td>0.836582</td>\n",
       "      <td>...</td>\n",
       "      <td>1</td>\n",
       "      <td>1</td>\n",
       "      <td>1</td>\n",
       "      <td>1</td>\n",
       "      <td>0</td>\n",
       "      <td>1</td>\n",
       "      <td>0</td>\n",
       "      <td>0</td>\n",
       "      <td>1</td>\n",
       "      <td>0</td>\n",
       "    </tr>\n",
       "    <tr>\n",
       "      <th>2</th>\n",
       "      <td>1</td>\n",
       "      <td>0.033300</td>\n",
       "      <td>0.480124</td>\n",
       "      <td>0.00</td>\n",
       "      <td>0.0</td>\n",
       "      <td>0.209791</td>\n",
       "      <td>0.610350</td>\n",
       "      <td>0.356453</td>\n",
       "      <td>0.517720</td>\n",
       "      <td>0.679051</td>\n",
       "      <td>...</td>\n",
       "      <td>0</td>\n",
       "      <td>0</td>\n",
       "      <td>0</td>\n",
       "      <td>0</td>\n",
       "      <td>0</td>\n",
       "      <td>0</td>\n",
       "      <td>0</td>\n",
       "      <td>0</td>\n",
       "      <td>0</td>\n",
       "      <td>0</td>\n",
       "    </tr>\n",
       "    <tr>\n",
       "      <th>3</th>\n",
       "      <td>1</td>\n",
       "      <td>0.000000</td>\n",
       "      <td>0.538825</td>\n",
       "      <td>0.00</td>\n",
       "      <td>0.5</td>\n",
       "      <td>0.196344</td>\n",
       "      <td>0.724230</td>\n",
       "      <td>0.235606</td>\n",
       "      <td>0.288764</td>\n",
       "      <td>0.805110</td>\n",
       "      <td>...</td>\n",
       "      <td>0</td>\n",
       "      <td>0</td>\n",
       "      <td>0</td>\n",
       "      <td>0</td>\n",
       "      <td>0</td>\n",
       "      <td>0</td>\n",
       "      <td>0</td>\n",
       "      <td>0</td>\n",
       "      <td>0</td>\n",
       "      <td>0</td>\n",
       "    </tr>\n",
       "    <tr>\n",
       "      <th>4</th>\n",
       "      <td>0</td>\n",
       "      <td>0.100000</td>\n",
       "      <td>0.517794</td>\n",
       "      <td>0.00</td>\n",
       "      <td>0.0</td>\n",
       "      <td>0.494734</td>\n",
       "      <td>0.781422</td>\n",
       "      <td>0.154361</td>\n",
       "      <td>0.303809</td>\n",
       "      <td>0.812646</td>\n",
       "      <td>...</td>\n",
       "      <td>0</td>\n",
       "      <td>0</td>\n",
       "      <td>0</td>\n",
       "      <td>0</td>\n",
       "      <td>0</td>\n",
       "      <td>0</td>\n",
       "      <td>0</td>\n",
       "      <td>0</td>\n",
       "      <td>0</td>\n",
       "      <td>0</td>\n",
       "    </tr>\n",
       "  </tbody>\n",
       "</table>\n",
       "<p>5 rows × 1777 columns</p>\n",
       "</div>"
      ],
      "text/plain": [
       "   Activity        D1        D2    D3   D4        D5        D6        D7   \n",
       "0         1  0.000000  0.497009  0.10  0.0  0.132956  0.678031  0.273166  \\\n",
       "1         1  0.366667  0.606291  0.05  0.0  0.111209  0.803455  0.106105   \n",
       "2         1  0.033300  0.480124  0.00  0.0  0.209791  0.610350  0.356453   \n",
       "3         1  0.000000  0.538825  0.00  0.5  0.196344  0.724230  0.235606   \n",
       "4         0  0.100000  0.517794  0.00  0.0  0.494734  0.781422  0.154361   \n",
       "\n",
       "         D8        D9  ...  D1767  D1768  D1769  D1770  D1771  D1772  D1773   \n",
       "0  0.585445  0.743663  ...      0      0      0      0      0      0      0  \\\n",
       "1  0.411754  0.836582  ...      1      1      1      1      0      1      0   \n",
       "2  0.517720  0.679051  ...      0      0      0      0      0      0      0   \n",
       "3  0.288764  0.805110  ...      0      0      0      0      0      0      0   \n",
       "4  0.303809  0.812646  ...      0      0      0      0      0      0      0   \n",
       "\n",
       "   D1774  D1775  D1776  \n",
       "0      0      0      0  \n",
       "1      0      1      0  \n",
       "2      0      0      0  \n",
       "3      0      0      0  \n",
       "4      0      0      0  \n",
       "\n",
       "[5 rows x 1777 columns]"
      ]
     },
     "execution_count": 2,
     "metadata": {},
     "output_type": "execute_result"
    }
   ],
   "source": [
    "data = pd.read_csv('data/_train_sem09.csv')\n",
    "\n",
    "# знакомимся с данными\n",
    "data.head()"
   ]
  },
  {
   "cell_type": "code",
   "execution_count": 5,
   "metadata": {},
   "outputs": [
    {
     "data": {
      "text/html": [
       "<div>\n",
       "<style scoped>\n",
       "    .dataframe tbody tr th:only-of-type {\n",
       "        vertical-align: middle;\n",
       "    }\n",
       "\n",
       "    .dataframe tbody tr th {\n",
       "        vertical-align: top;\n",
       "    }\n",
       "\n",
       "    .dataframe thead th {\n",
       "        text-align: right;\n",
       "    }\n",
       "</style>\n",
       "<table border=\"1\" class=\"dataframe\">\n",
       "  <thead>\n",
       "    <tr style=\"text-align: right;\">\n",
       "      <th></th>\n",
       "      <th>Activity</th>\n",
       "      <th>D1</th>\n",
       "      <th>D2</th>\n",
       "      <th>D3</th>\n",
       "      <th>D4</th>\n",
       "      <th>D5</th>\n",
       "      <th>D6</th>\n",
       "      <th>D7</th>\n",
       "      <th>D8</th>\n",
       "      <th>D9</th>\n",
       "      <th>...</th>\n",
       "      <th>D1767</th>\n",
       "      <th>D1768</th>\n",
       "      <th>D1769</th>\n",
       "      <th>D1770</th>\n",
       "      <th>D1771</th>\n",
       "      <th>D1772</th>\n",
       "      <th>D1773</th>\n",
       "      <th>D1774</th>\n",
       "      <th>D1775</th>\n",
       "      <th>D1776</th>\n",
       "    </tr>\n",
       "  </thead>\n",
       "  <tbody>\n",
       "  </tbody>\n",
       "</table>\n",
       "<p>0 rows × 1777 columns</p>\n",
       "</div>"
      ],
      "text/plain": [
       "Empty DataFrame\n",
       "Columns: [Activity, D1, D2, D3, D4, D5, D6, D7, D8, D9, D10, D11, D12, D13, D14, D15, D16, D17, D18, D19, D20, D21, D22, D23, D24, D25, D26, D27, D28, D29, D30, D31, D32, D33, D34, D35, D36, D37, D38, D39, D40, D41, D42, D43, D44, D45, D46, D47, D48, D49, D50, D51, D52, D53, D54, D55, D56, D57, D58, D59, D60, D61, D62, D63, D64, D65, D66, D67, D68, D69, D70, D71, D72, D73, D74, D75, D76, D77, D78, D79, D80, D81, D82, D83, D84, D85, D86, D87, D88, D89, D90, D91, D92, D93, D94, D95, D96, D97, D98, D99, ...]\n",
       "Index: []\n",
       "\n",
       "[0 rows x 1777 columns]"
      ]
     },
     "execution_count": 5,
     "metadata": {},
     "output_type": "execute_result"
    }
   ],
   "source": [
    "# проверяем пропуски, на всякий случай\n",
    "data[data.isnull().any(axis=1)]"
   ]
  },
  {
   "cell_type": "code",
   "execution_count": 6,
   "metadata": {},
   "outputs": [
    {
     "name": "stdout",
     "output_type": "stream",
     "text": [
      "Activity\n",
      "1    0.542255\n",
      "0    0.457745\n",
      "Name: proportion, dtype: float64\n"
     ]
    },
    {
     "data": {
      "image/png": "[encoded data removed]",
      "text/plain": [
       "<Figure size 640x480 with 1 Axes>"
      ]
     },
     "metadata": {},
     "output_type": "display_data"
    }
   ],
   "source": [
    "# сбалансированность классов\n",
    "print(data['Activity'].value_counts(normalize=True))\n",
    "sns.countplot(data=data, x='Activity');"
   ]
  },
  {
   "attachments": {},
   "cell_type": "markdown",
   "metadata": {},
   "source": [
    "---"
   ]
  },
  {
   "attachments": {},
   "cell_type": "markdown",
   "metadata": {},
   "source": [
    "# 2. Решение задачи\n",
    "\n",
    "* Набор данных относительно сбалансированный. Разделим данные в соотношении 80/20 на тренировочную и тестовую выборки соответственно, используя стратификацию.\n",
    "\n",
    "* Тестовую выборку мы будем использовать для оценки качества обученной модели. При настройке гиперпараметров модель видеть тестовые данные не будет.\n",
    "\n",
    "* Будем использовать кросс-валидацию на каждом этапе, соответственно, выделять из обучающего набора данных валидационную выборку не нужно - алгоритм это сделает самостоятельно."
   ]
  },
  {
   "attachments": {},
   "cell_type": "markdown",
   "metadata": {},
   "source": [
    "---"
   ]
  },
  {
   "attachments": {},
   "cell_type": "markdown",
   "metadata": {},
   "source": [
    "# 3. Разбиение данных"
   ]
  },
  {
   "cell_type": "code",
   "execution_count": 7,
   "metadata": {},
   "outputs": [],
   "source": [
    "# матрица наблюдений\n",
    "X = data.drop(['Activity'], axis=1)\n",
    "\n",
    "# вектор ответов\n",
    "y = data['Activity']\n",
    "\n",
    "# разделяем выборку на тренировочную и тестовую в соотношении 80/20,\n",
    "# используем параметр stratify (стратифицированное разбиение)\n",
    "X_train, X_test, y_train, y_test = model_selection.train_test_split(\n",
    "    X, y, \n",
    "    stratify=y, \n",
    "    random_state=RANDOM_SEED, \n",
    "    test_size=0.2\n",
    ")"
   ]
  },
  {
   "cell_type": "code",
   "execution_count": 8,
   "metadata": {},
   "outputs": [],
   "source": [
    "def get_model_metrics(\n",
    "    estimator_:linear_model.LogisticRegression | ensemble.RandomForestClassifier, \n",
    "    opt_method:str=None, \n",
    "    cv_:int | None=CV_FOLDS, \n",
    "    X_train_:pd.DataFrame=X_train, y_train_:pd.Series=y_train, \n",
    "    X_test_:pd.DataFrame=X_test, y_test_:pd.Series=y_test,\n",
    "    ) -> None:\n",
    "    \"\"\" Функция вывода метрик.\n",
    "\n",
    "    Parameters\n",
    "    ----------\n",
    "        estimator_ (linear_model.LogisticRegression | ensemble.RandomForestClassifier) : модель для расчёта метрик на кросс-валидации\n",
    "            \n",
    "        opt_method (str) : метод оптимизации. Defaults to None.\n",
    "\n",
    "        cv_ (int, optional) : кросс-валидатор модели. Defaults to CV_FOLDS.\n",
    "        \n",
    "        X_train_ (pd.DataFrame, optional) : тренировочный датасет. Defaults to X_train.\n",
    "        \n",
    "        y_train_ (pd.Series, optional) : тренировочный вектор целевых значений. Defaults to y_train.\n",
    "        \n",
    "        X_test_ (pd.DataFrame, optional) : тестовый датасет. Defaults to X_test.\n",
    "        \n",
    "        y_test_ (pd.Series, optional) : тестовый вектор целевых значений. Defaults to y_test.\n",
    "    \"\"\"\n",
    "\n",
    "    cv_metrics = model_selection.cross_validate(\n",
    "            estimator=estimator_,           # модель\n",
    "            X=X_train_,                     # матрица наблюдений X\n",
    "            y=y_train_,                     # вектор ответов y\n",
    "            cv=cv_,                         # число фолдов кросс-валидатора StratifiedKFold\n",
    "            scoring=['f1', 'accuracy',\n",
    "                'recall', 'precision'],     # метрики\n",
    "            return_train_score=True,        # подсчёт метрики на тренировочных фолдах\n",
    "            n_jobs=CPU\n",
    "        )\n",
    "\n",
    "    # обучение модели и предсказание значений для тестовой выборки\n",
    "    estimator_.fit(X_train_, y_train_)\n",
    "    y_pred_test_estimator_ = estimator_.predict(X_test_)\n",
    "    \n",
    "    # заголовок отчёта\n",
    "    if opt_method:\n",
    "        print(f'-= {estimator_.__class__.__name__}, {opt_method} =-')\n",
    "    else:\n",
    "        print(f'-= {estimator_.__class__.__name__}, Baseline =-')\n",
    "    \n",
    "    # выводим метрику на тестовой выборке\n",
    "    print(f'f1_score на тестовом наборе: {metrics.f1_score(y_test_, y_pred_test_estimator_):.3f}\\n')\n",
    "        \n",
    "    # выводим метрики на кросс-валидации\n",
    "    print(f\"f1_score на тренировочном наборе: {np.mean(cv_metrics['train_f1']):.3f}\")\n",
    "    print(f\"accuracy на валидационном наборе: {np.mean(cv_metrics['test_accuracy']):.3f}\")\n",
    "    print(f\"f1_score на валидационном наборе: {np.mean(cv_metrics['test_f1']):.3f}\")"
   ]
  },
  {
   "attachments": {},
   "cell_type": "markdown",
   "metadata": {},
   "source": [
    "---"
   ]
  },
  {
   "attachments": {},
   "cell_type": "markdown",
   "metadata": {},
   "source": [
    "# 4. Логистическая регрессия (LogisticRegression)"
   ]
  },
  {
   "attachments": {},
   "cell_type": "markdown",
   "metadata": {},
   "source": [
    "## 4.1. Baseline\n",
    "\n",
    "Оцениваем метрику f1-score при установленных по умолчанию гиперпараметров:"
   ]
  },
  {
   "cell_type": "code",
   "execution_count": 9,
   "metadata": {},
   "outputs": [
    {
     "name": "stdout",
     "output_type": "stream",
     "text": [
      "-= LogisticRegression, Baseline =-\n",
      "f1_score на тестовом наборе: 0.780\n",
      "\n",
      "f1_score на тренировочном наборе: 0.905\n",
      "accuracy на валидационном наборе: 0.749\n",
      "f1_score на валидационном наборе: 0.773\n"
     ]
    }
   ],
   "source": [
    "# выводим метрики baseline решения (без оптимизации)\n",
    "get_model_metrics(get_estimator_log_reg())"
   ]
  },
  {
   "attachments": {},
   "cell_type": "markdown",
   "metadata": {},
   "source": [
    "## 4.2. GridSearchCV"
   ]
  },
  {
   "attachments": {},
   "cell_type": "markdown",
   "metadata": {},
   "source": [
    "Алгоритм оптимизации зависит от выбранного типа штрафа:\n",
    "* `'lbfgs' - ['l2', 'none']`\n",
    "* '`sag' - ['l2', 'none']`\n",
    "* `'liblinear' - ['l1', 'l2']`\n",
    "* `'saga' - [elasticnet', 'l1', 'l2', 'none']`"
   ]
  },
  {
   "cell_type": "code",
   "execution_count": 60,
   "metadata": {},
   "outputs": [],
   "source": [
    "# создаем сетку параметров\n",
    "log_reg_C_values = [0.01, 0.05, 0.1, 0.3, 0.5, 0.7, 0.9, 1]\n",
    "l1_ratio = np.linspace(0, 1, num=10)\n",
    "param_grid_log_reg = [\n",
    "    {'penalty': ['l2', 'none'],     # тип регуляризации\n",
    "    'solver': ['lbfgs', 'sag'],     # алгоритм оптимизации\n",
    "    'C': log_reg_C_values           # уровень силы регуляризации\n",
    "    },\n",
    "            \n",
    "    {'penalty': ['l1', 'l2'] ,\n",
    "    'solver': ['liblinear'],\n",
    "    'C': log_reg_C_values\n",
    "    },\n",
    "            \n",
    "    {'penalty': ['l1', 'l2', 'elasticnet', 'none'] ,\n",
    "    'solver': ['saga'],\n",
    "    'C': log_reg_C_values,\n",
    "    # 'l1_ratio': stats.uniform(0, 1)\n",
    "    'l1_ratio': l1_ratio\n",
    "    }\n",
    "]"
   ]
  },
  {
   "cell_type": "code",
   "execution_count": 58,
   "metadata": {},
   "outputs": [
    {
     "name": "stdout",
     "output_type": "stream",
     "text": [
      "CPU times: total: 11.9 s\n",
      "Wall time: 20min 42s\n"
     ]
    },
    {
     "data": {
      "text/html": [
       "<style>#sk-container-id-5 {color: black;background-color: white;}#sk-container-id-5 pre{padding: 0;}#sk-container-id-5 div.sk-toggleable {background-color: white;}#sk-container-id-5 label.sk-toggleable__label {cursor: pointer;display: block;width: 100%;margin-bottom: 0;padding: 0.3em;box-sizing: border-box;text-align: center;}#sk-container-id-5 label.sk-toggleable__label-arrow:before {content: \"▸\";float: left;margin-right: 0.25em;color: #696969;}#sk-container-id-5 label.sk-toggleable__label-arrow:hover:before {color: black;}#sk-container-id-5 div.sk-estimator:hover label.sk-toggleable__label-arrow:before {color: black;}#sk-container-id-5 div.sk-toggleable__content {max-height: 0;max-width: 0;overflow: hidden;text-align: left;background-color: #f0f8ff;}#sk-container-id-5 div.sk-toggleable__content pre {margin: 0.2em;color: black;border-radius: 0.25em;background-color: #f0f8ff;}#sk-container-id-5 input.sk-toggleable__control:checked~div.sk-toggleable__content {max-height: 200px;max-width: 100%;overflow: auto;}#sk-container-id-5 input.sk-toggleable__control:checked~label.sk-toggleable__label-arrow:before {content: \"▾\";}#sk-container-id-5 div.sk-estimator input.sk-toggleable__control:checked~label.sk-toggleable__label {background-color: #d4ebff;}#sk-container-id-5 div.sk-label input.sk-toggleable__control:checked~label.sk-toggleable__label {background-color: #d4ebff;}#sk-container-id-5 input.sk-hidden--visually {border: 0;clip: rect(1px 1px 1px 1px);clip: rect(1px, 1px, 1px, 1px);height: 1px;margin: -1px;overflow: hidden;padding: 0;position: absolute;width: 1px;}#sk-container-id-5 div.sk-estimator {font-family: monospace;background-color: #f0f8ff;border: 1px dotted black;border-radius: 0.25em;box-sizing: border-box;margin-bottom: 0.5em;}#sk-container-id-5 div.sk-estimator:hover {background-color: #d4ebff;}#sk-container-id-5 div.sk-parallel-item::after {content: \"\";width: 100%;border-bottom: 1px solid gray;flex-grow: 1;}#sk-container-id-5 div.sk-label:hover label.sk-toggleable__label {background-color: #d4ebff;}#sk-container-id-5 div.sk-serial::before {content: \"\";position: absolute;border-left: 1px solid gray;box-sizing: border-box;top: 0;bottom: 0;left: 50%;z-index: 0;}#sk-container-id-5 div.sk-serial {display: flex;flex-direction: column;align-items: center;background-color: white;padding-right: 0.2em;padding-left: 0.2em;position: relative;}#sk-container-id-5 div.sk-item {position: relative;z-index: 1;}#sk-container-id-5 div.sk-parallel {display: flex;align-items: stretch;justify-content: center;background-color: white;position: relative;}#sk-container-id-5 div.sk-item::before, #sk-container-id-5 div.sk-parallel-item::before {content: \"\";position: absolute;border-left: 1px solid gray;box-sizing: border-box;top: 0;bottom: 0;left: 50%;z-index: -1;}#sk-container-id-5 div.sk-parallel-item {display: flex;flex-direction: column;z-index: 1;position: relative;background-color: white;}#sk-container-id-5 div.sk-parallel-item:first-child::after {align-self: flex-end;width: 50%;}#sk-container-id-5 div.sk-parallel-item:last-child::after {align-self: flex-start;width: 50%;}#sk-container-id-5 div.sk-parallel-item:only-child::after {width: 0;}#sk-container-id-5 div.sk-dashed-wrapped {border: 1px dashed gray;margin: 0 0.4em 0.5em 0.4em;box-sizing: border-box;padding-bottom: 0.4em;background-color: white;}#sk-container-id-5 div.sk-label label {font-family: monospace;font-weight: bold;display: inline-block;line-height: 1.2em;}#sk-container-id-5 div.sk-label-container {text-align: center;}#sk-container-id-5 div.sk-container {/* jupyter's `normalize.less` sets `[hidden] { display: none; }` but bootstrap.min.css set `[hidden] { display: none !important; }` so we also need the `!important` here to be able to override the default hidden behavior on the sphinx rendered scikit-learn.org. See: https://github.com/scikit-learn/scikit-learn/issues/21755 */display: inline-block !important;position: relative;}#sk-container-id-5 div.sk-text-repr-fallback {display: none;}</style><div id=\"sk-container-id-5\" class=\"sk-top-container\"><div class=\"sk-text-repr-fallback\"><pre>GridSearchCV(cv=5, estimator=LogisticRegression(n_jobs=-1, random_state=42),\n",
       "             n_jobs=-1,\n",
       "             param_grid=[{&#x27;C&#x27;: [0.01, 0.05, 0.1, 0.3, 0.5, 0.7, 0.9, 1],\n",
       "                          &#x27;penalty&#x27;: [&#x27;l2&#x27;, &#x27;none&#x27;],\n",
       "                          &#x27;solver&#x27;: [&#x27;lbfgs&#x27;, &#x27;sag&#x27;]},\n",
       "                         {&#x27;C&#x27;: [0.01, 0.05, 0.1, 0.3, 0.5, 0.7, 0.9, 1],\n",
       "                          &#x27;penalty&#x27;: [&#x27;l1&#x27;, &#x27;l2&#x27;], &#x27;solver&#x27;: [&#x27;liblinear&#x27;]},\n",
       "                         {&#x27;C&#x27;: [0.01, 0.05, 0.1, 0.3, 0.5, 0.7, 0.9, 1],\n",
       "                          &#x27;l1_ratio&#x27;: array([0.        , 0.11111111, 0.22222222, 0.33333333, 0.44444444,\n",
       "       0.55555556, 0.66666667, 0.77777778, 0.88888889, 1.        ]),\n",
       "                          &#x27;penalty&#x27;: [&#x27;l1&#x27;, &#x27;l2&#x27;, &#x27;elasticnet&#x27;, &#x27;none&#x27;],\n",
       "                          &#x27;solver&#x27;: [&#x27;saga&#x27;]}])</pre><b>In a Jupyter environment, please rerun this cell to show the HTML representation or trust the notebook. <br />On GitHub, the HTML representation is unable to render, please try loading this page with nbviewer.org.</b></div><div class=\"sk-container\" hidden><div class=\"sk-item sk-dashed-wrapped\"><div class=\"sk-label-container\"><div class=\"sk-label sk-toggleable\"><input class=\"sk-toggleable__control sk-hidden--visually\" id=\"sk-estimator-id-13\" type=\"checkbox\" ><label for=\"sk-estimator-id-13\" class=\"sk-toggleable__label sk-toggleable__label-arrow\">GridSearchCV</label><div class=\"sk-toggleable__content\"><pre>GridSearchCV(cv=5, estimator=LogisticRegression(n_jobs=-1, random_state=42),\n",
       "             n_jobs=-1,\n",
       "             param_grid=[{&#x27;C&#x27;: [0.01, 0.05, 0.1, 0.3, 0.5, 0.7, 0.9, 1],\n",
       "                          &#x27;penalty&#x27;: [&#x27;l2&#x27;, &#x27;none&#x27;],\n",
       "                          &#x27;solver&#x27;: [&#x27;lbfgs&#x27;, &#x27;sag&#x27;]},\n",
       "                         {&#x27;C&#x27;: [0.01, 0.05, 0.1, 0.3, 0.5, 0.7, 0.9, 1],\n",
       "                          &#x27;penalty&#x27;: [&#x27;l1&#x27;, &#x27;l2&#x27;], &#x27;solver&#x27;: [&#x27;liblinear&#x27;]},\n",
       "                         {&#x27;C&#x27;: [0.01, 0.05, 0.1, 0.3, 0.5, 0.7, 0.9, 1],\n",
       "                          &#x27;l1_ratio&#x27;: array([0.        , 0.11111111, 0.22222222, 0.33333333, 0.44444444,\n",
       "       0.55555556, 0.66666667, 0.77777778, 0.88888889, 1.        ]),\n",
       "                          &#x27;penalty&#x27;: [&#x27;l1&#x27;, &#x27;l2&#x27;, &#x27;elasticnet&#x27;, &#x27;none&#x27;],\n",
       "                          &#x27;solver&#x27;: [&#x27;saga&#x27;]}])</pre></div></div></div><div class=\"sk-parallel\"><div class=\"sk-parallel-item\"><div class=\"sk-item\"><div class=\"sk-label-container\"><div class=\"sk-label sk-toggleable\"><input class=\"sk-toggleable__control sk-hidden--visually\" id=\"sk-estimator-id-14\" type=\"checkbox\" ><label for=\"sk-estimator-id-14\" class=\"sk-toggleable__label sk-toggleable__label-arrow\">estimator: LogisticRegression</label><div class=\"sk-toggleable__content\"><pre>LogisticRegression(n_jobs=-1, random_state=42)</pre></div></div></div><div class=\"sk-serial\"><div class=\"sk-item\"><div class=\"sk-estimator sk-toggleable\"><input class=\"sk-toggleable__control sk-hidden--visually\" id=\"sk-estimator-id-15\" type=\"checkbox\" ><label for=\"sk-estimator-id-15\" class=\"sk-toggleable__label sk-toggleable__label-arrow\">LogisticRegression</label><div class=\"sk-toggleable__content\"><pre>LogisticRegression(n_jobs=-1, random_state=42)</pre></div></div></div></div></div></div></div></div></div></div>"
      ],
      "text/plain": [
       "GridSearchCV(cv=5, estimator=LogisticRegression(n_jobs=-1, random_state=42),\n",
       "             n_jobs=-1,\n",
       "             param_grid=[{'C': [0.01, 0.05, 0.1, 0.3, 0.5, 0.7, 0.9, 1],\n",
       "                          'penalty': ['l2', 'none'],\n",
       "                          'solver': ['lbfgs', 'sag']},\n",
       "                         {'C': [0.01, 0.05, 0.1, 0.3, 0.5, 0.7, 0.9, 1],\n",
       "                          'penalty': ['l1', 'l2'], 'solver': ['liblinear']},\n",
       "                         {'C': [0.01, 0.05, 0.1, 0.3, 0.5, 0.7, 0.9, 1],\n",
       "                          'l1_ratio': array([0.        , 0.11111111, 0.22222222, 0.33333333, 0.44444444,\n",
       "       0.55555556, 0.66666667, 0.77777778, 0.88888889, 1.        ]),\n",
       "                          'penalty': ['l1', 'l2', 'elasticnet', 'none'],\n",
       "                          'solver': ['saga']}])"
      ]
     },
     "execution_count": 58,
     "metadata": {},
     "output_type": "execute_result"
    },
    {
     "name": "stdout",
     "output_type": "stream",
     "text": [
      "Наилучшие значения гиперпараметров: {'C': 0.05, 'l1_ratio': 0.1111111111111111, 'penalty': 'elasticnet', 'solver': 'saga'}\n"
     ]
    }
   ],
   "source": [
    "# создаем объект класса GridSearchCV\n",
    "gscv_log_reg = model_selection.GridSearchCV(\n",
    "    estimator=get_estimator_log_reg(), \n",
    "    param_grid=param_grid_log_reg, \n",
    "    cv=CV_FOLDS, \n",
    "    n_jobs=CPU,\n",
    ")\n",
    "\n",
    "# обучаем модель на кросс-валидации\n",
    "%time gscv_log_reg.fit(X_train, y_train)\n",
    "\n",
    "print(f'Наилучшие значения гиперпараметров: {gscv_log_reg.best_params_}')"
   ]
  },
  {
   "cell_type": "code",
   "execution_count": 59,
   "metadata": {},
   "outputs": [
    {
     "name": "stdout",
     "output_type": "stream",
     "text": [
      "-= LogisticRegression, GridSearchCV =-\n",
      "f1_score на тестовом наборе: 0.781\n",
      "\n",
      "f1_score на тренировочном наборе: 0.831\n",
      "accuracy на валидационном наборе: 0.770\n",
      "f1_score на валидационном наборе: 0.795\n",
      "Наилучшие значения гиперпараметров: {'C': 0.05, 'l1_ratio': 0.1111111111111111, 'penalty': 'elasticnet', 'solver': 'saga'}\n"
     ]
    }
   ],
   "source": [
    "# рассчитываем и выводим метрики\n",
    "get_model_metrics(\n",
    "    get_estimator_log_reg(**gscv_log_reg.best_params_),\n",
    "    gscv_log_reg.__class__.__name__\n",
    ")\n",
    "print(f'Наилучшие значения гиперпараметров: {gscv_log_reg.best_params_}')"
   ]
  },
  {
   "attachments": {},
   "cell_type": "markdown",
   "metadata": {},
   "source": [
    "## 4.3. RandomizedSearchCV"
   ]
  },
  {
   "cell_type": "code",
   "execution_count": 62,
   "metadata": {},
   "outputs": [
    {
     "name": "stdout",
     "output_type": "stream",
     "text": [
      "CPU times: total: 6.33 s\n",
      "Wall time: 1min 33s\n"
     ]
    },
    {
     "data": {
      "text/html": [
       "<style>#sk-container-id-6 {color: black;background-color: white;}#sk-container-id-6 pre{padding: 0;}#sk-container-id-6 div.sk-toggleable {background-color: white;}#sk-container-id-6 label.sk-toggleable__label {cursor: pointer;display: block;width: 100%;margin-bottom: 0;padding: 0.3em;box-sizing: border-box;text-align: center;}#sk-container-id-6 label.sk-toggleable__label-arrow:before {content: \"▸\";float: left;margin-right: 0.25em;color: #696969;}#sk-container-id-6 label.sk-toggleable__label-arrow:hover:before {color: black;}#sk-container-id-6 div.sk-estimator:hover label.sk-toggleable__label-arrow:before {color: black;}#sk-container-id-6 div.sk-toggleable__content {max-height: 0;max-width: 0;overflow: hidden;text-align: left;background-color: #f0f8ff;}#sk-container-id-6 div.sk-toggleable__content pre {margin: 0.2em;color: black;border-radius: 0.25em;background-color: #f0f8ff;}#sk-container-id-6 input.sk-toggleable__control:checked~div.sk-toggleable__content {max-height: 200px;max-width: 100%;overflow: auto;}#sk-container-id-6 input.sk-toggleable__control:checked~label.sk-toggleable__label-arrow:before {content: \"▾\";}#sk-container-id-6 div.sk-estimator input.sk-toggleable__control:checked~label.sk-toggleable__label {background-color: #d4ebff;}#sk-container-id-6 div.sk-label input.sk-toggleable__control:checked~label.sk-toggleable__label {background-color: #d4ebff;}#sk-container-id-6 input.sk-hidden--visually {border: 0;clip: rect(1px 1px 1px 1px);clip: rect(1px, 1px, 1px, 1px);height: 1px;margin: -1px;overflow: hidden;padding: 0;position: absolute;width: 1px;}#sk-container-id-6 div.sk-estimator {font-family: monospace;background-color: #f0f8ff;border: 1px dotted black;border-radius: 0.25em;box-sizing: border-box;margin-bottom: 0.5em;}#sk-container-id-6 div.sk-estimator:hover {background-color: #d4ebff;}#sk-container-id-6 div.sk-parallel-item::after {content: \"\";width: 100%;border-bottom: 1px solid gray;flex-grow: 1;}#sk-container-id-6 div.sk-label:hover label.sk-toggleable__label {background-color: #d4ebff;}#sk-container-id-6 div.sk-serial::before {content: \"\";position: absolute;border-left: 1px solid gray;box-sizing: border-box;top: 0;bottom: 0;left: 50%;z-index: 0;}#sk-container-id-6 div.sk-serial {display: flex;flex-direction: column;align-items: center;background-color: white;padding-right: 0.2em;padding-left: 0.2em;position: relative;}#sk-container-id-6 div.sk-item {position: relative;z-index: 1;}#sk-container-id-6 div.sk-parallel {display: flex;align-items: stretch;justify-content: center;background-color: white;position: relative;}#sk-container-id-6 div.sk-item::before, #sk-container-id-6 div.sk-parallel-item::before {content: \"\";position: absolute;border-left: 1px solid gray;box-sizing: border-box;top: 0;bottom: 0;left: 50%;z-index: -1;}#sk-container-id-6 div.sk-parallel-item {display: flex;flex-direction: column;z-index: 1;position: relative;background-color: white;}#sk-container-id-6 div.sk-parallel-item:first-child::after {align-self: flex-end;width: 50%;}#sk-container-id-6 div.sk-parallel-item:last-child::after {align-self: flex-start;width: 50%;}#sk-container-id-6 div.sk-parallel-item:only-child::after {width: 0;}#sk-container-id-6 div.sk-dashed-wrapped {border: 1px dashed gray;margin: 0 0.4em 0.5em 0.4em;box-sizing: border-box;padding-bottom: 0.4em;background-color: white;}#sk-container-id-6 div.sk-label label {font-family: monospace;font-weight: bold;display: inline-block;line-height: 1.2em;}#sk-container-id-6 div.sk-label-container {text-align: center;}#sk-container-id-6 div.sk-container {/* jupyter's `normalize.less` sets `[hidden] { display: none; }` but bootstrap.min.css set `[hidden] { display: none !important; }` so we also need the `!important` here to be able to override the default hidden behavior on the sphinx rendered scikit-learn.org. See: https://github.com/scikit-learn/scikit-learn/issues/21755 */display: inline-block !important;position: relative;}#sk-container-id-6 div.sk-text-repr-fallback {display: none;}</style><div id=\"sk-container-id-6\" class=\"sk-top-container\"><div class=\"sk-text-repr-fallback\"><pre>RandomizedSearchCV(cv=5,\n",
       "                   estimator=LogisticRegression(n_jobs=-1, random_state=42),\n",
       "                   n_iter=25, n_jobs=-1,\n",
       "                   param_distributions=[{&#x27;C&#x27;: [0.01, 0.05, 0.1, 0.3, 0.5, 0.7,\n",
       "                                               0.9, 1],\n",
       "                                         &#x27;penalty&#x27;: [&#x27;l2&#x27;, &#x27;none&#x27;],\n",
       "                                         &#x27;solver&#x27;: [&#x27;lbfgs&#x27;, &#x27;sag&#x27;]},\n",
       "                                        {&#x27;C&#x27;: [0.01, 0.05, 0.1, 0.3, 0.5, 0.7,\n",
       "                                               0.9, 1],\n",
       "                                         &#x27;penalty&#x27;: [&#x27;l1&#x27;, &#x27;l2&#x27;],\n",
       "                                         &#x27;solver&#x27;: [&#x27;liblinear&#x27;]},\n",
       "                                        {&#x27;C&#x27;: [0.01, 0.05, 0.1, 0.3, 0.5, 0.7,\n",
       "                                               0.9, 1],\n",
       "                                         &#x27;l1_ratio&#x27;: array([0.        , 0.11111111, 0.22222222, 0.33333333, 0.44444444,\n",
       "       0.55555556, 0.66666667, 0.77777778, 0.88888889, 1.        ]),\n",
       "                                         &#x27;penalty&#x27;: [&#x27;l1&#x27;, &#x27;l2&#x27;, &#x27;elasticnet&#x27;,\n",
       "                                                     &#x27;none&#x27;],\n",
       "                                         &#x27;solver&#x27;: [&#x27;saga&#x27;]}])</pre><b>In a Jupyter environment, please rerun this cell to show the HTML representation or trust the notebook. <br />On GitHub, the HTML representation is unable to render, please try loading this page with nbviewer.org.</b></div><div class=\"sk-container\" hidden><div class=\"sk-item sk-dashed-wrapped\"><div class=\"sk-label-container\"><div class=\"sk-label sk-toggleable\"><input class=\"sk-toggleable__control sk-hidden--visually\" id=\"sk-estimator-id-16\" type=\"checkbox\" ><label for=\"sk-estimator-id-16\" class=\"sk-toggleable__label sk-toggleable__label-arrow\">RandomizedSearchCV</label><div class=\"sk-toggleable__content\"><pre>RandomizedSearchCV(cv=5,\n",
       "                   estimator=LogisticRegression(n_jobs=-1, random_state=42),\n",
       "                   n_iter=25, n_jobs=-1,\n",
       "                   param_distributions=[{&#x27;C&#x27;: [0.01, 0.05, 0.1, 0.3, 0.5, 0.7,\n",
       "                                               0.9, 1],\n",
       "                                         &#x27;penalty&#x27;: [&#x27;l2&#x27;, &#x27;none&#x27;],\n",
       "                                         &#x27;solver&#x27;: [&#x27;lbfgs&#x27;, &#x27;sag&#x27;]},\n",
       "                                        {&#x27;C&#x27;: [0.01, 0.05, 0.1, 0.3, 0.5, 0.7,\n",
       "                                               0.9, 1],\n",
       "                                         &#x27;penalty&#x27;: [&#x27;l1&#x27;, &#x27;l2&#x27;],\n",
       "                                         &#x27;solver&#x27;: [&#x27;liblinear&#x27;]},\n",
       "                                        {&#x27;C&#x27;: [0.01, 0.05, 0.1, 0.3, 0.5, 0.7,\n",
       "                                               0.9, 1],\n",
       "                                         &#x27;l1_ratio&#x27;: array([0.        , 0.11111111, 0.22222222, 0.33333333, 0.44444444,\n",
       "       0.55555556, 0.66666667, 0.77777778, 0.88888889, 1.        ]),\n",
       "                                         &#x27;penalty&#x27;: [&#x27;l1&#x27;, &#x27;l2&#x27;, &#x27;elasticnet&#x27;,\n",
       "                                                     &#x27;none&#x27;],\n",
       "                                         &#x27;solver&#x27;: [&#x27;saga&#x27;]}])</pre></div></div></div><div class=\"sk-parallel\"><div class=\"sk-parallel-item\"><div class=\"sk-item\"><div class=\"sk-label-container\"><div class=\"sk-label sk-toggleable\"><input class=\"sk-toggleable__control sk-hidden--visually\" id=\"sk-estimator-id-17\" type=\"checkbox\" ><label for=\"sk-estimator-id-17\" class=\"sk-toggleable__label sk-toggleable__label-arrow\">estimator: LogisticRegression</label><div class=\"sk-toggleable__content\"><pre>LogisticRegression(n_jobs=-1, random_state=42)</pre></div></div></div><div class=\"sk-serial\"><div class=\"sk-item\"><div class=\"sk-estimator sk-toggleable\"><input class=\"sk-toggleable__control sk-hidden--visually\" id=\"sk-estimator-id-18\" type=\"checkbox\" ><label for=\"sk-estimator-id-18\" class=\"sk-toggleable__label sk-toggleable__label-arrow\">LogisticRegression</label><div class=\"sk-toggleable__content\"><pre>LogisticRegression(n_jobs=-1, random_state=42)</pre></div></div></div></div></div></div></div></div></div></div>"
      ],
      "text/plain": [
       "RandomizedSearchCV(cv=5,\n",
       "                   estimator=LogisticRegression(n_jobs=-1, random_state=42),\n",
       "                   n_iter=25, n_jobs=-1,\n",
       "                   param_distributions=[{'C': [0.01, 0.05, 0.1, 0.3, 0.5, 0.7,\n",
       "                                               0.9, 1],\n",
       "                                         'penalty': ['l2', 'none'],\n",
       "                                         'solver': ['lbfgs', 'sag']},\n",
       "                                        {'C': [0.01, 0.05, 0.1, 0.3, 0.5, 0.7,\n",
       "                                               0.9, 1],\n",
       "                                         'penalty': ['l1', 'l2'],\n",
       "                                         'solver': ['liblinear']},\n",
       "                                        {'C': [0.01, 0.05, 0.1, 0.3, 0.5, 0.7,\n",
       "                                               0.9, 1],\n",
       "                                         'l1_ratio': array([0.        , 0.11111111, 0.22222222, 0.33333333, 0.44444444,\n",
       "       0.55555556, 0.66666667, 0.77777778, 0.88888889, 1.        ]),\n",
       "                                         'penalty': ['l1', 'l2', 'elasticnet',\n",
       "                                                     'none'],\n",
       "                                         'solver': ['saga']}])"
      ]
     },
     "execution_count": 62,
     "metadata": {},
     "output_type": "execute_result"
    },
    {
     "name": "stdout",
     "output_type": "stream",
     "text": [
      "Наилучшие значения гиперпараметров: {'solver': 'saga', 'penalty': 'l1', 'l1_ratio': 0.6666666666666666, 'C': 0.3}\n"
     ]
    }
   ],
   "source": [
    "# создаем объект класса RandomizedSearch\n",
    "rscv_log_reg = model_selection.RandomizedSearchCV(\n",
    "    estimator=get_estimator_log_reg(), \n",
    "    param_distributions=param_grid_log_reg,\n",
    "    cv=CV_FOLDS, \n",
    "    n_jobs=CPU,\n",
    "    n_iter=N_ITER \n",
    ")\n",
    "\n",
    "# обучаем модель на кросс-валидации\n",
    "%time rscv_log_reg.fit(X_train, y_train) \n",
    "\n",
    "print(f'Наилучшие значения гиперпараметров: {rscv_log_reg.best_params_}')"
   ]
  },
  {
   "cell_type": "code",
   "execution_count": 63,
   "metadata": {},
   "outputs": [
    {
     "name": "stdout",
     "output_type": "stream",
     "text": [
      "-= LogisticRegression, RandomizedSearchCV =-\n",
      "f1_score на тестовом наборе: 0.782\n",
      "\n",
      "f1_score на тренировочном наборе: 0.838\n",
      "accuracy на валидационном наборе: 0.767\n",
      "f1_score на валидационном наборе: 0.791\n",
      "Наилучшие значения гиперпараметров: {'solver': 'saga', 'penalty': 'l1', 'l1_ratio': 0.6666666666666666, 'C': 0.3}\n"
     ]
    }
   ],
   "source": [
    "# рассчитываем и выводим метрики\n",
    "get_model_metrics(\n",
    "    get_estimator_log_reg(**rscv_log_reg.best_params_),\n",
    "    rscv_log_reg.__class__.__name__\n",
    ")\n",
    "print(f'Наилучшие значения гиперпараметров: {rscv_log_reg.best_params_}')"
   ]
  },
  {
   "attachments": {},
   "cell_type": "markdown",
   "metadata": {},
   "source": [
    "## 4.4. Hyperopt"
   ]
  },
  {
   "cell_type": "code",
   "execution_count": 15,
   "metadata": {},
   "outputs": [],
   "source": [
    "# зададим пространство поиска гиперпараметров, 3 набора, \n",
    "# т.к. для каждого типа регуляции подходят только определённые комбинации оптимизации\n",
    "hyperopt_space_log_reg_1 = {\n",
    "    'penalty': hp.choice('penalty', ['l2', 'none']),    # тип регуляризации\n",
    "    'solver': hp.choice('solver', ['lbfgs', 'sag']),    # алгоритм оптимизации\n",
    "    'C': hp.choice('C', log_reg_C_values)               # уровень силы регуляризации\n",
    "}\n",
    "\n",
    "#--------------------------------------------------------------------------------\n",
    "hyperopt_space_log_reg_2 = {\n",
    "    'penalty': hp.choice('penalty', ['l1', 'l2']), \n",
    "    'solver': hp.choice('solver', ['liblinear']), \n",
    "    'C': hp.choice('C', log_reg_C_values)\n",
    "}\n",
    "\n",
    "#--------------------------------------------------------------------------------\n",
    "hyperopt_space_log_reg_3 = {\n",
    "    'penalty': hp.choice('penalty', ['l1', 'l2', 'elasticnet', 'none']), \n",
    "    'solver': hp.choice('solver', ['saga']),\n",
    "    'C': hp.choice('C', log_reg_C_values),\n",
    "    # 0 <= l1_ratio <= 1, обязателен, если penalty='elasticnet'\n",
    "    'l1_ratio': hp.uniform('l1_ratio', 0, 1)\n",
    "}"
   ]
  },
  {
   "cell_type": "code",
   "execution_count": 16,
   "metadata": {},
   "outputs": [],
   "source": [
    "def hyperopt_log_reg(\n",
    "        space_params:dict, \n",
    "        X_train_:pd.DataFrame=X_train, y_train_:pd.Series=y_train, \n",
    "        cv_:int=CV_FOLDS, \n",
    "    ) -> float | np.ndarray:\n",
    "    \"\"\" Функция поиска оптимальных гиперпараметров с помощью Hyperopt\n",
    "\n",
    "    Args:\n",
    "        space_params (dict): словарь-\"пространство\" гиперпараметров\n",
    "        X_train_ (pd.DataFrame, optional): тренировочный датасет. Defaults to X_train.\n",
    "        y_train_ (pd.Series, optional): тренировочный вектор целевых значений. Defaults to y_train.\n",
    "        cv_ (int, optional): числов фолдов на кросс-валидации. Defaults to 5.\n",
    "\n",
    "    Returns:\n",
    "        score (float | np.ndarray): метрика | массив метрик\n",
    "    \"\"\"\n",
    "\n",
    "    # повторяющиеся параметры пространства\n",
    "    params = {\n",
    "        'penalty': space_params['penalty'], \n",
    "        'solver': space_params['solver'], \n",
    "        'C': space_params['C'],\n",
    "    }\n",
    "\n",
    "    # создаём модель обучения с заданными параметрами\n",
    "    try:\n",
    "        model_hyperopt_log_reg_ = get_estimator_log_reg(\n",
    "            **params,\n",
    "            l1_ratio=space_params['l1_ratio'],\n",
    "        )\n",
    "        \n",
    "    except KeyError:\n",
    "        model_hyperopt_log_reg_ = get_estimator_log_reg(\n",
    "            **params,\n",
    "        )\n",
    "\n",
    "    # обучаем модель на кросс-валидации\n",
    "    score = model_selection.cross_val_score(\n",
    "        model_hyperopt_log_reg_, \n",
    "        X_train_, y_train_, \n",
    "        cv=cv_, \n",
    "        scoring='f1', \n",
    "        n_jobs=CPU\n",
    "        ).mean()\n",
    "    \n",
    "    # метрику необходимо минимизировать, поэтому ставим знак минус,\n",
    "    # возвращая инвертированное значение\n",
    "    return -score"
   ]
  },
  {
   "cell_type": "code",
   "execution_count": 17,
   "metadata": {},
   "outputs": [
    {
     "name": "stdout",
     "output_type": "stream",
     "text": [
      "100%|██████████| 25/25 [01:25<00:00,  3.41s/trial, best loss: -0.7907284724091234]\n",
      "Наилучшие значения гиперпараметров \n",
      "{'C': 0.05, 'penalty': 'l2', 'solver': 'sag'}\n",
      "CPU times: total: 1.05 s\n",
      "Wall time: 1min 25s\n"
     ]
    }
   ],
   "source": [
    "%%time\n",
    "## расчёты для hyperopt_space_log_reg_1\n",
    "trials_hyperopt_log_reg_1 = Trials()            # используется для логирования результатов\n",
    "\n",
    "study_hyperopt_log_reg_1 = fmin(\n",
    "    fn=partial(\n",
    "        hyperopt_log_reg, \n",
    "        X_train_=X_train, y_train_=y_train,\n",
    "        cv_=CV_FOLDS,\n",
    "    ),                                          # наша функция\n",
    "    space=hyperopt_space_log_reg_1,             # пространство гиперпараметров\n",
    "    algo=tpe.suggest,                           # алгоритм оптимизации, установлен по умолчанию, задавать необязательно\n",
    "    max_evals=MAX_EVALS,                        # максимальное количество итераций\n",
    "    trials=trials_hyperopt_log_reg_1,           # логирование результатов\n",
    "    rstate=np.random.default_rng(RANDOM_SEED)   # фиксируем для повторяемости результата\n",
    ")\n",
    "\n",
    "print(f'Наилучшие значения гиперпараметров \\n' \\\n",
    "    f'{hyperopt.space_eval(hyperopt_space_log_reg_1, study_hyperopt_log_reg_1)}')"
   ]
  },
  {
   "cell_type": "code",
   "execution_count": 18,
   "metadata": {},
   "outputs": [
    {
     "name": "stdout",
     "output_type": "stream",
     "text": [
      "100%|██████████| 25/25 [00:21<00:00,  1.19trial/s, best loss: -0.7896620382423478]\n",
      "Наилучшие значения гиперпараметров \n",
      "{'C': 0.05, 'penalty': 'l2', 'solver': 'liblinear'}\n",
      "CPU times: total: 1.06 s\n",
      "Wall time: 21 s\n"
     ]
    }
   ],
   "source": [
    "%%time\n",
    "## расчёты для hyperopt_space_log_reg_2\n",
    "trials_hyperopt_log_reg_2 = Trials()            # используется для логирования результатов\n",
    "\n",
    "study_hyperopt_log_reg_2 = fmin(\n",
    "    fn=partial(\n",
    "        hyperopt_log_reg, \n",
    "        X_train_=X_train, y_train_=y_train,\n",
    "        cv_=CV_FOLDS,\n",
    "    ),                                          # наша функция\n",
    "    space=hyperopt_space_log_reg_2,             # пространство гиперпараметров\n",
    "    algo=tpe.suggest,                           # алгоритм оптимизации, установлен по умолчанию, задавать необязательно\n",
    "    max_evals=MAX_EVALS,                        # максимальное количество итераций\n",
    "    trials=trials_hyperopt_log_reg_2,           # логирование результатов\n",
    "    rstate=np.random.default_rng(RANDOM_SEED)   # фиксируем для повторяемости результата\n",
    ")\n",
    "\n",
    "print(f'Наилучшие значения гиперпараметров \\n' \\\n",
    "    f'{hyperopt.space_eval(hyperopt_space_log_reg_2, study_hyperopt_log_reg_2)}')"
   ]
  },
  {
   "cell_type": "code",
   "execution_count": 19,
   "metadata": {},
   "outputs": [
    {
     "name": "stdout",
     "output_type": "stream",
     "text": [
      "100%|██████████| 25/25 [02:20<00:00,  5.63s/trial, best loss: -0.7913324555968615]\n",
      "Наилучшие значения гиперпараметров \n",
      "{'C': 0.3, 'l1_ratio': 0.7130445215144277, 'penalty': 'l1', 'solver': 'saga'}\n",
      "CPU times: total: 1.09 s\n",
      "Wall time: 2min 20s\n"
     ]
    }
   ],
   "source": [
    "%%time\n",
    "## расчёты для hyperopt_space_log_reg_3\n",
    "trials_hyperopt_log_reg_3 = Trials()            # используется для логирования результатов\n",
    "\n",
    "study_hyperopt_log_reg_3 = fmin(\n",
    "    fn=partial(\n",
    "        hyperopt_log_reg, \n",
    "        X_train_=X_train, y_train_=y_train,\n",
    "        cv_=CV_FOLDS,\n",
    "    ),                                          # наша функция\n",
    "    space=hyperopt_space_log_reg_3,             # пространство гиперпараметров\n",
    "    algo=tpe.suggest,                           # алгоритм оптимизации, установлен по умолчанию, задавать необязательно\n",
    "    max_evals=MAX_EVALS,                        # максимальное количество итераций\n",
    "    trials=trials_hyperopt_log_reg_3,           # логирование результатов\n",
    "    rstate=np.random.default_rng(RANDOM_SEED)   # фиксируем для повторяемости результата\n",
    ")\n",
    "\n",
    "print(f'Наилучшие значения гиперпараметров \\n' \\\n",
    "    f'{hyperopt.space_eval(hyperopt_space_log_reg_3, study_hyperopt_log_reg_3)}')"
   ]
  },
  {
   "attachments": {},
   "cell_type": "markdown",
   "metadata": {},
   "source": [
    "### Построение метрик моделей по результатам оптимизации Hyperopt:"
   ]
  },
  {
   "cell_type": "code",
   "execution_count": 20,
   "metadata": {},
   "outputs": [
    {
     "name": "stdout",
     "output_type": "stream",
     "text": [
      "-= LogisticRegression, Hyperopt =-\n",
      "f1_score на тестовом наборе: 0.788\n",
      "\n",
      "f1_score на тренировочном наборе: 0.850\n",
      "accuracy на валидационном наборе: 0.766\n",
      "f1_score на валидационном наборе: 0.791\n",
      "Наилучшие значения гиперпараметров \n",
      "{'C': 0.05, 'penalty': 'l2', 'solver': 'sag'}\n"
     ]
    }
   ],
   "source": [
    "# рассчитываем и выводим метрики\n",
    "# type: ignore\n",
    "get_model_metrics(\n",
    "    get_estimator_log_reg(**hyperopt.space_eval(hyperopt_space_log_reg_1, study_hyperopt_log_reg_1)), \n",
    "    str(trials_hyperopt_log_reg_1).split('.')[0].split('<')[1].capitalize()\n",
    ")\n",
    "print(f'Наилучшие значения гиперпараметров \\n' \\\n",
    "    f'{hyperopt.space_eval(hyperopt_space_log_reg_1, study_hyperopt_log_reg_1)}')"
   ]
  },
  {
   "cell_type": "code",
   "execution_count": 21,
   "metadata": {},
   "outputs": [
    {
     "name": "stdout",
     "output_type": "stream",
     "text": [
      "-= LogisticRegression, Hyperopt =-\n",
      "f1_score на тестовом наборе: 0.783\n",
      "\n",
      "f1_score на тренировочном наборе: 0.850\n",
      "accuracy на валидационном наборе: 0.765\n",
      "f1_score на валидационном наборе: 0.790\n",
      "Наилучшие значения гиперпараметров \n",
      "{'C': 0.05, 'penalty': 'l2', 'solver': 'liblinear'}\n"
     ]
    }
   ],
   "source": [
    "# рассчитываем и выводим метрики\n",
    "# type: ignore\n",
    "get_model_metrics(\n",
    "    get_estimator_log_reg(**hyperopt.space_eval(hyperopt_space_log_reg_2, study_hyperopt_log_reg_2)), \n",
    "    str(trials_hyperopt_log_reg_2).split('.')[0].split('<')[1].capitalize()\n",
    ")\n",
    "print(f'Наилучшие значения гиперпараметров \\n' \\\n",
    "    f'{hyperopt.space_eval(hyperopt_space_log_reg_2, study_hyperopt_log_reg_2)}')"
   ]
  },
  {
   "cell_type": "code",
   "execution_count": 22,
   "metadata": {},
   "outputs": [
    {
     "name": "stdout",
     "output_type": "stream",
     "text": [
      "-= LogisticRegression, Hyperopt =-\n",
      "f1_score на тестовом наборе: 0.782\n",
      "\n",
      "f1_score на тренировочном наборе: 0.838\n",
      "accuracy на валидационном наборе: 0.767\n",
      "f1_score на валидационном наборе: 0.791\n",
      "Наилучшие значения гиперпараметров \n",
      "{'C': 0.3, 'l1_ratio': 0.7130445215144277, 'penalty': 'l1', 'solver': 'saga'}\n"
     ]
    }
   ],
   "source": [
    "# рассчитываем и выводим метрики\n",
    "# type: ignore\n",
    "get_model_metrics(\n",
    "    get_estimator_log_reg(**hyperopt.space_eval(hyperopt_space_log_reg_3, study_hyperopt_log_reg_3)), \n",
    "    str(trials_hyperopt_log_reg_3).split('.')[0].split('<')[1].capitalize()\n",
    ")\n",
    "print(f'Наилучшие значения гиперпараметров \\n' \\\n",
    "    f'{hyperopt.space_eval(hyperopt_space_log_reg_3, study_hyperopt_log_reg_3)}')"
   ]
  },
  {
   "attachments": {},
   "cell_type": "markdown",
   "metadata": {},
   "source": [
    "## 4.5. Optuna"
   ]
  },
  {
   "cell_type": "code",
   "execution_count": 23,
   "metadata": {},
   "outputs": [],
   "source": [
    "def optuna_log_reg_1_2(trial) -> float | np.ndarray:\n",
    "    \"\"\" Функция, обучающая модель LogisticRegression по переданным гиперпараметрам набора\n",
    "\n",
    "    Args:\n",
    "        trial: класс вызова гиперпараметров\n",
    "\n",
    "    Returns:\n",
    "        score (float | np.ndarray): метрика | массив метрик\n",
    "    \"\"\"\n",
    "\n",
    "    # задаем пространство поиска гиперпараметров (1-ый и 2-ой набор значений)\n",
    "    param_1_2 = {\n",
    "        'penalty': Trial.suggest_categorical(trial, 'penalty', ['l1', 'l2', 'none']),\n",
    "        'solver': Trial.suggest_categorical(trial, 'solver', ['lbfgs', 'sag', 'liblinear']),\n",
    "        'C': Trial.suggest_categorical(trial, 'C', log_reg_C_values)\n",
    "    }\n",
    "    \n",
    "    # обучаем модель на кросс-валидации\n",
    "    score = model_selection.cross_val_score(\n",
    "        get_estimator_log_reg(**param_1_2), \n",
    "        X_train, y_train, \n",
    "        cv=CV_FOLDS, \n",
    "        scoring='f1', \n",
    "        n_jobs=CPU\n",
    "        ).mean()\n",
    "\n",
    "    return score\n",
    "\n",
    "# ------------------------------------------------------------------------------------------------\n",
    "def optuna_log_reg_3(trial) -> float | np.ndarray:\n",
    "    \"\"\" Функция, обучающая модель LogisticRegression по имеющимся гиперпараметрам набора\n",
    "\n",
    "    Args:\n",
    "        trial: класс вызова гиперпараметров\n",
    "\n",
    "    Returns:\n",
    "        score (float | np.ndarray): метрика | массив метрик\n",
    "    \"\"\"\n",
    "\n",
    "    # задаем пространство поиска гиперпараметров (3-ий набор значений)\n",
    "    param_3 = {\n",
    "        'penalty': Trial.suggest_categorical(trial, 'penalty', ['l1', 'l2', 'elasticnet', 'none']),\n",
    "        'solver': Trial.suggest_categorical(trial, 'solver', ['saga']),\n",
    "        'C': Trial.suggest_categorical(trial, 'C', log_reg_C_values),\n",
    "        'l1_ratio': Trial.suggest_float(trial, 'l1_ratio', 0.1, 1)\n",
    "    }\n",
    "    \n",
    "    # обучаем модель на кросс-валидации\n",
    "    score = model_selection.cross_val_score(\n",
    "        get_estimator_log_reg(**param_3), \n",
    "        X_train, y_train, \n",
    "        cv=CV_FOLDS, \n",
    "        scoring='f1', \n",
    "        n_jobs=CPU\n",
    "        ).mean()\n",
    "\n",
    "    return score"
   ]
  },
  {
   "cell_type": "code",
   "execution_count": 49,
   "metadata": {},
   "outputs": [
    {
     "name": "stderr",
     "output_type": "stream",
     "text": [
      "\u001b[32m[I 2023-05-01 16:47:31,451]\u001b[0m A new study created in memory with name: LogisticRegression\u001b[0m\n",
      "\u001b[32m[I 2023-05-01 16:47:33,497]\u001b[0m Trial 0 finished with value: 0.7799538322682326 and parameters: {'penalty': 'l2', 'solver': 'lbfgs', 'C': 0.5}. Best is trial 0 with value: 0.7799538322682326.\u001b[0m\n",
      "\u001b[32m[I 2023-05-01 16:47:35,445]\u001b[0m Trial 1 finished with value: 0.7517432823840096 and parameters: {'penalty': 'none', 'solver': 'lbfgs', 'C': 0.01}. Best is trial 0 with value: 0.7799538322682326.\u001b[0m\n",
      "\u001b[32m[I 2023-05-01 16:47:40,171]\u001b[0m Trial 2 finished with value: 0.7720227869170968 and parameters: {'penalty': 'none', 'solver': 'sag', 'C': 0.05}. Best is trial 0 with value: 0.7799538322682326.\u001b[0m\n",
      "\u001b[32m[I 2023-05-01 16:47:44,990]\u001b[0m Trial 3 finished with value: 0.7720227869170968 and parameters: {'penalty': 'none', 'solver': 'sag', 'C': 0.01}. Best is trial 0 with value: 0.7799538322682326.\u001b[0m\n",
      "\u001b[32m[I 2023-05-01 16:47:49,842]\u001b[0m Trial 4 finished with value: 0.7720227869170968 and parameters: {'penalty': 'none', 'solver': 'sag', 'C': 0.9}. Best is trial 0 with value: 0.7799538322682326.\u001b[0m\n",
      "\u001b[32m[I 2023-05-01 16:47:54,057]\u001b[0m Trial 5 finished with value: 0.7872758838461376 and parameters: {'penalty': 'l2', 'solver': 'sag', 'C': 0.01}. Best is trial 5 with value: 0.7872758838461376.\u001b[0m\n",
      "\u001b[32m[I 2023-05-01 16:47:58,532]\u001b[0m Trial 6 finished with value: 0.7720227869170968 and parameters: {'penalty': 'none', 'solver': 'sag', 'C': 0.7}. Best is trial 5 with value: 0.7872758838461376.\u001b[0m\n",
      "\u001b[32m[I 2023-05-01 16:48:00,564]\u001b[0m Trial 7 finished with value: 0.785593074889348 and parameters: {'penalty': 'l2', 'solver': 'lbfgs', 'C': 0.1}. Best is trial 5 with value: 0.7872758838461376.\u001b[0m\n",
      "\u001b[32m[I 2023-05-01 16:48:02,444]\u001b[0m Trial 8 finished with value: 0.7517432823840096 and parameters: {'penalty': 'none', 'solver': 'lbfgs', 'C': 0.05}. Best is trial 5 with value: 0.7872758838461376.\u001b[0m\n",
      "\u001b[32m[I 2023-05-01 16:48:04,364]\u001b[0m Trial 9 finished with value: 0.7765016202303159 and parameters: {'penalty': 'l2', 'solver': 'lbfgs', 'C': 0.7}. Best is trial 5 with value: 0.7872758838461376.\u001b[0m\n",
      "\u001b[32m[I 2023-05-01 16:48:06,371]\u001b[0m Trial 10 finished with value: 0.7902171664645037 and parameters: {'penalty': 'l2', 'solver': 'lbfgs', 'C': 0.05}. Best is trial 10 with value: 0.7902171664645037.\u001b[0m\n",
      "\u001b[32m[I 2023-05-01 16:48:08,315]\u001b[0m Trial 11 finished with value: 0.7726249337736326 and parameters: {'penalty': 'l2', 'solver': 'lbfgs', 'C': 1}. Best is trial 10 with value: 0.7902171664645037.\u001b[0m\n",
      "\u001b[32m[I 2023-05-01 16:48:13,256]\u001b[0m Trial 12 finished with value: 0.7859803670615682 and parameters: {'penalty': 'l2', 'solver': 'sag', 'C': 0.1}. Best is trial 10 with value: 0.7902171664645037.\u001b[0m\n",
      "\u001b[32m[I 2023-05-01 16:48:15,175]\u001b[0m Trial 13 finished with value: 0.7517432823840096 and parameters: {'penalty': 'none', 'solver': 'lbfgs', 'C': 1}. Best is trial 10 with value: 0.7902171664645037.\u001b[0m\n",
      "\u001b[32m[I 2023-05-01 16:48:19,777]\u001b[0m Trial 14 finished with value: 0.7790209631558594 and parameters: {'penalty': 'l2', 'solver': 'sag', 'C': 0.7}. Best is trial 10 with value: 0.7902171664645037.\u001b[0m\n",
      "\u001b[32m[I 2023-05-01 16:48:24,672]\u001b[0m Trial 15 finished with value: 0.7720227869170968 and parameters: {'penalty': 'none', 'solver': 'sag', 'C': 1}. Best is trial 10 with value: 0.7902171664645037.\u001b[0m\n",
      "\u001b[32m[I 2023-05-01 16:48:26,688]\u001b[0m Trial 16 finished with value: 0.7517432823840096 and parameters: {'penalty': 'none', 'solver': 'lbfgs', 'C': 0.7}. Best is trial 10 with value: 0.7902171664645037.\u001b[0m\n",
      "\u001b[32m[I 2023-05-01 16:48:28,024]\u001b[0m Trial 17 finished with value: 0.7880145279769869 and parameters: {'penalty': 'l2', 'solver': 'lbfgs', 'C': 0.01}. Best is trial 10 with value: 0.7902171664645037.\u001b[0m\n",
      "\u001b[32m[I 2023-05-01 16:48:32,759]\u001b[0m Trial 18 finished with value: 0.7779784511923239 and parameters: {'penalty': 'l2', 'solver': 'sag', 'C': 0.9}. Best is trial 10 with value: 0.7902171664645037.\u001b[0m\n",
      "\u001b[32m[I 2023-05-01 16:48:37,430]\u001b[0m Trial 19 finished with value: 0.7783512144089519 and parameters: {'penalty': 'l2', 'solver': 'sag', 'C': 0.3}. Best is trial 10 with value: 0.7902171664645037.\u001b[0m\n",
      "\u001b[32m[I 2023-05-01 16:48:42,278]\u001b[0m Trial 20 finished with value: 0.7771163161747902 and parameters: {'penalty': 'l2', 'solver': 'sag', 'C': 1}. Best is trial 10 with value: 0.7902171664645037.\u001b[0m\n",
      "\u001b[32m[I 2023-05-01 16:48:44,250]\u001b[0m Trial 21 finished with value: 0.7517432823840096 and parameters: {'penalty': 'none', 'solver': 'lbfgs', 'C': 0.5}. Best is trial 10 with value: 0.7902171664645037.\u001b[0m\n",
      "\u001b[32m[I 2023-05-01 16:48:49,052]\u001b[0m Trial 22 finished with value: 0.7907284724091234 and parameters: {'penalty': 'l2', 'solver': 'sag', 'C': 0.05}. Best is trial 22 with value: 0.7907284724091234.\u001b[0m\n",
      "\u001b[32m[I 2023-05-01 16:48:53,887]\u001b[0m Trial 23 finished with value: 0.7789538728890547 and parameters: {'penalty': 'l2', 'solver': 'sag', 'C': 0.5}. Best is trial 22 with value: 0.7907284724091234.\u001b[0m\n",
      "\u001b[32m[I 2023-05-01 16:48:55,789]\u001b[0m Trial 24 finished with value: 0.7764152632892143 and parameters: {'penalty': 'l2', 'solver': 'lbfgs', 'C': 0.3}. Best is trial 22 with value: 0.7907284724091234.\u001b[0m\n"
     ]
    },
    {
     "name": "stdout",
     "output_type": "stream",
     "text": [
      "Наилучшие значения гиперпараметров {'penalty': 'l2', 'solver': 'sag', 'C': 0.05}\n",
      "CPU times: total: 1.11 s\n",
      "Wall time: 1min 24s\n"
     ]
    }
   ],
   "source": [
    "%%time\n",
    "# задаём сетку параметров 1-ого набора гиперпараметров\n",
    "optuna_space_log_reg_1 = {\n",
    "    'penalty': ['l2', 'none'],\n",
    "    'solver': ['lbfgs', 'sag'],\n",
    "    'C': log_reg_C_values,\n",
    "}\n",
    "\n",
    "# cоздаем объект исследования для 1-ого набора гиперпараметров\n",
    "optuna_study_log_reg_1 = study.create_study(\n",
    "    study_name='LogisticRegression', \n",
    "    direction='maximize', \n",
    "    sampler=samplers.GridSampler(optuna_space_log_reg_1)\n",
    ")\n",
    "\n",
    "# ищем лучшую комбинацию гиперпараметров n_trials раз\n",
    "optuna_study_log_reg_1.optimize(optuna_log_reg_1_2, n_trials=N_TRIALS)\n",
    "\n",
    "print(f'Наилучшие значения гиперпараметров {optuna_study_log_reg_1.best_params}')"
   ]
  },
  {
   "cell_type": "code",
   "execution_count": 25,
   "metadata": {},
   "outputs": [
    {
     "name": "stderr",
     "output_type": "stream",
     "text": [
      "\u001b[32m[I 2023-05-01 16:25:04,166]\u001b[0m A new study created in memory with name: LogisticRegression\u001b[0m\n",
      "\u001b[32m[I 2023-05-01 16:25:04,902]\u001b[0m Trial 0 finished with value: 0.7653885569492547 and parameters: {'penalty': 'l1', 'solver': 'liblinear', 'C': 0.05}. Best is trial 0 with value: 0.7653885569492547.\u001b[0m\n",
      "\u001b[32m[I 2023-05-01 16:25:05,580]\u001b[0m Trial 1 finished with value: 0.7896620382423478 and parameters: {'penalty': 'l2', 'solver': 'liblinear', 'C': 0.05}. Best is trial 1 with value: 0.7896620382423478.\u001b[0m\n",
      "\u001b[32m[I 2023-05-01 16:25:06,450]\u001b[0m Trial 2 finished with value: 0.7773822422375872 and parameters: {'penalty': 'l2', 'solver': 'liblinear', 'C': 0.3}. Best is trial 1 with value: 0.7896620382423478.\u001b[0m\n",
      "\u001b[32m[I 2023-05-01 16:25:06,940]\u001b[0m Trial 3 finished with value: 0.7577274583182511 and parameters: {'penalty': 'l1', 'solver': 'liblinear', 'C': 0.01}. Best is trial 1 with value: 0.7896620382423478.\u001b[0m\n",
      "\u001b[32m[I 2023-05-01 16:25:08,128]\u001b[0m Trial 4 finished with value: 0.7817081325696608 and parameters: {'penalty': 'l1', 'solver': 'liblinear', 'C': 0.9}. Best is trial 1 with value: 0.7896620382423478.\u001b[0m\n",
      "\u001b[32m[I 2023-05-01 16:25:09,029]\u001b[0m Trial 5 finished with value: 0.7879974895090788 and parameters: {'penalty': 'l1', 'solver': 'liblinear', 'C': 0.5}. Best is trial 1 with value: 0.7896620382423478.\u001b[0m\n",
      "\u001b[32m[I 2023-05-01 16:25:09,646]\u001b[0m Trial 6 finished with value: 0.7855450866586373 and parameters: {'penalty': 'l2', 'solver': 'liblinear', 'C': 0.01}. Best is trial 1 with value: 0.7896620382423478.\u001b[0m\n",
      "\u001b[32m[I 2023-05-01 16:25:10,687]\u001b[0m Trial 7 finished with value: 0.7775507446882323 and parameters: {'penalty': 'l2', 'solver': 'liblinear', 'C': 0.7}. Best is trial 1 with value: 0.7896620382423478.\u001b[0m\n",
      "\u001b[32m[I 2023-05-01 16:25:11,771]\u001b[0m Trial 8 finished with value: 0.7743030253979868 and parameters: {'penalty': 'l2', 'solver': 'liblinear', 'C': 0.9}. Best is trial 1 with value: 0.7896620382423478.\u001b[0m\n",
      "\u001b[32m[I 2023-05-01 16:25:12,286]\u001b[0m Trial 9 finished with value: 0.7842972882154436 and parameters: {'penalty': 'l1', 'solver': 'liblinear', 'C': 0.1}. Best is trial 1 with value: 0.7896620382423478.\u001b[0m\n",
      "\u001b[32m[I 2023-05-01 16:25:13,363]\u001b[0m Trial 10 finished with value: 0.7737859391068669 and parameters: {'penalty': 'l2', 'solver': 'liblinear', 'C': 1}. Best is trial 1 with value: 0.7896620382423478.\u001b[0m\n",
      "\u001b[32m[I 2023-05-01 16:25:14,288]\u001b[0m Trial 11 finished with value: 0.7853471682195051 and parameters: {'penalty': 'l1', 'solver': 'liblinear', 'C': 0.7}. Best is trial 1 with value: 0.7896620382423478.\u001b[0m\n",
      "\u001b[32m[I 2023-05-01 16:25:15,087]\u001b[0m Trial 12 finished with value: 0.7849401308591 and parameters: {'penalty': 'l2', 'solver': 'liblinear', 'C': 0.1}. Best is trial 1 with value: 0.7896620382423478.\u001b[0m\n",
      "\u001b[32m[I 2023-05-01 16:25:15,863]\u001b[0m Trial 13 finished with value: 0.7887561399648567 and parameters: {'penalty': 'l1', 'solver': 'liblinear', 'C': 0.3}. Best is trial 1 with value: 0.7896620382423478.\u001b[0m\n",
      "\u001b[32m[I 2023-05-01 16:25:17,058]\u001b[0m Trial 14 finished with value: 0.7806811613437381 and parameters: {'penalty': 'l1', 'solver': 'liblinear', 'C': 1}. Best is trial 1 with value: 0.7896620382423478.\u001b[0m\n",
      "\u001b[32m[I 2023-05-01 16:25:17,957]\u001b[0m Trial 15 finished with value: 0.7810739001444479 and parameters: {'penalty': 'l2', 'solver': 'liblinear', 'C': 0.5}. Best is trial 1 with value: 0.7896620382423478.\u001b[0m\n"
     ]
    },
    {
     "name": "stdout",
     "output_type": "stream",
     "text": [
      "Наилучшие значения гиперпараметров {'penalty': 'l2', 'solver': 'liblinear', 'C': 0.05}\n",
      "CPU times: total: 641 ms\n",
      "Wall time: 13.8 s\n"
     ]
    }
   ],
   "source": [
    "%%time\n",
    "# задаём сетку параметров 2-ого набора гиперпараметров\n",
    "optuna_space_log_reg_2 = {\n",
    "    'penalty': ['l1', 'l2'],\n",
    "    'solver': ['liblinear'],\n",
    "    'C': log_reg_C_values,\n",
    "}\n",
    "\n",
    "# cоздаем объект исследования для 2-ого набора гиперпараметров\n",
    "optuna_study_log_reg_2 = study.create_study(\n",
    "    study_name='LogisticRegression', \n",
    "    direction='maximize', \n",
    "    sampler=samplers.GridSampler(optuna_space_log_reg_2)\n",
    ")\n",
    "\n",
    "# ищем лучшую комбинацию гиперпараметров n_trials раз\n",
    "optuna_study_log_reg_2.optimize(optuna_log_reg_1_2, n_trials=N_TRIALS)\n",
    "\n",
    "print(f'Наилучшие значения гиперпараметров {optuna_study_log_reg_2.best_params}')"
   ]
  },
  {
   "cell_type": "code",
   "execution_count": 26,
   "metadata": {},
   "outputs": [
    {
     "name": "stderr",
     "output_type": "stream",
     "text": [
      "\u001b[32m[I 2023-05-01 16:25:17,999]\u001b[0m A new study created in memory with name: LogisticRegression\u001b[0m\n",
      "\u001b[32m[I 2023-05-01 16:25:23,520]\u001b[0m Trial 0 finished with value: 0.7682421282574534 and parameters: {'penalty': 'l1', 'solver': 'saga', 'C': 0.05, 'l1_ratio': 0.8121180276107328}. Best is trial 0 with value: 0.7682421282574534.\u001b[0m\n",
      "\u001b[32m[I 2023-05-01 16:25:28,282]\u001b[0m Trial 1 finished with value: 0.7784186232901155 and parameters: {'penalty': 'none', 'solver': 'saga', 'C': 0.01, 'l1_ratio': 0.17031418963849854}. Best is trial 1 with value: 0.7784186232901155.\u001b[0m\n",
      "\u001b[32m[I 2023-05-01 16:25:32,940]\u001b[0m Trial 2 finished with value: 0.778228428701617 and parameters: {'penalty': 'l2', 'solver': 'saga', 'C': 0.5, 'l1_ratio': 0.779181610724005}. Best is trial 1 with value: 0.7784186232901155.\u001b[0m\n",
      "\u001b[32m[I 2023-05-01 16:25:40,213]\u001b[0m Trial 3 finished with value: 0.7787869892656051 and parameters: {'penalty': 'l1', 'solver': 'saga', 'C': 0.9, 'l1_ratio': 0.46348177244487243}. Best is trial 3 with value: 0.7787869892656051.\u001b[0m\n",
      "\u001b[32m[I 2023-05-01 16:25:41,650]\u001b[0m Trial 4 finished with value: 0.7577274583182511 and parameters: {'penalty': 'elasticnet', 'solver': 'saga', 'C': 0.01, 'l1_ratio': 0.9994284620146145}. Best is trial 3 with value: 0.7787869892656051.\u001b[0m\n",
      "\u001b[32m[I 2023-05-01 16:25:46,573]\u001b[0m Trial 5 finished with value: 0.7787177895835602 and parameters: {'penalty': 'l2', 'solver': 'saga', 'C': 0.7, 'l1_ratio': 0.8343751261896107}. Best is trial 3 with value: 0.7787869892656051.\u001b[0m\n",
      "\u001b[32m[I 2023-05-01 16:25:51,529]\u001b[0m Trial 6 finished with value: 0.7857504391498679 and parameters: {'penalty': 'l2', 'solver': 'saga', 'C': 0.1, 'l1_ratio': 0.8472608581813029}. Best is trial 6 with value: 0.7857504391498679.\u001b[0m\n",
      "\u001b[32m[I 2023-05-01 16:25:58,316]\u001b[0m Trial 7 finished with value: 0.7818100450029537 and parameters: {'penalty': 'l1', 'solver': 'saga', 'C': 0.7, 'l1_ratio': 0.820467492828862}. Best is trial 6 with value: 0.7857504391498679.\u001b[0m\n",
      "\u001b[32m[I 2023-05-01 16:26:03,341]\u001b[0m Trial 8 finished with value: 0.7784186232901155 and parameters: {'penalty': 'none', 'solver': 'saga', 'C': 0.5, 'l1_ratio': 0.457098718903059}. Best is trial 6 with value: 0.7857504391498679.\u001b[0m\n",
      "\u001b[32m[I 2023-05-01 16:26:08,053]\u001b[0m Trial 9 finished with value: 0.7784186232901155 and parameters: {'penalty': 'none', 'solver': 'saga', 'C': 1, 'l1_ratio': 0.8843768916089154}. Best is trial 6 with value: 0.7857504391498679.\u001b[0m\n",
      "\u001b[32m[I 2023-05-01 16:26:12,781]\u001b[0m Trial 10 finished with value: 0.7857504391498679 and parameters: {'penalty': 'l2', 'solver': 'saga', 'C': 0.1, 'l1_ratio': 0.6439843670391528}. Best is trial 6 with value: 0.7857504391498679.\u001b[0m\n",
      "\u001b[32m[I 2023-05-01 16:26:17,441]\u001b[0m Trial 11 finished with value: 0.7857504391498679 and parameters: {'penalty': 'l2', 'solver': 'saga', 'C': 0.1, 'l1_ratio': 0.6365967166133001}. Best is trial 6 with value: 0.7857504391498679.\u001b[0m\n",
      "\u001b[32m[I 2023-05-01 16:26:21,987]\u001b[0m Trial 12 finished with value: 0.7857504391498679 and parameters: {'penalty': 'l2', 'solver': 'saga', 'C': 0.1, 'l1_ratio': 0.6884847579095009}. Best is trial 6 with value: 0.7857504391498679.\u001b[0m\n",
      "\u001b[32m[I 2023-05-01 16:26:26,694]\u001b[0m Trial 13 finished with value: 0.7857504391498679 and parameters: {'penalty': 'l2', 'solver': 'saga', 'C': 0.1, 'l1_ratio': 0.5902672564387406}. Best is trial 6 with value: 0.7857504391498679.\u001b[0m\n",
      "\u001b[32m[I 2023-05-01 16:26:33,520]\u001b[0m Trial 14 finished with value: 0.7913324555968615 and parameters: {'penalty': 'elasticnet', 'solver': 'saga', 'C': 0.3, 'l1_ratio': 0.9851778989869071}. Best is trial 14 with value: 0.7913324555968615.\u001b[0m\n",
      "\u001b[32m[I 2023-05-01 16:26:40,028]\u001b[0m Trial 15 finished with value: 0.7913324555968615 and parameters: {'penalty': 'elasticnet', 'solver': 'saga', 'C': 0.3, 'l1_ratio': 0.9824394335968106}. Best is trial 14 with value: 0.7913324555968615.\u001b[0m\n",
      "\u001b[32m[I 2023-05-01 16:26:46,257]\u001b[0m Trial 16 finished with value: 0.7913324555968615 and parameters: {'penalty': 'elasticnet', 'solver': 'saga', 'C': 0.3, 'l1_ratio': 0.9838182990226936}. Best is trial 14 with value: 0.7913324555968615.\u001b[0m\n",
      "\u001b[32m[I 2023-05-01 16:26:52,632]\u001b[0m Trial 17 finished with value: 0.7913324555968615 and parameters: {'penalty': 'elasticnet', 'solver': 'saga', 'C': 0.3, 'l1_ratio': 0.997539199918458}. Best is trial 14 with value: 0.7913324555968615.\u001b[0m\n",
      "\u001b[32m[I 2023-05-01 16:26:59,383]\u001b[0m Trial 18 finished with value: 0.7913158807211096 and parameters: {'penalty': 'elasticnet', 'solver': 'saga', 'C': 0.3, 'l1_ratio': 0.9268981954565314}. Best is trial 14 with value: 0.7913324555968615.\u001b[0m\n",
      "\u001b[32m[I 2023-05-01 16:27:05,983]\u001b[0m Trial 19 finished with value: 0.7894970995501225 and parameters: {'penalty': 'elasticnet', 'solver': 'saga', 'C': 0.3, 'l1_ratio': 0.7300416623116086}. Best is trial 14 with value: 0.7913324555968615.\u001b[0m\n",
      "\u001b[32m[I 2023-05-01 16:27:12,338]\u001b[0m Trial 20 finished with value: 0.790719489321544 and parameters: {'penalty': 'elasticnet', 'solver': 'saga', 'C': 0.3, 'l1_ratio': 0.9085366225035411}. Best is trial 14 with value: 0.7913324555968615.\u001b[0m\n",
      "\u001b[32m[I 2023-05-01 16:27:18,583]\u001b[0m Trial 21 finished with value: 0.7913324555968615 and parameters: {'penalty': 'elasticnet', 'solver': 'saga', 'C': 0.3, 'l1_ratio': 0.9980023363757217}. Best is trial 14 with value: 0.7913324555968615.\u001b[0m\n",
      "\u001b[32m[I 2023-05-01 16:27:24,732]\u001b[0m Trial 22 finished with value: 0.7913158807211096 and parameters: {'penalty': 'elasticnet', 'solver': 'saga', 'C': 0.3, 'l1_ratio': 0.9249254963862985}. Best is trial 14 with value: 0.7913324555968615.\u001b[0m\n",
      "\u001b[32m[I 2023-05-01 16:27:31,147]\u001b[0m Trial 23 finished with value: 0.788907997930093 and parameters: {'penalty': 'elasticnet', 'solver': 'saga', 'C': 0.3, 'l1_ratio': 0.7507892834049624}. Best is trial 14 with value: 0.7913324555968615.\u001b[0m\n",
      "\u001b[32m[I 2023-05-01 16:27:38,595]\u001b[0m Trial 24 finished with value: 0.7776866879167524 and parameters: {'penalty': 'elasticnet', 'solver': 'saga', 'C': 1, 'l1_ratio': 0.9319679337102798}. Best is trial 14 with value: 0.7913324555968615.\u001b[0m\n"
     ]
    },
    {
     "name": "stdout",
     "output_type": "stream",
     "text": [
      "Наилучшие значения гиперпараметров {'penalty': 'elasticnet', 'solver': 'saga', 'C': 0.3, 'l1_ratio': 0.9851778989869071}\n",
      "CPU times: total: 1.09 s\n",
      "Wall time: 2min 20s\n"
     ]
    }
   ],
   "source": [
    "%%time\n",
    "# cоздаем объект исследования для 3-его набора гиперпараметров\n",
    "optuna_study_log_reg_3 = study.create_study(\n",
    "    study_name='LogisticRegression', \n",
    "    direction='maximize'\n",
    ")\n",
    "\n",
    "# ищем лучшую комбинацию гиперпараметров n_trials раз\n",
    "optuna_study_log_reg_3.optimize(optuna_log_reg_3, n_trials=N_TRIALS)\n",
    "\n",
    "print(f'Наилучшие значения гиперпараметров {optuna_study_log_reg_3.best_params}')"
   ]
  },
  {
   "attachments": {},
   "cell_type": "markdown",
   "metadata": {},
   "source": [
    "### Построение метрик моделей по результатам оптимизации Optuna:"
   ]
  },
  {
   "cell_type": "code",
   "execution_count": 51,
   "metadata": {},
   "outputs": [
    {
     "name": "stdout",
     "output_type": "stream",
     "text": [
      "-= LogisticRegression, Optuna =-\n",
      "f1_score на тестовом наборе: 0.788\n",
      "\n",
      "f1_score на тренировочном наборе: 0.850\n",
      "accuracy на валидационном наборе: 0.766\n",
      "f1_score на валидационном наборе: 0.791\n",
      "Наилучшие значения гиперпараметров {'penalty': 'l2', 'solver': 'sag', 'C': 0.05}\n"
     ]
    }
   ],
   "source": [
    "# рассчитываем и выводим метрики\n",
    "# type: ignore\n",
    "get_model_metrics(\n",
    "    get_estimator_log_reg(**optuna_study_log_reg_1.best_params), \n",
    "    str(optuna_study_log_reg_1).split('.')[0].split('<')[1].capitalize()\n",
    ")\n",
    "print(f'Наилучшие значения гиперпараметров {optuna_study_log_reg_1.best_params}')"
   ]
  },
  {
   "cell_type": "code",
   "execution_count": 48,
   "metadata": {},
   "outputs": [
    {
     "name": "stdout",
     "output_type": "stream",
     "text": [
      "-= LogisticRegression, Optuna =-\n",
      "f1_score на тестовом наборе: 0.783\n",
      "\n",
      "f1_score на тренировочном наборе: 0.850\n",
      "accuracy на валидационном наборе: 0.765\n",
      "f1_score на валидационном наборе: 0.790\n",
      "Наилучшие значения гиперпараметров {'penalty': 'l2', 'solver': 'liblinear', 'C': 0.05}\n"
     ]
    }
   ],
   "source": [
    "# рассчитываем и выводим метрики\n",
    "# type: ignore\n",
    "get_model_metrics(\n",
    "    get_estimator_log_reg(**optuna_study_log_reg_2.best_params), \n",
    "    str(optuna_study_log_reg_2).split('.')[0].split('<')[1].capitalize()\n",
    ")\n",
    "print(f'Наилучшие значения гиперпараметров {optuna_study_log_reg_2.best_params}')"
   ]
  },
  {
   "cell_type": "code",
   "execution_count": 29,
   "metadata": {},
   "outputs": [
    {
     "name": "stdout",
     "output_type": "stream",
     "text": [
      "-= LogisticRegression, Optuna =-\n",
      "f1_score на тестовом наборе: 0.783\n",
      "\n",
      "f1_score на тренировочном наборе: 0.838\n",
      "accuracy на валидационном наборе: 0.767\n",
      "f1_score на валидационном наборе: 0.791\n",
      "Наилучшие значения гиперпараметров {'penalty': 'elasticnet', 'solver': 'saga', 'C': 0.3, 'l1_ratio': 0.9851778989869071}\n"
     ]
    }
   ],
   "source": [
    "# рассчитываем и выводим метрики\n",
    "# type: ignore\n",
    "get_model_metrics(\n",
    "    get_estimator_log_reg(**optuna_study_log_reg_3.best_params), \n",
    "    str(optuna_study_log_reg_3).split('.')[0].split('<')[1].capitalize()\n",
    ")\n",
    "print(f'Наилучшие значения гиперпараметров {optuna_study_log_reg_3.best_params}')"
   ]
  },
  {
   "cell_type": "code",
   "execution_count": 30,
   "metadata": {},
   "outputs": [
    {
     "data": {
      "application/vnd.plotly.v1+json": {
       "config": {
        "plotlyServerURL": "https://plot.ly"
       },
       "data": [
        {
         "mode": "markers",
         "name": "f1_score",
         "type": "scatter",
         "x": [
          0,
          1,
          2,
          3,
          4,
          5,
          6,
          7,
          8,
          9,
          10,
          11,
          12,
          13,
          14,
          15,
          16,
          17,
          18,
          19,
          20,
          21,
          22,
          23,
          24
         ],
         "y": [
          0.7682421282574534,
          0.7784186232901155,
          0.778228428701617,
          0.7787869892656051,
          0.7577274583182511,
          0.7787177895835602,
          0.7857504391498679,
          0.7818100450029537,
          0.7784186232901155,
          0.7784186232901155,
          0.7857504391498679,
          0.7857504391498679,
          0.7857504391498679,
          0.7857504391498679,
          0.7913324555968615,
          0.7913324555968615,
          0.7913324555968615,
          0.7913324555968615,
          0.7913158807211096,
          0.7894970995501225,
          0.790719489321544,
          0.7913324555968615,
          0.7913158807211096,
          0.788907997930093,
          0.7776866879167524
         ]
        },
        {
         "name": "Best Value",
         "type": "scatter",
         "x": [
          0,
          1,
          2,
          3,
          4,
          5,
          6,
          7,
          8,
          9,
          10,
          11,
          12,
          13,
          14,
          15,
          16,
          17,
          18,
          19,
          20,
          21,
          22,
          23,
          24
         ],
         "y": [
          0.7682421282574534,
          0.7784186232901155,
          0.7784186232901155,
          0.7787869892656051,
          0.7787869892656051,
          0.7787869892656051,
          0.7857504391498679,
          0.7857504391498679,
          0.7857504391498679,
          0.7857504391498679,
          0.7857504391498679,
          0.7857504391498679,
          0.7857504391498679,
          0.7857504391498679,
          0.7913324555968615,
          0.7913324555968615,
          0.7913324555968615,
          0.7913324555968615,
          0.7913324555968615,
          0.7913324555968615,
          0.7913324555968615,
          0.7913324555968615,
          0.7913324555968615,
          0.7913324555968615,
          0.7913324555968615
         ]
        }
       ],
       "layout": {
        "template": {
         "data": {
          "bar": [
           {
            "error_x": {
             "color": "#2a3f5f"
            },
            "error_y": {
             "color": "#2a3f5f"
            },
            "marker": {
             "line": {
              "color": "#E5ECF6",
              "width": 0.5
             },
             "pattern": {
              "fillmode": "overlay",
              "size": 10,
              "solidity": 0.2
             }
            },
            "type": "bar"
           }
          ],
          "barpolar": [
           {
            "marker": {
             "line": {
              "color": "#E5ECF6",
              "width": 0.5
             },
             "pattern": {
              "fillmode": "overlay",
              "size": 10,
              "solidity": 0.2
             }
            },
            "type": "barpolar"
           }
          ],
          "carpet": [
           {
            "aaxis": {
             "endlinecolor": "#2a3f5f",
             "gridcolor": "white",
             "linecolor": "white",
             "minorgridcolor": "white",
             "startlinecolor": "#2a3f5f"
            },
            "baxis": {
             "endlinecolor": "#2a3f5f",
             "gridcolor": "white",
             "linecolor": "white",
             "minorgridcolor": "white",
             "startlinecolor": "#2a3f5f"
            },
            "type": "carpet"
           }
          ],
          "choropleth": [
           {
            "colorbar": {
             "outlinewidth": 0,
             "ticks": ""
            },
            "type": "choropleth"
           }
          ],
          "contour": [
           {
            "colorbar": {
             "outlinewidth": 0,
             "ticks": ""
            },
            "colorscale": [
             [
              0,
              "#0d0887"
             ],
             [
              0.1111111111111111,
              "#46039f"
             ],
             [
              0.2222222222222222,
              "#7201a8"
             ],
             [
              0.3333333333333333,
              "#9c179e"
             ],
             [
              0.4444444444444444,
              "#bd3786"
             ],
             [
              0.5555555555555556,
              "#d8576b"
             ],
             [
              0.6666666666666666,
              "#ed7953"
             ],
             [
              0.7777777777777778,
              "#fb9f3a"
             ],
             [
              0.8888888888888888,
              "#fdca26"
             ],
             [
              1,
              "#f0f921"
             ]
            ],
            "type": "contour"
           }
          ],
          "contourcarpet": [
           {
            "colorbar": {
             "outlinewidth": 0,
             "ticks": ""
            },
            "type": "contourcarpet"
           }
          ],
          "heatmap": [
           {
            "colorbar": {
             "outlinewidth": 0,
             "ticks": ""
            },
            "colorscale": [
             [
              0,
              "#0d0887"
             ],
             [
              0.1111111111111111,
              "#46039f"
             ],
             [
              0.2222222222222222,
              "#7201a8"
             ],
             [
              0.3333333333333333,
              "#9c179e"
             ],
             [
              0.4444444444444444,
              "#bd3786"
             ],
             [
              0.5555555555555556,
              "#d8576b"
             ],
             [
              0.6666666666666666,
              "#ed7953"
             ],
             [
              0.7777777777777778,
              "#fb9f3a"
             ],
             [
              0.8888888888888888,
              "#fdca26"
             ],
             [
              1,
              "#f0f921"
             ]
            ],
            "type": "heatmap"
           }
          ],
          "heatmapgl": [
           {
            "colorbar": {
             "outlinewidth": 0,
             "ticks": ""
            },
            "colorscale": [
             [
              0,
              "#0d0887"
             ],
             [
              0.1111111111111111,
              "#46039f"
             ],
             [
              0.2222222222222222,
              "#7201a8"
             ],
             [
              0.3333333333333333,
              "#9c179e"
             ],
             [
              0.4444444444444444,
              "#bd3786"
             ],
             [
              0.5555555555555556,
              "#d8576b"
             ],
             [
              0.6666666666666666,
              "#ed7953"
             ],
             [
              0.7777777777777778,
              "#fb9f3a"
             ],
             [
              0.8888888888888888,
              "#fdca26"
             ],
             [
              1,
              "#f0f921"
             ]
            ],
            "type": "heatmapgl"
           }
          ],
          "histogram": [
           {
            "marker": {
             "pattern": {
              "fillmode": "overlay",
              "size": 10,
              "solidity": 0.2
             }
            },
            "type": "histogram"
           }
          ],
          "histogram2d": [
           {
            "colorbar": {
             "outlinewidth": 0,
             "ticks": ""
            },
            "colorscale": [
             [
              0,
              "#0d0887"
             ],
             [
              0.1111111111111111,
              "#46039f"
             ],
             [
              0.2222222222222222,
              "#7201a8"
             ],
             [
              0.3333333333333333,
              "#9c179e"
             ],
             [
              0.4444444444444444,
              "#bd3786"
             ],
             [
              0.5555555555555556,
              "#d8576b"
             ],
             [
              0.6666666666666666,
              "#ed7953"
             ],
             [
              0.7777777777777778,
              "#fb9f3a"
             ],
             [
              0.8888888888888888,
              "#fdca26"
             ],
             [
              1,
              "#f0f921"
             ]
            ],
            "type": "histogram2d"
           }
          ],
          "histogram2dcontour": [
           {
            "colorbar": {
             "outlinewidth": 0,
             "ticks": ""
            },
            "colorscale": [
             [
              0,
              "#0d0887"
             ],
             [
              0.1111111111111111,
              "#46039f"
             ],
             [
              0.2222222222222222,
              "#7201a8"
             ],
             [
              0.3333333333333333,
              "#9c179e"
             ],
             [
              0.4444444444444444,
              "#bd3786"
             ],
             [
              0.5555555555555556,
              "#d8576b"
             ],
             [
              0.6666666666666666,
              "#ed7953"
             ],
             [
              0.7777777777777778,
              "#fb9f3a"
             ],
             [
              0.8888888888888888,
              "#fdca26"
             ],
             [
              1,
              "#f0f921"
             ]
            ],
            "type": "histogram2dcontour"
           }
          ],
          "mesh3d": [
           {
            "colorbar": {
             "outlinewidth": 0,
             "ticks": ""
            },
            "type": "mesh3d"
           }
          ],
          "parcoords": [
           {
            "line": {
             "colorbar": {
              "outlinewidth": 0,
              "ticks": ""
             }
            },
            "type": "parcoords"
           }
          ],
          "pie": [
           {
            "automargin": true,
            "type": "pie"
           }
          ],
          "scatter": [
           {
            "fillpattern": {
             "fillmode": "overlay",
             "size": 10,
             "solidity": 0.2
            },
            "type": "scatter"
           }
          ],
          "scatter3d": [
           {
            "line": {
             "colorbar": {
              "outlinewidth": 0,
              "ticks": ""
             }
            },
            "marker": {
             "colorbar": {
              "outlinewidth": 0,
              "ticks": ""
             }
            },
            "type": "scatter3d"
           }
          ],
          "scattercarpet": [
           {
            "marker": {
             "colorbar": {
              "outlinewidth": 0,
              "ticks": ""
             }
            },
            "type": "scattercarpet"
           }
          ],
          "scattergeo": [
           {
            "marker": {
             "colorbar": {
              "outlinewidth": 0,
              "ticks": ""
             }
            },
            "type": "scattergeo"
           }
          ],
          "scattergl": [
           {
            "marker": {
             "colorbar": {
              "outlinewidth": 0,
              "ticks": ""
             }
            },
            "type": "scattergl"
           }
          ],
          "scattermapbox": [
           {
            "marker": {
             "colorbar": {
              "outlinewidth": 0,
              "ticks": ""
             }
            },
            "type": "scattermapbox"
           }
          ],
          "scatterpolar": [
           {
            "marker": {
             "colorbar": {
              "outlinewidth": 0,
              "ticks": ""
             }
            },
            "type": "scatterpolar"
           }
          ],
          "scatterpolargl": [
           {
            "marker": {
             "colorbar": {
              "outlinewidth": 0,
              "ticks": ""
             }
            },
            "type": "scatterpolargl"
           }
          ],
          "scatterternary": [
           {
            "marker": {
             "colorbar": {
              "outlinewidth": 0,
              "ticks": ""
             }
            },
            "type": "scatterternary"
           }
          ],
          "surface": [
           {
            "colorbar": {
             "outlinewidth": 0,
             "ticks": ""
            },
            "colorscale": [
             [
              0,
              "#0d0887"
             ],
             [
              0.1111111111111111,
              "#46039f"
             ],
             [
              0.2222222222222222,
              "#7201a8"
             ],
             [
              0.3333333333333333,
              "#9c179e"
             ],
             [
              0.4444444444444444,
              "#bd3786"
             ],
             [
              0.5555555555555556,
              "#d8576b"
             ],
             [
              0.6666666666666666,
              "#ed7953"
             ],
             [
              0.7777777777777778,
              "#fb9f3a"
             ],
             [
              0.8888888888888888,
              "#fdca26"
             ],
             [
              1,
              "#f0f921"
             ]
            ],
            "type": "surface"
           }
          ],
          "table": [
           {
            "cells": {
             "fill": {
              "color": "#EBF0F8"
             },
             "line": {
              "color": "white"
             }
            },
            "header": {
             "fill": {
              "color": "#C8D4E3"
             },
             "line": {
              "color": "white"
             }
            },
            "type": "table"
           }
          ]
         },
         "layout": {
          "annotationdefaults": {
           "arrowcolor": "#2a3f5f",
           "arrowhead": 0,
           "arrowwidth": 1
          },
          "autotypenumbers": "strict",
          "coloraxis": {
           "colorbar": {
            "outlinewidth": 0,
            "ticks": ""
           }
          },
          "colorscale": {
           "diverging": [
            [
             0,
             "#8e0152"
            ],
            [
             0.1,
             "#c51b7d"
            ],
            [
             0.2,
             "#de77ae"
            ],
            [
             0.3,
             "#f1b6da"
            ],
            [
             0.4,
             "#fde0ef"
            ],
            [
             0.5,
             "#f7f7f7"
            ],
            [
             0.6,
             "#e6f5d0"
            ],
            [
             0.7,
             "#b8e186"
            ],
            [
             0.8,
             "#7fbc41"
            ],
            [
             0.9,
             "#4d9221"
            ],
            [
             1,
             "#276419"
            ]
           ],
           "sequential": [
            [
             0,
             "#0d0887"
            ],
            [
             0.1111111111111111,
             "#46039f"
            ],
            [
             0.2222222222222222,
             "#7201a8"
            ],
            [
             0.3333333333333333,
             "#9c179e"
            ],
            [
             0.4444444444444444,
             "#bd3786"
            ],
            [
             0.5555555555555556,
             "#d8576b"
            ],
            [
             0.6666666666666666,
             "#ed7953"
            ],
            [
             0.7777777777777778,
             "#fb9f3a"
            ],
            [
             0.8888888888888888,
             "#fdca26"
            ],
            [
             1,
             "#f0f921"
            ]
           ],
           "sequentialminus": [
            [
             0,
             "#0d0887"
            ],
            [
             0.1111111111111111,
             "#46039f"
            ],
            [
             0.2222222222222222,
             "#7201a8"
            ],
            [
             0.3333333333333333,
             "#9c179e"
            ],
            [
             0.4444444444444444,
             "#bd3786"
            ],
            [
             0.5555555555555556,
             "#d8576b"
            ],
            [
             0.6666666666666666,
             "#ed7953"
            ],
            [
             0.7777777777777778,
             "#fb9f3a"
            ],
            [
             0.8888888888888888,
             "#fdca26"
            ],
            [
             1,
             "#f0f921"
            ]
           ]
          },
          "colorway": [
           "#636efa",
           "#EF553B",
           "#00cc96",
           "#ab63fa",
           "#FFA15A",
           "#19d3f3",
           "#FF6692",
           "#B6E880",
           "#FF97FF",
           "#FECB52"
          ],
          "font": {
           "color": "#2a3f5f"
          },
          "geo": {
           "bgcolor": "white",
           "lakecolor": "white",
           "landcolor": "#E5ECF6",
           "showlakes": true,
           "showland": true,
           "subunitcolor": "white"
          },
          "hoverlabel": {
           "align": "left"
          },
          "hovermode": "closest",
          "mapbox": {
           "style": "light"
          },
          "paper_bgcolor": "white",
          "plot_bgcolor": "#E5ECF6",
          "polar": {
           "angularaxis": {
            "gridcolor": "white",
            "linecolor": "white",
            "ticks": ""
           },
           "bgcolor": "#E5ECF6",
           "radialaxis": {
            "gridcolor": "white",
            "linecolor": "white",
            "ticks": ""
           }
          },
          "scene": {
           "xaxis": {
            "backgroundcolor": "#E5ECF6",
            "gridcolor": "white",
            "gridwidth": 2,
            "linecolor": "white",
            "showbackground": true,
            "ticks": "",
            "zerolinecolor": "white"
           },
           "yaxis": {
            "backgroundcolor": "#E5ECF6",
            "gridcolor": "white",
            "gridwidth": 2,
            "linecolor": "white",
            "showbackground": true,
            "ticks": "",
            "zerolinecolor": "white"
           },
           "zaxis": {
            "backgroundcolor": "#E5ECF6",
            "gridcolor": "white",
            "gridwidth": 2,
            "linecolor": "white",
            "showbackground": true,
            "ticks": "",
            "zerolinecolor": "white"
           }
          },
          "shapedefaults": {
           "line": {
            "color": "#2a3f5f"
           }
          },
          "ternary": {
           "aaxis": {
            "gridcolor": "white",
            "linecolor": "white",
            "ticks": ""
           },
           "baxis": {
            "gridcolor": "white",
            "linecolor": "white",
            "ticks": ""
           },
           "bgcolor": "#E5ECF6",
           "caxis": {
            "gridcolor": "white",
            "linecolor": "white",
            "ticks": ""
           }
          },
          "title": {
           "x": 0.05
          },
          "xaxis": {
           "automargin": true,
           "gridcolor": "white",
           "linecolor": "white",
           "ticks": "",
           "title": {
            "standoff": 15
           },
           "zerolinecolor": "white",
           "zerolinewidth": 2
          },
          "yaxis": {
           "automargin": true,
           "gridcolor": "white",
           "linecolor": "white",
           "ticks": "",
           "title": {
            "standoff": 15
           },
           "zerolinecolor": "white",
           "zerolinewidth": 2
          }
         }
        },
        "title": {
         "text": "Optimization History Plot"
        },
        "xaxis": {
         "title": {
          "text": "Trial"
         }
        },
        "yaxis": {
         "title": {
          "text": "f1_score"
         }
        }
       }
      }
     },
     "metadata": {},
     "output_type": "display_data"
    }
   ],
   "source": [
    "# type: ignore\n",
    "optuna.visualization.plot_optimization_history(optuna_study_log_reg_3, target_name='f1_score')"
   ]
  },
  {
   "attachments": {},
   "cell_type": "markdown",
   "metadata": {},
   "source": [
    "# 5. Случайный лес (RandomForestClassifier)"
   ]
  },
  {
   "attachments": {},
   "cell_type": "markdown",
   "metadata": {},
   "source": [
    "## 5.1. Baseline\n",
    "\n",
    "Оцениваем метрику f1-score при установленных по умолчанию гиперпараметров:"
   ]
  },
  {
   "cell_type": "code",
   "execution_count": 31,
   "metadata": {},
   "outputs": [
    {
     "name": "stdout",
     "output_type": "stream",
     "text": [
      "-= RandomForestClassifier, Baseline =-\n",
      "f1_score на тестовом наборе: 0.796\n",
      "\n",
      "f1_score на тренировочном наборе: 1.000\n",
      "accuracy на валидационном наборе: 0.796\n",
      "f1_score на валидационном наборе: 0.815\n"
     ]
    }
   ],
   "source": [
    "# выводим метрики baseline решения (без оптимизации)\n",
    "get_model_metrics(get_estimator_rf_clf())"
   ]
  },
  {
   "attachments": {},
   "cell_type": "markdown",
   "metadata": {},
   "source": [
    "## 5.2. GridSearchCV"
   ]
  },
  {
   "cell_type": "code",
   "execution_count": 32,
   "metadata": {},
   "outputs": [],
   "source": [
    "# создаем сетку параметров\n",
    "rf_clf_N_estimators_values = np.linspace(50, 200, 7, dtype=int)\n",
    "rf_clf_max_depth_values = np.linspace(5, 30, 6, dtype=int)\n",
    "param_grid_rf_cls = {\n",
    "    'n_estimators': list(rf_clf_N_estimators_values),\n",
    "    'max_depth': list(rf_clf_max_depth_values),\n",
    "    'min_samples_leaf': [2, 3],\n",
    "    'criterion': ['gini', 'entropy']\n",
    "}"
   ]
  },
  {
   "cell_type": "code",
   "execution_count": 33,
   "metadata": {},
   "outputs": [
    {
     "name": "stdout",
     "output_type": "stream",
     "text": [
      "CPU times: total: 8.03 s\n",
      "Wall time: 3min 9s\n"
     ]
    },
    {
     "data": {
      "text/html": [
       "<style>#sk-container-id-3 {color: black;background-color: white;}#sk-container-id-3 pre{padding: 0;}#sk-container-id-3 div.sk-toggleable {background-color: white;}#sk-container-id-3 label.sk-toggleable__label {cursor: pointer;display: block;width: 100%;margin-bottom: 0;padding: 0.3em;box-sizing: border-box;text-align: center;}#sk-container-id-3 label.sk-toggleable__label-arrow:before {content: \"▸\";float: left;margin-right: 0.25em;color: #696969;}#sk-container-id-3 label.sk-toggleable__label-arrow:hover:before {color: black;}#sk-container-id-3 div.sk-estimator:hover label.sk-toggleable__label-arrow:before {color: black;}#sk-container-id-3 div.sk-toggleable__content {max-height: 0;max-width: 0;overflow: hidden;text-align: left;background-color: #f0f8ff;}#sk-container-id-3 div.sk-toggleable__content pre {margin: 0.2em;color: black;border-radius: 0.25em;background-color: #f0f8ff;}#sk-container-id-3 input.sk-toggleable__control:checked~div.sk-toggleable__content {max-height: 200px;max-width: 100%;overflow: auto;}#sk-container-id-3 input.sk-toggleable__control:checked~label.sk-toggleable__label-arrow:before {content: \"▾\";}#sk-container-id-3 div.sk-estimator input.sk-toggleable__control:checked~label.sk-toggleable__label {background-color: #d4ebff;}#sk-container-id-3 div.sk-label input.sk-toggleable__control:checked~label.sk-toggleable__label {background-color: #d4ebff;}#sk-container-id-3 input.sk-hidden--visually {border: 0;clip: rect(1px 1px 1px 1px);clip: rect(1px, 1px, 1px, 1px);height: 1px;margin: -1px;overflow: hidden;padding: 0;position: absolute;width: 1px;}#sk-container-id-3 div.sk-estimator {font-family: monospace;background-color: #f0f8ff;border: 1px dotted black;border-radius: 0.25em;box-sizing: border-box;margin-bottom: 0.5em;}#sk-container-id-3 div.sk-estimator:hover {background-color: #d4ebff;}#sk-container-id-3 div.sk-parallel-item::after {content: \"\";width: 100%;border-bottom: 1px solid gray;flex-grow: 1;}#sk-container-id-3 div.sk-label:hover label.sk-toggleable__label {background-color: #d4ebff;}#sk-container-id-3 div.sk-serial::before {content: \"\";position: absolute;border-left: 1px solid gray;box-sizing: border-box;top: 0;bottom: 0;left: 50%;z-index: 0;}#sk-container-id-3 div.sk-serial {display: flex;flex-direction: column;align-items: center;background-color: white;padding-right: 0.2em;padding-left: 0.2em;position: relative;}#sk-container-id-3 div.sk-item {position: relative;z-index: 1;}#sk-container-id-3 div.sk-parallel {display: flex;align-items: stretch;justify-content: center;background-color: white;position: relative;}#sk-container-id-3 div.sk-item::before, #sk-container-id-3 div.sk-parallel-item::before {content: \"\";position: absolute;border-left: 1px solid gray;box-sizing: border-box;top: 0;bottom: 0;left: 50%;z-index: -1;}#sk-container-id-3 div.sk-parallel-item {display: flex;flex-direction: column;z-index: 1;position: relative;background-color: white;}#sk-container-id-3 div.sk-parallel-item:first-child::after {align-self: flex-end;width: 50%;}#sk-container-id-3 div.sk-parallel-item:last-child::after {align-self: flex-start;width: 50%;}#sk-container-id-3 div.sk-parallel-item:only-child::after {width: 0;}#sk-container-id-3 div.sk-dashed-wrapped {border: 1px dashed gray;margin: 0 0.4em 0.5em 0.4em;box-sizing: border-box;padding-bottom: 0.4em;background-color: white;}#sk-container-id-3 div.sk-label label {font-family: monospace;font-weight: bold;display: inline-block;line-height: 1.2em;}#sk-container-id-3 div.sk-label-container {text-align: center;}#sk-container-id-3 div.sk-container {/* jupyter's `normalize.less` sets `[hidden] { display: none; }` but bootstrap.min.css set `[hidden] { display: none !important; }` so we also need the `!important` here to be able to override the default hidden behavior on the sphinx rendered scikit-learn.org. See: https://github.com/scikit-learn/scikit-learn/issues/21755 */display: inline-block !important;position: relative;}#sk-container-id-3 div.sk-text-repr-fallback {display: none;}</style><div id=\"sk-container-id-3\" class=\"sk-top-container\"><div class=\"sk-text-repr-fallback\"><pre>GridSearchCV(cv=5,\n",
       "             estimator=RandomForestClassifier(class_weight=&#x27;balanced&#x27;,\n",
       "                                              n_jobs=-1, random_state=42),\n",
       "             n_jobs=-1,\n",
       "             param_grid={&#x27;criterion&#x27;: [&#x27;gini&#x27;, &#x27;entropy&#x27;],\n",
       "                         &#x27;max_depth&#x27;: [5, 10, 15, 20, 25, 30],\n",
       "                         &#x27;min_samples_leaf&#x27;: [2, 3],\n",
       "                         &#x27;n_estimators&#x27;: [50, 75, 100, 125, 150, 175, 200]})</pre><b>In a Jupyter environment, please rerun this cell to show the HTML representation or trust the notebook. <br />On GitHub, the HTML representation is unable to render, please try loading this page with nbviewer.org.</b></div><div class=\"sk-container\" hidden><div class=\"sk-item sk-dashed-wrapped\"><div class=\"sk-label-container\"><div class=\"sk-label sk-toggleable\"><input class=\"sk-toggleable__control sk-hidden--visually\" id=\"sk-estimator-id-7\" type=\"checkbox\" ><label for=\"sk-estimator-id-7\" class=\"sk-toggleable__label sk-toggleable__label-arrow\">GridSearchCV</label><div class=\"sk-toggleable__content\"><pre>GridSearchCV(cv=5,\n",
       "             estimator=RandomForestClassifier(class_weight=&#x27;balanced&#x27;,\n",
       "                                              n_jobs=-1, random_state=42),\n",
       "             n_jobs=-1,\n",
       "             param_grid={&#x27;criterion&#x27;: [&#x27;gini&#x27;, &#x27;entropy&#x27;],\n",
       "                         &#x27;max_depth&#x27;: [5, 10, 15, 20, 25, 30],\n",
       "                         &#x27;min_samples_leaf&#x27;: [2, 3],\n",
       "                         &#x27;n_estimators&#x27;: [50, 75, 100, 125, 150, 175, 200]})</pre></div></div></div><div class=\"sk-parallel\"><div class=\"sk-parallel-item\"><div class=\"sk-item\"><div class=\"sk-label-container\"><div class=\"sk-label sk-toggleable\"><input class=\"sk-toggleable__control sk-hidden--visually\" id=\"sk-estimator-id-8\" type=\"checkbox\" ><label for=\"sk-estimator-id-8\" class=\"sk-toggleable__label sk-toggleable__label-arrow\">estimator: RandomForestClassifier</label><div class=\"sk-toggleable__content\"><pre>RandomForestClassifier(class_weight=&#x27;balanced&#x27;, n_jobs=-1, random_state=42)</pre></div></div></div><div class=\"sk-serial\"><div class=\"sk-item\"><div class=\"sk-estimator sk-toggleable\"><input class=\"sk-toggleable__control sk-hidden--visually\" id=\"sk-estimator-id-9\" type=\"checkbox\" ><label for=\"sk-estimator-id-9\" class=\"sk-toggleable__label sk-toggleable__label-arrow\">RandomForestClassifier</label><div class=\"sk-toggleable__content\"><pre>RandomForestClassifier(class_weight=&#x27;balanced&#x27;, n_jobs=-1, random_state=42)</pre></div></div></div></div></div></div></div></div></div></div>"
      ],
      "text/plain": [
       "GridSearchCV(cv=5,\n",
       "             estimator=RandomForestClassifier(class_weight='balanced',\n",
       "                                              n_jobs=-1, random_state=42),\n",
       "             n_jobs=-1,\n",
       "             param_grid={'criterion': ['gini', 'entropy'],\n",
       "                         'max_depth': [5, 10, 15, 20, 25, 30],\n",
       "                         'min_samples_leaf': [2, 3],\n",
       "                         'n_estimators': [50, 75, 100, 125, 150, 175, 200]})"
      ]
     },
     "execution_count": 33,
     "metadata": {},
     "output_type": "execute_result"
    },
    {
     "name": "stdout",
     "output_type": "stream",
     "text": [
      "Наилучшие значения гиперпараметров: {'criterion': 'entropy', 'max_depth': 20, 'min_samples_leaf': 2, 'n_estimators': 200}\n"
     ]
    }
   ],
   "source": [
    "# создаем объект класса GridSearchCV\n",
    "gscv_rf_clf = model_selection.GridSearchCV(\n",
    "    estimator=get_estimator_rf_clf(), \n",
    "    param_grid=param_grid_rf_cls, \n",
    "    cv=CV_FOLDS, \n",
    "    n_jobs=CPU,\n",
    ")\n",
    "\n",
    "# обучаем модель на кросс-валидации\n",
    "%time gscv_rf_clf.fit(X_train, y_train)\n",
    "\n",
    "print(f'Наилучшие значения гиперпараметров: {gscv_rf_clf.best_params_}')"
   ]
  },
  {
   "cell_type": "code",
   "execution_count": 34,
   "metadata": {},
   "outputs": [
    {
     "name": "stdout",
     "output_type": "stream",
     "text": [
      "-= RandomForestClassifier, GridSearchCV =-\n",
      "f1_score на тестовом наборе: 0.809\n",
      "\n",
      "f1_score на тренировочном наборе: 0.994\n",
      "accuracy на валидационном наборе: 0.803\n",
      "f1_score на валидационном наборе: 0.821\n",
      "Наилучшие значения гиперпараметров: {'criterion': 'entropy', 'max_depth': 20, 'min_samples_leaf': 2, 'n_estimators': 200}\n"
     ]
    }
   ],
   "source": [
    "# рассчитываем и выводим метрики\n",
    "get_model_metrics(\n",
    "    get_estimator_rf_clf(**gscv_rf_clf.best_params_), \n",
    "    gscv_rf_clf.__class__.__name__\n",
    ")\n",
    "print(f'Наилучшие значения гиперпараметров: {gscv_rf_clf.best_params_}')"
   ]
  },
  {
   "attachments": {},
   "cell_type": "markdown",
   "metadata": {},
   "source": [
    "## 5.3. RandomizedSearchCV"
   ]
  },
  {
   "cell_type": "code",
   "execution_count": 35,
   "metadata": {},
   "outputs": [
    {
     "name": "stdout",
     "output_type": "stream",
     "text": [
      "CPU times: total: 3.27 s\n",
      "Wall time: 28.3 s\n"
     ]
    },
    {
     "data": {
      "text/html": [
       "<style>#sk-container-id-4 {color: black;background-color: white;}#sk-container-id-4 pre{padding: 0;}#sk-container-id-4 div.sk-toggleable {background-color: white;}#sk-container-id-4 label.sk-toggleable__label {cursor: pointer;display: block;width: 100%;margin-bottom: 0;padding: 0.3em;box-sizing: border-box;text-align: center;}#sk-container-id-4 label.sk-toggleable__label-arrow:before {content: \"▸\";float: left;margin-right: 0.25em;color: #696969;}#sk-container-id-4 label.sk-toggleable__label-arrow:hover:before {color: black;}#sk-container-id-4 div.sk-estimator:hover label.sk-toggleable__label-arrow:before {color: black;}#sk-container-id-4 div.sk-toggleable__content {max-height: 0;max-width: 0;overflow: hidden;text-align: left;background-color: #f0f8ff;}#sk-container-id-4 div.sk-toggleable__content pre {margin: 0.2em;color: black;border-radius: 0.25em;background-color: #f0f8ff;}#sk-container-id-4 input.sk-toggleable__control:checked~div.sk-toggleable__content {max-height: 200px;max-width: 100%;overflow: auto;}#sk-container-id-4 input.sk-toggleable__control:checked~label.sk-toggleable__label-arrow:before {content: \"▾\";}#sk-container-id-4 div.sk-estimator input.sk-toggleable__control:checked~label.sk-toggleable__label {background-color: #d4ebff;}#sk-container-id-4 div.sk-label input.sk-toggleable__control:checked~label.sk-toggleable__label {background-color: #d4ebff;}#sk-container-id-4 input.sk-hidden--visually {border: 0;clip: rect(1px 1px 1px 1px);clip: rect(1px, 1px, 1px, 1px);height: 1px;margin: -1px;overflow: hidden;padding: 0;position: absolute;width: 1px;}#sk-container-id-4 div.sk-estimator {font-family: monospace;background-color: #f0f8ff;border: 1px dotted black;border-radius: 0.25em;box-sizing: border-box;margin-bottom: 0.5em;}#sk-container-id-4 div.sk-estimator:hover {background-color: #d4ebff;}#sk-container-id-4 div.sk-parallel-item::after {content: \"\";width: 100%;border-bottom: 1px solid gray;flex-grow: 1;}#sk-container-id-4 div.sk-label:hover label.sk-toggleable__label {background-color: #d4ebff;}#sk-container-id-4 div.sk-serial::before {content: \"\";position: absolute;border-left: 1px solid gray;box-sizing: border-box;top: 0;bottom: 0;left: 50%;z-index: 0;}#sk-container-id-4 div.sk-serial {display: flex;flex-direction: column;align-items: center;background-color: white;padding-right: 0.2em;padding-left: 0.2em;position: relative;}#sk-container-id-4 div.sk-item {position: relative;z-index: 1;}#sk-container-id-4 div.sk-parallel {display: flex;align-items: stretch;justify-content: center;background-color: white;position: relative;}#sk-container-id-4 div.sk-item::before, #sk-container-id-4 div.sk-parallel-item::before {content: \"\";position: absolute;border-left: 1px solid gray;box-sizing: border-box;top: 0;bottom: 0;left: 50%;z-index: -1;}#sk-container-id-4 div.sk-parallel-item {display: flex;flex-direction: column;z-index: 1;position: relative;background-color: white;}#sk-container-id-4 div.sk-parallel-item:first-child::after {align-self: flex-end;width: 50%;}#sk-container-id-4 div.sk-parallel-item:last-child::after {align-self: flex-start;width: 50%;}#sk-container-id-4 div.sk-parallel-item:only-child::after {width: 0;}#sk-container-id-4 div.sk-dashed-wrapped {border: 1px dashed gray;margin: 0 0.4em 0.5em 0.4em;box-sizing: border-box;padding-bottom: 0.4em;background-color: white;}#sk-container-id-4 div.sk-label label {font-family: monospace;font-weight: bold;display: inline-block;line-height: 1.2em;}#sk-container-id-4 div.sk-label-container {text-align: center;}#sk-container-id-4 div.sk-container {/* jupyter's `normalize.less` sets `[hidden] { display: none; }` but bootstrap.min.css set `[hidden] { display: none !important; }` so we also need the `!important` here to be able to override the default hidden behavior on the sphinx rendered scikit-learn.org. See: https://github.com/scikit-learn/scikit-learn/issues/21755 */display: inline-block !important;position: relative;}#sk-container-id-4 div.sk-text-repr-fallback {display: none;}</style><div id=\"sk-container-id-4\" class=\"sk-top-container\"><div class=\"sk-text-repr-fallback\"><pre>RandomizedSearchCV(cv=5,\n",
       "                   estimator=RandomForestClassifier(class_weight=&#x27;balanced&#x27;,\n",
       "                                                    n_jobs=-1,\n",
       "                                                    random_state=42),\n",
       "                   n_iter=25, n_jobs=-1,\n",
       "                   param_distributions={&#x27;criterion&#x27;: [&#x27;gini&#x27;, &#x27;entropy&#x27;],\n",
       "                                        &#x27;max_depth&#x27;: [5, 10, 15, 20, 25, 30],\n",
       "                                        &#x27;min_samples_leaf&#x27;: [2, 3],\n",
       "                                        &#x27;n_estimators&#x27;: [50, 75, 100, 125, 150,\n",
       "                                                         175, 200]})</pre><b>In a Jupyter environment, please rerun this cell to show the HTML representation or trust the notebook. <br />On GitHub, the HTML representation is unable to render, please try loading this page with nbviewer.org.</b></div><div class=\"sk-container\" hidden><div class=\"sk-item sk-dashed-wrapped\"><div class=\"sk-label-container\"><div class=\"sk-label sk-toggleable\"><input class=\"sk-toggleable__control sk-hidden--visually\" id=\"sk-estimator-id-10\" type=\"checkbox\" ><label for=\"sk-estimator-id-10\" class=\"sk-toggleable__label sk-toggleable__label-arrow\">RandomizedSearchCV</label><div class=\"sk-toggleable__content\"><pre>RandomizedSearchCV(cv=5,\n",
       "                   estimator=RandomForestClassifier(class_weight=&#x27;balanced&#x27;,\n",
       "                                                    n_jobs=-1,\n",
       "                                                    random_state=42),\n",
       "                   n_iter=25, n_jobs=-1,\n",
       "                   param_distributions={&#x27;criterion&#x27;: [&#x27;gini&#x27;, &#x27;entropy&#x27;],\n",
       "                                        &#x27;max_depth&#x27;: [5, 10, 15, 20, 25, 30],\n",
       "                                        &#x27;min_samples_leaf&#x27;: [2, 3],\n",
       "                                        &#x27;n_estimators&#x27;: [50, 75, 100, 125, 150,\n",
       "                                                         175, 200]})</pre></div></div></div><div class=\"sk-parallel\"><div class=\"sk-parallel-item\"><div class=\"sk-item\"><div class=\"sk-label-container\"><div class=\"sk-label sk-toggleable\"><input class=\"sk-toggleable__control sk-hidden--visually\" id=\"sk-estimator-id-11\" type=\"checkbox\" ><label for=\"sk-estimator-id-11\" class=\"sk-toggleable__label sk-toggleable__label-arrow\">estimator: RandomForestClassifier</label><div class=\"sk-toggleable__content\"><pre>RandomForestClassifier(class_weight=&#x27;balanced&#x27;, n_jobs=-1, random_state=42)</pre></div></div></div><div class=\"sk-serial\"><div class=\"sk-item\"><div class=\"sk-estimator sk-toggleable\"><input class=\"sk-toggleable__control sk-hidden--visually\" id=\"sk-estimator-id-12\" type=\"checkbox\" ><label for=\"sk-estimator-id-12\" class=\"sk-toggleable__label sk-toggleable__label-arrow\">RandomForestClassifier</label><div class=\"sk-toggleable__content\"><pre>RandomForestClassifier(class_weight=&#x27;balanced&#x27;, n_jobs=-1, random_state=42)</pre></div></div></div></div></div></div></div></div></div></div>"
      ],
      "text/plain": [
       "RandomizedSearchCV(cv=5,\n",
       "                   estimator=RandomForestClassifier(class_weight='balanced',\n",
       "                                                    n_jobs=-1,\n",
       "                                                    random_state=42),\n",
       "                   n_iter=25, n_jobs=-1,\n",
       "                   param_distributions={'criterion': ['gini', 'entropy'],\n",
       "                                        'max_depth': [5, 10, 15, 20, 25, 30],\n",
       "                                        'min_samples_leaf': [2, 3],\n",
       "                                        'n_estimators': [50, 75, 100, 125, 150,\n",
       "                                                         175, 200]})"
      ]
     },
     "execution_count": 35,
     "metadata": {},
     "output_type": "execute_result"
    },
    {
     "name": "stdout",
     "output_type": "stream",
     "text": [
      "Наилучшие значения гиперпараметров: {'n_estimators': 125, 'min_samples_leaf': 2, 'max_depth': 25, 'criterion': 'entropy'}\n"
     ]
    }
   ],
   "source": [
    "# создаем объект класса RandomizedSearch\n",
    "rscv_rf_clf = model_selection.RandomizedSearchCV(\n",
    "    estimator=get_estimator_rf_clf(), \n",
    "    param_distributions=param_grid_rf_cls,\n",
    "    cv=CV_FOLDS, \n",
    "    n_jobs=CPU,\n",
    "    n_iter=N_ITER \n",
    ")\n",
    "\n",
    "# обучаем модель на кросс-валидации\n",
    "%time rscv_rf_clf.fit(X_train, y_train) \n",
    "\n",
    "print(f'Наилучшие значения гиперпараметров: {rscv_rf_clf.best_params_}')"
   ]
  },
  {
   "cell_type": "code",
   "execution_count": 36,
   "metadata": {},
   "outputs": [
    {
     "name": "stdout",
     "output_type": "stream",
     "text": [
      "-= RandomForestClassifier, RandomizedSearchCV =-\n",
      "f1_score на тестовом наборе: 0.803\n",
      "\n",
      "f1_score на тренировочном наборе: 0.995\n",
      "accuracy на валидационном наборе: 0.801\n",
      "f1_score на валидационном наборе: 0.819\n",
      "Наилучшие значения гиперпараметров: {'n_estimators': 125, 'min_samples_leaf': 2, 'max_depth': 25, 'criterion': 'entropy'}\n"
     ]
    }
   ],
   "source": [
    "# рассчитываем и выводим метрики\n",
    "get_model_metrics(\n",
    "    get_estimator_rf_clf(**rscv_rf_clf.best_params_), \n",
    "    rscv_rf_clf.__class__.__name__\n",
    ")\n",
    "print(f'Наилучшие значения гиперпараметров: {rscv_rf_clf.best_params_}')"
   ]
  },
  {
   "attachments": {},
   "cell_type": "markdown",
   "metadata": {},
   "source": [
    "## 5.4. Hyperopt"
   ]
  },
  {
   "cell_type": "code",
   "execution_count": 37,
   "metadata": {},
   "outputs": [],
   "source": [
    "# пространство поиска гиперпараметров\n",
    "hyperopt_space_rf_clf = {\n",
    "    'n_estimators': hp.choice('n_estimators', rf_clf_N_estimators_values), \n",
    "    'max_depth': hp.choice('max_depth', rf_clf_max_depth_values),\n",
    "    'min_samples_leaf': hp.choice('min_samples_leaf', [2, 3]),\n",
    "    'criterion': hp.choice('criterion', ['gini', 'entropy'])\n",
    "}"
   ]
  },
  {
   "cell_type": "code",
   "execution_count": 38,
   "metadata": {},
   "outputs": [],
   "source": [
    "def hyperopt_rf_clf(\n",
    "        space_params:dict, \n",
    "        X_train_:pd.DataFrame=X_train, y_train_:pd.Series=y_train, \n",
    "        cv_:int=CV_FOLDS, \n",
    "    ) -> float | np.ndarray:\n",
    "    \"\"\" Функция поиска оптимальных гиперпараметров с помощью Hyperopt\n",
    "\n",
    "    Args:\n",
    "        space_params (dict): словарь-\"пространство\" гиперпараметров\n",
    "        X_train_ (pd.DataFrame, optional): тренировочный датасет. Defaults to X_train.\n",
    "        y_train_ (pd.Series, optional): тренировочный вектор целевых значений. Defaults to y_train.\n",
    "        cv_ (int, optional): числов фолдов на кросс-валидации. Defaults to 5.\n",
    "\n",
    "    Returns:\n",
    "        score (float | np.ndarray): метрика | массив метрик\n",
    "    \"\"\"\n",
    "\n",
    "    # повторяющиеся параметры пространства\n",
    "    params = {\n",
    "        'n_estimators': space_params['n_estimators'], \n",
    "        'max_depth': space_params['max_depth'],\n",
    "        'min_samples_leaf': space_params['min_samples_leaf'],\n",
    "        'criterion': space_params['criterion']\n",
    "    }\n",
    "\n",
    "    # обучаем модель на кросс-валидации\n",
    "    score = model_selection.cross_val_score(\n",
    "        get_estimator_rf_clf(**params), \n",
    "        X_train_, y_train_, \n",
    "        cv=cv_, \n",
    "        scoring='f1', \n",
    "        n_jobs=CPU\n",
    "        ).mean()\n",
    "    \n",
    "    # метрику необходимо минимизировать, поэтому ставим знак минус,\n",
    "    # возвращая инвертированное значение\n",
    "    return -score"
   ]
  },
  {
   "cell_type": "code",
   "execution_count": 39,
   "metadata": {},
   "outputs": [
    {
     "name": "stdout",
     "output_type": "stream",
     "text": [
      "100%|██████████| 25/25 [00:37<00:00,  1.51s/trial, best loss: -0.8188571186886069]\n",
      "Наилучшие значения гиперпараметров \n",
      "{'criterion': 'entropy', 'max_depth': 25, 'min_samples_leaf': 2, 'n_estimators': 125}\n",
      "CPU times: total: 844 ms\n",
      "Wall time: 37.8 s\n"
     ]
    }
   ],
   "source": [
    "%%time\n",
    "## расчёты для hyperopt_space_rf_clf\n",
    "trials_hyperopt_rf_clf = Trials()               # используется для логирования результатов\n",
    "\n",
    "study_hyperopt_rf_clf = fmin(\n",
    "    fn=partial(\n",
    "        hyperopt_rf_clf, \n",
    "        X_train_=X_train, y_train_=y_train,\n",
    "        cv_=CV_FOLDS,\n",
    "    ),                                          # наша функция\n",
    "    space=hyperopt_space_rf_clf,                # пространство гиперпараметров\n",
    "    algo=tpe.suggest,                           # алгоритм оптимизации, установлен по умолчанию, задавать необязательно\n",
    "    max_evals=MAX_EVALS,                        # максимальное количество итераций\n",
    "    trials=trials_hyperopt_rf_clf,              # логирование результатов\n",
    "    rstate=np.random.default_rng(RANDOM_SEED)   # фиксируем для повторяемости результата\n",
    ")\n",
    "\n",
    "print(f'Наилучшие значения гиперпараметров \\n' \\\n",
    "    f'{hyperopt.space_eval(hyperopt_space_rf_clf, study_hyperopt_rf_clf)}')"
   ]
  },
  {
   "cell_type": "code",
   "execution_count": 40,
   "metadata": {},
   "outputs": [
    {
     "name": "stdout",
     "output_type": "stream",
     "text": [
      "-= RandomForestClassifier, Hyperopt =-\n",
      "f1_score на тестовом наборе: 0.803\n",
      "\n",
      "f1_score на тренировочном наборе: 0.995\n",
      "accuracy на валидационном наборе: 0.801\n",
      "f1_score на валидационном наборе: 0.819\n",
      "Наилучшие значения гиперпараметров \n",
      "{'criterion': 'entropy', 'max_depth': 25, 'min_samples_leaf': 2, 'n_estimators': 125}\n"
     ]
    }
   ],
   "source": [
    "# рассчитываем и выводим метрики\n",
    "# type: ignore\n",
    "get_model_metrics(\n",
    "    get_estimator_rf_clf(**hyperopt.space_eval(hyperopt_space_rf_clf, study_hyperopt_rf_clf)), \n",
    "    str(trials_hyperopt_rf_clf).split('.')[0].split('<')[1].capitalize()\n",
    ")\n",
    "print(f'Наилучшие значения гиперпараметров \\n' \\\n",
    "    f'{hyperopt.space_eval(hyperopt_space_rf_clf, study_hyperopt_rf_clf)}')"
   ]
  },
  {
   "attachments": {},
   "cell_type": "markdown",
   "metadata": {},
   "source": [
    "## 5.5. Optuna"
   ]
  },
  {
   "cell_type": "code",
   "execution_count": 41,
   "metadata": {},
   "outputs": [],
   "source": [
    "def optuna_rf_clf(trial) -> float | np.ndarray:\n",
    "    \"\"\" Функция, обучающая модель RandomForestClassifier по имеющимся гиперпараметрам набора\n",
    "\n",
    "    Args:\n",
    "        trial: класс вызова гиперпараметров\n",
    "\n",
    "    Returns:\n",
    "        score (float | np.ndarray): метрика | массив метрик\n",
    "    \"\"\"\n",
    "\n",
    "    # задаем пространство поиска гиперпараметров\n",
    "    params_ = {\n",
    "        'n_estimators': Trial.suggest_categorical(trial, 'n_estimators', rf_clf_N_estimators_values),\n",
    "        'max_depth': Trial.suggest_categorical(trial, 'max_depth', rf_clf_max_depth_values),\n",
    "        'min_samples_leaf': Trial.suggest_categorical(trial, 'min_samples_leaf', [2, 3]),\n",
    "        'criterion': Trial.suggest_categorical(trial, 'criterion', ['gini', 'entropy'])\n",
    "    }\n",
    "    \n",
    "    # обучаем модель на кросс-валидации\n",
    "    score = model_selection.cross_val_score(\n",
    "        get_estimator_rf_clf(**params_), \n",
    "        X_train, y_train, \n",
    "        cv=CV_FOLDS, \n",
    "        scoring='f1', \n",
    "        n_jobs=CPU\n",
    "        ).mean()\n",
    "\n",
    "    return score"
   ]
  },
  {
   "cell_type": "code",
   "execution_count": 42,
   "metadata": {},
   "outputs": [
    {
     "name": "stderr",
     "output_type": "stream",
     "text": [
      "\u001b[32m[I 2023-05-01 16:32:23,645]\u001b[0m A new study created in memory with name: RandomForestClassifier\u001b[0m\n",
      "\u001b[32m[I 2023-05-01 16:32:25,036]\u001b[0m Trial 0 finished with value: 0.8124347927591806 and parameters: {'n_estimators': 100, 'max_depth': 30, 'min_samples_leaf': 3, 'criterion': 'entropy'}. Best is trial 0 with value: 0.8124347927591806.\u001b[0m\n",
      "\u001b[32m[I 2023-05-01 16:32:26,096]\u001b[0m Trial 1 finished with value: 0.751856445956867 and parameters: {'n_estimators': 150, 'max_depth': 5, 'min_samples_leaf': 2, 'criterion': 'entropy'}. Best is trial 0 with value: 0.8124347927591806.\u001b[0m\n",
      "\u001b[32m[I 2023-05-01 16:32:27,585]\u001b[0m Trial 2 finished with value: 0.8110836198212501 and parameters: {'n_estimators': 100, 'max_depth': 20, 'min_samples_leaf': 3, 'criterion': 'entropy'}. Best is trial 0 with value: 0.8124347927591806.\u001b[0m\n",
      "\u001b[32m[I 2023-05-01 16:32:29,257]\u001b[0m Trial 3 finished with value: 0.8154940155407129 and parameters: {'n_estimators': 125, 'max_depth': 25, 'min_samples_leaf': 2, 'criterion': 'gini'}. Best is trial 3 with value: 0.8154940155407129.\u001b[0m\n",
      "\u001b[32m[I 2023-05-01 16:32:31,785]\u001b[0m Trial 4 finished with value: 0.8185362678823683 and parameters: {'n_estimators': 200, 'max_depth': 30, 'min_samples_leaf': 2, 'criterion': 'entropy'}. Best is trial 4 with value: 0.8185362678823683.\u001b[0m\n",
      "\u001b[32m[I 2023-05-01 16:32:33,191]\u001b[0m Trial 5 finished with value: 0.8124347927591806 and parameters: {'n_estimators': 100, 'max_depth': 30, 'min_samples_leaf': 3, 'criterion': 'entropy'}. Best is trial 4 with value: 0.8185362678823683.\u001b[0m\n",
      "\u001b[32m[I 2023-05-01 16:32:34,075]\u001b[0m Trial 6 finished with value: 0.812880707934681 and parameters: {'n_estimators': 50, 'max_depth': 30, 'min_samples_leaf': 2, 'criterion': 'entropy'}. Best is trial 4 with value: 0.8185362678823683.\u001b[0m\n",
      "\u001b[32m[I 2023-05-01 16:32:34,723]\u001b[0m Trial 7 finished with value: 0.7501959178770847 and parameters: {'n_estimators': 50, 'max_depth': 5, 'min_samples_leaf': 2, 'criterion': 'entropy'}. Best is trial 4 with value: 0.8185362678823683.\u001b[0m\n",
      "\u001b[32m[I 2023-05-01 16:32:36,306]\u001b[0m Trial 8 finished with value: 0.7966368173839857 and parameters: {'n_estimators': 150, 'max_depth': 10, 'min_samples_leaf': 2, 'criterion': 'entropy'}. Best is trial 4 with value: 0.8185362678823683.\u001b[0m\n",
      "\u001b[32m[I 2023-05-01 16:32:38,256]\u001b[0m Trial 9 finished with value: 0.8139756928924872 and parameters: {'n_estimators': 150, 'max_depth': 30, 'min_samples_leaf': 3, 'criterion': 'entropy'}. Best is trial 4 with value: 0.8185362678823683.\u001b[0m\n",
      "\u001b[32m[I 2023-05-01 16:32:40,546]\u001b[0m Trial 10 finished with value: 0.811840741666451 and parameters: {'n_estimators': 200, 'max_depth': 15, 'min_samples_leaf': 2, 'criterion': 'gini'}. Best is trial 4 with value: 0.8185362678823683.\u001b[0m\n",
      "\u001b[32m[I 2023-05-01 16:32:42,167]\u001b[0m Trial 11 finished with value: 0.8154940155407129 and parameters: {'n_estimators': 125, 'max_depth': 25, 'min_samples_leaf': 2, 'criterion': 'gini'}. Best is trial 4 with value: 0.8185362678823683.\u001b[0m\n",
      "\u001b[32m[I 2023-05-01 16:32:43,728]\u001b[0m Trial 12 finished with value: 0.8154940155407129 and parameters: {'n_estimators': 125, 'max_depth': 25, 'min_samples_leaf': 2, 'criterion': 'gini'}. Best is trial 4 with value: 0.8185362678823683.\u001b[0m\n",
      "\u001b[32m[I 2023-05-01 16:32:44,816]\u001b[0m Trial 13 finished with value: 0.815398701568802 and parameters: {'n_estimators': 75, 'max_depth': 25, 'min_samples_leaf': 2, 'criterion': 'gini'}. Best is trial 4 with value: 0.8185362678823683.\u001b[0m\n",
      "\u001b[32m[I 2023-05-01 16:32:47,010]\u001b[0m Trial 14 finished with value: 0.811840741666451 and parameters: {'n_estimators': 200, 'max_depth': 15, 'min_samples_leaf': 2, 'criterion': 'gini'}. Best is trial 4 with value: 0.8185362678823683.\u001b[0m\n",
      "\u001b[32m[I 2023-05-01 16:32:48,661]\u001b[0m Trial 15 finished with value: 0.8010306103106111 and parameters: {'n_estimators': 175, 'max_depth': 10, 'min_samples_leaf': 2, 'criterion': 'gini'}. Best is trial 4 with value: 0.8185362678823683.\u001b[0m\n",
      "\u001b[32m[I 2023-05-01 16:32:50,254]\u001b[0m Trial 16 finished with value: 0.8174464936981876 and parameters: {'n_estimators': 125, 'max_depth': 20, 'min_samples_leaf': 2, 'criterion': 'gini'}. Best is trial 4 with value: 0.8185362678823683.\u001b[0m\n",
      "\u001b[32m[I 2023-05-01 16:32:52,542]\u001b[0m Trial 17 finished with value: 0.8151896582422979 and parameters: {'n_estimators': 200, 'max_depth': 20, 'min_samples_leaf': 2, 'criterion': 'gini'}. Best is trial 4 with value: 0.8185362678823683.\u001b[0m\n",
      "\u001b[32m[I 2023-05-01 16:32:54,657]\u001b[0m Trial 18 finished with value: 0.8104342255360729 and parameters: {'n_estimators': 175, 'max_depth': 20, 'min_samples_leaf': 3, 'criterion': 'entropy'}. Best is trial 4 with value: 0.8185362678823683.\u001b[0m\n",
      "\u001b[32m[I 2023-05-01 16:32:55,785]\u001b[0m Trial 19 finished with value: 0.8122350135842025 and parameters: {'n_estimators': 75, 'max_depth': 20, 'min_samples_leaf': 2, 'criterion': 'gini'}. Best is trial 4 with value: 0.8185362678823683.\u001b[0m\n",
      "\u001b[32m[I 2023-05-01 16:32:58,239]\u001b[0m Trial 20 finished with value: 0.8205011489706846 and parameters: {'n_estimators': 200, 'max_depth': 20, 'min_samples_leaf': 2, 'criterion': 'entropy'}. Best is trial 20 with value: 0.8205011489706846.\u001b[0m\n",
      "\u001b[32m[I 2023-05-01 16:33:00,724]\u001b[0m Trial 21 finished with value: 0.8205011489706846 and parameters: {'n_estimators': 200, 'max_depth': 20, 'min_samples_leaf': 2, 'criterion': 'entropy'}. Best is trial 20 with value: 0.8205011489706846.\u001b[0m\n",
      "\u001b[32m[I 2023-05-01 16:33:03,231]\u001b[0m Trial 22 finished with value: 0.8205011489706846 and parameters: {'n_estimators': 200, 'max_depth': 20, 'min_samples_leaf': 2, 'criterion': 'entropy'}. Best is trial 20 with value: 0.8205011489706846.\u001b[0m\n",
      "\u001b[32m[I 2023-05-01 16:33:05,872]\u001b[0m Trial 23 finished with value: 0.8205011489706846 and parameters: {'n_estimators': 200, 'max_depth': 20, 'min_samples_leaf': 2, 'criterion': 'entropy'}. Best is trial 20 with value: 0.8205011489706846.\u001b[0m\n",
      "\u001b[32m[I 2023-05-01 16:33:08,338]\u001b[0m Trial 24 finished with value: 0.8205011489706846 and parameters: {'n_estimators': 200, 'max_depth': 20, 'min_samples_leaf': 2, 'criterion': 'entropy'}. Best is trial 20 with value: 0.8205011489706846.\u001b[0m\n"
     ]
    },
    {
     "name": "stdout",
     "output_type": "stream",
     "text": [
      "Наилучшие значения гиперпараметров {'n_estimators': 200, 'max_depth': 20, 'min_samples_leaf': 2, 'criterion': 'entropy'}\n",
      "CPU times: total: 812 ms\n",
      "Wall time: 44.7 s\n"
     ]
    }
   ],
   "source": [
    "%%time\n",
    "# cоздаем объект исследования для набора гиперпараметров\n",
    "optuna_study_rf_clf = study.create_study(\n",
    "    study_name='RandomForestClassifier', \n",
    "    direction='maximize'\n",
    ")\n",
    "\n",
    "# ищем лучшую комбинацию гиперпараметров n_trials раз\n",
    "optuna_study_rf_clf.optimize(optuna_rf_clf, n_trials=N_TRIALS)\n",
    "\n",
    "print(f'Наилучшие значения гиперпараметров {optuna_study_rf_clf.best_params}')"
   ]
  },
  {
   "cell_type": "code",
   "execution_count": 43,
   "metadata": {},
   "outputs": [
    {
     "name": "stdout",
     "output_type": "stream",
     "text": [
      "-= RandomForestClassifier, Optuna =-\n",
      "f1_score на тестовом наборе: 0.809\n",
      "\n",
      "f1_score на тренировочном наборе: 0.994\n",
      "accuracy на валидационном наборе: 0.803\n",
      "f1_score на валидационном наборе: 0.821\n",
      "Наилучшие значения гиперпараметров {'n_estimators': 200, 'max_depth': 20, 'min_samples_leaf': 2, 'criterion': 'entropy'}\n"
     ]
    }
   ],
   "source": [
    "# рассчитываем и выводим метрики\n",
    "# type: ignore\n",
    "get_model_metrics(\n",
    "    get_estimator_rf_clf(**optuna_study_rf_clf.best_params), \n",
    "    str(optuna_study_rf_clf).split('.')[0].split('<')[1].capitalize()\n",
    ")\n",
    "print(f'Наилучшие значения гиперпараметров {optuna_study_rf_clf.best_params}')"
   ]
  },
  {
   "cell_type": "code",
   "execution_count": 44,
   "metadata": {},
   "outputs": [
    {
     "data": {
      "application/vnd.plotly.v1+json": {
       "config": {
        "plotlyServerURL": "https://plot.ly"
       },
       "data": [
        {
         "mode": "markers",
         "name": "f1_score",
         "type": "scatter",
         "x": [
          0,
          1,
          2,
          3,
          4,
          5,
          6,
          7,
          8,
          9,
          10,
          11,
          12,
          13,
          14,
          15,
          16,
          17,
          18,
          19,
          20,
          21,
          22,
          23,
          24
         ],
         "y": [
          0.8124347927591806,
          0.751856445956867,
          0.8110836198212501,
          0.8154940155407129,
          0.8185362678823683,
          0.8124347927591806,
          0.812880707934681,
          0.7501959178770847,
          0.7966368173839857,
          0.8139756928924872,
          0.811840741666451,
          0.8154940155407129,
          0.8154940155407129,
          0.815398701568802,
          0.811840741666451,
          0.8010306103106111,
          0.8174464936981876,
          0.8151896582422979,
          0.8104342255360729,
          0.8122350135842025,
          0.8205011489706846,
          0.8205011489706846,
          0.8205011489706846,
          0.8205011489706846,
          0.8205011489706846
         ]
        },
        {
         "name": "Best Value",
         "type": "scatter",
         "x": [
          0,
          1,
          2,
          3,
          4,
          5,
          6,
          7,
          8,
          9,
          10,
          11,
          12,
          13,
          14,
          15,
          16,
          17,
          18,
          19,
          20,
          21,
          22,
          23,
          24
         ],
         "y": [
          0.8124347927591806,
          0.8124347927591806,
          0.8124347927591806,
          0.8154940155407129,
          0.8185362678823683,
          0.8185362678823683,
          0.8185362678823683,
          0.8185362678823683,
          0.8185362678823683,
          0.8185362678823683,
          0.8185362678823683,
          0.8185362678823683,
          0.8185362678823683,
          0.8185362678823683,
          0.8185362678823683,
          0.8185362678823683,
          0.8185362678823683,
          0.8185362678823683,
          0.8185362678823683,
          0.8185362678823683,
          0.8205011489706846,
          0.8205011489706846,
          0.8205011489706846,
          0.8205011489706846,
          0.8205011489706846
         ]
        }
       ],
       "layout": {
        "template": {
         "data": {
          "bar": [
           {
            "error_x": {
             "color": "#2a3f5f"
            },
            "error_y": {
             "color": "#2a3f5f"
            },
            "marker": {
             "line": {
              "color": "#E5ECF6",
              "width": 0.5
             },
             "pattern": {
              "fillmode": "overlay",
              "size": 10,
              "solidity": 0.2
             }
            },
            "type": "bar"
           }
          ],
          "barpolar": [
           {
            "marker": {
             "line": {
              "color": "#E5ECF6",
              "width": 0.5
             },
             "pattern": {
              "fillmode": "overlay",
              "size": 10,
              "solidity": 0.2
             }
            },
            "type": "barpolar"
           }
          ],
          "carpet": [
           {
            "aaxis": {
             "endlinecolor": "#2a3f5f",
             "gridcolor": "white",
             "linecolor": "white",
             "minorgridcolor": "white",
             "startlinecolor": "#2a3f5f"
            },
            "baxis": {
             "endlinecolor": "#2a3f5f",
             "gridcolor": "white",
             "linecolor": "white",
             "minorgridcolor": "white",
             "startlinecolor": "#2a3f5f"
            },
            "type": "carpet"
           }
          ],
          "choropleth": [
           {
            "colorbar": {
             "outlinewidth": 0,
             "ticks": ""
            },
            "type": "choropleth"
           }
          ],
          "contour": [
           {
            "colorbar": {
             "outlinewidth": 0,
             "ticks": ""
            },
            "colorscale": [
             [
              0,
              "#0d0887"
             ],
             [
              0.1111111111111111,
              "#46039f"
             ],
             [
              0.2222222222222222,
              "#7201a8"
             ],
             [
              0.3333333333333333,
              "#9c179e"
             ],
             [
              0.4444444444444444,
              "#bd3786"
             ],
             [
              0.5555555555555556,
              "#d8576b"
             ],
             [
              0.6666666666666666,
              "#ed7953"
             ],
             [
              0.7777777777777778,
              "#fb9f3a"
             ],
             [
              0.8888888888888888,
              "#fdca26"
             ],
             [
              1,
              "#f0f921"
             ]
            ],
            "type": "contour"
           }
          ],
          "contourcarpet": [
           {
            "colorbar": {
             "outlinewidth": 0,
             "ticks": ""
            },
            "type": "contourcarpet"
           }
          ],
          "heatmap": [
           {
            "colorbar": {
             "outlinewidth": 0,
             "ticks": ""
            },
            "colorscale": [
             [
              0,
              "#0d0887"
             ],
             [
              0.1111111111111111,
              "#46039f"
             ],
             [
              0.2222222222222222,
              "#7201a8"
             ],
             [
              0.3333333333333333,
              "#9c179e"
             ],
             [
              0.4444444444444444,
              "#bd3786"
             ],
             [
              0.5555555555555556,
              "#d8576b"
             ],
             [
              0.6666666666666666,
              "#ed7953"
             ],
             [
              0.7777777777777778,
              "#fb9f3a"
             ],
             [
              0.8888888888888888,
              "#fdca26"
             ],
             [
              1,
              "#f0f921"
             ]
            ],
            "type": "heatmap"
           }
          ],
          "heatmapgl": [
           {
            "colorbar": {
             "outlinewidth": 0,
             "ticks": ""
            },
            "colorscale": [
             [
              0,
              "#0d0887"
             ],
             [
              0.1111111111111111,
              "#46039f"
             ],
             [
              0.2222222222222222,
              "#7201a8"
             ],
             [
              0.3333333333333333,
              "#9c179e"
             ],
             [
              0.4444444444444444,
              "#bd3786"
             ],
             [
              0.5555555555555556,
              "#d8576b"
             ],
             [
              0.6666666666666666,
              "#ed7953"
             ],
             [
              0.7777777777777778,
              "#fb9f3a"
             ],
             [
              0.8888888888888888,
              "#fdca26"
             ],
             [
              1,
              "#f0f921"
             ]
            ],
            "type": "heatmapgl"
           }
          ],
          "histogram": [
           {
            "marker": {
             "pattern": {
              "fillmode": "overlay",
              "size": 10,
              "solidity": 0.2
             }
            },
            "type": "histogram"
           }
          ],
          "histogram2d": [
           {
            "colorbar": {
             "outlinewidth": 0,
             "ticks": ""
            },
            "colorscale": [
             [
              0,
              "#0d0887"
             ],
             [
              0.1111111111111111,
              "#46039f"
             ],
             [
              0.2222222222222222,
              "#7201a8"
             ],
             [
              0.3333333333333333,
              "#9c179e"
             ],
             [
              0.4444444444444444,
              "#bd3786"
             ],
             [
              0.5555555555555556,
              "#d8576b"
             ],
             [
              0.6666666666666666,
              "#ed7953"
             ],
             [
              0.7777777777777778,
              "#fb9f3a"
             ],
             [
              0.8888888888888888,
              "#fdca26"
             ],
             [
              1,
              "#f0f921"
             ]
            ],
            "type": "histogram2d"
           }
          ],
          "histogram2dcontour": [
           {
            "colorbar": {
             "outlinewidth": 0,
             "ticks": ""
            },
            "colorscale": [
             [
              0,
              "#0d0887"
             ],
             [
              0.1111111111111111,
              "#46039f"
             ],
             [
              0.2222222222222222,
              "#7201a8"
             ],
             [
              0.3333333333333333,
              "#9c179e"
             ],
             [
              0.4444444444444444,
              "#bd3786"
             ],
             [
              0.5555555555555556,
              "#d8576b"
             ],
             [
              0.6666666666666666,
              "#ed7953"
             ],
             [
              0.7777777777777778,
              "#fb9f3a"
             ],
             [
              0.8888888888888888,
              "#fdca26"
             ],
             [
              1,
              "#f0f921"
             ]
            ],
            "type": "histogram2dcontour"
           }
          ],
          "mesh3d": [
           {
            "colorbar": {
             "outlinewidth": 0,
             "ticks": ""
            },
            "type": "mesh3d"
           }
          ],
          "parcoords": [
           {
            "line": {
             "colorbar": {
              "outlinewidth": 0,
              "ticks": ""
             }
            },
            "type": "parcoords"
           }
          ],
          "pie": [
           {
            "automargin": true,
            "type": "pie"
           }
          ],
          "scatter": [
           {
            "fillpattern": {
             "fillmode": "overlay",
             "size": 10,
             "solidity": 0.2
            },
            "type": "scatter"
           }
          ],
          "scatter3d": [
           {
            "line": {
             "colorbar": {
              "outlinewidth": 0,
              "ticks": ""
             }
            },
            "marker": {
             "colorbar": {
              "outlinewidth": 0,
              "ticks": ""
             }
            },
            "type": "scatter3d"
           }
          ],
          "scattercarpet": [
           {
            "marker": {
             "colorbar": {
              "outlinewidth": 0,
              "ticks": ""
             }
            },
            "type": "scattercarpet"
           }
          ],
          "scattergeo": [
           {
            "marker": {
             "colorbar": {
              "outlinewidth": 0,
              "ticks": ""
             }
            },
            "type": "scattergeo"
           }
          ],
          "scattergl": [
           {
            "marker": {
             "colorbar": {
              "outlinewidth": 0,
              "ticks": ""
             }
            },
            "type": "scattergl"
           }
          ],
          "scattermapbox": [
           {
            "marker": {
             "colorbar": {
              "outlinewidth": 0,
              "ticks": ""
             }
            },
            "type": "scattermapbox"
           }
          ],
          "scatterpolar": [
           {
            "marker": {
             "colorbar": {
              "outlinewidth": 0,
              "ticks": ""
             }
            },
            "type": "scatterpolar"
           }
          ],
          "scatterpolargl": [
           {
            "marker": {
             "colorbar": {
              "outlinewidth": 0,
              "ticks": ""
             }
            },
            "type": "scatterpolargl"
           }
          ],
          "scatterternary": [
           {
            "marker": {
             "colorbar": {
              "outlinewidth": 0,
              "ticks": ""
             }
            },
            "type": "scatterternary"
           }
          ],
          "surface": [
           {
            "colorbar": {
             "outlinewidth": 0,
             "ticks": ""
            },
            "colorscale": [
             [
              0,
              "#0d0887"
             ],
             [
              0.1111111111111111,
              "#46039f"
             ],
             [
              0.2222222222222222,
              "#7201a8"
             ],
             [
              0.3333333333333333,
              "#9c179e"
             ],
             [
              0.4444444444444444,
              "#bd3786"
             ],
             [
              0.5555555555555556,
              "#d8576b"
             ],
             [
              0.6666666666666666,
              "#ed7953"
             ],
             [
              0.7777777777777778,
              "#fb9f3a"
             ],
             [
              0.8888888888888888,
              "#fdca26"
             ],
             [
              1,
              "#f0f921"
             ]
            ],
            "type": "surface"
           }
          ],
          "table": [
           {
            "cells": {
             "fill": {
              "color": "#EBF0F8"
             },
             "line": {
              "color": "white"
             }
            },
            "header": {
             "fill": {
              "color": "#C8D4E3"
             },
             "line": {
              "color": "white"
             }
            },
            "type": "table"
           }
          ]
         },
         "layout": {
          "annotationdefaults": {
           "arrowcolor": "#2a3f5f",
           "arrowhead": 0,
           "arrowwidth": 1
          },
          "autotypenumbers": "strict",
          "coloraxis": {
           "colorbar": {
            "outlinewidth": 0,
            "ticks": ""
           }
          },
          "colorscale": {
           "diverging": [
            [
             0,
             "#8e0152"
            ],
            [
             0.1,
             "#c51b7d"
            ],
            [
             0.2,
             "#de77ae"
            ],
            [
             0.3,
             "#f1b6da"
            ],
            [
             0.4,
             "#fde0ef"
            ],
            [
             0.5,
             "#f7f7f7"
            ],
            [
             0.6,
             "#e6f5d0"
            ],
            [
             0.7,
             "#b8e186"
            ],
            [
             0.8,
             "#7fbc41"
            ],
            [
             0.9,
             "#4d9221"
            ],
            [
             1,
             "#276419"
            ]
           ],
           "sequential": [
            [
             0,
             "#0d0887"
            ],
            [
             0.1111111111111111,
             "#46039f"
            ],
            [
             0.2222222222222222,
             "#7201a8"
            ],
            [
             0.3333333333333333,
             "#9c179e"
            ],
            [
             0.4444444444444444,
             "#bd3786"
            ],
            [
             0.5555555555555556,
             "#d8576b"
            ],
            [
             0.6666666666666666,
             "#ed7953"
            ],
            [
             0.7777777777777778,
             "#fb9f3a"
            ],
            [
             0.8888888888888888,
             "#fdca26"
            ],
            [
             1,
             "#f0f921"
            ]
           ],
           "sequentialminus": [
            [
             0,
             "#0d0887"
            ],
            [
             0.1111111111111111,
             "#46039f"
            ],
            [
             0.2222222222222222,
             "#7201a8"
            ],
            [
             0.3333333333333333,
             "#9c179e"
            ],
            [
             0.4444444444444444,
             "#bd3786"
            ],
            [
             0.5555555555555556,
             "#d8576b"
            ],
            [
             0.6666666666666666,
             "#ed7953"
            ],
            [
             0.7777777777777778,
             "#fb9f3a"
            ],
            [
             0.8888888888888888,
             "#fdca26"
            ],
            [
             1,
             "#f0f921"
            ]
           ]
          },
          "colorway": [
           "#636efa",
           "#EF553B",
           "#00cc96",
           "#ab63fa",
           "#FFA15A",
           "#19d3f3",
           "#FF6692",
           "#B6E880",
           "#FF97FF",
           "#FECB52"
          ],
          "font": {
           "color": "#2a3f5f"
          },
          "geo": {
           "bgcolor": "white",
           "lakecolor": "white",
           "landcolor": "#E5ECF6",
           "showlakes": true,
           "showland": true,
           "subunitcolor": "white"
          },
          "hoverlabel": {
           "align": "left"
          },
          "hovermode": "closest",
          "mapbox": {
           "style": "light"
          },
          "paper_bgcolor": "white",
          "plot_bgcolor": "#E5ECF6",
          "polar": {
           "angularaxis": {
            "gridcolor": "white",
            "linecolor": "white",
            "ticks": ""
           },
           "bgcolor": "#E5ECF6",
           "radialaxis": {
            "gridcolor": "white",
            "linecolor": "white",
            "ticks": ""
           }
          },
          "scene": {
           "xaxis": {
            "backgroundcolor": "#E5ECF6",
            "gridcolor": "white",
            "gridwidth": 2,
            "linecolor": "white",
            "showbackground": true,
            "ticks": "",
            "zerolinecolor": "white"
           },
           "yaxis": {
            "backgroundcolor": "#E5ECF6",
            "gridcolor": "white",
            "gridwidth": 2,
            "linecolor": "white",
            "showbackground": true,
            "ticks": "",
            "zerolinecolor": "white"
           },
           "zaxis": {
            "backgroundcolor": "#E5ECF6",
            "gridcolor": "white",
            "gridwidth": 2,
            "linecolor": "white",
            "showbackground": true,
            "ticks": "",
            "zerolinecolor": "white"
           }
          },
          "shapedefaults": {
           "line": {
            "color": "#2a3f5f"
           }
          },
          "ternary": {
           "aaxis": {
            "gridcolor": "white",
            "linecolor": "white",
            "ticks": ""
           },
           "baxis": {
            "gridcolor": "white",
            "linecolor": "white",
            "ticks": ""
           },
           "bgcolor": "#E5ECF6",
           "caxis": {
            "gridcolor": "white",
            "linecolor": "white",
            "ticks": ""
           }
          },
          "title": {
           "x": 0.05
          },
          "xaxis": {
           "automargin": true,
           "gridcolor": "white",
           "linecolor": "white",
           "ticks": "",
           "title": {
            "standoff": 15
           },
           "zerolinecolor": "white",
           "zerolinewidth": 2
          },
          "yaxis": {
           "automargin": true,
           "gridcolor": "white",
           "linecolor": "white",
           "ticks": "",
           "title": {
            "standoff": 15
           },
           "zerolinecolor": "white",
           "zerolinewidth": 2
          }
         }
        },
        "title": {
         "text": "Optimization History Plot"
        },
        "xaxis": {
         "title": {
          "text": "Trial"
         }
        },
        "yaxis": {
         "title": {
          "text": "f1_score"
         }
        }
       }
      }
     },
     "metadata": {},
     "output_type": "display_data"
    }
   ],
   "source": [
    "# type: ignore\n",
    "optuna.visualization.plot_optimization_history(optuna_study_rf_clf, target_name='f1_score')"
   ]
  },
  {
   "attachments": {},
   "cell_type": "markdown",
   "metadata": {},
   "source": [
    "# 6. Выводы"
   ]
  },
  {
   "attachments": {},
   "cell_type": "markdown",
   "metadata": {},
   "source": [
    "Исходя из поставленной задачи были обучены две модели с параметрами, установленным по умолчанию (Baseline):\n",
    "* логистической регрессии;\n",
    "* модель случайного леса.\n",
    "\n",
    "Далее были подобраны гиперпараметры каждой из моделей 4 способами и каждая из моделей обучена на кросс-валидации:\n",
    "* *GridSeachCV*,\n",
    "* *RandomizedSearchCV*,\n",
    "* *Hyperopt*,\n",
    "* *Optuna*. \n",
    "\n",
    "\n",
    "**Общие выводы:**\n",
    "\n",
    "* Все методы позволили существенно улучшить метрику базовых моделей;\n",
    "\n",
    "* В модели **RandomForestClassifier** настройки по умолчанию подобраны оптимальным образом, поэтому каждый метод поиска оптимальных гиперпараметров показал незначительное улучшение метрики f1-score. \n",
    "\n",
    "* Самый ресурснозатратный способ - сочетание модели **LogisticRegression** и *GridSeachCV*;\n",
    "\n",
    "* Самые лучшие метрики - сочетание модели **RandomForestClassifier** и *Optuna*;\n",
    "\n",
    "* Самые лучшие метрики и самый быстрый способ нахождения оптимальных гиперпараметров для **LogisticRegression** - *Optuna*;\n",
    "\n",
    "* Самые лучшие метрики и самый быстрый способ нахождения оптимальных гиперпараметров для моделей, поставленных в задаче - сочетание модели **RandomForestClassifier** и *RandomizedSearchCV*."
   ]
  }
 ],
 "metadata": {
  "kernelspec": {
   "display_name": "Python 3",
   "language": "python",
   "name": "python3"
  },
  "language_info": {
   "codemirror_mode": {
    "name": "ipython",
    "version": 3
   },
   "file_extension": ".py",
   "mimetype": "text/x-python",
   "name": "python",
   "nbconvert_exporter": "python",
   "pygments_lexer": "ipython3",
   "version": "3.10.7"
  },
  "orig_nbformat": 4
 },
 "nbformat": 4,
 "nbformat_minor": 2
}
