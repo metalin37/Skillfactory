{
  "nbformat": 4,
  "nbformat_minor": 0,
  "metadata": {
    "colab": {
      "name": "Предсказание_дохода.ipynb",
      "provenance": [],
      "collapsed_sections": []
    },
    "kernelspec": {
      "name": "python3",
      "display_name": "Python 3"
    },
    "accelerator": "GPU"
  },
  "cells": [
    {
      "cell_type": "markdown",
      "metadata": {
        "id": "Z2DiJyA-iYUt"
      },
      "source": [
        "# Предсказание   дохода\n",
        "\n"
      ]
    },
    {
      "cell_type": "markdown",
      "metadata": {
        "id": "aQKQZ5VLh8SW"
      },
      "source": [
        "Целью данной задачи является построение модели **классификации пользователей**: на вход модель будет принимать данные о человеке, а на выходе она должна предсказывать бинарный уровень дохода человека (больше или меньше 50000$ за год)."
      ]
    },
    {
      "cell_type": "markdown",
      "source": [
        "## Загрузка библиотек"
      ],
      "metadata": {
        "id": "35Hlf5Umd5mO"
      }
    },
    {
      "cell_type": "code",
      "metadata": {
        "id": "lQq3pQRJ1B-B"
      },
      "source": [
        "import pandas as pd\n",
        "import numpy as np\n",
        "import matplotlib.pyplot as plt\n",
        "\n",
        "#магическая команда, указывает, что графики нужно строить прямо в ноутбуке: \n",
        "%matplotlib inline "
      ],
      "execution_count": null,
      "outputs": []
    },
    {
      "cell_type": "code",
      "source": [
        "#!pip install comet_ml"
      ],
      "metadata": {
        "id": "69VzfYOpg_vg"
      },
      "execution_count": null,
      "outputs": []
    },
    {
      "cell_type": "code",
      "source": [
        "from comet_ml import Experiment"
      ],
      "metadata": {
        "id": "2rU2GDJQg7Y_"
      },
      "execution_count": null,
      "outputs": []
    },
    {
      "cell_type": "code",
      "source": [
        "#@title CometML set up\n",
        "project_name = 'predict-income'\n",
        "workspace = 'ketrint'\n",
        "api_key = ''"
      ],
      "metadata": {
        "id": "oy_whkH25Svt"
      },
      "execution_count": null,
      "outputs": []
    },
    {
      "cell_type": "code",
      "source": [
        "experiment = Experiment(project_name=project_name, workspace=workspace, api_key = api_key, log_code=True)"
      ],
      "metadata": {
        "id": "2uq610Sp5Q7T"
      },
      "execution_count": null,
      "outputs": []
    },
    {
      "cell_type": "markdown",
      "metadata": {
        "id": "4Y4KR8xhY7DT"
      },
      "source": [
        "## Загрузка данных"
      ]
    },
    {
      "cell_type": "code",
      "metadata": {
        "id": "PcIX5bQHSVvR"
      },
      "source": [
        "%%capture\n",
        "!wget https://www.dropbox.com/s/1hfrcm09qtvoeoz/train.csv\n",
        "!wget https://www.dropbox.com/s/jj7c8r0x57zda0a/test.csv"
      ],
      "execution_count": null,
      "outputs": []
    },
    {
      "cell_type": "code",
      "metadata": {
        "id": "IxJX3snvCSWk"
      },
      "source": [
        "training_data = pd.read_csv('train.csv')\n",
        "test_data = pd.read_csv('test.csv')"
      ],
      "execution_count": null,
      "outputs": []
    },
    {
      "cell_type": "code",
      "metadata": {
        "id": "wRwTO3aOTDyJ"
      },
      "source": [
        "training_data.head()"
      ],
      "execution_count": null,
      "outputs": []
    },
    {
      "cell_type": "markdown",
      "metadata": {
        "id": "q73WSH86CpLG"
      },
      "source": [
        "Проверим размерности наших файлов:"
      ]
    },
    {
      "cell_type": "code",
      "metadata": {
        "id": "KFkoCnueTLNo"
      },
      "source": [
        "training_data.shape, test_data.shape"
      ],
      "execution_count": null,
      "outputs": []
    },
    {
      "cell_type": "markdown",
      "metadata": {
        "id": "pBQO2lYwLjWL"
      },
      "source": [
        "**Работаем с целевой переменной**\n",
        "\n"
      ]
    },
    {
      "cell_type": "code",
      "metadata": {
        "id": "R7nASgBNLqs7"
      },
      "source": [
        "target_name = 'income'"
      ],
      "execution_count": null,
      "outputs": []
    },
    {
      "cell_type": "code",
      "metadata": {
        "id": "aQEHV1oWiJm5"
      },
      "source": [
        "y_train = training_data[target_name]\n",
        "y_test = test_data[target_name]\n",
        "\n",
        "X_train = training_data.drop(columns=[target_name])\n",
        "X_test = test_data.drop(columns=[target_name])"
      ],
      "execution_count": null,
      "outputs": []
    },
    {
      "cell_type": "markdown",
      "metadata": {
        "id": "GZVzIXWCiUL0"
      },
      "source": [
        "**Оценка сбалансированности выборки**"
      ]
    },
    {
      "cell_type": "code",
      "metadata": {
        "id": "1mQwk5PJidAs"
      },
      "source": [
        "y_train.value_counts(normalize=True)"
      ],
      "execution_count": null,
      "outputs": []
    },
    {
      "cell_type": "markdown",
      "metadata": {
        "id": "UeUYHhsXipCF"
      },
      "source": [
        "Таким образом, имеем задачу **несбалансированной бинарной классификации**. "
      ]
    },
    {
      "cell_type": "markdown",
      "metadata": {
        "id": "wb9oWB7Qasok"
      },
      "source": [
        "## Общая статистика по числовым данным\n",
        "\n"
      ]
    },
    {
      "cell_type": "code",
      "metadata": {
        "id": "3qsVchVHTOHj"
      },
      "source": [
        "X_train.describe().T"
      ],
      "execution_count": null,
      "outputs": []
    },
    {
      "cell_type": "code",
      "metadata": {
        "id": "-dkUNB3honuW"
      },
      "source": [
        "X_train.hist(figsize=(12,8))\n",
        "experiment.log_figure('X_train_numeric_distr', plt)"
      ],
      "execution_count": null,
      "outputs": []
    },
    {
      "cell_type": "markdown",
      "metadata": {
        "id": "Q2UidrVYDVC8"
      },
      "source": [
        "Что мы можем увидеть из результатов?\n",
        "* Числовых переменных в исходных данных только 4;\n",
        "* Возраст пользователя варьируется в диапазоне от 17 до 90 лет и в среднем составляет 39 лет;\n",
        "* Видим пропуски в признаках capital-gain и capital-loss (значение count меньше размера данных). По гистограмме можно заметить, что большое количество значений в этих признаках - это просто нули;"
      ]
    },
    {
      "cell_type": "markdown",
      "metadata": {
        "id": "Y8tSidMjcZDb"
      },
      "source": [
        "## Предобработка данных"
      ]
    },
    {
      "cell_type": "markdown",
      "metadata": {
        "id": "bELiiw08d6d2"
      },
      "source": [
        "### Проверка на наличие пропусков и типов переменных\n",
        "\n"
      ]
    },
    {
      "cell_type": "code",
      "metadata": {
        "id": "uWw94acacZY0"
      },
      "source": [
        "X_train.info()"
      ],
      "execution_count": null,
      "outputs": []
    },
    {
      "cell_type": "markdown",
      "metadata": {
        "id": "PqNXnlFTpt7Q"
      },
      "source": [
        "Типы в наших данных:\n",
        "* 8 признаков типа **object** - обычно это строковые значения;\n",
        "* 3 признака типа **int64** - целочисленные значения;\n",
        "* 2 признака типа **float64** - числа с плавающей запятой. "
      ]
    },
    {
      "cell_type": "markdown",
      "metadata": {
        "id": "LA9sLCkDZsqX"
      },
      "source": [
        "Кроме этого, мы видим, что признаки *workclass, education, capital-gain и capital-loss* имеют пропуски в данных.\n",
        "\n",
        "### Обработка пропусков в данных\n",
        "\n",
        "Далеко не все алгоритмы умеют работать с пропусками в данных. Кроме этого, удачно заполнив пропуски, мы сможем лучше восстановить распределение данных, а значит лучше построить моделей. \n",
        "\n",
        "Самые популярные методы для обработки пропусков:\n",
        "- Удаление значений с пропусками (не желательно при большом количестве пропусков, потому что теряются данные);\n",
        "- Заполнение средним/медианным значением;\n",
        "- Заполненние самым частым значением;\n",
        "- Заполнение случайным значением.\n",
        "\n",
        "**Важно:** тестовую выборку мы всегда обрабатываем также, как и обучающую выборку. "
      ]
    },
    {
      "cell_type": "code",
      "metadata": {
        "id": "_PTZtLrzbE4h"
      },
      "source": [
        "X_train['capital-loss'] = X_train['capital-loss'].fillna(0)\n",
        "X_train['capital-gain'] = X_train['capital-gain'].fillna(0)"
      ],
      "execution_count": null,
      "outputs": []
    },
    {
      "cell_type": "markdown",
      "metadata": {
        "id": "WONBs7YvRoL_"
      },
      "source": [
        "Сделаем то же самое для тестовой выборки:"
      ]
    },
    {
      "cell_type": "code",
      "metadata": {
        "id": "hj-bIyDWRqpO"
      },
      "source": [
        "X_test['capital-loss'] = X_test['capital-loss'].fillna(0)\n",
        "X_test['capital-gain'] = X_test['capital-gain'].fillna(0)"
      ],
      "execution_count": null,
      "outputs": []
    },
    {
      "cell_type": "code",
      "metadata": {
        "id": "e37oK2iIoECy"
      },
      "source": [
        "X_train['workclass'].value_counts(True).head(1)"
      ],
      "execution_count": null,
      "outputs": []
    },
    {
      "cell_type": "code",
      "metadata": {
        "id": "1WqmG6k0oMkj"
      },
      "source": [
        "X_train['education'].value_counts(True).head(1)"
      ],
      "execution_count": null,
      "outputs": []
    },
    {
      "cell_type": "markdown",
      "metadata": {
        "id": "pCmBSBylob1h"
      },
      "source": [
        "Наиболее частое значение признака **workclass** - Private, признака **education** - HS-grad. \n",
        "\n",
        "Теперь явно заполним пропуски:"
      ]
    },
    {
      "cell_type": "code",
      "metadata": {
        "id": "aACIVqSOoRkz"
      },
      "source": [
        "X_train['workclass'] = X_train['workclass'].fillna('Private')\n",
        "X_train['education'] = X_train['education'].fillna('HS-grad')"
      ],
      "execution_count": null,
      "outputs": []
    },
    {
      "cell_type": "markdown",
      "metadata": {
        "id": "dVzdpK0ARwYM"
      },
      "source": [
        "Сделаем то же самое для тестовой выборки:"
      ]
    },
    {
      "cell_type": "code",
      "metadata": {
        "id": "-UWZxaU8Ry3d"
      },
      "source": [
        "X_test['workclass'] = X_test['workclass'].fillna('Private')\n",
        "X_test['education'] = X_test['education'].fillna('HS-grad')"
      ],
      "execution_count": null,
      "outputs": []
    },
    {
      "cell_type": "markdown",
      "metadata": {
        "id": "LuWI69Ta2tFI"
      },
      "source": [
        "### Кодировка категориальных переменных"
      ]
    },
    {
      "cell_type": "markdown",
      "metadata": {
        "id": "LczY5qg93YpH"
      },
      "source": [
        "В данных 8 столбцов являются категориальными признаками. При чём в нашей задаче эти признаки **текстовые**. Машине сложно обрабатывать текстовые признаки, поэтому нам необходимо закодировать их, то есть преобразовать в числовые. \n",
        "\n",
        "Для начала необходимо выделить категорильные признаки:"
      ]
    },
    {
      "cell_type": "code",
      "metadata": {
        "id": "mOVzv1WQ3jt9"
      },
      "source": [
        "categorical_features = ['workclass', 'education', 'marital-status', \n",
        "                        'occupation', 'relationship', 'race', 'sex', \n",
        "                        'native-country']\n",
        "\n",
        "non_categorical_features = ['age', 'capital-gain', 'capital-loss', \n",
        "                            'hours-per-week']"
      ],
      "execution_count": null,
      "outputs": []
    },
    {
      "cell_type": "markdown",
      "metadata": {
        "id": "K_zOsUG4INUK"
      },
      "source": [
        "Посмотрим на столбцы категориальных переменных:"
      ]
    },
    {
      "cell_type": "code",
      "metadata": {
        "id": "z92yPN_bHfsg"
      },
      "source": [
        "X_train[categorical_features].head()"
      ],
      "execution_count": null,
      "outputs": []
    },
    {
      "cell_type": "markdown",
      "metadata": {
        "id": "JV1YC8_VGkj0"
      },
      "source": [
        "Мы рассмотрим два популярных метода кодирования категориальных признаков:\n",
        "* Label Encoding, которому соответствует класс `LabelEncoder()` из библиотеки **sklearn**\n",
        "* One Hot Encoding, которому соответствует класс `OneHotEncoder()` из библиотеки **sklearn**"
      ]
    },
    {
      "cell_type": "markdown",
      "metadata": {
        "id": "rU7NAImLB4pW"
      },
      "source": [
        "**Label Encoding**\n",
        "\n"
      ]
    },
    {
      "cell_type": "code",
      "metadata": {
        "id": "7azZpi4UW4Is"
      },
      "source": [
        "from sklearn.preprocessing import LabelEncoder"
      ],
      "execution_count": null,
      "outputs": []
    },
    {
      "cell_type": "code",
      "metadata": {
        "id": "4K_zKpD-WVat"
      },
      "source": [
        "label_encoder = LabelEncoder()"
      ],
      "execution_count": null,
      "outputs": []
    },
    {
      "cell_type": "code",
      "source": [
        "X_train_le = X_train.copy()"
      ],
      "metadata": {
        "id": "q4o6filra_Hi"
      },
      "execution_count": null,
      "outputs": []
    },
    {
      "cell_type": "code",
      "source": [
        "X_test_le = X_test.copy()"
      ],
      "metadata": {
        "id": "k4Msq26RbMKl"
      },
      "execution_count": null,
      "outputs": []
    },
    {
      "cell_type": "code",
      "metadata": {
        "id": "tO_CPuksXEUG"
      },
      "source": [
        "for feature in categorical_features:\n",
        "    X_train_le[feature] = label_encoder.fit_transform(X_train_le[feature])\n",
        "    X_test_le[feature] = label_encoder.transform(X_test_le[feature])"
      ],
      "execution_count": null,
      "outputs": []
    },
    {
      "cell_type": "code",
      "metadata": {
        "id": "2vwfdRf9XKDi"
      },
      "source": [
        "X_train_le.head()"
      ],
      "execution_count": null,
      "outputs": []
    },
    {
      "cell_type": "markdown",
      "metadata": {
        "id": "qrrLueZ5GrG3"
      },
      "source": [
        "**One Hot Encoding**\n",
        "\n"
      ]
    },
    {
      "cell_type": "code",
      "metadata": {
        "id": "Lb0enkTDJwVz"
      },
      "source": [
        "from sklearn.preprocessing import OneHotEncoder"
      ],
      "execution_count": null,
      "outputs": []
    },
    {
      "cell_type": "code",
      "metadata": {
        "id": "yqya39gTMtRf"
      },
      "source": [
        "onehot_encoder = OneHotEncoder()"
      ],
      "execution_count": null,
      "outputs": []
    },
    {
      "cell_type": "code",
      "metadata": {
        "id": "AagXdR9FM36l"
      },
      "source": [
        "# 'учим' и сразу применяем преобразование к выборке, результат переводим в массив\n",
        "X_train_onehot = onehot_encoder.fit_transform(X_train[categorical_features]).toarray()\n",
        "\n",
        "# применяем полученное преобразование к тестовой выборке, результат переводим в массив\n",
        "X_test_onehot = onehot_encoder.transform(X_test[categorical_features]).toarray()\n",
        "\n",
        "# запишем полученные названия новых колонок в отдельную переменную\n",
        "columns = onehot_encoder.get_feature_names(categorical_features)"
      ],
      "execution_count": null,
      "outputs": []
    },
    {
      "cell_type": "code",
      "metadata": {
        "id": "Yl3cWbSEUr0R"
      },
      "source": [
        "X_train_onehot = pd.DataFrame(X_train_onehot, columns=columns)\n",
        "X_test_onehot = pd.DataFrame(X_test_onehot, columns=columns)"
      ],
      "execution_count": null,
      "outputs": []
    },
    {
      "cell_type": "markdown",
      "metadata": {
        "id": "TR4dzFeJXUv9"
      },
      "source": [
        "И наконец, запишем в новую переменную полученный результат, удалив все незакодированные категориальные признаки из новой таблицы. "
      ]
    },
    {
      "cell_type": "code",
      "metadata": {
        "id": "HK13EuhBXUBy"
      },
      "source": [
        "# соединяем новую табличку с исходной\n",
        "X_train_new = pd.concat([X_train, X_train_onehot], axis=1)\n",
        "X_test_new = pd.concat([X_test, X_test_onehot], axis=1)\n",
        "\n",
        "# удаляем старые категориальные признаки\n",
        "X_train_new = X_train_new.drop(columns=categorical_features)\n",
        "X_test_new = X_test_new.drop(columns=categorical_features)"
      ],
      "execution_count": null,
      "outputs": []
    },
    {
      "cell_type": "code",
      "metadata": {
        "id": "-kGtHQVbZF7C"
      },
      "source": [
        "X_train_new.head()"
      ],
      "execution_count": null,
      "outputs": []
    },
    {
      "cell_type": "markdown",
      "metadata": {
        "id": "N-Dnf39-MniT"
      },
      "source": [
        "## Обучение модели "
      ]
    },
    {
      "cell_type": "markdown",
      "metadata": {
        "id": "7r-ezPSPNRUG"
      },
      "source": [
        "## Выбор метода обучения классификатора"
      ]
    },
    {
      "cell_type": "markdown",
      "metadata": {
        "id": "BgvuYNQdNKyn"
      },
      "source": [
        "Для обучения классификатора воспользуемся логистической регрессией.\n",
        " "
      ]
    },
    {
      "cell_type": "code",
      "metadata": {
        "id": "PCCoYu85Nf_k"
      },
      "source": [
        "from sklearn.linear_model import LogisticRegression"
      ],
      "execution_count": null,
      "outputs": []
    },
    {
      "cell_type": "markdown",
      "metadata": {
        "id": "vSN0cNP3Pgsk"
      },
      "source": [
        "Создаем прототип класса модели:"
      ]
    },
    {
      "cell_type": "code",
      "source": [
        "linear_model = "
      ],
      "metadata": {
        "id": "dUN2l43NUOIE"
      },
      "execution_count": null,
      "outputs": []
    },
    {
      "cell_type": "markdown",
      "metadata": {
        "id": "DlQ9PWWRRd2k"
      },
      "source": [
        "## Обучение модели на разных типах закодированных данных"
      ]
    },
    {
      "cell_type": "code",
      "source": [
        "linear_model_oh.fit(X_train_new, y_train)"
      ],
      "metadata": {
        "id": "79qyodwCUe_v"
      },
      "execution_count": null,
      "outputs": []
    },
    {
      "cell_type": "code",
      "source": [
        "linear_model.fit(X_train_le, y_train)"
      ],
      "metadata": {
        "id": "WXQJ7o23Ugh7"
      },
      "execution_count": null,
      "outputs": []
    },
    {
      "cell_type": "markdown",
      "metadata": {
        "id": "IE8LyQyaSY6R"
      },
      "source": [
        "# Валидация модели на тестовой выборке"
      ]
    },
    {
      "cell_type": "code",
      "metadata": {
        "id": "g_s_yA_iSMT9"
      },
      "source": [
        "prediction_oh = linear_model_oh.predict(X_test_new)"
      ],
      "execution_count": null,
      "outputs": []
    },
    {
      "cell_type": "code",
      "metadata": {
        "colab": {
          "base_uri": "https://localhost:8080/"
        },
        "id": "ZyydK4D-6S8C",
        "outputId": "014bd325-7d0a-4538-9006-d3134c03440b"
      },
      "source": [
        "np.unique(prediction_oh)"
      ],
      "execution_count": null,
      "outputs": [
        {
          "output_type": "execute_result",
          "data": {
            "text/plain": [
              "array([0, 1])"
            ]
          },
          "metadata": {},
          "execution_count": 43
        }
      ]
    },
    {
      "cell_type": "code",
      "metadata": {
        "id": "bJ2NC-gm5u57"
      },
      "source": [
        "# Сколько 1го класса присутсвует в предсказаниях?"
      ],
      "execution_count": null,
      "outputs": []
    },
    {
      "cell_type": "code",
      "metadata": {
        "id": "HEcz8YET6bDN"
      },
      "source": [
        "# Сколько 1го класса присутсвует в y_test?"
      ],
      "execution_count": null,
      "outputs": []
    },
    {
      "cell_type": "markdown",
      "metadata": {
        "id": "eO701_X2TW-o"
      },
      "source": [
        "## Точность предсказания"
      ]
    },
    {
      "cell_type": "markdown",
      "metadata": {
        "id": "204llIBtTb9R"
      },
      "source": [
        "Посчитаем точность (**accuracy**) работы моделей. Напомним, что точность отражает, сколько в процентном соотношении от размера тестовой выборки модель угадала 1 и сколько угадала 0.\n",
        "\n",
        "Функция для подсчета точности реализована в библиотеке **sklearn** и называется `accuracy_score()`."
      ]
    },
    {
      "cell_type": "code",
      "metadata": {
        "id": "3FAqJoLYTTjP"
      },
      "source": [
        "from sklearn.metrics import accuracy_score"
      ],
      "execution_count": null,
      "outputs": []
    },
    {
      "cell_type": "code",
      "metadata": {
        "id": "OXZHjRjXRfHz"
      },
      "source": [
        "acc_oh = accuracy_score(y_test, prediction_oh)"
      ],
      "execution_count": null,
      "outputs": []
    },
    {
      "cell_type": "code",
      "source": [
        "experiment.log_metric('Accuracy OneHot data', acc_oh)"
      ],
      "metadata": {
        "id": "_95B4ilE9XBE"
      },
      "execution_count": null,
      "outputs": []
    },
    {
      "cell_type": "markdown",
      "metadata": {
        "id": "Ns5mvVBVTz_2"
      },
      "source": [
        "Сравним значения точности для наших моделей с точностью для константного классификатора, модели, которая всегда бы предсказывала больший класс, в нашем случае 0. Для этого можно в функцию `accuracy_score()` в качестве второго аргумента передать массив нулей такого же размера. Это делается с помощью функции `zeros_like()` из библиотеки **numpy**."
      ]
    },
    {
      "cell_type": "code",
      "metadata": {
        "id": "vQs7EPs1Uup0",
        "colab": {
          "base_uri": "https://localhost:8080/"
        },
        "outputId": "db2ee800-6b27-4b15-8ae7-ab2b4f432e24"
      },
      "source": [
        "print('Accuracy Major Class: ', accuracy_score(y_test, np.zeros_like(y_test)).round(3))"
      ],
      "execution_count": null,
      "outputs": [
        {
          "output_type": "stream",
          "name": "stdout",
          "text": [
            "Accuracy Major Class:  0.763\n"
          ]
        }
      ]
    },
    {
      "cell_type": "code",
      "source": [
        "# Залогировать accuracy для LE"
      ],
      "metadata": {
        "id": "w9oRl584-HeP"
      },
      "execution_count": null,
      "outputs": []
    },
    {
      "cell_type": "markdown",
      "metadata": {
        "id": "9JpN8tQ4XOfv"
      },
      "source": [
        "## Таблица сопряженности модели классификации"
      ]
    },
    {
      "cell_type": "markdown",
      "metadata": {
        "id": "8hlfckZvXf_I"
      },
      "source": [
        "Другой способ оценивать качество работы классификатора - использовать таблицу сопряженности. \n",
        "\n",
        "\n",
        "|                   |  Предсказано `0` |  Предсказано `1` |\n",
        "|:-------------------|:------------------|:------------------|\n",
        "|**Фактически** `0`  |       TN         |       FP         |\n",
        "|**Фактически** `1`  |       FN         |       TP         | \n"
      ]
    },
    {
      "cell_type": "code",
      "metadata": {
        "id": "KXYf4rOQU6k1"
      },
      "source": [
        "from sklearn.metrics import confusion_matrix"
      ],
      "execution_count": null,
      "outputs": []
    },
    {
      "cell_type": "code",
      "metadata": {
        "id": "ktRjQAmNZHPB",
        "colab": {
          "base_uri": "https://localhost:8080/",
          "height": 111
        },
        "outputId": "1b36f6d2-c728-47c9-e804-226384f82f28"
      },
      "source": [
        "pd.DataFrame(confusion_matrix(y_test, prediction_oh))"
      ],
      "execution_count": null,
      "outputs": [
        {
          "output_type": "execute_result",
          "data": {
            "text/plain": [
              "      0     1\n",
              "0  5881   333\n",
              "1   663  1264"
            ],
            "text/html": [
              "\n",
              "  <div id=\"df-c92760ce-0388-4462-8a47-e9fee7a274d0\">\n",
              "    <div class=\"colab-df-container\">\n",
              "      <div>\n",
              "<style scoped>\n",
              "    .dataframe tbody tr th:only-of-type {\n",
              "        vertical-align: middle;\n",
              "    }\n",
              "\n",
              "    .dataframe tbody tr th {\n",
              "        vertical-align: top;\n",
              "    }\n",
              "\n",
              "    .dataframe thead th {\n",
              "        text-align: right;\n",
              "    }\n",
              "</style>\n",
              "<table border=\"1\" class=\"dataframe\">\n",
              "  <thead>\n",
              "    <tr style=\"text-align: right;\">\n",
              "      <th></th>\n",
              "      <th>0</th>\n",
              "      <th>1</th>\n",
              "    </tr>\n",
              "  </thead>\n",
              "  <tbody>\n",
              "    <tr>\n",
              "      <th>0</th>\n",
              "      <td>5881</td>\n",
              "      <td>333</td>\n",
              "    </tr>\n",
              "    <tr>\n",
              "      <th>1</th>\n",
              "      <td>663</td>\n",
              "      <td>1264</td>\n",
              "    </tr>\n",
              "  </tbody>\n",
              "</table>\n",
              "</div>\n",
              "      <button class=\"colab-df-convert\" onclick=\"convertToInteractive('df-c92760ce-0388-4462-8a47-e9fee7a274d0')\"\n",
              "              title=\"Convert this dataframe to an interactive table.\"\n",
              "              style=\"display:none;\">\n",
              "        \n",
              "  <svg xmlns=\"http://www.w3.org/2000/svg\" height=\"24px\"viewBox=\"0 0 24 24\"\n",
              "       width=\"24px\">\n",
              "    <path d=\"M0 0h24v24H0V0z\" fill=\"none\"/>\n",
              "    <path d=\"M18.56 5.44l.94 2.06.94-2.06 2.06-.94-2.06-.94-.94-2.06-.94 2.06-2.06.94zm-11 1L8.5 8.5l.94-2.06 2.06-.94-2.06-.94L8.5 2.5l-.94 2.06-2.06.94zm10 10l.94 2.06.94-2.06 2.06-.94-2.06-.94-.94-2.06-.94 2.06-2.06.94z\"/><path d=\"M17.41 7.96l-1.37-1.37c-.4-.4-.92-.59-1.43-.59-.52 0-1.04.2-1.43.59L10.3 9.45l-7.72 7.72c-.78.78-.78 2.05 0 2.83L4 21.41c.39.39.9.59 1.41.59.51 0 1.02-.2 1.41-.59l7.78-7.78 2.81-2.81c.8-.78.8-2.07 0-2.86zM5.41 20L4 18.59l7.72-7.72 1.47 1.35L5.41 20z\"/>\n",
              "  </svg>\n",
              "      </button>\n",
              "      \n",
              "  <style>\n",
              "    .colab-df-container {\n",
              "      display:flex;\n",
              "      flex-wrap:wrap;\n",
              "      gap: 12px;\n",
              "    }\n",
              "\n",
              "    .colab-df-convert {\n",
              "      background-color: #E8F0FE;\n",
              "      border: none;\n",
              "      border-radius: 50%;\n",
              "      cursor: pointer;\n",
              "      display: none;\n",
              "      fill: #1967D2;\n",
              "      height: 32px;\n",
              "      padding: 0 0 0 0;\n",
              "      width: 32px;\n",
              "    }\n",
              "\n",
              "    .colab-df-convert:hover {\n",
              "      background-color: #E2EBFA;\n",
              "      box-shadow: 0px 1px 2px rgba(60, 64, 67, 0.3), 0px 1px 3px 1px rgba(60, 64, 67, 0.15);\n",
              "      fill: #174EA6;\n",
              "    }\n",
              "\n",
              "    [theme=dark] .colab-df-convert {\n",
              "      background-color: #3B4455;\n",
              "      fill: #D2E3FC;\n",
              "    }\n",
              "\n",
              "    [theme=dark] .colab-df-convert:hover {\n",
              "      background-color: #434B5C;\n",
              "      box-shadow: 0px 1px 3px 1px rgba(0, 0, 0, 0.15);\n",
              "      filter: drop-shadow(0px 1px 2px rgba(0, 0, 0, 0.3));\n",
              "      fill: #FFFFFF;\n",
              "    }\n",
              "  </style>\n",
              "\n",
              "      <script>\n",
              "        const buttonEl =\n",
              "          document.querySelector('#df-c92760ce-0388-4462-8a47-e9fee7a274d0 button.colab-df-convert');\n",
              "        buttonEl.style.display =\n",
              "          google.colab.kernel.accessAllowed ? 'block' : 'none';\n",
              "\n",
              "        async function convertToInteractive(key) {\n",
              "          const element = document.querySelector('#df-c92760ce-0388-4462-8a47-e9fee7a274d0');\n",
              "          const dataTable =\n",
              "            await google.colab.kernel.invokeFunction('convertToInteractive',\n",
              "                                                     [key], {});\n",
              "          if (!dataTable) return;\n",
              "\n",
              "          const docLinkHtml = 'Like what you see? Visit the ' +\n",
              "            '<a target=\"_blank\" href=https://colab.research.google.com/notebooks/data_table.ipynb>data table notebook</a>'\n",
              "            + ' to learn more about interactive tables.';\n",
              "          element.innerHTML = '';\n",
              "          dataTable['output_type'] = 'display_data';\n",
              "          await google.colab.output.renderOutput(dataTable, element);\n",
              "          const docLink = document.createElement('div');\n",
              "          docLink.innerHTML = docLinkHtml;\n",
              "          element.appendChild(docLink);\n",
              "        }\n",
              "      </script>\n",
              "    </div>\n",
              "  </div>\n",
              "  "
            ]
          },
          "metadata": {},
          "execution_count": 52
        }
      ]
    },
    {
      "cell_type": "code",
      "source": [
        "experiment.log_confusion_matrix(y_test, prediction_oh)"
      ],
      "metadata": {
        "colab": {
          "base_uri": "https://localhost:8080/"
        },
        "id": "1Zpr32q2-P6l",
        "outputId": "fa934553-7389-4b57-d2fa-d1342e304248"
      },
      "execution_count": null,
      "outputs": [
        {
          "output_type": "execute_result",
          "data": {
            "text/plain": [
              "{'api': 'https://www.comet.ml/api/rest/v2/experiment/asset/get-asset?assetId=811d139ac16c496ca18bedce9acaff29&experimentKey=debe4b2a28e249a9bcf70e20c2c256b8',\n",
              " 'assetId': '811d139ac16c496ca18bedce9acaff29',\n",
              " 'web': 'https://www.comet.ml/api/asset/download?assetId=811d139ac16c496ca18bedce9acaff29&experimentKey=debe4b2a28e249a9bcf70e20c2c256b8'}"
            ]
          },
          "metadata": {},
          "execution_count": 74
        }
      ]
    },
    {
      "cell_type": "markdown",
      "metadata": {
        "id": "UXURuE8eZ_4w"
      },
      "source": [
        "## Прогноз вероятности принадлежности к классу"
      ]
    },
    {
      "cell_type": "code",
      "metadata": {
        "id": "msz9z8MuZp0Z"
      },
      "source": [
        "pred_proba_oh = linear_model_oh.predict_proba(X_test_new)"
      ],
      "execution_count": null,
      "outputs": []
    },
    {
      "cell_type": "code",
      "metadata": {
        "id": "RWHzhNPzaba1",
        "colab": {
          "base_uri": "https://localhost:8080/"
        },
        "outputId": "296007ec-7c8c-4367-d87a-09d4301d684c"
      },
      "source": [
        "# Как выглядят предсказания?"
      ],
      "execution_count": null,
      "outputs": [
        {
          "output_type": "execute_result",
          "data": {
            "text/plain": [
              "array([[0.9907915 , 0.00920851],\n",
              "       [0.3954633 , 0.6045367 ],\n",
              "       [0.2793576 , 0.7206424 ],\n",
              "       [0.9758066 , 0.02419338],\n",
              "       [0.9899469 , 0.01005312]], dtype=float32)"
            ]
          },
          "metadata": {},
          "execution_count": 54
        }
      ]
    },
    {
      "cell_type": "code",
      "metadata": {
        "id": "ULsBdslqakeP"
      },
      "source": [
        "pred_proba = pred_proba_oh[:, 1]"
      ],
      "execution_count": null,
      "outputs": []
    },
    {
      "cell_type": "markdown",
      "metadata": {
        "id": "roEuvcTLbOuG"
      },
      "source": [
        "Посмотрим на распределение предсказанной классификатором вероятности дохода > 50к, метки `1`."
      ]
    },
    {
      "cell_type": "code",
      "metadata": {
        "id": "l1XzSPaHayiK",
        "colab": {
          "base_uri": "https://localhost:8080/",
          "height": 394
        },
        "outputId": "1a0d9d86-7413-4f62-97a7-2423d8e8ee67"
      },
      "source": [
        "plt.figure(figsize=(8, 5))\n",
        "\n",
        "plt.hist(pred_proba, bins=100)\n",
        "plt.vlines(0.5, 0, 2500)\n",
        "\n",
        "plt.xlabel('Предсказанная вероятность дохода', fontsize=20)\n",
        "plt.ylabel('Количество людей', fontsize=20)\n",
        "\n",
        "experiment.log_figure('predicted_income_probability', plt)"
      ],
      "execution_count": null,
      "outputs": [
        {
          "output_type": "execute_result",
          "data": {
            "text/plain": [
              "{'api': 'https://www.comet.ml/api/rest/v1/image/get-image?imageId=60a2196ca6634687bd348a2da76c5b98&experimentKey=debe4b2a28e249a9bcf70e20c2c256b8',\n",
              " 'imageId': '60a2196ca6634687bd348a2da76c5b98',\n",
              " 'web': 'https://www.comet.ml/api/image/download?imageId=60a2196ca6634687bd348a2da76c5b98&experimentKey=debe4b2a28e249a9bcf70e20c2c256b8'}"
            ]
          },
          "metadata": {},
          "execution_count": 85
        },
        {
          "output_type": "display_data",
          "data": {
            "text/plain": [
              "<Figure size 576x360 with 1 Axes>"
            ],
            "image/png": "[encoded data removed]"
          },
          "metadata": {
            "needs_background": "light"
          }
        }
      ]
    },
    {
      "cell_type": "markdown",
      "metadata": {
        "id": "dMlru_uFe9i_"
      },
      "source": [
        "##ROC кривая классификатора"
      ]
    },
    {
      "cell_type": "markdown",
      "metadata": {
        "id": "J8zHp4upfGlz"
      },
      "source": [
        "Если хотят сравнить метрики на разных наборах данных, обычно работают не с абсолютными значениями True Positive и False Positive, а с их долями:\n",
        "\n",
        "* Доля ложноположительных срабатываний $\\text{FPR} = \\frac{FP}{FP + TN}$;\n",
        "* Доля истинно положительных срабатываний $\\text{TPR} = \\frac{TP}{TP + FN}$.\n",
        "\n",
        "Заметим, что $FP + TN$ дает общее число объектов класса $0$, а $TP + FN$ - общее число объектов класса $1$. \n",
        "\n",
        "Одной из самых популярных метрик для задачи классификации является ROC кривая. ROC расшифровывается как *Receiver Operating Characteristic*. Эта кривая наглядно показывает зависимость доли истинно позитивных срабатываний (**TPR**) от доли ложно позитивных срабатываний (**FPR**) при изменении порога классификации.\n",
        "\n",
        "Функция `roc_curve()` из **scikit-learn** позволяет получить координаты точек ROC кривой, а также значения порога `threshold`, при котором достигается соответствующие значения метрик **FPR** и **TPR**.\n",
        "\n",
        "На вход функции `roc_curve()` необходимо передать два аргумента:\n",
        "* истинные значения меток\n",
        "* вероятности, предсказанные моделью"
      ]
    },
    {
      "cell_type": "code",
      "metadata": {
        "id": "j9uo_bbTgBFU"
      },
      "source": [
        "from sklearn.metrics import roc_curve"
      ],
      "execution_count": null,
      "outputs": []
    },
    {
      "cell_type": "code",
      "metadata": {
        "id": "aFwgrdhceMG1"
      },
      "source": [
        "false_positive_rates, true_positive_rates, threshold = roc_curve(y_test, pred_proba)"
      ],
      "execution_count": null,
      "outputs": []
    },
    {
      "cell_type": "code",
      "metadata": {
        "id": "goIIu9FDf-Eq",
        "colab": {
          "base_uri": "https://localhost:8080/",
          "height": 458
        },
        "outputId": "260c51aa-10b7-4b3d-de33-b1aac8e4f698"
      },
      "source": [
        "# создаём график\n",
        "plt.figure(figsize=(7, 7))\n",
        "\n",
        "# рисуем кривую\n",
        "plt.plot(false_positive_rates, true_positive_rates, \n",
        "         label='Сглаженные значения ROC-AUC')\n",
        "\n",
        "# кривая, соответствующая случайному угадыванию\n",
        "plt.plot([0, 1], [0, 1], color='k', lw=2, linestyle=':', \n",
        "         label='Модель, выдающая случайное значение')\n",
        "\n",
        "plt.title('ROC curve')\n",
        "plt.xlabel('False Positive Rate')\n",
        "plt.ylabel('True Positive Rate')\n",
        "\n",
        "plt.fill_between(false_positive_rates, true_positive_rates, step=\"pre\", \n",
        "                 alpha=0.4, label='Площадь под кривой (ROC-AUC)')\n",
        "plt.legend()\n",
        "plt.show()"
      ],
      "execution_count": null,
      "outputs": [
        {
          "output_type": "display_data",
          "data": {
            "text/plain": [
              "<Figure size 504x504 with 1 Axes>"
            ],
            "image/png": "[encoded data removed]"
          },
          "metadata": {
            "needs_background": "light"
          }
        }
      ]
    },
    {
      "cell_type": "code",
      "metadata": {
        "id": "gzYZV6h1gHiJ"
      },
      "source": [
        "from sklearn.metrics import roc_auc_score"
      ],
      "execution_count": null,
      "outputs": []
    },
    {
      "cell_type": "code",
      "source": [
        "roc_auc = roc_auc_score(y_test, pred_proba).round(3)"
      ],
      "metadata": {
        "id": "IIeLiGK9D9t-"
      },
      "execution_count": null,
      "outputs": []
    },
    {
      "cell_type": "code",
      "metadata": {
        "id": "yYaJaN5YgotD",
        "colab": {
          "base_uri": "https://localhost:8080/"
        },
        "outputId": "0ac17af0-7840-4134-c606-8d22deedf8df"
      },
      "source": [
        "print(\"ROC-AUC на тестовой выборке:\", roc_auc_score(y_test, pred_proba).round(3)) "
      ],
      "execution_count": null,
      "outputs": [
        {
          "output_type": "stream",
          "name": "stdout",
          "text": [
            "ROC-AUC на тестовой выборке: 0.928\n"
          ]
        }
      ]
    },
    {
      "cell_type": "code",
      "source": [
        "experiment.log_metric('roc_auc OneHot data', roc_auc)"
      ],
      "metadata": {
        "id": "4xcAeGf4ECoA"
      },
      "execution_count": null,
      "outputs": []
    },
    {
      "cell_type": "code",
      "source": [
        "pred_proba_le = linear_model.predict_proba(X_test_new)"
      ],
      "metadata": {
        "id": "eYL-QL9oZwLU"
      },
      "execution_count": null,
      "outputs": []
    },
    {
      "cell_type": "code",
      "source": [
        "pred_proba = pred_proba_le[:, 1]"
      ],
      "metadata": {
        "id": "YYoQjL8FZ39v"
      },
      "execution_count": null,
      "outputs": []
    },
    {
      "cell_type": "code",
      "source": [
        "roc_auc = roc_auc_score(y_test, pred_proba).round(3)\n",
        "roc_auc"
      ],
      "metadata": {
        "id": "QxzmUe_GaAER"
      },
      "execution_count": null,
      "outputs": []
    }
  ]
}