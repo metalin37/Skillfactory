{
  "cells": [
    {
      "cell_type": "markdown",
      "id": "2hyMdgYX7Jyw",
      "metadata": {
        "id": "2hyMdgYX7Jyw"
      },
      "source": [
        "# <center> Обучение с учителем. Классификация\n",
        "## <center> Мультиклассовая классификация на Python"
      ]
    },
    {
      "cell_type": "markdown",
      "id": "1m4PBCUD7znC",
      "metadata": {
        "id": "1m4PBCUD7znC"
      },
      "source": [
        "Давайте посмотрим, как логистическая регрессия решает задачу мультиклассовой классификации. \n",
        "\n",
        "Возьмём датасет о пингвинах из библиотеки `seaborn`:"
      ]
    },
    {
      "cell_type": "code",
      "execution_count": 1,
      "id": "cw3-4TGqDXCj",
      "metadata": {
        "id": "cw3-4TGqDXCj"
      },
      "outputs": [],
      "source": [
        "import numpy as np #для матричных вычислений\n",
        "import pandas as pd #для анализа и предобработки данных\n",
        "import matplotlib.pyplot as plt #для визуализации\n",
        "import seaborn as sns #для визуализации\n",
        "\n",
        "from sklearn import linear_model #линейные модели\n",
        "from sklearn import metrics #метрики\n",
        "\n",
        "import warnings # для игнорирования предупреждений\n",
        "#Игнорируем варнинги\n",
        "warnings.filterwarnings('ignore')\n",
        "\n",
        "\n",
        "# Устанавливаем стиль визуализаций в matplotlib\n",
        "%matplotlib inline\n",
        "plt.style.use('seaborn')"
      ]
    },
    {
      "cell_type": "code",
      "execution_count": 2,
      "id": "8bb4020b-3bbd-4e36-9811-cfb8869d4e93",
      "metadata": {
        "colab": {
          "base_uri": "https://localhost:8080/",
          "height": 206
        },
        "id": "8bb4020b-3bbd-4e36-9811-cfb8869d4e93",
        "outputId": "13bce597-513a-486c-a99e-92ce28751954"
      },
      "outputs": [
        {
          "data": {
            "text/html": [
              "<div>\n",
              "<style scoped>\n",
              "    .dataframe tbody tr th:only-of-type {\n",
              "        vertical-align: middle;\n",
              "    }\n",
              "\n",
              "    .dataframe tbody tr th {\n",
              "        vertical-align: top;\n",
              "    }\n",
              "\n",
              "    .dataframe thead th {\n",
              "        text-align: right;\n",
              "    }\n",
              "</style>\n",
              "<table border=\"1\" class=\"dataframe\">\n",
              "  <thead>\n",
              "    <tr style=\"text-align: right;\">\n",
              "      <th></th>\n",
              "      <th>species</th>\n",
              "      <th>island</th>\n",
              "      <th>bill_length_mm</th>\n",
              "      <th>bill_depth_mm</th>\n",
              "      <th>flipper_length_mm</th>\n",
              "      <th>body_mass_g</th>\n",
              "      <th>sex</th>\n",
              "    </tr>\n",
              "  </thead>\n",
              "  <tbody>\n",
              "    <tr>\n",
              "      <th>0</th>\n",
              "      <td>Adelie</td>\n",
              "      <td>Torgersen</td>\n",
              "      <td>39.1</td>\n",
              "      <td>18.7</td>\n",
              "      <td>181.0</td>\n",
              "      <td>3750.0</td>\n",
              "      <td>Male</td>\n",
              "    </tr>\n",
              "    <tr>\n",
              "      <th>1</th>\n",
              "      <td>Adelie</td>\n",
              "      <td>Torgersen</td>\n",
              "      <td>39.5</td>\n",
              "      <td>17.4</td>\n",
              "      <td>186.0</td>\n",
              "      <td>3800.0</td>\n",
              "      <td>Female</td>\n",
              "    </tr>\n",
              "    <tr>\n",
              "      <th>2</th>\n",
              "      <td>Adelie</td>\n",
              "      <td>Torgersen</td>\n",
              "      <td>40.3</td>\n",
              "      <td>18.0</td>\n",
              "      <td>195.0</td>\n",
              "      <td>3250.0</td>\n",
              "      <td>Female</td>\n",
              "    </tr>\n",
              "    <tr>\n",
              "      <th>3</th>\n",
              "      <td>Adelie</td>\n",
              "      <td>Torgersen</td>\n",
              "      <td>NaN</td>\n",
              "      <td>NaN</td>\n",
              "      <td>NaN</td>\n",
              "      <td>NaN</td>\n",
              "      <td>NaN</td>\n",
              "    </tr>\n",
              "    <tr>\n",
              "      <th>4</th>\n",
              "      <td>Adelie</td>\n",
              "      <td>Torgersen</td>\n",
              "      <td>36.7</td>\n",
              "      <td>19.3</td>\n",
              "      <td>193.0</td>\n",
              "      <td>3450.0</td>\n",
              "      <td>Female</td>\n",
              "    </tr>\n",
              "  </tbody>\n",
              "</table>\n",
              "</div>"
            ],
            "text/plain": [
              "  species     island  bill_length_mm  bill_depth_mm  flipper_length_mm  \\\n",
              "0  Adelie  Torgersen            39.1           18.7              181.0   \n",
              "1  Adelie  Torgersen            39.5           17.4              186.0   \n",
              "2  Adelie  Torgersen            40.3           18.0              195.0   \n",
              "3  Adelie  Torgersen             NaN            NaN                NaN   \n",
              "4  Adelie  Torgersen            36.7           19.3              193.0   \n",
              "\n",
              "   body_mass_g     sex  \n",
              "0       3750.0    Male  \n",
              "1       3800.0  Female  \n",
              "2       3250.0  Female  \n",
              "3          NaN     NaN  \n",
              "4       3450.0  Female  "
            ]
          },
          "execution_count": 2,
          "metadata": {},
          "output_type": "execute_result"
        }
      ],
      "source": [
        "penguins_data = sns.load_dataset('penguins')\n",
        "penguins_data.head()"
      ]
    },
    {
      "cell_type": "markdown",
      "id": "SZETUuCmCl5r",
      "metadata": {
        "id": "SZETUuCmCl5r"
      },
      "source": [
        "Описание данных:\n",
        "\n",
        "* species — класс пингвина ('Adelie', 'Chinstrap', 'Gentoo'), целевой признак;\n",
        "* island — остров, на котором живёт пингвин ('Torgersen', 'Biscoe', 'Dream');\n",
        "* bill_length_mm — длина клюва в миллиметрах;\n",
        "* bill_depth_mm — толщина клюва в миллиметрах;\n",
        "* flipper_length_mm — длина крыльев;\n",
        "* body_mass_g — масса;\n",
        "* sex — пол ('Male', 'Female').\n",
        "\n",
        "Наша цель — предсказать класс пингвина.\n",
        "\n",
        "Очевидно, что классификация является мультиклассовой, так как возможных значений три.\n",
        "\n",
        "Для начала давайте посмотрим на пропуски в данных:"
      ]
    },
    {
      "cell_type": "code",
      "execution_count": 3,
      "id": "c2601998-b6e8-463c-a5d8-5ab6e8eb3d04",
      "metadata": {
        "colab": {
          "base_uri": "https://localhost:8080/"
        },
        "id": "c2601998-b6e8-463c-a5d8-5ab6e8eb3d04",
        "outputId": "090afa46-cf1d-4a77-a19f-0bcfaff2065c"
      },
      "outputs": [
        {
          "data": {
            "text/plain": [
              "species               0\n",
              "island                0\n",
              "bill_length_mm        2\n",
              "bill_depth_mm         2\n",
              "flipper_length_mm     2\n",
              "body_mass_g           2\n",
              "sex                  11\n",
              "dtype: int64"
            ]
          },
          "execution_count": 3,
          "metadata": {},
          "output_type": "execute_result"
        }
      ],
      "source": [
        "penguins_data.isnull().sum()"
      ]
    },
    {
      "cell_type": "markdown",
      "id": "mwgyITF9CtFu",
      "metadata": {
        "id": "mwgyITF9CtFu"
      },
      "source": [
        "Итак, в некоторых столбцах есть пропуски.\n",
        "\n",
        "Логистическая регрессия — модель, которая не умеет работать с пропусками. Чтобы не получить ошибку, необходимо произвести предварительную предобработку. Для простоты давайте удалим все строки, содержащие пропуски в данных:"
      ]
    },
    {
      "cell_type": "code",
      "execution_count": 4,
      "id": "82d6f316-7466-435e-8da0-7d0468384346",
      "metadata": {
        "id": "82d6f316-7466-435e-8da0-7d0468384346"
      },
      "outputs": [],
      "source": [
        "penguins_data = penguins_data.dropna()"
      ]
    },
    {
      "cell_type": "markdown",
      "id": "K7H3072yCu3T",
      "metadata": {
        "id": "K7H3072yCu3T"
      },
      "source": [
        "Теперь, когда пропусков в данных больше нет, разделим набор данных на матрицу наблюдений `X` и столбец с ответами `y`."
      ]
    },
    {
      "cell_type": "code",
      "execution_count": 5,
      "id": "2c8ec6e8-dd19-4a06-8520-953200b29410",
      "metadata": {
        "colab": {
          "base_uri": "https://localhost:8080/",
          "height": 206
        },
        "id": "2c8ec6e8-dd19-4a06-8520-953200b29410",
        "outputId": "9eceac02-4f01-4889-ebb5-fb36e48c4c10"
      },
      "outputs": [
        {
          "data": {
            "text/html": [
              "<div>\n",
              "<style scoped>\n",
              "    .dataframe tbody tr th:only-of-type {\n",
              "        vertical-align: middle;\n",
              "    }\n",
              "\n",
              "    .dataframe tbody tr th {\n",
              "        vertical-align: top;\n",
              "    }\n",
              "\n",
              "    .dataframe thead th {\n",
              "        text-align: right;\n",
              "    }\n",
              "</style>\n",
              "<table border=\"1\" class=\"dataframe\">\n",
              "  <thead>\n",
              "    <tr style=\"text-align: right;\">\n",
              "      <th></th>\n",
              "      <th>island</th>\n",
              "      <th>bill_length_mm</th>\n",
              "      <th>bill_depth_mm</th>\n",
              "      <th>flipper_length_mm</th>\n",
              "      <th>body_mass_g</th>\n",
              "      <th>sex</th>\n",
              "    </tr>\n",
              "  </thead>\n",
              "  <tbody>\n",
              "    <tr>\n",
              "      <th>0</th>\n",
              "      <td>Torgersen</td>\n",
              "      <td>39.1</td>\n",
              "      <td>18.7</td>\n",
              "      <td>181.0</td>\n",
              "      <td>3750.0</td>\n",
              "      <td>Male</td>\n",
              "    </tr>\n",
              "    <tr>\n",
              "      <th>1</th>\n",
              "      <td>Torgersen</td>\n",
              "      <td>39.5</td>\n",
              "      <td>17.4</td>\n",
              "      <td>186.0</td>\n",
              "      <td>3800.0</td>\n",
              "      <td>Female</td>\n",
              "    </tr>\n",
              "    <tr>\n",
              "      <th>2</th>\n",
              "      <td>Torgersen</td>\n",
              "      <td>40.3</td>\n",
              "      <td>18.0</td>\n",
              "      <td>195.0</td>\n",
              "      <td>3250.0</td>\n",
              "      <td>Female</td>\n",
              "    </tr>\n",
              "    <tr>\n",
              "      <th>4</th>\n",
              "      <td>Torgersen</td>\n",
              "      <td>36.7</td>\n",
              "      <td>19.3</td>\n",
              "      <td>193.0</td>\n",
              "      <td>3450.0</td>\n",
              "      <td>Female</td>\n",
              "    </tr>\n",
              "    <tr>\n",
              "      <th>5</th>\n",
              "      <td>Torgersen</td>\n",
              "      <td>39.3</td>\n",
              "      <td>20.6</td>\n",
              "      <td>190.0</td>\n",
              "      <td>3650.0</td>\n",
              "      <td>Male</td>\n",
              "    </tr>\n",
              "  </tbody>\n",
              "</table>\n",
              "</div>"
            ],
            "text/plain": [
              "      island  bill_length_mm  bill_depth_mm  flipper_length_mm  body_mass_g  \\\n",
              "0  Torgersen            39.1           18.7              181.0       3750.0   \n",
              "1  Torgersen            39.5           17.4              186.0       3800.0   \n",
              "2  Torgersen            40.3           18.0              195.0       3250.0   \n",
              "4  Torgersen            36.7           19.3              193.0       3450.0   \n",
              "5  Torgersen            39.3           20.6              190.0       3650.0   \n",
              "\n",
              "      sex  \n",
              "0    Male  \n",
              "1  Female  \n",
              "2  Female  \n",
              "4  Female  \n",
              "5    Male  "
            ]
          },
          "execution_count": 5,
          "metadata": {},
          "output_type": "execute_result"
        }
      ],
      "source": [
        "X = penguins_data.drop('species', axis=1)\n",
        "y = penguins_data['species']\n",
        "X.head()"
      ]
    },
    {
      "cell_type": "code",
      "execution_count": 6,
      "id": "3d8f0c37",
      "metadata": {},
      "outputs": [
        {
          "data": {
            "text/plain": [
              "0    Adelie\n",
              "1    Adelie\n",
              "2    Adelie\n",
              "4    Adelie\n",
              "5    Adelie\n",
              "Name: species, dtype: object"
            ]
          },
          "execution_count": 6,
          "metadata": {},
          "output_type": "execute_result"
        }
      ],
      "source": [
        "y.head()"
      ]
    },
    {
      "cell_type": "markdown",
      "id": "TPpIY1f2Cxvl",
      "metadata": {
        "id": "TPpIY1f2Cxvl"
      },
      "source": [
        "Данные содержат строковые категориальные столбцы — island и sex. Логистическая регрессия не умеет работать со строковыми значениями. Необходимо произвести кодирование категориальных признаков. \n",
        "\n",
        "> **Примечание**. Кодировать целевую переменную `y` не нужно, даже если она представлена в виде строковых значений. Это не влияет на работу модели."
      ]
    },
    {
      "cell_type": "markdown",
      "id": "YFs3ZqywC5vH",
      "metadata": {
        "id": "YFs3ZqywC5vH"
      },
      "source": [
        "Воспользуемся функцией `get_dummies()` из библиотеки `pandas` для «горячего» кодирования."
      ]
    },
    {
      "cell_type": "code",
      "execution_count": 7,
      "id": "a602d0b2-d919-491a-8e75-743d45e8b3c5",
      "metadata": {
        "colab": {
          "base_uri": "https://localhost:8080/",
          "height": 250
        },
        "id": "a602d0b2-d919-491a-8e75-743d45e8b3c5",
        "outputId": "9ee20a09-970a-452c-ace3-fff24bc05038"
      },
      "outputs": [
        {
          "data": {
            "text/html": [
              "<div>\n",
              "<style scoped>\n",
              "    .dataframe tbody tr th:only-of-type {\n",
              "        vertical-align: middle;\n",
              "    }\n",
              "\n",
              "    .dataframe tbody tr th {\n",
              "        vertical-align: top;\n",
              "    }\n",
              "\n",
              "    .dataframe thead th {\n",
              "        text-align: right;\n",
              "    }\n",
              "</style>\n",
              "<table border=\"1\" class=\"dataframe\">\n",
              "  <thead>\n",
              "    <tr style=\"text-align: right;\">\n",
              "      <th></th>\n",
              "      <th>bill_length_mm</th>\n",
              "      <th>bill_depth_mm</th>\n",
              "      <th>flipper_length_mm</th>\n",
              "      <th>body_mass_g</th>\n",
              "      <th>island_Biscoe</th>\n",
              "      <th>island_Dream</th>\n",
              "      <th>island_Torgersen</th>\n",
              "      <th>sex_Female</th>\n",
              "      <th>sex_Male</th>\n",
              "    </tr>\n",
              "  </thead>\n",
              "  <tbody>\n",
              "    <tr>\n",
              "      <th>0</th>\n",
              "      <td>39.1</td>\n",
              "      <td>18.7</td>\n",
              "      <td>181.0</td>\n",
              "      <td>3750.0</td>\n",
              "      <td>0</td>\n",
              "      <td>0</td>\n",
              "      <td>1</td>\n",
              "      <td>0</td>\n",
              "      <td>1</td>\n",
              "    </tr>\n",
              "    <tr>\n",
              "      <th>1</th>\n",
              "      <td>39.5</td>\n",
              "      <td>17.4</td>\n",
              "      <td>186.0</td>\n",
              "      <td>3800.0</td>\n",
              "      <td>0</td>\n",
              "      <td>0</td>\n",
              "      <td>1</td>\n",
              "      <td>1</td>\n",
              "      <td>0</td>\n",
              "    </tr>\n",
              "    <tr>\n",
              "      <th>2</th>\n",
              "      <td>40.3</td>\n",
              "      <td>18.0</td>\n",
              "      <td>195.0</td>\n",
              "      <td>3250.0</td>\n",
              "      <td>0</td>\n",
              "      <td>0</td>\n",
              "      <td>1</td>\n",
              "      <td>1</td>\n",
              "      <td>0</td>\n",
              "    </tr>\n",
              "    <tr>\n",
              "      <th>4</th>\n",
              "      <td>36.7</td>\n",
              "      <td>19.3</td>\n",
              "      <td>193.0</td>\n",
              "      <td>3450.0</td>\n",
              "      <td>0</td>\n",
              "      <td>0</td>\n",
              "      <td>1</td>\n",
              "      <td>1</td>\n",
              "      <td>0</td>\n",
              "    </tr>\n",
              "    <tr>\n",
              "      <th>5</th>\n",
              "      <td>39.3</td>\n",
              "      <td>20.6</td>\n",
              "      <td>190.0</td>\n",
              "      <td>3650.0</td>\n",
              "      <td>0</td>\n",
              "      <td>0</td>\n",
              "      <td>1</td>\n",
              "      <td>0</td>\n",
              "      <td>1</td>\n",
              "    </tr>\n",
              "  </tbody>\n",
              "</table>\n",
              "</div>"
            ],
            "text/plain": [
              "   bill_length_mm  bill_depth_mm  flipper_length_mm  body_mass_g  \\\n",
              "0            39.1           18.7              181.0       3750.0   \n",
              "1            39.5           17.4              186.0       3800.0   \n",
              "2            40.3           18.0              195.0       3250.0   \n",
              "4            36.7           19.3              193.0       3450.0   \n",
              "5            39.3           20.6              190.0       3650.0   \n",
              "\n",
              "   island_Biscoe  island_Dream  island_Torgersen  sex_Female  sex_Male  \n",
              "0              0             0                 1           0         1  \n",
              "1              0             0                 1           1         0  \n",
              "2              0             0                 1           1         0  \n",
              "4              0             0                 1           1         0  \n",
              "5              0             0                 1           0         1  "
            ]
          },
          "execution_count": 7,
          "metadata": {},
          "output_type": "execute_result"
        }
      ],
      "source": [
        "X_dummies = pd.get_dummies(X)\n",
        "X_dummies.head()"
      ]
    },
    {
      "cell_type": "markdown",
      "id": "TiCTaW5GC9HU",
      "metadata": {
        "id": "TiCTaW5GC9HU"
      },
      "source": [
        "Теперь данные готовы для подачи в модель.\n",
        "\n",
        "Создаём модель логистической регрессии, значение параметра `multi_class` выставляем на `'multinomial'` (мультиклассовая классификация), `max_iter` — на 1000 (для обеспечения сходимости), `random_state=42`.\n",
        "\n",
        "Затем обучим модель с помощью метода `fit()` и сделаем предсказание вероятностей принадлежности к каждому из классов с помощью метода `predict_proba()` и самих классов — с помощью метода `predict()`. Вероятности округлим до второго знака после запятой."
      ]
    },
    {
      "cell_type": "code",
      "execution_count": 8,
      "id": "a34eee32-a469-481e-8d43-868d702f9099",
      "metadata": {
        "id": "a34eee32-a469-481e-8d43-868d702f9099"
      },
      "outputs": [],
      "source": [
        "#Создаём объект класса LogisticRegression \n",
        "log_reg = linear_model.LogisticRegression(\n",
        "    multi_class='multinomial', #мультиклассовая классификация\n",
        "    max_iter=1000, #количество итераций, выделенных на сходимость\n",
        "    random_state=42 #генерация случайных чисел\n",
        ")\n",
        "#Обучаем модель \n",
        "log_reg.fit(X_dummies, y)\n",
        "#Делаем предсказание вероятностей\n",
        "y_pred_proba = np.round(log_reg.predict_proba(X_dummies), 2)\n",
        "#Делаем предсказание класса\n",
        "y_pred = log_reg.predict(X_dummies)"
      ]
    },
    {
      "cell_type": "markdown",
      "id": "eCPO3emLDIXs",
      "metadata": {
        "id": "eCPO3emLDIXs"
      },
      "source": [
        "Для наглядности создадим таблицу из вероятностей для каждого класса и финального предсказания. Выберем пять случайных строк из этой таблицы с помощью метода [sample()](https://pandas.pydata.org/pandas-docs/stable/reference/api/pandas.DataFrame.sample.html):"
      ]
    },
    {
      "cell_type": "code",
      "execution_count": 9,
      "id": "550b381d-896c-4ba7-8f34-7b9b61a931ea",
      "metadata": {
        "colab": {
          "base_uri": "https://localhost:8080/",
          "height": 206
        },
        "id": "550b381d-896c-4ba7-8f34-7b9b61a931ea",
        "outputId": "af3814d7-eb15-489c-b339-8dc257e7f886"
      },
      "outputs": [
        {
          "data": {
            "text/html": [
              "<div>\n",
              "<style scoped>\n",
              "    .dataframe tbody tr th:only-of-type {\n",
              "        vertical-align: middle;\n",
              "    }\n",
              "\n",
              "    .dataframe tbody tr th {\n",
              "        vertical-align: top;\n",
              "    }\n",
              "\n",
              "    .dataframe thead th {\n",
              "        text-align: right;\n",
              "    }\n",
              "</style>\n",
              "<table border=\"1\" class=\"dataframe\">\n",
              "  <thead>\n",
              "    <tr style=\"text-align: right;\">\n",
              "      <th></th>\n",
              "      <th>Adelie</th>\n",
              "      <th>Chinstrap</th>\n",
              "      <th>Gentoo</th>\n",
              "      <th>Predicted Class</th>\n",
              "    </tr>\n",
              "  </thead>\n",
              "  <tbody>\n",
              "    <tr>\n",
              "      <th>277</th>\n",
              "      <td>0.00</td>\n",
              "      <td>0.00</td>\n",
              "      <td>1.0</td>\n",
              "      <td>Gentoo</td>\n",
              "    </tr>\n",
              "    <tr>\n",
              "      <th>223</th>\n",
              "      <td>0.00</td>\n",
              "      <td>0.00</td>\n",
              "      <td>1.0</td>\n",
              "      <td>Gentoo</td>\n",
              "    </tr>\n",
              "    <tr>\n",
              "      <th>7</th>\n",
              "      <td>0.79</td>\n",
              "      <td>0.21</td>\n",
              "      <td>0.0</td>\n",
              "      <td>Adelie</td>\n",
              "    </tr>\n",
              "    <tr>\n",
              "      <th>160</th>\n",
              "      <td>0.00</td>\n",
              "      <td>1.00</td>\n",
              "      <td>0.0</td>\n",
              "      <td>Chinstrap</td>\n",
              "    </tr>\n",
              "    <tr>\n",
              "      <th>65</th>\n",
              "      <td>1.00</td>\n",
              "      <td>0.00</td>\n",
              "      <td>0.0</td>\n",
              "      <td>Adelie</td>\n",
              "    </tr>\n",
              "  </tbody>\n",
              "</table>\n",
              "</div>"
            ],
            "text/plain": [
              "     Adelie  Chinstrap  Gentoo Predicted Class\n",
              "277    0.00       0.00     1.0          Gentoo\n",
              "223    0.00       0.00     1.0          Gentoo\n",
              "7      0.79       0.21     0.0          Adelie\n",
              "160    0.00       1.00     0.0       Chinstrap\n",
              "65     1.00       0.00     0.0          Adelie"
            ]
          },
          "execution_count": 9,
          "metadata": {},
          "output_type": "execute_result"
        }
      ],
      "source": [
        "#Создаём DataFrame из вероятностей\n",
        "y_pred_proba_df = pd.DataFrame(\n",
        "    y_pred_proba, \n",
        "    columns=['Adelie', 'Chinstrap', 'Gentoo']\n",
        ")\n",
        "#Создаём DataFrame из предсказанных классов\n",
        "y_pred_df = pd.DataFrame(\n",
        "    y_pred, \n",
        "    columns=['Predicted Class']\n",
        ")\n",
        "#Объединяем таблицы по вертикальной оси\n",
        "y_df = pd.concat([y_pred_proba_df, y_pred_df], axis=1)\n",
        "#Выбираем пять случайных строк\n",
        "y_df.sample(5, random_state=2)"
      ]
    },
    {
      "cell_type": "markdown",
      "id": "7zhbYFMADNjh",
      "metadata": {
        "id": "7zhbYFMADNjh"
      },
      "source": [
        "Из таблицы можно проследить, как происходит предсказание класса пингвина на основе полученных вероятностей. Видно, что выбирается класс, вероятность принадлежности к которому максимальна.\n",
        "\n",
        "Например, для строки под номером 7 логистическая регрессия предсказала три вероятности: 0.79 — вероятность принадлежности к классу Adelie, 0.21 — к классу Chinstrap и 0 — к классу Gentoo. На основе этих вероятностей было сделано предсказание и модель отнесла пингвина в строке 7 к классу Adelie.\n",
        "\n",
        "Вот так и происходит мультиклассовая классификация. \n",
        "\n",
        "Давайте посмотрим, как в таком случае будет выглядеть отчёт о метриках:"
      ]
    },
    {
      "cell_type": "code",
      "execution_count": 10,
      "id": "6a281f04-4dfb-4a6b-827f-31866ab0e7c1",
      "metadata": {
        "colab": {
          "base_uri": "https://localhost:8080/"
        },
        "id": "6a281f04-4dfb-4a6b-827f-31866ab0e7c1",
        "outputId": "d2a75366-fa0f-4d73-9f13-c59c8a41fd69"
      },
      "outputs": [
        {
          "name": "stdout",
          "output_type": "stream",
          "text": [
            "              precision    recall  f1-score   support\n",
            "\n",
            "      Adelie       1.00      1.00      1.00       146\n",
            "   Chinstrap       1.00      1.00      1.00        68\n",
            "      Gentoo       1.00      1.00      1.00       119\n",
            "\n",
            "    accuracy                           1.00       333\n",
            "   macro avg       1.00      1.00      1.00       333\n",
            "weighted avg       1.00      1.00      1.00       333\n",
            "\n"
          ]
        }
      ],
      "source": [
        "print(metrics.classification_report(y, y_pred))"
      ]
    },
    {
      "cell_type": "markdown",
      "id": "UeBWbhxPDP3b",
      "metadata": {
        "id": "UeBWbhxPDP3b"
      },
      "source": [
        "Для мультиклассовой классификации к отчёту просто добавляется новая строка, соответствующая третьему классу. \n",
        "\n",
        "Из отчёта видно, что наша модель идеально решила задачу классификации (все метрики равны 1), то есть классы оказались линейно разделимыми."
      ]
    }
  ],
  "metadata": {
    "colab": {
      "provenance": []
    },
    "kernelspec": {
      "display_name": "Python 3 (ipykernel)",
      "language": "python",
      "name": "python3"
    },
    "language_info": {
      "codemirror_mode": {
        "name": "ipython",
        "version": 3
      },
      "file_extension": ".py",
      "mimetype": "text/x-python",
      "name": "python",
      "nbconvert_exporter": "python",
      "pygments_lexer": "ipython3",
      "version": "3.10.7"
    }
  },
  "nbformat": 4,
  "nbformat_minor": 5
}
