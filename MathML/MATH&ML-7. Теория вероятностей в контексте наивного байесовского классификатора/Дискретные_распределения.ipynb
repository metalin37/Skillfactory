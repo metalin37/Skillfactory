{
 "cells": [
  {
   "cell_type": "markdown",
   "id": "caa69e48",
   "metadata": {},
   "source": [
    "## Равномерное распределение"
   ]
  },
  {
   "cell_type": "code",
   "execution_count": 14,
   "id": "75770dc8",
   "metadata": {},
   "outputs": [],
   "source": [
    "import warnings\n",
    "warnings.filterwarnings('ignore')"
   ]
  },
  {
   "cell_type": "code",
   "execution_count": 15,
   "id": "5d82762e",
   "metadata": {},
   "outputs": [],
   "source": [
    "import numpy as np\n",
    "from scipy.stats import randint"
   ]
  },
  {
   "cell_type": "markdown",
   "id": "c6f3eeb4",
   "metadata": {},
   "source": [
    "Попробуем рассчитать вероятности для случайной величины, которая принимает значения от 1 включительно до 7 не включительно (собственно, это как раз пример с пирожными):"
   ]
  },
  {
   "cell_type": "code",
   "execution_count": 16,
   "id": "0d458ebe",
   "metadata": {},
   "outputs": [
    {
     "name": "stdout",
     "output_type": "stream",
     "text": [
      "[0.16666667 0.16666667 0.16666667 0.16666667 0.16666667 0.16666667]\n"
     ]
    }
   ],
   "source": [
    "# Задаём возможные значения случайной величины\n",
    "x = np.arange(1, 7)\n",
    "# Задаём интервал, на котором будут распределяться наши вероятности\n",
    "disc_uni_dist = randint(1, 7)\n",
    "# Вычисляем вероятности выпадения каждого значения случайной величины\n",
    "pmf = disc_uni_dist.pmf(x)\n",
    "#Получаем вероятности для каждого из шести значений:\n",
    "print(pmf)"
   ]
  },
  {
   "cell_type": "markdown",
   "id": "cb3a4824",
   "metadata": {},
   "source": [
    "Также мы можем найти кумулятивную вероятность для распределения, то есть для каждого  вероятность того, что случайная величина примет значение Xj или меньше:"
   ]
  },
  {
   "cell_type": "code",
   "execution_count": 17,
   "id": "69722968",
   "metadata": {},
   "outputs": [
    {
     "name": "stdout",
     "output_type": "stream",
     "text": [
      "[0.16666667 0.33333333 0.5        0.66666667 0.83333333 1.        ]\n"
     ]
    }
   ],
   "source": [
    "# Рассчитаем кумулятивную вероятность\n",
    "cdf = disc_uni_dist.cdf(x)\n",
    "print(cdf)"
   ]
  },
  {
   "cell_type": "markdown",
   "id": "e4651ad4",
   "metadata": {},
   "source": [
    "Теперь давайте попробуем с помощью функций Python решить другую задачу.\n",
    "\n",
    "?\n",
    "\n",
    "Вы участвуете в розыгрыше бесплатного места на новый курс по Data Science. Вы знаете, что участников 250.\n",
    "\n",
    "Какова вероятность, что на курс попадёт кто-то из первых пятидесяти зарегистрировавшихся?"
   ]
  },
  {
   "cell_type": "code",
   "execution_count": 18,
   "id": "6ec7339a",
   "metadata": {},
   "outputs": [
    {
     "name": "stdout",
     "output_type": "stream",
     "text": [
      "0.2\n"
     ]
    }
   ],
   "source": [
    "# Задаём возможные значения случайной величины\n",
    "x = np.arange(1, 251)\n",
    "# Задаём интервал, на котором будут распределяться наши вероятности\n",
    "disc_uni_dist = randint(1,251)\n",
    "# Вычисляем вероятности выпадения каждого значения случайной величины\n",
    "cdf = disc_uni_dist.cdf(x)\n",
    "# Ищем вероятность того, что на курс попадёт кто-то из первых 50 зарегистрировавшихся\n",
    "print(cdf[49])"
   ]
  },
  {
   "cell_type": "markdown",
   "id": "a545dcbf",
   "metadata": {},
   "source": [
    "В результате получаем 0.2 — это вероятность того, что выигрыш получит кто-то, чей порядковый номер — от 1 до 50. Разумеется, вероятность не зависит от самого номера, поэтому для номеров с 51 по 100 вероятность будет ровно такая же."
   ]
  },
  {
   "cell_type": "markdown",
   "id": "ebf75db7",
   "metadata": {},
   "source": [
    "## Распределение Бернулли"
   ]
  },
  {
   "cell_type": "code",
   "execution_count": 19,
   "id": "ed7c63fe",
   "metadata": {},
   "outputs": [],
   "source": [
    "from scipy.stats import bernoulli\n",
    "import seaborn as sns"
   ]
  },
  {
   "cell_type": "markdown",
   "id": "7835e1bc",
   "metadata": {},
   "source": [
    "С помощью специальной функции bernoulli.rvs() из библиотеки scipy мы можем смоделировать распределение Бернулли и, например, увидеть ожидаемое соотношение попаданий и промахов для решённой задачи, если будет сделано 500 выстрелов:"
   ]
  },
  {
   "cell_type": "code",
   "execution_count": 20,
   "id": "f5542d42",
   "metadata": {},
   "outputs": [
    {
     "data": {
      "text/plain": [
       "[Text(0.5, 0, 'Значение случайной величины'), Text(0, 0.5, 'Частота')]"
      ]
     },
     "execution_count": 20,
     "metadata": {},
     "output_type": "execute_result"
    },
    {
     "data": {
      "image/png": "[encoded data removed]",
      "text/plain": [
       "<Figure size 432x288 with 1 Axes>"
      ]
     },
     "metadata": {
      "needs_background": "light"
     },
     "output_type": "display_data"
    }
   ],
   "source": [
    "data = bernoulli.rvs(size=500,p=0.6)\n",
    "ax = sns.distplot(data,\n",
    "                  kde = False,\n",
    "                  color='dodgerblue')\n",
    "ax.set(xlabel='Значение случайной величины', ylabel='Частота')"
   ]
  },
  {
   "cell_type": "markdown",
   "id": "886fb51e",
   "metadata": {},
   "source": [
    "Также можно вывести количество неудач и попаданий в нашей модели:"
   ]
  },
  {
   "cell_type": "code",
   "execution_count": 21,
   "id": "5c71bb29",
   "metadata": {},
   "outputs": [
    {
     "name": "stdout",
     "output_type": "stream",
     "text": [
      "[[  0 213]\n",
      " [  1 287]]\n"
     ]
    }
   ],
   "source": [
    "unique, counts = np.unique(data, return_counts=True)\n",
    "print(np.asarray((unique, counts)).T)"
   ]
  },
  {
   "cell_type": "markdown",
   "id": "81ef32ef",
   "metadata": {},
   "source": [
    "Итак, мы получили результат, близкий к ожидаемому, но с некоторыми погрешностями, что, разумеется, является нормальным."
   ]
  },
  {
   "cell_type": "markdown",
   "id": "5844fa7d",
   "metadata": {},
   "source": [
    "## Биномиальное распределение"
   ]
  },
  {
   "cell_type": "code",
   "execution_count": 27,
   "id": "0334b40e",
   "metadata": {},
   "outputs": [],
   "source": [
    "from numpy import random"
   ]
  },
  {
   "cell_type": "markdown",
   "id": "696ddacc",
   "metadata": {},
   "source": [
    "Как и для распределения Бернулли, для биномиального распределения можно смоделировать какое-то количество попыток и получить результат. Например, можно смоделировать биноминальное распределение с параметром p = 0.5 и количеством испытаний, равным 10, и реализовать 1000 попыток:"
   ]
  },
  {
   "cell_type": "code",
   "execution_count": 29,
   "id": "a1ae6a02",
   "metadata": {},
   "outputs": [
    {
     "data": {
      "text/plain": [
       "<AxesSubplot:>"
      ]
     },
     "execution_count": 29,
     "metadata": {},
     "output_type": "execute_result"
    },
    {
     "data": {
      "image/png": "[encoded data removed]",
      "text/plain": [
       "<Figure size 432x288 with 1 Axes>"
      ]
     },
     "metadata": {
      "needs_background": "light"
     },
     "output_type": "display_data"
    }
   ],
   "source": [
    "x = random.binomial(n=10, p=0.5, size=10)\n",
    "sns.distplot(random.binomial(n=10, p=0.5, size=1000), hist=True, kde=False)"
   ]
  },
  {
   "cell_type": "markdown",
   "id": "e702a252",
   "metadata": {},
   "source": [
    "Можно видеть, что чаще всего можно наблюдать пять успешных исходов."
   ]
  },
  {
   "cell_type": "markdown",
   "id": "89bb2a58",
   "metadata": {},
   "source": [
    "## Распределение Пуассона"
   ]
  },
  {
   "cell_type": "code",
   "execution_count": 31,
   "id": "17138263",
   "metadata": {},
   "outputs": [],
   "source": [
    "import scipy"
   ]
  },
  {
   "cell_type": "markdown",
   "id": "faf5b154",
   "metadata": {},
   "source": [
    "Рассчитаем вероятности для всех возможных количеств операторов, пока не получим вероятность того, что вызов находится на удержании, которая будет меньше 10 %:"
   ]
  },
  {
   "cell_type": "code",
   "execution_count": 32,
   "id": "6b01eb18",
   "metadata": {},
   "outputs": [
    {
     "data": {
      "text/plain": [
       "0.17082685848611215"
      ]
     },
     "execution_count": 32,
     "metadata": {},
     "output_type": "execute_result"
    }
   ],
   "source": [
    "scipy.stats.distributions.poisson.pmf(5, 4.5)"
   ]
  },
  {
   "cell_type": "markdown",
   "id": "c3f95d3f",
   "metadata": {},
   "source": [
    "Также можно смоделировать распределение Пуассона. Например, будем рассматривать 1000 реализаций случайной величины, у которой Л=3:"
   ]
  },
  {
   "cell_type": "code",
   "execution_count": 34,
   "id": "5b64c785",
   "metadata": {},
   "outputs": [
    {
     "data": {
      "text/plain": [
       "<AxesSubplot:>"
      ]
     },
     "execution_count": 34,
     "metadata": {},
     "output_type": "execute_result"
    },
    {
     "data": {
      "image/png": "[encoded data removed]",
      "text/plain": [
       "<Figure size 432x288 with 1 Axes>"
      ]
     },
     "metadata": {
      "needs_background": "light"
     },
     "output_type": "display_data"
    }
   ],
   "source": [
    "sns.distplot(random.poisson(lam=3, size=1000), kde=False)"
   ]
  },
  {
   "cell_type": "markdown",
   "id": "016d0809",
   "metadata": {},
   "source": [
    "Вы стреляете по мишени. Вероятность набрать максимальное количество очков составляет 7 %. В этом случае вы выиграете плюшевого медведя стоимостью 5000 рублей. Если наберёте меньше максимума, то не выиграете ничего.\n",
    "\n",
    "Сколько должен стоить билет, чтобы обеспечить игру, в которой выигрыш равен вашим ожидаемым затратам и ожидаемым затратам продавца?"
   ]
  },
  {
   "cell_type": "code",
   "execution_count": 1,
   "id": "3f9f37d6",
   "metadata": {},
   "outputs": [
    {
     "name": "stdout",
     "output_type": "stream",
     "text": [
      "Стоимость билета: 376.34\n",
      "Ожидаемые затраты продавца: 350.0\n"
     ]
    }
   ],
   "source": [
    "# Вероятность выигрыша и его стоимость\n",
    "p_win = 0.07\n",
    "win_cost = 5000\n",
    "\n",
    "# Вероятность проигрыша и стоимость билета\n",
    "p_lose = 0.93\n",
    "ticket_cost = None\n",
    "\n",
    "# Рассчитываем стоимость билета\n",
    "ticket_cost = p_win * win_cost / p_lose\n",
    "print(\"Стоимость билета:\", round(ticket_cost, 2))\n",
    "\n",
    "# Рассчитываем ожидаемые затраты продавца\n",
    "seller_cost = p_lose * ticket_cost\n",
    "print(\"Ожидаемые затраты продавца:\", round(seller_cost, 2))"
   ]
  },
  {
   "cell_type": "markdown",
   "id": "865450fc",
   "metadata": {},
   "source": [
    "Вы купили 85 лотерейных билетов. Для каждого из них вероятность выигрыша составляет 0.001.\n",
    "\n",
    "Найдите математическое ожидание для количества выигрышных билетов.\n",
    "\n"
   ]
  },
  {
   "cell_type": "code",
   "execution_count": 2,
   "id": "a6265782",
   "metadata": {},
   "outputs": [
    {
     "name": "stdout",
     "output_type": "stream",
     "text": [
      "Математическое ожидание количества выигрышных билетов: 0.085\n"
     ]
    }
   ],
   "source": [
    "# Вероятность выигрыша одного лотерейного билета\n",
    "p = 0.001\n",
    "\n",
    "# Количество лотерейных билетов\n",
    "n = 85\n",
    "\n",
    "# Рассчитываем математическое ожидание количества выигрышных билетов\n",
    "expected_value = n * p\n",
    "\n",
    "print(\"Математическое ожидание количества выигрышных билетов:\", expected_value)"
   ]
  }
 ],
 "metadata": {
  "kernelspec": {
   "display_name": "Python 3 (ipykernel)",
   "language": "python",
   "name": "python3"
  },
  "language_info": {
   "codemirror_mode": {
    "name": "ipython",
    "version": 3
   },
   "file_extension": ".py",
   "mimetype": "text/x-python",
   "name": "python",
   "nbconvert_exporter": "python",
   "pygments_lexer": "ipython3",
   "version": "3.10.7"
  }
 },
 "nbformat": 4,
 "nbformat_minor": 5
}
