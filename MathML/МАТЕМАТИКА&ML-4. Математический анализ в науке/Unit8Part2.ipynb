{
 "cells": [
  {
   "cell_type": "code",
   "execution_count": 1,
   "id": "d395f489",
   "metadata": {},
   "outputs": [],
   "source": [
    "import numpy as np\n",
    "import pandas as pd"
   ]
  },
  {
   "cell_type": "code",
   "execution_count": 2,
   "id": "def89b0c",
   "metadata": {},
   "outputs": [],
   "source": [
    "df = pd.read_csv('Advertising.csv',index_col=0)"
   ]
  },
  {
   "cell_type": "code",
   "execution_count": 3,
   "id": "3fbdff65",
   "metadata": {},
   "outputs": [
    {
     "data": {
      "text/html": [
       "<div>\n",
       "<style scoped>\n",
       "    .dataframe tbody tr th:only-of-type {\n",
       "        vertical-align: middle;\n",
       "    }\n",
       "\n",
       "    .dataframe tbody tr th {\n",
       "        vertical-align: top;\n",
       "    }\n",
       "\n",
       "    .dataframe thead th {\n",
       "        text-align: right;\n",
       "    }\n",
       "</style>\n",
       "<table border=\"1\" class=\"dataframe\">\n",
       "  <thead>\n",
       "    <tr style=\"text-align: right;\">\n",
       "      <th></th>\n",
       "      <th>TV</th>\n",
       "      <th>radio</th>\n",
       "      <th>newspaper</th>\n",
       "      <th>sales</th>\n",
       "    </tr>\n",
       "  </thead>\n",
       "  <tbody>\n",
       "    <tr>\n",
       "      <th>1</th>\n",
       "      <td>230.1</td>\n",
       "      <td>37.8</td>\n",
       "      <td>69.2</td>\n",
       "      <td>22.1</td>\n",
       "    </tr>\n",
       "    <tr>\n",
       "      <th>2</th>\n",
       "      <td>44.5</td>\n",
       "      <td>39.3</td>\n",
       "      <td>45.1</td>\n",
       "      <td>10.4</td>\n",
       "    </tr>\n",
       "    <tr>\n",
       "      <th>3</th>\n",
       "      <td>17.2</td>\n",
       "      <td>45.9</td>\n",
       "      <td>69.3</td>\n",
       "      <td>9.3</td>\n",
       "    </tr>\n",
       "    <tr>\n",
       "      <th>4</th>\n",
       "      <td>151.5</td>\n",
       "      <td>41.3</td>\n",
       "      <td>58.5</td>\n",
       "      <td>18.5</td>\n",
       "    </tr>\n",
       "    <tr>\n",
       "      <th>5</th>\n",
       "      <td>180.8</td>\n",
       "      <td>10.8</td>\n",
       "      <td>58.4</td>\n",
       "      <td>12.9</td>\n",
       "    </tr>\n",
       "  </tbody>\n",
       "</table>\n",
       "</div>"
      ],
      "text/plain": [
       "      TV  radio  newspaper  sales\n",
       "1  230.1   37.8       69.2   22.1\n",
       "2   44.5   39.3       45.1   10.4\n",
       "3   17.2   45.9       69.3    9.3\n",
       "4  151.5   41.3       58.5   18.5\n",
       "5  180.8   10.8       58.4   12.9"
      ]
     },
     "execution_count": 3,
     "metadata": {},
     "output_type": "execute_result"
    }
   ],
   "source": [
    "df.head()"
   ]
  },
  {
   "cell_type": "code",
   "execution_count": 4,
   "id": "4921f4cd",
   "metadata": {},
   "outputs": [],
   "source": [
    "X = df['TV']\n",
    "y = df['sales']\n",
    "n = len(y)\n",
    "X = np.append(np.ones((n,1)), X.values.reshape(n,1), axis = 1)\n",
    "y = df['sales'].values.reshape(n,1)\n",
    "par = np.zeros((2,1))"
   ]
  },
  {
   "cell_type": "code",
   "execution_count": 5,
   "id": "6c57c280",
   "metadata": {},
   "outputs": [],
   "source": [
    "def cost_function(X, y , par):\n",
    "    y_pred = np.dot(X, par)\n",
    "    error = (y_pred - y)**2\n",
    "    cost = 1/(n)*np.sum(error)\n",
    "    return cost"
   ]
  },
  {
   "cell_type": "code",
   "execution_count": 6,
   "id": "40b464b2",
   "metadata": {},
   "outputs": [],
   "source": [
    "def grad_d(X, y, par, alpha, iterations, eps=0.001):\n",
    "    costs = []\n",
    "    for i in range(iterations):\n",
    "        y_pred = np.dot(X, par)\n",
    "        der = np.dot (X.transpose(), (y_pred - y))\n",
    "        par -= alpha * 1 / n * der\n",
    "        costs.append(cost_function(X, y, par))\n",
    "        # Добавили критерий остановки в алгоритм - длина вектора градиента меньше либо равна eps\n",
    "        # Это случается, когда все компоненты вектора градиента близки к eps (почти 0)\n",
    "        if np.linalg.norm(der) <= eps:\n",
    "            # В случае выполнения критерия остановки алгоритм завершает работу\n",
    "            break\n",
    "    return par, costs"
   ]
  },
  {
   "cell_type": "code",
   "execution_count": 7,
   "id": "1ee5e93b",
   "metadata": {},
   "outputs": [],
   "source": [
    "par_opt, costs_opt = grad_d(X, y, par, 0.00005, 500000)"
   ]
  },
  {
   "cell_type": "code",
   "execution_count": 8,
   "id": "452bddc7",
   "metadata": {},
   "outputs": [
    {
     "data": {
      "text/plain": [
       "array([[7.02008789],\n",
       "       [0.04760015]])"
      ]
     },
     "execution_count": 8,
     "metadata": {},
     "output_type": "execute_result"
    }
   ],
   "source": [
    "par_opt"
   ]
  },
  {
   "cell_type": "code",
   "execution_count": 9,
   "id": "3a46c500",
   "metadata": {},
   "outputs": [
    {
     "name": "stdout",
     "output_type": "stream",
     "text": [
      "[[ 2.863e+00]\n",
      " [ 4.600e-02]\n",
      " [ 1.890e-01]\n",
      " [-1.000e-03]]\n"
     ]
    }
   ],
   "source": [
    "import pandas as pd\n",
    "import numpy as np\n",
    "\n",
    "df = pd.read_csv('Advertising.csv',index_col=0)\n",
    "\n",
    "X = df[['TV','radio','newspaper']]\n",
    "y = df['sales']\n",
    "n = len(y)\n",
    "X = np.append(np.ones((n,1)), X.values.reshape(n,3), axis = 1)\n",
    "y = df['sales'].values.reshape(n,1)\n",
    "par = np.zeros((4,1))\n",
    "\n",
    "def cost_function(X, y , par):\n",
    "    y_pred = np.dot(X, par)\n",
    "    error = (y_pred - y)**2\n",
    "    cost = 1/(n)*np.sum(error)\n",
    "    return cost\n",
    "\n",
    "def grad_d(X,y, par, alpha, iterations, eps=0.001):\n",
    "    costs = []\n",
    "    for i in range(iterations):\n",
    "        y_pred = np.dot(X, par)\n",
    "        der = np.dot (X.transpose(), (y_pred - y))/ n\n",
    "        par -= alpha * der\n",
    "        costs.append(cost_function(X,y, par))\n",
    "        if np.linalg.norm(der) < eps:\n",
    "            break\n",
    "    return par, costs\n",
    "\n",
    "par, costs = grad_d(X,y, par, 0.00005, 500000)\n",
    "print(par.round(3))"
   ]
  },
  {
   "cell_type": "code",
   "execution_count": 10,
   "id": "7628aa8a",
   "metadata": {},
   "outputs": [
    {
     "name": "stdout",
     "output_type": "stream",
     "text": [
      "                            OLS Regression Results                            \n",
      "==============================================================================\n",
      "Dep. Variable:                      y   R-squared:                       0.897\n",
      "Model:                            OLS   Adj. R-squared:                  0.896\n",
      "Method:                 Least Squares   F-statistic:                     570.3\n",
      "Date:                Fri, 21 Jul 2023   Prob (F-statistic):           1.58e-96\n",
      "Time:                        00:21:55   Log-Likelihood:                -386.18\n",
      "No. Observations:                 200   AIC:                             780.4\n",
      "Df Residuals:                     196   BIC:                             793.6\n",
      "Df Model:                           3                                         \n",
      "Covariance Type:            nonrobust                                         \n",
      "==============================================================================\n",
      "                 coef    std err          t      P>|t|      [0.025      0.975]\n",
      "------------------------------------------------------------------------------\n",
      "const          2.9389      0.312      9.422      0.000       2.324       3.554\n",
      "x1             0.0458      0.001     32.809      0.000       0.043       0.049\n",
      "x2             0.1885      0.009     21.893      0.000       0.172       0.206\n",
      "x3            -0.0010      0.006     -0.177      0.860      -0.013       0.011\n",
      "==============================================================================\n",
      "Omnibus:                       60.414   Durbin-Watson:                   2.084\n",
      "Prob(Omnibus):                  0.000   Jarque-Bera (JB):              151.241\n",
      "Skew:                          -1.327   Prob(JB):                     1.44e-33\n",
      "Kurtosis:                       6.332   Cond. No.                         454.\n",
      "==============================================================================\n",
      "\n",
      "Notes:\n",
      "[1] Standard Errors assume that the covariance matrix of the errors is correctly specified.\n"
     ]
    }
   ],
   "source": [
    "import numpy as np\n",
    "import statsmodels.api as sm\n",
    "mod = sm.OLS(y, X)\n",
    "res = mod.fit()\n",
    "print(res.summary())"
   ]
  },
  {
   "cell_type": "code",
   "execution_count": 11,
   "id": "db3259c6",
   "metadata": {},
   "outputs": [
    {
     "name": "stdout",
     "output_type": "stream",
     "text": [
      "[[ 0.          0.04576465  0.18853002 -0.00103749]]\n",
      "[2.93888937]\n"
     ]
    }
   ],
   "source": [
    "from sklearn.linear_model import LinearRegression\n",
    "model = LinearRegression()\n",
    "model.fit(X,y)\n",
    "print(model.coef_)\n",
    "print(model.intercept_)"
   ]
  },
  {
   "cell_type": "code",
   "execution_count": 12,
   "id": "50f8a372",
   "metadata": {},
   "outputs": [
    {
     "name": "stdout",
     "output_type": "stream",
     "text": [
      "[[ 2.863e+00]\n",
      " [ 4.600e-02]\n",
      " [ 1.890e-01]\n",
      " [-1.000e-03]]\n"
     ]
    }
   ],
   "source": [
    "import pandas as pd\n",
    "import numpy as np\n",
    "\n",
    "df = pd.read_csv('Advertising.csv',index_col=0)\n",
    "\n",
    "X = df[['TV','radio','newspaper']]\n",
    "y = df['sales']\n",
    "n = len(y)\n",
    "X = np.append(np.ones((n,1)), X.values.reshape(n,3), axis = 1)\n",
    "y = df['sales'].values.reshape(n,1)\n",
    "par = np.zeros((4,1))\n",
    "\n",
    "def cost_function(X, y , par):\n",
    "    y_pred = np.dot(X, par)\n",
    "    error = (y_pred - y)**2\n",
    "    cost = 1/(n)*np.sum(error)\n",
    "    return cost\n",
    "\n",
    "def grad_d(X,y, par, alpha, iterations, eps=0.001):\n",
    "    costs = []\n",
    "    for i in range(iterations):\n",
    "        y_pred = np.dot(X, par)\n",
    "        der = np.dot (X.transpose(), (y_pred - y))/ n\n",
    "        par -= alpha * der\n",
    "        costs.append(cost_function(X,y, par))\n",
    "        if np.linalg.norm(der) <= eps:\n",
    "            break\n",
    "    return par, costs\n",
    "\n",
    "par, costs = grad_d(X,y, par, 0.00005, 500000)\n",
    "print(par.round(3))"
   ]
  }
 ],
 "metadata": {
  "kernelspec": {
   "display_name": "Python 3.10.8 ('base')",
   "language": "python",
   "name": "python3"
  },
  "language_info": {
   "codemirror_mode": {
    "name": "ipython",
    "version": 3
   },
   "file_extension": ".py",
   "mimetype": "text/x-python",
   "name": "python",
   "nbconvert_exporter": "python",
   "pygments_lexer": "ipython3",
   "version": "3.10.7"
  },
  "vscode": {
   "interpreter": {
    "hash": "86c56a74836ad344b00594bf6f38fa6a676a207ceefe20d101fbc465800ccb8d"
   }
  }
 },
 "nbformat": 4,
 "nbformat_minor": 5
}
