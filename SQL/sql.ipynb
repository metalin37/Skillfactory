{
 "cells": [
  {
   "cell_type": "code",
   "execution_count": null,
   "metadata": {
    "vscode": {
     "languageId": "sql"
    }
   },
   "outputs": [],
   "source": [
    "SELECT\n",
    "    столбец1 AS новое_название,\n",
    "    столбец2,\n",
    "    столбец3\n",
    "FROM таблица\n",
    "WHERE (условие1 OR условие2)                                                BETWEEN: условие AND условие выбирает промежуток между 2 мя условиями\n",
    "    AND условие3                                                            NOT переворачивает условие  IN (условие, условие) заменяет конструкцию с OR\n",
    "ORDER BY сортировка1 ASC(по возрастания), сортировка2 DESC (по убыванию)    LIKE 'А%' позволяет получить данные по имени LIKE '____________' ограничит по длинне символов\n",
    "OFFSET 1 LIMIT 2                                                            IS NULL выводит пустые значения применяя к столбцу  \n",
    "                                                                            NULLS FIRST / NULLS LAST. сортировка пустых значений"
   ]
  },
  {
   "cell_type": "code",
   "execution_count": null,
   "metadata": {
    "vscode": {
     "languageId": "sql"
    }
   },
   "outputs": [],
   "source": [
    "extract (year from имя столбца)   вычлиняет год  из даты"
   ]
  },
  {
   "attachments": {},
   "cell_type": "markdown",
   "metadata": {},
   "source": [
    "Чтобы получить уникальные значения из столбца, воспользуемся ключевым словом DISTINCT."
   ]
  },
  {
   "cell_type": "code",
   "execution_count": null,
   "metadata": {
    "vscode": {
     "languageId": "sql"
    }
   },
   "outputs": [],
   "source": [
    "SELECT DISTINCT (можно применять к нескольким столбцам)\n",
    "    type1\n",
    "FROM sql.pokemon"
   ]
  },
  {
   "attachments": {},
   "cell_type": "markdown",
   "metadata": {},
   "source": [
    "COUNT считает строки, а звёздочка (*) в аргументе функции означает, что считаются все строки, которые возвращает запрос."
   ]
  },
  {
   "cell_type": "code",
   "execution_count": null,
   "metadata": {
    "vscode": {
     "languageId": "sql"
    }
   },
   "outputs": [],
   "source": [
    "SELECT\n",
    "    COUNT(*)\n",
    "FROM sql.pokemon"
   ]
  },
  {
   "attachments": {},
   "cell_type": "markdown",
   "metadata": {},
   "source": [
    "Внутри функции COUNT мы можем также применять DISTINCT, чтобы вычислить количество уникальных значений."
   ]
  },
  {
   "cell_type": "code",
   "execution_count": null,
   "metadata": {
    "vscode": {
     "languageId": "sql"
    }
   },
   "outputs": [],
   "source": [
    "SELECT\n",
    "    COUNT(DISTINCT type1)\n",
    "FROM sql.pokemon"
   ]
  },
  {
   "attachments": {},
   "cell_type": "markdown",
   "metadata": {},
   "source": [
    "Назовём основные агрегатные функции, с которыми нам предстоит работать:\n",
    "\n",
    "COUNT — вычисляет число непустых строк;\n",
    "\n",
    "SUM — вычисляет сумму;\n",
    "\n",
    "AVG — вычисляет среднее;\n",
    "\n",
    "MAX — вычисляет максимум;\n",
    "\n",
    "MIN — вычисляет минимум."
   ]
  },
  {
   "cell_type": "code",
   "execution_count": null,
   "metadata": {
    "vscode": {
     "languageId": "sql"
    }
   },
   "outputs": [],
   "source": [
    "SELECT\n",
    "    COUNT(*) AS \"всего травяных покемонов\",\n",
    "    COUNT(type2) AS \"покемонов с дополнительным типом\",\n",
    "    AVG(attack) AS \"средняя атака\",\n",
    "    AVG(defense) AS \"средняя защита\"\n",
    "FROM sql.pokemon\n",
    "WHERE type1 = 'Grass'"
   ]
  },
  {
   "attachments": {},
   "cell_type": "markdown",
   "metadata": {},
   "source": [
    "Напишите запрос, который выведет:\n",
    "\n",
    "количество покемонов (столбец pokemon_count),\n",
    "среднюю скорость (столбец avg_speed),\n",
    "максимальное и минимальное число очков здоровья (столбцы max_hp и min_hp)\n",
    "для электрических (Electric) покемонов, имеющих дополнительный тип и, показатели атаки или защиты больше 50."
   ]
  },
  {
   "cell_type": "code",
   "execution_count": null,
   "metadata": {
    "vscode": {
     "languageId": "sql"
    }
   },
   "outputs": [],
   "source": [
    "SELECT\n",
    "    COUNT(*) AS \"pokemon_count\",\n",
    "    AVG (speed) AS \"avg_speed\",\n",
    "    MAX (hp) AS \"max_hp\",\n",
    "    MIN (hp) AS \"min_hp\"\n",
    "FROM sql.pokemon\n",
    "WHERE type2 IS NOT NULL AND type1 = 'Electric'\n",
    "    AND (attack > '50' or defense > '50')"
   ]
  },
  {
   "attachments": {},
   "cell_type": "markdown",
   "metadata": {},
   "source": [
    "                                    ГРУППИРОВКА"
   ]
  },
  {
   "attachments": {},
   "cell_type": "markdown",
   "metadata": {},
   "source": [
    "Выведем число покемонов каждого типа."
   ]
  },
  {
   "cell_type": "code",
   "execution_count": null,
   "metadata": {
    "vscode": {
     "languageId": "sql"
    }
   },
   "outputs": [],
   "source": [
    "SELECT /*выбор*/\n",
    "    type1 AS pokemon_type, /*столбец type1; присвоить алиас pokemon_type*/\n",
    "    COUNT(*) AS pokemon_count /*подсчёт всех строк; присвоить алиас pokemon_count*/\n",
    "FROM sql.pokemon /*из таблицы sql.pokemon*/\n",
    "GROUP BY type1 /*группировка по столбцу type1*/\n",
    "ORDER BY type1 /*сортировка по столбцу type1*/"
   ]
  },
  {
   "attachments": {},
   "cell_type": "markdown",
   "metadata": {},
   "source": [
    "Представим ТОП существующих типов покемонов."
   ]
  },
  {
   "cell_type": "code",
   "execution_count": null,
   "metadata": {
    "vscode": {
     "languageId": "sql"
    }
   },
   "outputs": [],
   "source": [
    "SELECT\n",
    "    type1 AS pokemon_type,\n",
    "    COUNT(*) AS pokemon_count\n",
    "FROM sql.pokemon\n",
    "GROUP BY pokemon_type\n",
    "ORDER BY COUNT(*) DESC"
   ]
  },
  {
   "attachments": {},
   "cell_type": "markdown",
   "metadata": {},
   "source": [
    "Напишите запрос, который выведет:\n",
    "\n",
    "число различных дополнительных типов (столбец additional_types_count),\n",
    "среднее число очков здоровья (столбец avg_hp),\n",
    "сумму показателей атаки (столбец attack_sum) в разбивке по основным типам (столбец primary_type).\n",
    "Отсортируйте результат по числу дополнительных типов в порядке убывания, при равенстве — по основному типу в алфавитном порядке. Столбцы к выводу (обратите внимание на порядок!): primary_type, additional_types_count, avg_hp, attack_sum."
   ]
  },
  {
   "cell_type": "code",
   "execution_count": null,
   "metadata": {
    "vscode": {
     "languageId": "sql"
    }
   },
   "outputs": [],
   "source": [
    "SELECT\n",
    "    DISTINCT type1 AS primary_type,\n",
    "    COUNT(DISTINCT type2) AS additional_types_count,\n",
    "    AVG (hp) AS avg_hp,\n",
    "    SUM (attack) AS attack_sum\n",
    "FROM sql.pokemon\n",
    "GROUP BY primary_type --группируем результат по столбцу\n",
    "ORDER BY additional_types_count DESC, type1"
   ]
  },
  {
   "attachments": {},
   "cell_type": "markdown",
   "metadata": {},
   "source": [
    "Мы можем осуществлять группировку по нескольким столбцам."
   ]
  },
  {
   "cell_type": "code",
   "execution_count": null,
   "metadata": {
    "vscode": {
     "languageId": "sql"
    }
   },
   "outputs": [],
   "source": [
    "SELECT\n",
    "    type1 AS primary_type,\n",
    "    type2 AS additional_type,\n",
    "    COUNT(*) AS pokemon_count\n",
    "FROM sql.pokemon\n",
    "GROUP BY 1, 2\n",
    "ORDER BY 1, 2 NULLS FIRST"
   ]
  },
  {
   "attachments": {},
   "cell_type": "markdown",
   "metadata": {},
   "source": [
    "GROUP BY можно использовать и без агрегатных функций. Тогда его действие будет равносильно действию DISTINCT.\n",
    "\n",
    "Сравните выводы двух запросов:"
   ]
  },
  {
   "cell_type": "code",
   "execution_count": null,
   "metadata": {
    "vscode": {
     "languageId": "sql"
    }
   },
   "outputs": [],
   "source": [
    "SELECT DISTINCT \n",
    "    type1\n",
    "FROM sql.pokemon"
   ]
  },
  {
   "cell_type": "code",
   "execution_count": null,
   "metadata": {
    "vscode": {
     "languageId": "sql"
    }
   },
   "outputs": [],
   "source": [
    "SELECT\n",
    "    type1\n",
    "FROM sql.pokemon\n",
    "GROUP BY type1"
   ]
  },
  {
   "attachments": {},
   "cell_type": "markdown",
   "metadata": {},
   "source": [
    "Если ключевое слово WHERE определяет фильтрацию строк до агрегирования, то для фильтрации уже агрегированных данных применяется ключевое слово HAVING. Важно! HAVING обязательно пишется после GROUP BY."
   ]
  },
  {
   "attachments": {},
   "cell_type": "markdown",
   "metadata": {},
   "source": [
    "Выведем типы покемонов и их средний показатель атаки, при этом оставим только тех, у кого средняя атака больше 90."
   ]
  },
  {
   "cell_type": "code",
   "execution_count": null,
   "metadata": {
    "vscode": {
     "languageId": "sql"
    }
   },
   "outputs": [],
   "source": [
    "SELECT /*выбор*/\n",
    "    type1 AS primary_type, /*таблица type1; присвоить алиас primary_type*/\n",
    "    AVG(attack) AS avg_attack /*расчёт среднего по столбцу attack; присвоить алиас avg_attack*/\n",
    "FROM sql.pokemon /*из таблицы sql.pokemon*/\n",
    "GROUP BY primary_type /*группировать по столбцу primary_type*/\n",
    "HAVING AVG(attack) > 90 /*фильтровать по среднему значению attack, превышающему 90*/\n"
   ]
  },
  {
   "attachments": {},
   "cell_type": "markdown",
   "metadata": {},
   "source": [
    "В общем виде синтаксис оператора SELECT, с учётом имеющихся на данный момент знаний, представляем следующим образом:"
   ]
  },
  {
   "cell_type": "code",
   "execution_count": null,
   "metadata": {
    "vscode": {
     "languageId": "sql"
    }
   },
   "outputs": [],
   "source": [
    "SELECT [ALL | DISTINCT] список_столбцов|*\n",
    "FROM список_имён_таблиц\n",
    "[WHERE условие_поиска]\n",
    "[GROUP BY список_имён_столбцов]\n",
    "[HAVING условие_поиска]\n",
    "[ORDER BY имя_столбца [ASC | DESC],…]"
   ]
  },
  {
   "attachments": {},
   "cell_type": "markdown",
   "metadata": {},
   "source": [
    "Напишите запрос, чтобы для покемонов, чьё имя (name) начинается с S, вывести столбцы с их основным типом (primary_type) и общим числом покемонов этого типа (pokemon_count). Оставьте только те типы, у которых средний показатель защиты больше 80. Выведите топ-3 типов по числу покемонов в них."
   ]
  },
  {
   "cell_type": "code",
   "execution_count": null,
   "metadata": {
    "vscode": {
     "languageId": "sql"
    }
   },
   "outputs": [],
   "source": [
    "SELECT\n",
    "    type1 AS primary_type,\n",
    "    count(type1) AS pokemon_count\n",
    "FROM sql.pokemon\n",
    "WHERE name LIKE 'S%'\n",
    "GROUP BY primary_type\n",
    "HAVING AVG(defense) > 80\n",
    "ORDER BY pokemon_count DESC\n",
    "OFFSET 0 LIMIT 3"
   ]
  },
  {
   "attachments": {},
   "cell_type": "markdown",
   "metadata": {},
   "source": [
    "И в довершение итогов напомним структуру запроса, который мы можем составить с учётом новых знаний:"
   ]
  },
  {
   "cell_type": "code",
   "execution_count": null,
   "metadata": {
    "vscode": {
     "languageId": "sql"
    }
   },
   "outputs": [],
   "source": [
    "SELECT\n",
    "    столбец1 AS новое_название,\n",
    "    столбец2,\n",
    "    АГРЕГАТ(столбец3)\n",
    "FROM таблица\n",
    "WHERE (условие1 OR условие2)\n",
    "    AND условие3\n",
    "GROUP BY столбец1, столбец2\n",
    "HAVING АГРЕГАТ(столбец3) > 5\n",
    "ORDER BY сортировка1, сортировка2\n",
    "OFFSET 1 LIMIT 2"
   ]
  },
  {
   "attachments": {},
   "cell_type": "markdown",
   "metadata": {},
   "source": [
    "Напишите запрос, который выведет основной и дополнительный типы покемонов и средние значения по каждому показателю (столбцы avg_hp, avg_attack, avg_defense, avg_speed).Оставьте только те пары типов, у которых сумма этих четырёх показателей более 400."
   ]
  },
  {
   "cell_type": "code",
   "execution_count": null,
   "metadata": {
    "vscode": {
     "languageId": "sql"
    }
   },
   "outputs": [],
   "source": [
    "SELECT \n",
    "    type1,\n",
    "    type2,\n",
    "    AVG(hp) AS avg_hp,\n",
    "    AVG(attack) AS avg_attack, \n",
    "    AVG(defense) AS avg_defense,\n",
    "    AVG(speed) AS avg_speed\n",
    "FROM sql.pokemon\n",
    "GROUP BY type1, type2\n",
    "HAVING (AVG(hp)+AVG(attack)+AVG(defense)+AVG(speed)) > 400"
   ]
  },
  {
   "attachments": {},
   "cell_type": "markdown",
   "metadata": {},
   "source": [
    "Напишите запрос, который выведет столбцы с основным типом покемона и общим количеством покемонов этого типа. Учитывайте только тех покемонов, у кого или показатель атаки, или показатель защиты принимает значение между 50 и 100 включительно. Оставьте только те типы покемонов, у которых максимальный показатель здоровья не больше 125. Выведите только тот тип, который находится на пятом месте по количеству покемонов."
   ]
  },
  {
   "cell_type": "code",
   "execution_count": null,
   "metadata": {
    "vscode": {
     "languageId": "sql"
    }
   },
   "outputs": [],
   "source": [
    "SELECT \n",
    "    type1,\n",
    "    count(type1)\n",
    "FROM sql.pokemon\n",
    "WHERE ((attack BETWEEN 50 AND 100) OR (defense BETWEEN 50 AND 100))\n",
    "GROUP BY type1\n",
    "HAVING MAX(hp) <125\n",
    "ORDER BY count DESC\n",
    "OFFSET 4 LIMIT 1"
   ]
  },
  {
   "attachments": {},
   "cell_type": "markdown",
   "metadata": {},
   "source": [
    "Напишите запрос, который выведет сезон (season), а также общее количество забитых мячей домашними (total_home_goals) и гостевыми (total_away_goals) командами.\n",
    "\n",
    "Отсортируйте по столбцу с сезоном в порядке возрастания."
   ]
  },
  {
   "cell_type": "code",
   "execution_count": null,
   "metadata": {
    "vscode": {
     "languageId": "sql"
    }
   },
   "outputs": [],
   "source": [
    "SELECT\n",
    "season,\n",
    "sum(home_team_goals) as total_home_goals,\n",
    "sum(away_team_goals) as total_away_goals\n",
    "FROM sql.matches\n",
    "GROUP BY season\n",
    "ORDER BY season"
   ]
  },
  {
   "attachments": {},
   "cell_type": "markdown",
   "metadata": {},
   "source": [
    "Чтобы соединить две таблицы между собой, достаточно записать названия таблиц через запятую в разделе from. Что произойдёт в таком случае?"
   ]
  },
  {
   "cell_type": "code",
   "execution_count": null,
   "metadata": {
    "vscode": {
     "languageId": "sql"
    }
   },
   "outputs": [],
   "source": [
    "SELECT *\n",
    "FROM\n",
    "    sql.teams,\n",
    "    sql.matches"
   ]
  },
  {
   "attachments": {},
   "cell_type": "markdown",
   "metadata": {},
   "source": [
    "Напишите запрос, который выведет количество строк соединённой таблицы."
   ]
  },
  {
   "cell_type": "code",
   "execution_count": null,
   "metadata": {
    "vscode": {
     "languageId": "sql"
    }
   },
   "outputs": [],
   "source": [
    "SELECT\n",
    "count(*)\n",
    "FROM \n",
    "    sql.teams,\n",
    "    sql.matches"
   ]
  },
  {
   "attachments": {},
   "cell_type": "markdown",
   "metadata": {},
   "source": [
    "Чтобы соединить таблицы и получить данные о домашней команде по каждому матчу, добавим условие\n",
    "where home_team_api_id = api_id."
   ]
  },
  {
   "cell_type": "code",
   "execution_count": null,
   "metadata": {
    "vscode": {
     "languageId": "sql"
    }
   },
   "outputs": [],
   "source": [
    "SELECT *\n",
    "FROM\n",
    "    sql.teams,\n",
    "    sql.matches\n",
    "WHERE home_team_api_id = api_id"
   ]
  },
  {
   "attachments": {},
   "cell_type": "markdown",
   "metadata": {},
   "source": [
    "С помощью известного нам запроса получим названия команд, игравших домашние матчи, и счёт матчей."
   ]
  },
  {
   "cell_type": "code",
   "execution_count": null,
   "metadata": {
    "vscode": {
     "languageId": "sql"
    }
   },
   "outputs": [],
   "source": [
    "SELECT \n",
    "    long_name, \n",
    "    home_team_goals,\n",
    "    away_team_goals\n",
    "FROM\n",
    "    sql.teams,\n",
    "    sql.matches\n",
    "WHERE home_team_api_id = api_id"
   ]
  },
  {
   "attachments": {},
   "cell_type": "markdown",
   "metadata": {},
   "source": [
    "Напишите запрос, который выведет таблицу с результатами матчей, содержащую:\n",
    "\n",
    "названия гостевых команд (long_name),\n",
    "количество забитых мячей домашней команды (home_team_goals),\n",
    "количество забитых мячей гостевой команды (away_team_goals)."
   ]
  },
  {
   "cell_type": "code",
   "execution_count": null,
   "metadata": {
    "vscode": {
     "languageId": "sql"
    }
   },
   "outputs": [],
   "source": [
    "SELECT \n",
    "    long_name, \n",
    "    home_team_goals,\n",
    "    away_team_goals\n",
    "FROM\n",
    "    sql.teams,\n",
    "    sql.matches\n",
    "WHERE away_team_api_id = api_id"
   ]
  },
  {
   "attachments": {},
   "cell_type": "markdown",
   "metadata": {},
   "source": [
    "С помощью JOIN можно соединить и более двух таблиц."
   ]
  },
  {
   "cell_type": "code",
   "execution_count": null,
   "metadata": {
    "vscode": {
     "languageId": "sql"
    }
   },
   "outputs": [],
   "source": [
    "SELECT\n",
    "        столбец1,\n",
    "\tстолбец2,\n",
    "\t...\n",
    "FROM\n",
    "\tтаблица1\n",
    "JOIN таблица2 ON условие\n",
    "JOIN таблица3 ON условие"
   ]
  },
  {
   "attachments": {},
   "cell_type": "markdown",
   "metadata": {},
   "source": [
    "Синтаксис для указания алиаса такой же, как и для названия столбца."
   ]
  },
  {
   "cell_type": "code",
   "execution_count": null,
   "metadata": {
    "vscode": {
     "languageId": "sql"
    }
   },
   "outputs": [],
   "source": [
    "SELECT\n",
    "        столбец1,\n",
    "\tстолбец2,\n",
    "\t...\n",
    "FROM\n",
    "\tтаблица1 AS короткое_название_1\n",
    "JOIN таблица2 AS короткое_название_2 ON условие"
   ]
  },
  {
   "attachments": {},
   "cell_type": "markdown",
   "metadata": {},
   "source": [
    "Давайте с помощью запроса SQL получим таблицу, содержащую:\n",
    "\n",
    "название домашней команды;\n",
    "количество забитых домашней командой голов;\n",
    "количество забитых гостевой командой голов;\n",
    "название гостевой команды"
   ]
  },
  {
   "cell_type": "code",
   "execution_count": null,
   "metadata": {
    "vscode": {
     "languageId": "sql"
    }
   },
   "outputs": [],
   "source": [
    "SELECT\n",
    "    h.long_name \"домашняя команда\",\n",
    "    m.home_team_goals \"голы домашней команды\",\n",
    "    m.away_team_goals \"голы гостевой команды\",\n",
    "    a.long_name \"гостевая команда\" \n",
    "FROM\n",
    "    sql.matches m\n",
    "    JOIN sql.teams h ON m.home_team_api_id = h.api_id\n",
    "    JOIN sql.teams a ON m.away_team_api_id = a.api_id"
   ]
  },
  {
   "attachments": {},
   "cell_type": "markdown",
   "metadata": {},
   "source": [
    "Напишите запрос, который выведет столбцы:\n",
    "\n",
    "id матча,\n",
    "короткое название домашней команды (home_short),\n",
    "короткое название гостевой команды (away_short).\n",
    "Отсортируйте запрос по возрастанию id матча."
   ]
  },
  {
   "cell_type": "code",
   "execution_count": null,
   "metadata": {
    "vscode": {
     "languageId": "sql"
    }
   },
   "outputs": [],
   "source": [
    "SELECT\n",
    "    m.id,\n",
    "    h.short_name as home_short,\n",
    "    a.short_name as away_short\n",
    "FROM\n",
    "    sql.matches m\n",
    "    JOIN sql.teams h ON m.home_team_api_id = h.api_id\n",
    "    JOIN sql.teams a ON m.away_team_api_id = a.api_id\n",
    "ORDER BY id"
   ]
  },
  {
   "attachments": {},
   "cell_type": "markdown",
   "metadata": {},
   "source": [
    "Например, можно вывести id матчей, в которых команда Arsenal была гостевой."
   ]
  },
  {
   "cell_type": "code",
   "execution_count": null,
   "metadata": {
    "vscode": {
     "languageId": "sql"
    }
   },
   "outputs": [],
   "source": [
    "SELECT \n",
    "    m.id\n",
    "FROM\n",
    "    sql.teams t\n",
    "    JOIN sql.matches m ON m.away_team_api_id = t.api_id\n",
    "WHERE long_name = 'Arsenal'"
   ]
  },
  {
   "attachments": {},
   "cell_type": "markdown",
   "metadata": {},
   "source": [
    "Напишите запрос, который выведет полное название команды (long_name), количество голов домашней команды (home_goal) и количество голов гостевой команды (away_goal) в матчах, где домашней командой были команды с коротким названием 'GEN'. Отсортируйте запрос по id матча в порядке возрастания."
   ]
  },
  {
   "cell_type": "code",
   "execution_count": null,
   "metadata": {
    "vscode": {
     "languageId": "sql"
    }
   },
   "outputs": [],
   "source": [
    "SELECT \n",
    "    t.long_name,\n",
    "    sum (m.home_team_goals) home_goal,\n",
    "    sum (m.away_team_goals) away_goal\n",
    "    \n",
    "FROM\n",
    "    sql.teams t\n",
    "    JOIN sql.matches m ON m.home_team_api_id = t.api_id\n",
    "WHERE short_name = 'GEN'\n",
    "GROUP BY t.id, m.id\n",
    "ORDER BY m.id\n"
   ]
  },
  {
   "attachments": {},
   "cell_type": "markdown",
   "metadata": {},
   "source": [
    "Напишите запрос, чтобы вывести id матчей, короткое название домашней команды (home_short), короткое название гостевой команды (away_short) для матчей сезона 2011/2012, в которых участвовала команда с названием Liverpool. Отсортируйте по id матча в порядке возрастания."
   ]
  },
  {
   "cell_type": "code",
   "execution_count": null,
   "metadata": {
    "vscode": {
     "languageId": "sql"
    }
   },
   "outputs": [],
   "source": [
    "SELECT\n",
    "    m.id,\n",
    "    th.short_name home_short,\n",
    "    tg.short_name away_short\n",
    "        \n",
    "FROM\n",
    "    sql.matches m\n",
    "    JOIN sql.teams th ON m.home_team_api_id = th.api_id\n",
    "    JOIN sql.teams tg ON m.away_team_api_id = tg.api_id\n",
    "WHERE season = '2011/2012' and (th.long_name = 'Liverpool' or tg.long_name = 'Liverpool')\n",
    "GROUP BY th.id, tg.id, m.id\n",
    "ORDER BY m.id"
   ]
  },
  {
   "attachments": {},
   "cell_type": "markdown",
   "metadata": {},
   "source": [
    "Например, мы можем вывести сумму голов по командам для матчей, где команда выступала в гостях."
   ]
  },
  {
   "cell_type": "code",
   "execution_count": null,
   "metadata": {
    "vscode": {
     "languageId": "sql"
    }
   },
   "outputs": [],
   "source": [
    "SELECT\n",
    "    t.long_name,\n",
    "    SUM(m.home_team_goals) + SUM(m.away_team_goals) match_goals\n",
    "FROM\n",
    "    sql.matches m\n",
    "    JOIN sql.teams t ON m.away_team_api_id = t.api_id \n",
    "GROUP BY t.id"
   ]
  },
  {
   "attachments": {},
   "cell_type": "markdown",
   "metadata": {},
   "source": [
    "Поставим задачу — вывести таблицу с суммарным количеством забитых голов в матчах по командам и сезонам для команд, в которых суммарное количество голов в матчах сезона больше 100.\n",
    "Для начала посчитаем общее количество голов в матчах по сезонам.\n",
    "\n",
    "Затем добавим таблицу с командами, группировку по командам и условие фильтрации."
   ]
  },
  {
   "cell_type": "code",
   "execution_count": null,
   "metadata": {
    "vscode": {
     "languageId": "sql"
    }
   },
   "outputs": [],
   "source": [
    "SELECT\n",
    "    m.season,\n",
    "    t.long_name,\n",
    "    SUM(m.home_team_goals) + SUM(m.away_team_goals) total_goals\n",
    "FROM sql.matches m\n",
    "JOIN sql.teams t ON t.api_id = m.home_team_api_id OR t.api_id = m.away_team_api_id\n",
    "GROUP BY m.season, t.id\n",
    "HAVING SUM(m.home_team_goals) + SUM(m.away_team_goals) > 100"
   ]
  },
  {
   "attachments": {},
   "cell_type": "markdown",
   "metadata": {},
   "source": [
    "Напишите запрос, с помощью которого можно вывести список полных названий команд, сыгравших в гостях 150 и более матчей. Отсортируйте список по названию команды."
   ]
  },
  {
   "cell_type": "code",
   "execution_count": null,
   "metadata": {
    "vscode": {
     "languageId": "sql"
    }
   },
   "outputs": [],
   "source": [
    "SELECT\n",
    "    t.long_name\n",
    "FROM sql.matches m\n",
    "JOIN sql.teams t ON t.api_id = m.away_team_api_id\n",
    "GROUP BY t.id\n",
    "HAVING count (m.id)>=150"
   ]
  },
  {
   "attachments": {},
   "cell_type": "markdown",
   "metadata": {},
   "source": [
    "Используя LEFT JOIN, выведите список уникальных названий команд, содержащихся в таблице matches. Отсортируйте список в алфавитном порядке. В поле ниже введите запрос, с помощью которого вы решили задание."
   ]
  },
  {
   "cell_type": "code",
   "execution_count": null,
   "metadata": {
    "vscode": {
     "languageId": "sql"
    }
   },
   "outputs": [],
   "source": [
    "SELECT\n",
    "    t.long_name\n",
    "FROM   \n",
    "    sql.teams t\n",
    "    LEFT JOIN sql.matches m ON t.api_id = m.away_team_api_id or t.api_id = m.home_team_api_id\n",
    "WHERE m.id is not null\n",
    "GROUP BY long_name\n",
    "ORDER BY long_name"
   ]
  },
  {
   "attachments": {},
   "cell_type": "markdown",
   "metadata": {},
   "source": [
    "Используя LEFT JOIN, напишите запрос, который выведет полное название команды (long_name), количество матчей, в которых участвовала команда, — домашних и гостевых (matches_cnt). Отсортируйте по количеству матчей в порядке возрастания, затем — по названию команды в алфавитном порядке."
   ]
  },
  {
   "cell_type": "code",
   "execution_count": null,
   "metadata": {
    "vscode": {
     "languageId": "sql"
    }
   },
   "outputs": [],
   "source": [
    "SELECT\n",
    "    t.long_name,\n",
    "    count(m.home_team_api_id + away_team_api_id) matches_cnt\n",
    "FROM   \n",
    "    sql.teams t\n",
    "    LEFT JOIN sql.matches m ON t.api_id = m.away_team_api_id or t.api_id = m.home_team_api_id\n",
    "GROUP BY t.id\n",
    "ORDER BY matches_cnt DESC, t.long_name"
   ]
  },
  {
   "attachments": {},
   "cell_type": "markdown",
   "metadata": {},
   "source": [
    "CROSS JOIN может быть полезен, когда необходимо создать таблицу фактов.\n",
    "\n",
    "Например, с помощью такого запроса мы можем получить все возможные комбинации полных названий команд в матчах."
   ]
  },
  {
   "cell_type": "code",
   "execution_count": null,
   "metadata": {
    "vscode": {
     "languageId": "sql"
    }
   },
   "outputs": [],
   "source": [
    "SELECT\n",
    "    DISTINCT /*оператор исключения повторяющихся строк*/\n",
    "    t1.long_name home_team, /*столбец long_name таблицы t1; новое название*/\n",
    "    t2.long_name away_team /*столбец long_name таблицы t2; новое название*/\n",
    "FROM\n",
    "    sql.teams t1 /*таблица teams с алиасом t1*/\n",
    "    CROSS JOIN sql.teams t2 /*оператор соединения CROSS JOIN; таблица teams с алиасом t2*/"
   ]
  },
  {
   "attachments": {},
   "cell_type": "markdown",
   "metadata": {},
   "source": [
    "Напишите запрос, который выведет все возможные уникальные комбинации коротких названий домашней команды (home_team) и коротких названий гостевой команды (away_team). Отсортируйте запрос по первому и второму столбцам."
   ]
  },
  {
   "cell_type": "code",
   "execution_count": null,
   "metadata": {
    "vscode": {
     "languageId": "sql"
    }
   },
   "outputs": [],
   "source": [
    "SELECT\n",
    "    DISTINCT /*оператор исключения повторяющихся строк*/\n",
    "    t1.short_name home_team, /*столбец long_name таблицы t1; новое название*/\n",
    "    t2.short_name away_team /*столбец long_name таблицы t2; новое название*/\n",
    "FROM\n",
    "    sql.teams t1 /*таблица teams с алиасом t1*/\n",
    "    CROSS JOIN sql.teams t2 /*оператор соединения CROSS JOIN; таблица teams с алиасом t2*/\n",
    "ORDER BY 1, 2"
   ]
  },
  {
   "attachments": {},
   "cell_type": "markdown",
   "metadata": {},
   "source": [
    "Напишите запрос, который выведет список уникальных полных названий команд (long_name), игравших в гостях в матчах сезона 2012/2013. Отсортируйте список в алфавитном порядке."
   ]
  },
  {
   "cell_type": "code",
   "execution_count": null,
   "metadata": {
    "vscode": {
     "languageId": "sql"
    }
   },
   "outputs": [],
   "source": [
    "SELECT\n",
    "    t.long_name\n",
    "FROM   \n",
    "    sql.teams t\n",
    "    JOIN sql.matches m ON t.api_id = m.away_team_api_id\n",
    "WHERE season = '2012/2013'\n",
    "GROUP BY t.long_name\n",
    "ORDER BY t.long_name"
   ]
  },
  {
   "attachments": {},
   "cell_type": "markdown",
   "metadata": {},
   "source": [
    "Напишите запрос, который выведет полное название команды (long_name) и общее количество матчей (matches_cnt), сыгранных командой Inter в домашних матчах."
   ]
  },
  {
   "cell_type": "code",
   "execution_count": null,
   "metadata": {
    "vscode": {
     "languageId": "sql"
    }
   },
   "outputs": [],
   "source": [
    "SELECT\n",
    "    t.long_name,\n",
    "    count(m.id) matches_cnt\n",
    "FROM   \n",
    "    sql.teams t\n",
    "    JOIN sql.matches m ON t.api_id = m.home_team_api_id\n",
    "WHERE t.long_name = 'Inter'\n",
    "GROUP BY t.long_name\n",
    "ORDER BY t.long_name"
   ]
  },
  {
   "attachments": {},
   "cell_type": "markdown",
   "metadata": {},
   "source": [
    "Напишите запрос, который выведет топ-10 команд (long_name) по суммарному количеству забитых голов в гостевых матчах. Во втором столбце запроса выведите суммарное количество голов в гостевых матчах (total_goals)."
   ]
  },
  {
   "cell_type": "code",
   "execution_count": null,
   "metadata": {
    "vscode": {
     "languageId": "sql"
    }
   },
   "outputs": [],
   "source": [
    "SELECT\n",
    "    t.long_name,\n",
    "    sum(m.away_team_goals) total_goals\n",
    "FROM   \n",
    "    sql.teams t\n",
    "    JOIN sql.matches m ON t.api_id = m.away_team_api_id\n",
    "GROUP BY t.id\n",
    "ORDER BY total_goals DESC\n",
    "OFFSET 0 LIMIT 10"
   ]
  },
  {
   "attachments": {},
   "cell_type": "markdown",
   "metadata": {},
   "source": [
    "Выведите количество матчей между командами Real Madrid CF и FC Barcelona. В поле ниже введите запрос, с помощью которого вы решили задание."
   ]
  },
  {
   "cell_type": "code",
   "execution_count": null,
   "metadata": {
    "vscode": {
     "languageId": "sql"
    }
   },
   "outputs": [],
   "source": [
    "SELECT\n",
    "    count(m.id)\n",
    "FROM   \n",
    "    sql.matches m\n",
    "    JOIN sql.teams th ON m.home_team_api_id = th.api_id\n",
    "    JOIN sql.teams tg ON m.away_team_api_id = tg.api_id\n",
    "WHERE (th.long_name = 'Real Madrid CF' or tg.long_name = 'Real Madrid CF') \n",
    "    and (th.long_name = 'FC Barcelona' or tg.long_name = 'FC Barcelona')"
   ]
  },
  {
   "attachments": {},
   "cell_type": "markdown",
   "metadata": {},
   "source": [
    "Напишите запрос, который выведет название команды (long_name), сезон (season) и суммарное количество забитых голов в домашних матчах (total_goals). Оставьте только те строки, в которых суммарное количество голов менее десяти. Отсортируйте запрос по названию команды, а затем — по сезону."
   ]
  },
  {
   "cell_type": "code",
   "execution_count": null,
   "metadata": {
    "vscode": {
     "languageId": "sql"
    }
   },
   "outputs": [],
   "source": [
    "SELECT\n",
    "    t.long_name,\n",
    "    m.season,\n",
    "    SUM(m.home_team_goals) total_goals\n",
    "FROM sql.matches m\n",
    "JOIN sql.teams t ON t.api_id = m.home_team_api_id\n",
    "GROUP BY m.season, t.id\n",
    "HAVING SUM(m.home_team_goals) < 10\n",
    "order by long_name, season\n"
   ]
  },
  {
   "cell_type": "code",
   "execution_count": null,
   "metadata": {
    "vscode": {
     "languageId": "sql"
    }
   },
   "outputs": [],
   "source": [
    "SELECT\n",
    "   d.cust_name,\n",
    "   count(s.ship_id) coun,\n",
    "   count(s.ship_date) dat\n",
    "   \n",
    "    \n",
    "FROM sql.customer d\n",
    "    JOIN sql.shipment s ON s.cust_id = d.cust_id\n",
    "where s.ship_date >='01 1, 2017'and s.ship_date <='12 31, 2017' and cust_name = 'Autoware Inc'\n",
    "\n",
    "GROUP BY d.cust_id, s.cust_id\n",
    "order by coun DESC"
   ]
  },
  {
   "attachments": {},
   "cell_type": "markdown",
   "metadata": {},
   "source": [
    "                                    UNION"
   ]
  },
  {
   "attachments": {},
   "cell_type": "markdown",
   "metadata": {},
   "source": [
    "Напишите запрос, который создает уникальный алфавитный справочник всех городов, штатов, имён водителей и производителей грузовиков. Результатом запроса должны быть два столбца: название и тип объекта (city, state, driver, truck). Отсортируйте список по названию объекта, а затем — по типу."
   ]
  },
  {
   "cell_type": "code",
   "execution_count": null,
   "metadata": {
    "vscode": {
     "languageId": "sql"
    }
   },
   "outputs": [],
   "source": [
    "(SELECT\n",
    "         c.city_name as \"'название'\", 'city' as \"'тип объекта'\"\n",
    "FROM \n",
    "         sql.city c\n",
    "group BY 1)\n",
    "\n",
    "UNION ALL\n",
    "\n",
    "(SELECT\n",
    "         c.state, 'state'\n",
    "FROM \n",
    "         sql.city c\n",
    "group BY 1)\n",
    "\n",
    "UNION ALL\n",
    "\n",
    "(SELECT\n",
    "         d.first_name, 'driver'\n",
    "FROM \n",
    "         sql.driver d\n",
    "group BY 1)\n",
    "UNION ALL\n",
    "\n",
    "(SELECT\n",
    "         t.make, 'truck'\n",
    "FROM \n",
    "         sql.truck t\n",
    "group BY 1)\n",
    "ORDER BY 1, 2\n"
   ]
  },
  {
   "attachments": {},
   "cell_type": "markdown",
   "metadata": {},
   "source": [
    "Напишите запрос, который соберёт имена всех упомянутых городов и штатов из таблицы city. Результатом запроса должен быть один столбец object_name, отсортированный в алфавитном порядке."
   ]
  },
  {
   "cell_type": "code",
   "execution_count": null,
   "metadata": {
    "vscode": {
     "languageId": "sql"
    }
   },
   "outputs": [],
   "source": [
    "SELECT\n",
    "         c.city_name as object_name\n",
    "FROM \n",
    "         sql.city c\n",
    "\n",
    "UNION ALL\n",
    "\n",
    "SELECT\n",
    "         c.state\n",
    "FROM \n",
    "         sql.city c\n",
    "ORDER BY 1"
   ]
  },
  {
   "attachments": {},
   "cell_type": "markdown",
   "metadata": {},
   "source": [
    "Выполнив предыдущий запрос, мы получили города с одинаковыми названиями, но находящиеся в разных штатах, а также большое количество дублирующихся названий штатов. Перепишите предыдущий запрос так, чтобы остались только уникальные названия городов и штатов. Результатом запроса должен быть один столбец object_name, отсортированный в алфавитном порядке."
   ]
  },
  {
   "cell_type": "code",
   "execution_count": null,
   "metadata": {
    "vscode": {
     "languageId": "sql"
    }
   },
   "outputs": [],
   "source": [
    "(SELECT\n",
    "         c.city_name as object_name\n",
    "FROM \n",
    "         sql.city c\n",
    "GROUP BY 1)\n",
    "\n",
    "UNION\n",
    "\n",
    "(SELECT\n",
    "         c.state\n",
    "FROM \n",
    "         sql.city c\n",
    "GROUP BY 1)\n",
    "ORDER BY 1\n"
   ]
  },
  {
   "attachments": {},
   "cell_type": "markdown",
   "metadata": {},
   "source": [
    "Напишите запрос, который объединит в себе все почтовые индексы водителей и их телефоны в единый столбец-справочник contact. Также добавьте столбец с именем водителя first_name и столбец contact_type с типом контакта (phone или zip в зависимости от типа). Отсортируйте список по столбцу с контактными данными в порядке возрастания, а затем — по имени водителя."
   ]
  },
  {
   "cell_type": "code",
   "execution_count": null,
   "metadata": {
    "vscode": {
     "languageId": "sql"
    }
   },
   "outputs": [],
   "source": [
    "SELECT\n",
    "         i.zip_code::text as contact, i.first_name, 'zip' as contact_type\n",
    "         \n",
    "FROM \n",
    "         sql.driver i\n",
    "\n",
    "UNION\n",
    "\n",
    "SELECT\n",
    "         c.phone::text, c.first_name, 'phone'\n",
    "FROM \n",
    "         sql.driver c\n",
    "order by 1, 2"
   ]
  },
  {
   "attachments": {},
   "cell_type": "markdown",
   "metadata": {},
   "source": [
    "Попробуем вывести обобщённые данные о населении по всем городам, с детализацией до конкретного города."
   ]
  },
  {
   "cell_type": "code",
   "execution_count": null,
   "metadata": {
    "vscode": {
     "languageId": "sql"
    }
   },
   "outputs": [],
   "source": [
    "SELECT\n",
    "         c.city_name,\n",
    "         c.population\n",
    "FROM\n",
    "         sql.city c\n",
    "\n",
    "UNION ALL\n",
    "\n",
    "SELECT\n",
    "         'total',\n",
    "         SUM(c.population)\n",
    "FROM\n",
    "         sql.city c\n",
    "ORDER BY 2 DESC"
   ]
  },
  {
   "attachments": {},
   "cell_type": "markdown",
   "metadata": {},
   "source": [
    "Напишите запрос, который выводит общее число доставок total_shipments, а также количество доставок в каждый день. Необходимые столбцы: date_period, cnt_shipment. Не забывайте о единой типизации. Упорядочите по убыванию столбца date_period."
   ]
  },
  {
   "cell_type": "code",
   "execution_count": null,
   "metadata": {
    "vscode": {
     "languageId": "sql"
    }
   },
   "outputs": [],
   "source": [
    "(SELECT\n",
    "       c.ship_date::text as date_period,\n",
    "       count(c.ship_id) as cnt_shipment\n",
    "FROM\n",
    "         sql.shipment as c\n",
    "GROUP BY c.ship_date)\n",
    "\n",
    "UNION ALL\n",
    "\n",
    "SELECT\n",
    "        'total_shipments',\n",
    "        count(c.ship_id)\n",
    "FROM\n",
    "         sql.shipment c\n",
    "ORDER BY 2 DESC"
   ]
  },
  {
   "attachments": {},
   "cell_type": "markdown",
   "metadata": {},
   "source": [
    "Например, с помощью UNION можно отобразить, у кого из водителей заполнен столбец с номером телефона."
   ]
  },
  {
   "cell_type": "code",
   "execution_count": null,
   "metadata": {
    "vscode": {
     "languageId": "sql"
    }
   },
   "outputs": [],
   "source": [
    "SELECT\n",
    "         d.first_name,\n",
    "         d.last_name,\n",
    "         'телефон заполнен' phone_info\n",
    "FROM\n",
    "         sql.driver d\n",
    "WHERE d.phone IS NOT NULL\n",
    "\n",
    "UNION\n",
    "\n",
    "SELECT\n",
    "         d.first_name,\n",
    "         d.last_name,\n",
    "         'телефон не заполнен' phone_info\n",
    "FROM\n",
    "         sql.driver d\n",
    "WHERE d.phone IS NULL"
   ]
  },
  {
   "attachments": {},
   "cell_type": "markdown",
   "metadata": {},
   "source": [
    "Напишите запрос, который выведет все города и штаты, в которых они расположены, а также информацию о том, была ли осуществлена доставка в этот город:\n",
    "\n",
    "если в город была осуществлена доставка, то выводим 'доставка осуществлялась';\n",
    "если нет — выводим 'доставка не осуществлялась'.\n",
    "Столбцы к выводу: city_name, state, shipping_status. Отсортируйте в алфавитном порядке по городу, а затем — по штату."
   ]
  },
  {
   "cell_type": "code",
   "execution_count": null,
   "metadata": {
    "vscode": {
     "languageId": "sql"
    }
   },
   "outputs": [],
   "source": [
    "SELECT\n",
    "         d.city_name,\n",
    "         d.state,\n",
    "         'доставка осуществлялась' shipping_status\n",
    "FROM\n",
    "         sql.city d\n",
    "LEFT JOIN sql.shipment s ON d.city_id = s.city_id\n",
    "WHERE s.city_id IS NOT NULL\n",
    "\n",
    "UNION\n",
    "\n",
    "SELECT\n",
    "         d.city_name, \n",
    "         d.state,\n",
    "         'доставка не осуществлялась' shipping_status\n",
    "FROM\n",
    "         sql.city d\n",
    "LEFT JOIN sql.shipment s  ON d.city_id = s.city_id\n",
    "WHERE s.city_id IS NULL\n",
    "ORDER BY city_name, state"
   ]
  },
  {
   "attachments": {},
   "cell_type": "markdown",
   "metadata": {},
   "source": [
    "Напишите запрос, который выводит два столбца: city_name и shippings_fake. Выведите города, куда совершались доставки. Пусть первый столбец содержит название города, а второй формируется так:\n",
    "\n",
    "если в городе было более десяти доставок, вывести количество доставок в этот город как есть;\n",
    "иначе — вывести количество доставок, увеличенное на пять.\n",
    "Отсортируйте по убыванию получившегося «нечестного» количества доставок, а затем — по имени в алфавитном порядке."
   ]
  },
  {
   "cell_type": "code",
   "execution_count": null,
   "metadata": {
    "vscode": {
     "languageId": "sql"
    }
   },
   "outputs": [],
   "source": [
    "(SELECT\n",
    "         d.city_name,\n",
    "         count(s.ship_id) shippings_fake\n",
    "FROM\n",
    "         sql.city d\n",
    "LEFT JOIN sql.shipment s ON d.city_id = s.city_id\n",
    "WHERE s.city_id IS NOT NULL\n",
    "group by city_name\n",
    "HAVING count (s.ship_id)>10)\n",
    "\n",
    "UNION\n",
    "\n",
    "(SELECT\n",
    "         d.city_name, \n",
    "         count(s.ship_id)+5 shippings_fake\n",
    "FROM\n",
    "         sql.city d\n",
    "LEFT JOIN sql.shipment s  ON d.city_id = s.city_id\n",
    "WHERE s.city_id IS NOT NULL\n",
    "group by city_name\n",
    "HAVING count (s.ship_id)<=10)\n",
    "ORDER BY 2 desc, 1"
   ]
  },
  {
   "attachments": {},
   "cell_type": "markdown",
   "metadata": {},
   "source": [
    "Составим запрос, который позволит вывести первые три буквы алфавита и их порядковые номера."
   ]
  },
  {
   "cell_type": "code",
   "execution_count": null,
   "metadata": {
    "vscode": {
     "languageId": "sql"
    }
   },
   "outputs": [],
   "source": [
    "SELECT \n",
    "         'a' letter,'1' ordinal_position\n",
    "\n",
    "UNION \n",
    "\n",
    "SELECT \n",
    "         'b','2'\n",
    "\n",
    "UNION \n",
    "\n",
    "SELECT\n",
    "         'c','3'"
   ]
  },
  {
   "attachments": {},
   "cell_type": "markdown",
   "metadata": {},
   "source": [
    "Напишите запрос, который выберет наибольшее из значений:\n",
    "\n",
    "1000000;\n",
    "541;\n",
    "-500;\n",
    "100.\n",
    "Столбец с результатом назовите result."
   ]
  },
  {
   "cell_type": "code",
   "execution_count": null,
   "metadata": {
    "vscode": {
     "languageId": "sql"
    }
   },
   "outputs": [],
   "source": [
    "(SELECT\n",
    "         1000000 as result\n",
    "UNION ALL\n",
    "SELECT\n",
    "         541 as result\n",
    "UNION ALL\n",
    "SELECT\n",
    "         -500 as result\n",
    "UNION ALL\n",
    "SELECT\n",
    "         100 as result)\n",
    "ORDER BY 1 desc\n",
    "LIMIT 1"
   ]
  },
  {
   "attachments": {},
   "cell_type": "markdown",
   "metadata": {},
   "source": [
    "Помним, что сортировка для числовых и строковых типов данных отличается. Построив запрос по аналогии с примером, приведите значения к текстовому типу данных, сравните и выберите наибольшее из них:\n",
    "\n",
    "1000000;\n",
    "541;\n",
    "-500;\n",
    "100.\n",
    "Столбец с ответом назовите mycol"
   ]
  },
  {
   "cell_type": "code",
   "execution_count": null,
   "metadata": {
    "vscode": {
     "languageId": "sql"
    }
   },
   "outputs": [],
   "source": [
    "(SELECT\n",
    "         '1000000' as mycol\n",
    "UNION ALL\n",
    "SELECT\n",
    "         '541' as mycol\n",
    "UNION ALL\n",
    "SELECT\n",
    "         '-500' as mycol\n",
    "UNION ALL\n",
    "SELECT\n",
    "         '100' as mycol)\n",
    "ORDER BY 1 desc\n",
    "LIMIT 1 "
   ]
  },
  {
   "attachments": {},
   "cell_type": "markdown",
   "metadata": {},
   "source": [
    "Предположим, нам нужно узнать, в какие города осуществлялась доставка, за исключением тех, в которых проживают водители."
   ]
  },
  {
   "cell_type": "code",
   "execution_count": null,
   "metadata": {
    "vscode": {
     "languageId": "sql"
    }
   },
   "outputs": [],
   "source": [
    "SELECT\n",
    "         c.city_name\n",
    "FROM\n",
    "         sql.shipment s\n",
    "JOIN sql.city c ON s.city_id = c.city_id\n",
    "\n",
    "EXCEPT\n",
    "\n",
    "SELECT\n",
    "         cc.city_name\n",
    "FROM\n",
    "         sql.driver d \n",
    "JOIN sql.city cc ON d.city_id=cc.city_id\n",
    "ORDER BY 1"
   ]
  },
  {
   "attachments": {},
   "cell_type": "markdown",
   "metadata": {},
   "source": [
    "Все водители проживают в городе Memphis, и мы видим, что он не выводится в результате запроса."
   ]
  },
  {
   "attachments": {},
   "cell_type": "markdown",
   "metadata": {},
   "source": [
    "Выведите список zip-кодов, которые есть в таблице sql.driver, но отсутствуют в таблице sql.customer. Отсортируйте по возрастанию, столбец к выводу — zip. В поле ниже введите запрос, с помощью которого вы решили эту задачу."
   ]
  },
  {
   "cell_type": "code",
   "execution_count": null,
   "metadata": {
    "vscode": {
     "languageId": "sql"
    }
   },
   "outputs": [],
   "source": [
    "SELECT\n",
    "         s.zip_code as zip\n",
    "FROM\n",
    "         sql.driver s\n",
    "\n",
    "\n",
    "EXCEPT\n",
    "\n",
    "SELECT\n",
    "         d.zip as zip\n",
    "FROM\n",
    "         sql.customer d"
   ]
  },
  {
   "attachments": {},
   "cell_type": "markdown",
   "metadata": {},
   "source": [
    "Предположим, нам надо вывести совпадающие по названию города и штаты."
   ]
  },
  {
   "cell_type": "code",
   "execution_count": null,
   "metadata": {
    "vscode": {
     "languageId": "sql"
    }
   },
   "outputs": [],
   "source": [
    "SELECT \n",
    "         c.city_name object_name\n",
    "FROM \n",
    "         sql.city c\n",
    "\n",
    "INTERSECT\n",
    "\n",
    "SELECT \n",
    "         cc.state\n",
    "FROM \n",
    "         sql.city cc\n",
    "ORDER BY 1"
   ]
  },
  {
   "attachments": {},
   "cell_type": "markdown",
   "metadata": {},
   "source": [
    "Напишите запрос, который выведет список id городов, в которых есть и клиенты, и доставки, и водители."
   ]
  },
  {
   "cell_type": "code",
   "execution_count": null,
   "metadata": {
    "vscode": {
     "languageId": "sql"
    }
   },
   "outputs": [],
   "source": [
    "SELECT \n",
    "         c.city_id\n",
    "FROM \n",
    "         sql.city c\n",
    "\n",
    "INTERSECT\n",
    "\n",
    "SELECT \n",
    "         cc.city_id\n",
    "FROM \n",
    "         sql.customer cc\n",
    "INTERSECT\n",
    "\n",
    "SELECT \n",
    "         cd.city_id\n",
    "FROM \n",
    "         sql.driver cd\n",
    "INTERSECT\n",
    "\n",
    "SELECT \n",
    "         ch.city_id\n",
    "FROM \n",
    "         sql.shipment ch"
   ]
  },
  {
   "attachments": {},
   "cell_type": "markdown",
   "metadata": {},
   "source": [
    "Выведите zip-код, который есть как в таблице с клиентами, так и в таблице с водителями."
   ]
  },
  {
   "cell_type": "code",
   "execution_count": null,
   "metadata": {
    "vscode": {
     "languageId": "sql"
    }
   },
   "outputs": [],
   "source": [
    "SELECT \n",
    "         c.zip as zip\n",
    "FROM \n",
    "         sql.customer c\n",
    "INTERSECT\n",
    "SELECT \n",
    "         cd.zip_code as zip\n",
    "FROM \n",
    "         sql.driver cd"
   ]
  },
  {
   "attachments": {},
   "cell_type": "markdown",
   "metadata": {},
   "source": [
    "Запишем структуру запроса с учётом полученных знаний."
   ]
  },
  {
   "cell_type": "code",
   "execution_count": null,
   "metadata": {
    "vscode": {
     "languageId": "sql"
    }
   },
   "outputs": [],
   "source": [
    "SELECT \n",
    "         N columns\n",
    "FROM \n",
    "         table_1\n",
    "\n",
    "UNION / UNION ALL / EXCEPT / INTERSECT \n",
    "\n",
    "SELECT \n",
    "         N columns\n",
    "FROM \n",
    "         table_2"
   ]
  },
  {
   "attachments": {},
   "cell_type": "markdown",
   "metadata": {},
   "source": [
    "Выведите города с максимальным и минимальным весом единичной доставки. Столбцы к выводу — city_name, weight."
   ]
  },
  {
   "cell_type": "code",
   "execution_count": null,
   "metadata": {
    "vscode": {
     "languageId": "sql"
    }
   },
   "outputs": [],
   "source": [
    "(SELECT\n",
    "         d.city_name,\n",
    "         s.weight\n",
    "FROM\n",
    "         sql.city d\n",
    "JOIN sql.shipment s ON d.city_id = s.city_id\n",
    "ORDER BY 2 desc\n",
    "limit 1)\n",
    "\n",
    "UNION\n",
    "\n",
    "(SELECT\n",
    "         d.city_name,\n",
    "         s.weight\n",
    "FROM\n",
    "         sql.city d\n",
    "JOIN sql.shipment s  ON d.city_id = s.city_id\n",
    "ORDER BY 2\n",
    "limit 1)\n",
    "ORDER BY 2 desc"
   ]
  },
  {
   "attachments": {},
   "cell_type": "markdown",
   "metadata": {},
   "source": [
    "Выведите идентификационные номера клиентов (cust_id), которые совпадают с идентификационными номерами доставок (ship_id). Столбец к выводу — mutual_id. Отсортируйте по возрастанию."
   ]
  },
  {
   "cell_type": "code",
   "execution_count": null,
   "metadata": {
    "vscode": {
     "languageId": "sql"
    }
   },
   "outputs": [],
   "source": [
    "SELECT \n",
    "         c.cust_id as mutual_id\n",
    "FROM \n",
    "         sql.customer c\n",
    "INTERSECT\n",
    "SELECT \n",
    "         cd.ship_id\n",
    "FROM \n",
    "         sql.shipment cd"
   ]
  },
  {
   "attachments": {},
   "cell_type": "markdown",
   "metadata": {},
   "source": [
    "Создайте справочник, содержащий уникальные имена клиентов, которые являются производителями (cust_type='manufacturer'), и производителей грузовиков, а также описание объекта — 'КЛИЕНТ' или 'ГРУЗОВИК'. Столбцы к выводу — object_name, object_description. Отсортируйте по названию в алфавитном порядке."
   ]
  },
  {
   "cell_type": "code",
   "execution_count": null,
   "metadata": {
    "vscode": {
     "languageId": "sql"
    }
   },
   "outputs": [],
   "source": [
    "SELECT\n",
    "         d.cust_name object_name,\n",
    "         'КЛИЕНТ' object_description\n",
    "FROM\n",
    "         sql.customer d\n",
    "WHERE d.cust_type='manufacturer'\n",
    "UNION\n",
    "SELECT\n",
    "         s.make, 'ГРУЗОВИК'\n",
    "FROM\n",
    "         sql.truck s\n",
    "ORDER BY 1"
   ]
  },
  {
   "attachments": {},
   "cell_type": "markdown",
   "metadata": {},
   "source": [
    "Давайте узнаем, сколько сейчас времени в другом регионе, например Лос-Анджелесе. Напишите запрос, который выведет текущие время и дату в часовом поясе Лос-Анджелеса (\"America/Los_Angeles\"). Столбец в выдаче — now (время и дата в нужном часовом поясе)."
   ]
  },
  {
   "cell_type": "code",
   "execution_count": null,
   "metadata": {
    "vscode": {
     "languageId": "sql"
    }
   },
   "outputs": [],
   "source": [
    "select now() at time zone 'America/Los_Angeles' as now"
   ]
  },
  {
   "attachments": {},
   "cell_type": "markdown",
   "metadata": {},
   "source": [
    "Предположим, у нас есть дата и время какого-то события и мы хотим посмотреть, к какой дате оно относится для Москвы и для UTC. Используйте подзапрос и выведите дату в ts в Московском часовом поясе и в поясе UTC. Столбцы в выдаче: dt_msk (дата в московском часовом поясе), dt_utc (дата в UTC)."
   ]
  },
  {
   "cell_type": "code",
   "execution_count": null,
   "metadata": {
    "vscode": {
     "languageId": "sql"
    }
   },
   "outputs": [],
   "source": [
    "WITH x AS \n",
    "(\n",
    "SELECT '2018-12-31 21:00:00+00'::timestamp WITH time zone ts\n",
    ")\n",
    "SELECT \n",
    "        (ts at time zone 'Europe/Moscow')::date dt_msk,\n",
    "        (ts)::date dt_utc\n",
    "FROM x"
   ]
  },
  {
   "attachments": {},
   "cell_type": "markdown",
   "metadata": {},
   "source": [
    "Для значений timestamp это день месяца (1-31), для значений interval — число дней."
   ]
  },
  {
   "cell_type": "code",
   "execution_count": null,
   "metadata": {
    "vscode": {
     "languageId": "sql"
    }
   },
   "outputs": [],
   "source": [
    "SELECT EXTRACT(DAY FROM TIMESTAMP '2001-02-16 20:38:40')\n",
    "--16\n",
    "SELECT EXTRACT(DAY FROM INTERVAL '40 days 1 minute')\n",
    "--40"
   ]
  },
  {
   "cell_type": "code",
   "execution_count": null,
   "metadata": {
    "vscode": {
     "languageId": "sql"
    }
   },
   "outputs": [],
   "source": [
    "--Час (0-23).\n",
    "SELECT EXTRACT(HOUR FROM TIMESTAMP '2001-02-16 20:38:40')\n",
    "--20"
   ]
  },
  {
   "cell_type": "code",
   "execution_count": null,
   "metadata": {
    "vscode": {
     "languageId": "sql"
    }
   },
   "outputs": [],
   "source": [
    "--Номер месяца, считая с января (1) до декабря (12).\n",
    "SELECT EXTRACT(MONTH FROM TIMESTAMP '2001-02-16 20:38:40')\n",
    "--2"
   ]
  },
  {
   "cell_type": "code",
   "execution_count": null,
   "metadata": {
    "vscode": {
     "languageId": "sql"
    }
   },
   "outputs": [],
   "source": [
    "--Поле года. Учтите, что года 0 не было, и это следует иметь в виду, вычитая из годов нашей эры годы до нашей эры.\n",
    "SELECT EXTRACT(YEAR FROM TIMESTAMP '2001-02-16 20:38:40')\n",
    "--2001"
   ]
  },
  {
   "cell_type": "code",
   "execution_count": null,
   "metadata": {
    "vscode": {
     "languageId": "sql"
    }
   },
   "outputs": [],
   "source": [
    "--Год по недельному календарю ISO 8601, в который попадает дата (не применимо к интервалам).\n",
    "SELECT EXTRACT(ISOYEAR FROM DATE '2006-01-01')\n",
    "--2005\n",
    "SELECT EXTRACT(ISOYEAR FROM DATE '2006-01-02')\n",
    "--2006"
   ]
  },
  {
   "cell_type": "code",
   "execution_count": null,
   "metadata": {
    "vscode": {
     "languageId": "sql"
    }
   },
   "outputs": [],
   "source": [
    "--Номер недели в году по недельному календарю\n",
    "SELECT EXTRACT(WEEK FROM TIMESTAMP '2001-02-16 20:38:40')\n",
    "--7"
   ]
  },
  {
   "cell_type": "code",
   "execution_count": null,
   "metadata": {
    "vscode": {
     "languageId": "sql"
    }
   },
   "outputs": [],
   "source": [
    "--CENTURY век\n",
    "SELECT EXTRACT(CENTURY FROM TIMESTAMP '2000-12-16 12:21:13')\n",
    "--20\n",
    "SELECT EXTRACT(CENTURY FROM TIMESTAMP '2001-02-16 20:38:40')\n",
    "--21"
   ]
  },
  {
   "cell_type": "code",
   "execution_count": null,
   "metadata": {
    "vscode": {
     "languageId": "sql"
    }
   },
   "outputs": [],
   "source": [
    "--Десятилетие.\n",
    "SELECT EXTRACT(DECADE FROM TIMESTAMP '2001-02-16 20:38:40')\n",
    "--200"
   ]
  },
  {
   "cell_type": "code",
   "execution_count": null,
   "metadata": {
    "vscode": {
     "languageId": "sql"
    }
   },
   "outputs": [],
   "source": [
    "--День недели, считая с воскресенья (0) до субботы (6)\n",
    "SELECT EXTRACT(DOW FROM TIMESTAMP '2001-02-16 20:38:40')\n",
    "--5"
   ]
  },
  {
   "cell_type": "code",
   "execution_count": null,
   "metadata": {
    "vscode": {
     "languageId": "sql"
    }
   },
   "outputs": [],
   "source": [
    "--День года (1-365/366)\n",
    "SELECT EXTRACT(DOY FROM TIMESTAMP '2001-02-16 20:38:40')\n",
    "--47"
   ]
  },
  {
   "cell_type": "code",
   "execution_count": null,
   "metadata": {
    "vscode": {
     "languageId": "sql"
    }
   },
   "outputs": [],
   "source": [
    "--День недели, считая с понедельника (1) до воскресенья (7)\n",
    "SELECT EXTRACT(ISODOW FROM TIMESTAMP '2001-02-18 20:38:40')\n",
    "--7"
   ]
  },
  {
   "attachments": {},
   "cell_type": "markdown",
   "metadata": {},
   "source": [
    "Давайте посчитаем помесячную статистику по доставкам, используя функцию extract. Напишите запрос, который выведет год, месяц и количество доставок. Отсортируйте по году и по месяцу в порядке возрастания. Столбцы в выдаче: year_n (номер года), month_n (номер месяца), qty (количество доставок)."
   ]
  },
  {
   "cell_type": "code",
   "execution_count": null,
   "metadata": {
    "vscode": {
     "languageId": "sql"
    }
   },
   "outputs": [],
   "source": [
    "select\n",
    "        EXTRACT(YEAR FROM ship_date) year_n,\n",
    "        EXTRACT(MONTH FROM ship_date) month_n,\n",
    "        count(ship_id) qty\n",
    "From\n",
    "        sql.shipment\n",
    "Group By year_n, month_n\n",
    "order by year_n, month_n"
   ]
  },
  {
   "attachments": {},
   "cell_type": "markdown",
   "metadata": {},
   "source": [
    "                                ФУНКЦИЯ TO_CHAR()"
   ]
  },
  {
   "attachments": {},
   "cell_type": "markdown",
   "metadata": {},
   "source": [
    "Функция to_char() нужна для форматирования даты времени и интервалов в нужный текст."
   ]
  },
  {
   "cell_type": "code",
   "execution_count": null,
   "metadata": {
    "vscode": {
     "languageId": "sql"
    }
   },
   "outputs": [],
   "source": [
    "to_char(timestamp[date],text)\ttext\tпреобразует время в текст\t    to_char(current_timestamp, 'HH12:MI:SS')\n",
    "to_char(interval, text)\t        text\tпреобразует интервал в текст\tto_char(interval '15h 2m 12s', 'HH24:MI:SS')"
   ]
  },
  {
   "cell_type": "code",
   "execution_count": null,
   "metadata": {
    "vscode": {
     "languageId": "sql"
    }
   },
   "outputs": [],
   "source": [
    "Код форматирования\tОписание\n",
    "HH24            \tчас (00-23)\n",
    "MI\t                минута (00-59)\n",
    "SS                  секунда (00-59)\n",
    "MS\t                миллисекунда (000-999)\n",
    "SSSS\t            число секунд с начала суток (0-86399)\n",
    "YYYY\t            год (4 или более цифр)\n",
    "YY\t                последние две цифры года\n",
    "month\t            полное название месяца в нижнем регистре (дополненное пробелами до девяти символов)\n",
    "MM\t                номер месяца (01-12)\n",
    "day\t                полное название дня недели в нижнем регистре, дополненное пробелами до девяти символов\n",
    "DDD\t                номер дня в году (001-366)\n",
    "DD\t                день месяца (01-31)\n",
    "ID\t                номер дня недели по ISO 8601, считая с понедельника (1) до воскресенья (7)\n",
    "WW\t                номер недели в году (1-53); первая неделя начинается в первый день года"
   ]
  },
  {
   "cell_type": "code",
   "execution_count": null,
   "metadata": {
    "vscode": {
     "languageId": "sql"
    }
   },
   "outputs": [],
   "source": [
    "Код форматирования\tОписание\n",
    "HH\t                час (01-12)\n",
    "HH12\t            час (01-12)\n",
    "HH24\t            час (00-23)\n",
    "MI\t                минута (00-59)\n",
    "SS\t                секунда (00-59)\n",
    "MS\t                миллисекунда (000-999)\n",
    "US\t                микросекунда (000000-999999)\n",
    "SSSS\t            число секунд с начала суток (0-86399)\n",
    "AM, am, PM или pm\tобозначение времени до/после полудня (без точек)\n",
    "A.M., a.m., P.M. или p.m.\tобозначение времени до/после полудня (с точками)\n",
    "Y,YYY\t            год (четыре или более цифр) с разделителем\n",
    "YYYY\t            год (четыре или более цифр)\n",
    "YYY\t                последние три цифры года\n",
    "YY\t                последние две цифры года\n",
    "Y\t                последняя цифра года\n",
    "IYYY\t            недельный год по ISO 8601 (четыре или более цифр)\n",
    "IYY\t                последние три цифры недельного года по ISO 8601\n",
    "IY\t                последние две цифры недельного года по ISO 8601\n",
    "I\t                последняя цифра недельного года по ISO 8601\n",
    "BC, bc, AD или ad\tобозначение эры (без точек)\n",
    "B.C., b.c., A.D. или a.d.\tобозначение эры (с точками)\n",
    "MONTH\t            полное название месяца в верхнем регистре (дополненное пробелами до девяти символов)\n",
    "Month\t            полное название месяца с большой буквы (дополненное пробелами до девяти символов)\n",
    "month\t            полное название месяца в нижнем регистре (дополненное пробелами до девяти символов)\n",
    "MON\t                сокращённое название месяца в верхнем регистре (три буквы в английском; в других языках длина может меняться)\n",
    "Mon\t                сокращённое название месяца с большой буквы (три буквы в английском; в других языках длина может меняться)\n",
    "mon\t                сокращённое название месяца в нижнем регистре (три буквы в английском; в других языках длина может меняться)\n",
    "MM\t                номер месяца (01-12)\n",
    "DAY\t                полное название дня недели в верхнем регистре (дополненное пробелами до девяти символов)\n",
    "Day\t                полное название дня недели с большой буквы (дополненное пробелами до девяти символов)\n",
    "day\t                полное название дня недели в нижнем регистре (дополненное пробелами до девяти символов)\n",
    "DY\t                сокращённое название дня недели в верхнем регистре (три буквы в английском; в других языках может меняться)\n",
    "Dy\t                сокращённое название дня недели с большой буквы (три буквы в английском; в других языках длина может меняться)\n",
    "dy\t                сокращённое название дня недели в нижнем регистре (три буквы в английском; в других языках длина может меняться)\n",
    "DDD\t                номер дня в году (001-366)\n",
    "IDDD\t            номер дня в году по ISO 8601 (001-371; 1 день — понедельник первой недели по ISO)\n",
    "DD\t                день месяца (01-31)\n",
    "D\t                номер дня недели, считая с воскресенья (1) до субботы (7)\n",
    "ID\t                номер дня недели по ISO 8601, считая с понедельника (1) до воскресенья (7)\n",
    "W\t                неделя месяца (1-5) (первая неделя начинается в первое число месяца)\n",
    "WW\t                номер недели в году (1-53) (первая неделя начинается в первый день года)\n",
    "IW\t                номер недели в году по ISO 8601 (01-53; первый четверг года относится к неделе 1)\n",
    "CC\t                век (две цифры; двадцать первый век начался 2001-01-01)\n",
    "J\t                день по юлианскому календарю (номер дня с 24 ноября 4714 г. до н. э.)\n",
    "Q\t                квартал (игнорируется функциями to_date и to_timestamp)\n",
    "RM\t                номер месяца римскими цифрами в верхнем регистре (I-XII; I=январь)\n",
    "rm\t                номер месяца римскими цифрами в нижнем регистре (i-xii; i=январь)\n",
    "TZ\t                сокращённое название часового пояса в верхнем регистре (поддерживается только в to_char)\n",
    "tz\t                сокращённое название часового пояса в нижнем регистре (поддерживается только в to_char)\n",
    "OF\t                смещение часового пояса от UTC (поддерживается только в to_char)"
   ]
  },
  {
   "attachments": {},
   "cell_type": "markdown",
   "metadata": {},
   "source": [
    "Давайте выведем текст текущего времени для сервиса точного времени. Напишите запрос, который выводит текст \"Точное время x часов y минут z секунд\" (текст в кавычки заключать не нужно), где x, y, z — часы, минуты и секунды соответственно, при условии, что сообщение нужно вывести для московского часового пояса. Время введите в 24-часовом формате. Столбцы в выдаче: msg (сообщение)."
   ]
  },
  {
   "cell_type": "code",
   "execution_count": null,
   "metadata": {
    "vscode": {
     "languageId": "sql"
    }
   },
   "outputs": [],
   "source": [
    "SELECT to_char(now() at time zone 'Europe/Moscow','Точное время hh24 часов mi минут ss секунд') msg\n"
   ]
  },
  {
   "attachments": {},
   "cell_type": "markdown",
   "metadata": {},
   "source": [
    "                                ФУНКЦИЯ DATE_TRUNC()"
   ]
  },
  {
   "attachments": {},
   "cell_type": "markdown",
   "metadata": {},
   "source": [
    "Функция date_trunc() позволяет отсечь заданное время, дату или дату со временем до нужной точности."
   ]
  },
  {
   "attachments": {},
   "cell_type": "markdown",
   "metadata": {},
   "source": [
    "Например, если мы хотим округлить текущее время-дату до минут, то можно вызвать"
   ]
  },
  {
   "cell_type": "code",
   "execution_count": null,
   "metadata": {
    "vscode": {
     "languageId": "sql"
    }
   },
   "outputs": [],
   "source": [
    "select date_trunc('minute',now())"
   ]
  },
  {
   "attachments": {},
   "cell_type": "markdown",
   "metadata": {},
   "source": [
    "Для получения разной степени точности вместо minute можно использовать следующие параметры:\n",
    "\n",
    "microseconds;\n",
    "milliseconds;\n",
    "second;\n",
    "minute;\n",
    "hour;\n",
    "day;\n",
    "week;\n",
    "month;\n",
    "quarter;\n",
    "year;\n",
    "decade;\n",
    "century;\n",
    "millennium."
   ]
  },
  {
   "attachments": {},
   "cell_type": "markdown",
   "metadata": {},
   "source": [
    "Давайте подготовим данные для квартальной отчётности компании. Напишите запрос, который выведет дату доставки, округлённую до квартала, и общую массу доставок. Отсортируйте по кварталу в порядке возрастания. Столбцы в выдаче: q (начало квартала, тип date), total_weight (сумма масс доставок за квартал)."
   ]
  },
  {
   "cell_type": "code",
   "execution_count": null,
   "metadata": {
    "vscode": {
     "languageId": "sql"
    }
   },
   "outputs": [],
   "source": [
    "SELECT\n",
    "    date_trunc('quarter',s.ship_date)::date q,\n",
    "    sum(s.weight) total_weight\n",
    "FROM\n",
    "    shipping.shipment s\n",
    "GROUP BY 1\n",
    "ORDER BY 1"
   ]
  },
  {
   "attachments": {},
   "cell_type": "markdown",
   "metadata": {},
   "source": [
    "Давайте оценим, в каком интервале совершались доставки в разных городах. Напишите запрос, который выведет разницу между последним и первым днём доставки по каждому городу. Отсортируйте по первому и второму столбцам. Столбцы в выдаче: city_name (название города) и days_active (время от первой до последней доставки в днях)."
   ]
  },
  {
   "cell_type": "code",
   "execution_count": null,
   "metadata": {
    "vscode": {
     "languageId": "sql"
    }
   },
   "outputs": [],
   "source": [
    "SELECT \n",
    "    c.city_name,\n",
    "    max(s.ship_date) - min(s.ship_date) as days_active\n",
    "FROM shipping.shipment s \n",
    "JOIN shipping.city c ON c.city_id = s.city_id\n",
    "GROUP BY 1\n",
    "ORDER BY 1,2"
   ]
  },
  {
   "attachments": {},
   "cell_type": "markdown",
   "metadata": {},
   "source": [
    "                            оператор конкатенации строк — || (две вертикальные черты). Он позволяет объединять две и более строки."
   ]
  },
  {
   "attachments": {},
   "cell_type": "markdown",
   "metadata": {},
   "source": [
    "Составим текстовый шаблон сообщения о доставке по конкретному водителю для наших клиентов. Напишите SQL-запрос, который выведет следующее сообщение для каждого водителя по форме:\n",
    "\n",
    "Ваш заказ доставит водитель #Имя Фамилия#. Его контактный номер: #Номер#\n",
    "Где #Имя Фамилия# и #Номер# взяты из справочника водителей. Если номер не указан, то выведите прочерк (-). Для номеров рекомендуем использовать COALESCE. Пример из таблицы для наглядности:\n",
    "\n",
    "Ваш заказ доставит водитель Adel Al-Alawi. Его контактный номер: (901) 947-4433\n",
    "Столбец к выдаче — msg (текст сообщения)."
   ]
  },
  {
   "cell_type": "code",
   "execution_count": null,
   "metadata": {
    "vscode": {
     "languageId": "sql"
    }
   },
   "outputs": [],
   "source": [
    "select 'Ваш заказ доставит водитель '|| first_name || ' ' || last_name||'.'||' Его контактный номер: ' || coalesce (phone,'-') msg\n",
    "from\n",
    "    sql.driver"
   ]
  },
  {
   "attachments": {},
   "cell_type": "markdown",
   "metadata": {},
   "source": [
    "                                UPPER() И LOWER()"
   ]
  },
  {
   "attachments": {},
   "cell_type": "markdown",
   "metadata": {},
   "source": [
    "Функции upper(your_text) и lower(your_text) переводят каждый символ вашего текста в верхний и нижний регистр соответственно."
   ]
  },
  {
   "attachments": {},
   "cell_type": "markdown",
   "metadata": {},
   "source": [
    "Cоставим справочник названий клиентов, у которых более десяти доставок. Данные сохраним в нижнем регистре, чтобы передавать их в другие системы (например, для обзвона), которые не чувствительны к регистру. Напишите запрос, который выводит все id названий клиентов, у которых более десяти доставок, в нижнем регистре. Отсортируйте результат по cust_id в порядке возрастания. Столбцы в выдаче: cust_id (id клиента) и cust_name (название клиента в нижнем регистре)."
   ]
  },
  {
   "cell_type": "code",
   "execution_count": null,
   "metadata": {
    "vscode": {
     "languageId": "sql"
    }
   },
   "outputs": [],
   "source": [
    "SELECT \n",
    "      b.cust_id,\n",
    "      lower(b.cust_name)\n",
    "FROM\n",
    "     sql.customer b\n",
    "JOIN sql.shipment d ON b.cust_id = d.cust_id\n",
    "GROUP BY b.cust_id\n",
    "HAVING count(d.ship_id)>10\n",
    "ORDER BY 1"
   ]
  },
  {
   "attachments": {},
   "cell_type": "markdown",
   "metadata": {},
   "source": [
    "                                    REPLACE()"
   ]
  },
  {
   "attachments": {},
   "cell_type": "markdown",
   "metadata": {},
   "source": [
    "С помощью функции replace() можно заменять символы в строках."
   ]
  },
  {
   "attachments": {},
   "cell_type": "markdown",
   "metadata": {},
   "source": [
    "Составим справочник utm-меток, для того чтобы передавать город и штат прямо в адресной строке. (Если вы не знаете, что такое utm-метка, почитайте статью на Вики. К программе курса это не относится, но знать полезно.) Напишите SQL-запрос, который выведет список сочетаний из справочника следующего вида: название_штата__название_города, где названия штата и города взяты из справочника городов и переведены в нижний регистр. Столбец к выдаче — utm (форматированный штат-город). Отсортируйте полученный справочник по алфавиту. Обратите внимание! Все пробелы в названиях городов и штатов замените символом '_' (одно нижнее подчёркивание), а для разделения названий города и штата используйте '__' (два последовательных нижних подчёркивания). Пример из таблицы для наглядности: new_jersey__union_city"
   ]
  },
  {
   "cell_type": "code",
   "execution_count": null,
   "metadata": {
    "vscode": {
     "languageId": "sql"
    }
   },
   "outputs": [],
   "source": [
    "SELECT \n",
    "      lower(replace(state,' ','_')||'__'||replace(city_name,' ','_')) AS utm\n",
    "FROM\n",
    "     sql.city\n",
    "ORDER BY 1"
   ]
  },
  {
   "attachments": {},
   "cell_type": "markdown",
   "metadata": {},
   "source": [
    "                                LEFT() И RIGHT()\n",
    "познакомимся с функциями, обрезающими строки."
   ]
  },
  {
   "attachments": {},
   "cell_type": "markdown",
   "metadata": {},
   "source": [
    "Функции left(string,n) и right(string,n) оставляют n левых или правых символов от строки, поданной на вход"
   ]
  },
  {
   "attachments": {},
   "cell_type": "markdown",
   "metadata": {},
   "source": [
    "Представим, что к вам пришёл разработчик, который хочет сократить поле state в таблице city до четырёх символов, и попросил проверить, останeтся ли значения в нём уникальными. Чтобы ответить на этот вопрос, напишите SQL-запрос, который выведет первые четыре символа названия штата и количество уникальных названий штатов, которому они соответствуют. Оставьте только те, которые относятся к двум и более штатам. Добавьте сортировку по первому столбцу. Столбцы в выдаче: code (четыре первых символа в названии штата), qty (количество уникальных названий штата, начинающихся с этих символов)."
   ]
  },
  {
   "cell_type": "code",
   "execution_count": null,
   "metadata": {
    "vscode": {
     "languageId": "sql"
    }
   },
   "outputs": [],
   "source": [
    "SELECT\n",
    "                LEFT(state,4) code, \n",
    "                COUNT(distinct state) qty\n",
    "        FROM shipping.city\n",
    "        GROUP BY 1\n",
    "    HAVING COUNT(distinct state)>1"
   ]
  },
  {
   "attachments": {},
   "cell_type": "markdown",
   "metadata": {},
   "source": [
    "                                    FORMAT() \n",
    "Функция format() используется для составления форматированного текста с подстановками. То же самое можно сделать через конкатенацию строк, но это неудобно и громоздко       "
   ]
  },
  {
   "attachments": {},
   "cell_type": "markdown",
   "metadata": {},
   "source": [
    "select format('Hello, %s!', d.first_name) from shipping.driver d\n",
    "Комбинация символов %s обозначает, что вместо них будет подставлен один из аргументов, причём в том же порядке, что и в исходном столбце."
   ]
  },
  {
   "attachments": {},
   "cell_type": "markdown",
   "metadata": {},
   "source": [
    "Давайте подготовим географическую сводку для каждого города. Напишите SQL-запрос, который выведет описание региона в следующем формате:\n",
    "\n",
    "\n",
    "[city_name] is located in [state]. There's [population] people living there. Its area is [area]\n",
    "\n",
    "Обратите внимание, точку в конце ставить не нужно. Отсортируйте по названию города в алфавитном порядке. Столбец к выдаче — str (сводка). Пример:\n",
    "\n",
    "\n",
    "Abilene is located in Texas. There's 115930 people living there. Its area is 105.10\n"
   ]
  },
  {
   "cell_type": "code",
   "execution_count": null,
   "metadata": {
    "vscode": {
     "languageId": "sql"
    }
   },
   "outputs": [],
   "source": [
    "SELECT\n",
    "      format( $$%s is located in %s. There's %s people living there. Its area is %s$$, city_name, state, population, area) AS str\n",
    "FROM\n",
    "    sql.city\n",
    "ORDER BY 1"
   ]
  }
 ],
 "metadata": {
  "kernelspec": {
   "display_name": "Python 3",
   "language": "python",
   "name": "python3"
  },
  "language_info": {
   "codemirror_mode": {
    "name": "ipython",
    "version": 3
   },
   "file_extension": ".py",
   "mimetype": "text/x-python",
   "name": "python",
   "nbconvert_exporter": "python",
   "pygments_lexer": "ipython3",
   "version": "3.10.7 (v3.10.7:6cc6b13308, Sep  5 2022, 14:02:52) [Clang 13.0.0 (clang-1300.0.29.30)]"
  },
  "orig_nbformat": 4,
  "vscode": {
   "interpreter": {
    "hash": "aee8b7b246df8f9039afb4144a1f6fd8d2ca17a180786b69acc140d282b71a49"
   }
  }
 },
 "nbformat": 4,
 "nbformat_minor": 2
}
