{
 "cells": [
  {
   "cell_type": "markdown",
   "id": "c8a6af25-08d3-487a-bd90-001772ac9161",
   "metadata": {},
   "source": [
    "## <center> **Анализ результатов A/B-тестирования**"
   ]
  },
  {
   "cell_type": "markdown",
   "id": "d7d45571-6545-4904-a86b-9b3b6b8163d3",
   "metadata": {},
   "source": [
    "Компания планирует запустить новую акцию, чтобы продать как можно больше туров. Команда разработала два варианта посадочной страницы официального сайта компании и провела A/B-тестирование. Собранные в результате проведения эксперимента данные вы можете найти здесь.\n",
    "\n",
    "Вам предстоит решить настоящую бизнес-задачу: проанализировать эффективность обоих вариантов посадочной страницы сразу по двум критериям: конверсии покупки и среднему чеку. На основе проведенного анализа вам будет необходимо сделать выводы и принять решение: какой из вариантов дизайна более предпочтительный.\n",
    "\n",
    "Итак, наша фирма предлагает следующие варианты туров и их соответствующие стоимости:\n",
    "* Таиланд — 100000 рублей;\n",
    "* Турция — 60000 рублей;\n",
    "* Мальдивы — 200000 рублей;\n",
    "* Санкт-Петербург — 10000 рублей;\n",
    "* Камчатка — 150000 рублей."
   ]
  },
  {
   "cell_type": "code",
   "execution_count": 2,
   "id": "a974b482-e192-4014-8520-8a5c0c946da6",
   "metadata": {},
   "outputs": [],
   "source": [
    "import pandas as pd\n",
    "import matplotlib.pyplot as plt\n",
    "import seaborn as sns\n",
    "from scipy.stats import norm\n",
    "from scipy.stats import t\n",
    "from scipy.stats import ttest_ind, shapiro, f_oneway, mannwhitneyu\n",
    "from statsmodels.stats.proportion import proportions_ztest"
   ]
  },
  {
   "cell_type": "markdown",
   "id": "55c84550-4162-4325-acc2-7d3c0aafe6f0",
   "metadata": {},
   "source": [
    "Прочитаем наши данные и посмотрим на столбцы таблицы:"
   ]
  },
  {
   "cell_type": "code",
   "execution_count": 3,
   "id": "b0d18245-b9da-44bd-8aea-d272ea74b63a",
   "metadata": {},
   "outputs": [
    {
     "data": {
      "text/html": [
       "<div>\n",
       "<style scoped>\n",
       "    .dataframe tbody tr th:only-of-type {\n",
       "        vertical-align: middle;\n",
       "    }\n",
       "\n",
       "    .dataframe tbody tr th {\n",
       "        vertical-align: top;\n",
       "    }\n",
       "\n",
       "    .dataframe thead th {\n",
       "        text-align: right;\n",
       "    }\n",
       "</style>\n",
       "<table border=\"1\" class=\"dataframe\">\n",
       "  <thead>\n",
       "    <tr style=\"text-align: right;\">\n",
       "      <th></th>\n",
       "      <th>user_id</th>\n",
       "      <th>date</th>\n",
       "      <th>group</th>\n",
       "      <th>purchase</th>\n",
       "      <th>price</th>\n",
       "    </tr>\n",
       "  </thead>\n",
       "  <tbody>\n",
       "    <tr>\n",
       "      <th>0</th>\n",
       "      <td>851104</td>\n",
       "      <td>2021-01-21</td>\n",
       "      <td>A</td>\n",
       "      <td>0</td>\n",
       "      <td>0</td>\n",
       "    </tr>\n",
       "    <tr>\n",
       "      <th>1</th>\n",
       "      <td>804228</td>\n",
       "      <td>2021-01-12</td>\n",
       "      <td>A</td>\n",
       "      <td>0</td>\n",
       "      <td>0</td>\n",
       "    </tr>\n",
       "    <tr>\n",
       "      <th>2</th>\n",
       "      <td>661590</td>\n",
       "      <td>2021-01-11</td>\n",
       "      <td>B</td>\n",
       "      <td>0</td>\n",
       "      <td>0</td>\n",
       "    </tr>\n",
       "    <tr>\n",
       "      <th>3</th>\n",
       "      <td>853541</td>\n",
       "      <td>2021-01-08</td>\n",
       "      <td>B</td>\n",
       "      <td>0</td>\n",
       "      <td>0</td>\n",
       "    </tr>\n",
       "    <tr>\n",
       "      <th>4</th>\n",
       "      <td>864975</td>\n",
       "      <td>2021-01-21</td>\n",
       "      <td>A</td>\n",
       "      <td>1</td>\n",
       "      <td>150000</td>\n",
       "    </tr>\n",
       "  </tbody>\n",
       "</table>\n",
       "</div>"
      ],
      "text/plain": [
       "   user_id        date group  purchase   price\n",
       "0   851104  2021-01-21     A         0       0\n",
       "1   804228  2021-01-12     A         0       0\n",
       "2   661590  2021-01-11     B         0       0\n",
       "3   853541  2021-01-08     B         0       0\n",
       "4   864975  2021-01-21     A         1  150000"
      ]
     },
     "execution_count": 3,
     "metadata": {},
     "output_type": "execute_result"
    }
   ],
   "source": [
    "data = pd.read_csv('data/ab_data_tourist.csv')\n",
    "data.head()"
   ]
  },
  {
   "cell_type": "markdown",
   "id": "2fc48225-26ac-49c4-b99d-8b2a03dd74a1",
   "metadata": {
    "tags": []
   },
   "source": [
    "## **Задание 7.1.**\n",
    "\n",
    "Начнем с исследования структуры наших данных. С помощью метода info() выведите информацию о типах данных и количестве непустых значений. Какой тип данных имеет столбец date?"
   ]
  },
  {
   "cell_type": "code",
   "execution_count": 4,
   "id": "23496521-4878-46e2-ab02-1a98be14884a",
   "metadata": {},
   "outputs": [
    {
     "name": "stdout",
     "output_type": "stream",
     "text": [
      "<class 'pandas.core.frame.DataFrame'>\n",
      "RangeIndex: 294478 entries, 0 to 294477\n",
      "Data columns (total 5 columns):\n",
      " #   Column    Non-Null Count   Dtype \n",
      "---  ------    --------------   ----- \n",
      " 0   user_id   294478 non-null  int64 \n",
      " 1   date      294478 non-null  object\n",
      " 2   group     294478 non-null  object\n",
      " 3   purchase  294478 non-null  int64 \n",
      " 4   price     294478 non-null  int64 \n",
      "dtypes: int64(3), object(2)\n",
      "memory usage: 11.2+ MB\n"
     ]
    }
   ],
   "source": [
    "data.info()"
   ]
  },
  {
   "cell_type": "markdown",
   "id": "484fe926",
   "metadata": {},
   "source": [
    "*Столбец date имеет тип данных object.*"
   ]
  },
  {
   "cell_type": "markdown",
   "id": "946d017d-b4fe-4a17-b91d-0ce369d1ab2e",
   "metadata": {
    "tags": []
   },
   "source": [
    "## **Задание 7.2.**\n",
    "\n",
    "Приведите столбец date к типу данных datetime. Убедитесь в равной длительности проведения тестирования для каждой из группы. Для этого сгруппируйте данные по признаку группы и определите первую и последнюю дату наблюдения для каждой из групп. \n",
    "\n",
    "В какой промежуток времени проводился A/B-тест?\n"
   ]
  },
  {
   "cell_type": "code",
   "execution_count": 5,
   "id": "604c619d-6338-45c8-8248-ac098a2366bb",
   "metadata": {},
   "outputs": [
    {
     "data": {
      "text/html": [
       "<div>\n",
       "<style scoped>\n",
       "    .dataframe tbody tr th:only-of-type {\n",
       "        vertical-align: middle;\n",
       "    }\n",
       "\n",
       "    .dataframe tbody tr th {\n",
       "        vertical-align: top;\n",
       "    }\n",
       "\n",
       "    .dataframe thead th {\n",
       "        text-align: right;\n",
       "    }\n",
       "</style>\n",
       "<table border=\"1\" class=\"dataframe\">\n",
       "  <thead>\n",
       "    <tr style=\"text-align: right;\">\n",
       "      <th></th>\n",
       "      <th>count</th>\n",
       "      <th>mean</th>\n",
       "      <th>min</th>\n",
       "      <th>25%</th>\n",
       "      <th>50%</th>\n",
       "      <th>75%</th>\n",
       "      <th>max</th>\n",
       "    </tr>\n",
       "    <tr>\n",
       "      <th>group</th>\n",
       "      <th></th>\n",
       "      <th></th>\n",
       "      <th></th>\n",
       "      <th></th>\n",
       "      <th></th>\n",
       "      <th></th>\n",
       "      <th></th>\n",
       "    </tr>\n",
       "  </thead>\n",
       "  <tbody>\n",
       "    <tr>\n",
       "      <th>A</th>\n",
       "      <td>147202</td>\n",
       "      <td>2021-01-13 01:55:49.470795520</td>\n",
       "      <td>2021-01-02 00:00:00</td>\n",
       "      <td>2021-01-08 00:00:00</td>\n",
       "      <td>2021-01-13 00:00:00</td>\n",
       "      <td>2021-01-19 00:00:00</td>\n",
       "      <td>2021-01-24 00:00:00</td>\n",
       "    </tr>\n",
       "    <tr>\n",
       "      <th>B</th>\n",
       "      <td>147276</td>\n",
       "      <td>2021-01-13 01:23:47.034955008</td>\n",
       "      <td>2021-01-02 00:00:00</td>\n",
       "      <td>2021-01-08 00:00:00</td>\n",
       "      <td>2021-01-13 00:00:00</td>\n",
       "      <td>2021-01-19 00:00:00</td>\n",
       "      <td>2021-01-24 00:00:00</td>\n",
       "    </tr>\n",
       "  </tbody>\n",
       "</table>\n",
       "</div>"
      ],
      "text/plain": [
       "        count                           mean                  min  \\\n",
       "group                                                               \n",
       "A      147202  2021-01-13 01:55:49.470795520  2021-01-02 00:00:00   \n",
       "B      147276  2021-01-13 01:23:47.034955008  2021-01-02 00:00:00   \n",
       "\n",
       "                       25%                  50%                  75%  \\\n",
       "group                                                                  \n",
       "A      2021-01-08 00:00:00  2021-01-13 00:00:00  2021-01-19 00:00:00   \n",
       "B      2021-01-08 00:00:00  2021-01-13 00:00:00  2021-01-19 00:00:00   \n",
       "\n",
       "                       max  \n",
       "group                       \n",
       "A      2021-01-24 00:00:00  \n",
       "B      2021-01-24 00:00:00  "
      ]
     },
     "execution_count": 5,
     "metadata": {},
     "output_type": "execute_result"
    }
   ],
   "source": [
    "data['date'] = pd.to_datetime(data['date'])\n",
    "data.groupby('group')['date'].describe(datetime_is_numeric=True)"
   ]
  },
  {
   "cell_type": "markdown",
   "id": "fcf6c722",
   "metadata": {},
   "source": [
    "*Тест в обеих группах проводился со 2 по 24 января 2021 г.*"
   ]
  },
  {
   "cell_type": "markdown",
   "id": "e04eb341-52ae-48b3-9dc2-0578ca91641a",
   "metadata": {},
   "source": [
    "## **Задание 7.3.**\n",
    "\n",
    "* Чему равно количество посещений сайта в группах А и B?\n",
    "\n",
    "* Чему равно суммарное количество покупок в группах А и B?\n",
    "\n",
    "* Чему равна сумма всех покупок в группах А и B? Ответ приведите в миллионах рублей. Например, 185.52 млн. руб."
   ]
  },
  {
   "cell_type": "code",
   "execution_count": 6,
   "id": "02bf0148-488e-4f34-95bf-37794b2fa98b",
   "metadata": {},
   "outputs": [
    {
     "name": "stdout",
     "output_type": "stream",
     "text": [
      "Количество посещений:\n",
      " group\n",
      "A    147202\n",
      "B    147276\n",
      "Name: user_id, dtype: int64 \n",
      "\n",
      "Количество покупок:\n",
      " group\n",
      "A    17723\n",
      "B    17514\n",
      "Name: purchase, dtype: int64 \n",
      "\n",
      "Сумма покупок (млн):\n",
      " group\n",
      "A    1436.26\n",
      "B    1554.10\n",
      "Name: price, dtype: float64\n"
     ]
    }
   ],
   "source": [
    "print('Количество посещений:\\n', \n",
    "      data.groupby('group')['user_id'].count(), '\\n')\n",
    "print('Количество покупок:\\n', \n",
    "      data.groupby('group')['purchase'].sum(), '\\n')\n",
    "print('Сумма покупок (млн):\\n', \n",
    "      (data.groupby('group')['price'].sum() / 1_000_000).round(2))"
   ]
  },
  {
   "cell_type": "markdown",
   "id": "2434db1b-17e6-4977-8e54-1df875c6f221",
   "metadata": {
    "tags": []
   },
   "source": [
    "## **Задание 7.4.**\n",
    "\n",
    "Проверьте, есть ли пользователи, которые в процессе A/B-теста попали в обе тестовые группы? Если да, то сколько таких уникальных пользователей, если нет - введите в поле для ответа 0?\n",
    "\n",
    "**Подсказка:**\n",
    "\n",
    "*Создайте множество пользователей группы А и множество пользователей группы B. Пересеките два этих множества (операция intersection) и вычислите количество элементов в полученном множестве.*\n"
   ]
  },
  {
   "cell_type": "code",
   "execution_count": 7,
   "id": "57a2d711-057d-4f8b-9f56-df0f772d41c8",
   "metadata": {},
   "outputs": [
    {
     "name": "stdout",
     "output_type": "stream",
     "text": [
      "1895\n"
     ]
    }
   ],
   "source": [
    "mask_A = data['group'] == 'A'\n",
    "mask_B = data['group'] == 'B'\n",
    "user_intersection = set(data[mask_A]['user_id']) \\\n",
    "    .intersection(set(data[mask_B]['user_id']))\n",
    "print(len(user_intersection))"
   ]
  },
  {
   "cell_type": "markdown",
   "id": "118b1904-7d7a-4935-825e-535da45c611b",
   "metadata": {
    "tags": []
   },
   "source": [
    "## **Исключите пользователей, оказавшихся в обеих группах**\n",
    "\n",
    "Так как мы не можем определить, какая из версий сайта повлияла на принятие решения, исключим этих пользователей. Далее мы будем работать только с очищенными от пересечений данными.\n",
    "\n",
    "Возможный вариант исключения пользователей:"
   ]
  },
  {
   "cell_type": "code",
   "execution_count": 8,
   "id": "f618b34b-35a3-4bf1-8d6d-38b3401930b7",
   "metadata": {},
   "outputs": [],
   "source": [
    "updated_data = data[data['user_id'].apply(lambda x: x not in user_intersection)]"
   ]
  },
  {
   "cell_type": "markdown",
   "id": "2bce6c9a-6580-4250-b280-204d40d20da2",
   "metadata": {},
   "source": [
    "Где user_intersection - множество пересечений пользователей групп А и B."
   ]
  },
  {
   "attachments": {
    "95f235d2-6323-4799-bf69-697fc57f727b.png": {
     "image/png": "[encoded data removed]"
    }
   },
   "cell_type": "markdown",
   "id": "2ddf6b2c-7987-41f3-82b1-8992630ae97b",
   "metadata": {
    "tags": []
   },
   "source": [
    "## **Задание 7.5.**\n",
    "\n",
    "Для первичного анализа результатов A/B-тестирования нам понадобится таблица следующего вида:\n",
    "\n",
    "![image.png](attachment:95f235d2-6323-4799-bf69-697fc57f727b.png)\n",
    " \n",
    " \n",
    "Для того, чтобы получить такую таблицу, сгруппируйте данные по признаку группы. В каждой группе рассчитайте следующие показатели:\n",
    "* количество посещений (количество пользователей)\n",
    "* количество совершенных покупок\n",
    "* сумма всех покупок в группе\n",
    "\n",
    "В полученной сгруппированной таблице переименуйте столбцы на **count_visits, count_purchases и sum_price**.\n",
    "\n",
    "**Подсказка:**\n",
    "\n",
    "*Для переименования столбцов можно использовать метод rename() с параметром columns, в который передается словарь. Ключи этого словаря - старые имена столбцов, а значения - новые.*\n",
    "\n",
    "Чему на этот раз равно количество посещений сайта в группах А и B?\n"
   ]
  },
  {
   "cell_type": "code",
   "execution_count": 9,
   "id": "5c0c018e-a250-48e9-b72a-e3c7be586ebd",
   "metadata": {},
   "outputs": [
    {
     "data": {
      "text/html": [
       "<div>\n",
       "<style scoped>\n",
       "    .dataframe tbody tr th:only-of-type {\n",
       "        vertical-align: middle;\n",
       "    }\n",
       "\n",
       "    .dataframe tbody tr th {\n",
       "        vertical-align: top;\n",
       "    }\n",
       "\n",
       "    .dataframe thead th {\n",
       "        text-align: right;\n",
       "    }\n",
       "</style>\n",
       "<table border=\"1\" class=\"dataframe\">\n",
       "  <thead>\n",
       "    <tr style=\"text-align: right;\">\n",
       "      <th></th>\n",
       "      <th>count_visits</th>\n",
       "      <th>count_purchases</th>\n",
       "      <th>sum_price</th>\n",
       "    </tr>\n",
       "    <tr>\n",
       "      <th>group</th>\n",
       "      <th></th>\n",
       "      <th></th>\n",
       "      <th></th>\n",
       "    </tr>\n",
       "  </thead>\n",
       "  <tbody>\n",
       "    <tr>\n",
       "      <th>A</th>\n",
       "      <td>145307</td>\n",
       "      <td>17487</td>\n",
       "      <td>1417780000</td>\n",
       "    </tr>\n",
       "    <tr>\n",
       "      <th>B</th>\n",
       "      <td>145381</td>\n",
       "      <td>17290</td>\n",
       "      <td>1533010000</td>\n",
       "    </tr>\n",
       "  </tbody>\n",
       "</table>\n",
       "</div>"
      ],
      "text/plain": [
       "       count_visits  count_purchases   sum_price\n",
       "group                                           \n",
       "A            145307            17487  1417780000\n",
       "B            145381            17290  1533010000"
      ]
     },
     "metadata": {},
     "output_type": "display_data"
    }
   ],
   "source": [
    "pivot_tab = updated_data.groupby('group') \\\n",
    "    .agg({'user_id': 'count', 'purchase': 'sum', 'price': 'sum'}) \\\n",
    "    .rename(columns={'user_id': 'count_visits', 'purchase': 'count_purchases', \n",
    "             'price': 'sum_price'})\n",
    "display(pivot_tab)"
   ]
  },
  {
   "cell_type": "markdown",
   "id": "b71e1390-9846-4a8e-b357-f82b847d1952",
   "metadata": {},
   "source": [
    "Приведите промежуточные выводы по построенной таблице. Сопоставимо ли количество посещений обоих вариантов посадочной странице, можно ли говорить о сбалансированности выборок?"
   ]
  },
  {
   "cell_type": "markdown",
   "id": "4ea1b65b-475e-4bff-9460-fac0acdb9620",
   "metadata": {},
   "source": [
    "*Тестовая и контрольная группы сопоставимы по количеству посещений (разница ~0.05%); выборки можно считать сбалансированными.*"
   ]
  },
  {
   "cell_type": "markdown",
   "id": "afb2ee0a-31d1-45a5-be42-a2bf168b9448",
   "metadata": {
    "tags": []
   },
   "source": [
    "## **Задание 7.6.**\n",
    "\n",
    "Добавьте в сгруппированную таблицу столбцы conversion - конверсия покупки (отношение количества покупок к количеству посещений сайта в каждой группе, выраженное в процентах) и mean_check - средний чек (отношение суммы покупок к количеству покупок в каждой группе).\n",
    "\n",
    "* Чему равна конверсия в группах? Ответ приведите в процентах и округлите до сотых. Например, 75.12 %\n",
    "* Чему равен средний чек в группах? Ответ приведите в рублях и округлите до целых. Например, 120519 рублей."
   ]
  },
  {
   "cell_type": "code",
   "execution_count": 10,
   "id": "bd9c3b3e-5956-41a8-bae0-43693f6de1f2",
   "metadata": {},
   "outputs": [
    {
     "data": {
      "text/html": [
       "<div>\n",
       "<style scoped>\n",
       "    .dataframe tbody tr th:only-of-type {\n",
       "        vertical-align: middle;\n",
       "    }\n",
       "\n",
       "    .dataframe tbody tr th {\n",
       "        vertical-align: top;\n",
       "    }\n",
       "\n",
       "    .dataframe thead th {\n",
       "        text-align: right;\n",
       "    }\n",
       "</style>\n",
       "<table border=\"1\" class=\"dataframe\">\n",
       "  <thead>\n",
       "    <tr style=\"text-align: right;\">\n",
       "      <th></th>\n",
       "      <th>count_visits</th>\n",
       "      <th>count_purchases</th>\n",
       "      <th>sum_price</th>\n",
       "      <th>conversion</th>\n",
       "      <th>mean_check</th>\n",
       "    </tr>\n",
       "    <tr>\n",
       "      <th>group</th>\n",
       "      <th></th>\n",
       "      <th></th>\n",
       "      <th></th>\n",
       "      <th></th>\n",
       "      <th></th>\n",
       "    </tr>\n",
       "  </thead>\n",
       "  <tbody>\n",
       "    <tr>\n",
       "      <th>A</th>\n",
       "      <td>145307</td>\n",
       "      <td>17487</td>\n",
       "      <td>1417780000</td>\n",
       "      <td>12.03</td>\n",
       "      <td>81076.0</td>\n",
       "    </tr>\n",
       "    <tr>\n",
       "      <th>B</th>\n",
       "      <td>145381</td>\n",
       "      <td>17290</td>\n",
       "      <td>1533010000</td>\n",
       "      <td>11.89</td>\n",
       "      <td>88665.0</td>\n",
       "    </tr>\n",
       "  </tbody>\n",
       "</table>\n",
       "</div>"
      ],
      "text/plain": [
       "       count_visits  count_purchases   sum_price  conversion  mean_check\n",
       "group                                                                   \n",
       "A            145307            17487  1417780000       12.03     81076.0\n",
       "B            145381            17290  1533010000       11.89     88665.0"
      ]
     },
     "metadata": {},
     "output_type": "display_data"
    }
   ],
   "source": [
    "pivot_tab['conversion'] \\\n",
    "    = (pivot_tab['count_purchases'] / pivot_tab['count_visits'] * 100).round(2)\n",
    "pivot_tab['mean_check'] \\\n",
    "    = (pivot_tab['sum_price'] / pivot_tab['count_purchases']).round()\n",
    "display(pivot_tab)"
   ]
  },
  {
   "cell_type": "markdown",
   "id": "1eb6e140-c702-43e0-b301-9914a7f49448",
   "metadata": {},
   "source": [
    "Приведите промежуточные выводы по таблице. По какому(им) показателю(ям) вариант А эффективнее варианта B и наоборот?"
   ]
  },
  {
   "cell_type": "markdown",
   "id": "9e88c883-84f9-44ec-accd-04d5d459b261",
   "metadata": {},
   "source": [
    "*Тестовый вариант (B) выглядит более эффективным по величине среднего чека и лишь незначительно менее эффективным по конверсии. Требуется проверка статистической значимости различий.*"
   ]
  },
  {
   "cell_type": "markdown",
   "id": "7f9f1ae0-f12f-49b3-8b57-1c299c208c49",
   "metadata": {
    "tags": []
   },
   "source": [
    "## **Задание 7.7.**\n",
    "\n",
    "Теперь давайте сравним варианты по покупательской способности туров. Для этого постройте сводную таблицу, которая покажет зависимость количества продаж от группы и цены тура. "
   ]
  },
  {
   "cell_type": "code",
   "execution_count": 11,
   "id": "78d46a02-cc30-4783-9b18-9fc9c6a08012",
   "metadata": {},
   "outputs": [
    {
     "data": {
      "text/html": [
       "<div>\n",
       "<style scoped>\n",
       "    .dataframe tbody tr th:only-of-type {\n",
       "        vertical-align: middle;\n",
       "    }\n",
       "\n",
       "    .dataframe tbody tr th {\n",
       "        vertical-align: top;\n",
       "    }\n",
       "\n",
       "    .dataframe thead th {\n",
       "        text-align: right;\n",
       "    }\n",
       "</style>\n",
       "<table border=\"1\" class=\"dataframe\">\n",
       "  <thead>\n",
       "    <tr style=\"text-align: right;\">\n",
       "      <th>price</th>\n",
       "      <th>10000</th>\n",
       "      <th>60000</th>\n",
       "      <th>100000</th>\n",
       "      <th>150000</th>\n",
       "      <th>200000</th>\n",
       "    </tr>\n",
       "    <tr>\n",
       "      <th>group</th>\n",
       "      <th></th>\n",
       "      <th></th>\n",
       "      <th></th>\n",
       "      <th></th>\n",
       "      <th></th>\n",
       "    </tr>\n",
       "  </thead>\n",
       "  <tbody>\n",
       "    <tr>\n",
       "      <th>A</th>\n",
       "      <td>5182</td>\n",
       "      <td>5271</td>\n",
       "      <td>1832</td>\n",
       "      <td>3478</td>\n",
       "      <td>1724</td>\n",
       "    </tr>\n",
       "    <tr>\n",
       "      <th>B</th>\n",
       "      <td>5201</td>\n",
       "      <td>1730</td>\n",
       "      <td>5227</td>\n",
       "      <td>3438</td>\n",
       "      <td>1694</td>\n",
       "    </tr>\n",
       "  </tbody>\n",
       "</table>\n",
       "</div>"
      ],
      "text/plain": [
       "price  10000   60000   100000  150000  200000\n",
       "group                                        \n",
       "A        5182    5271    1832    3478    1724\n",
       "B        5201    1730    5227    3438    1694"
      ]
     },
     "metadata": {},
     "output_type": "display_data"
    }
   ],
   "source": [
    "pivot_tab = pd.pivot_table(updated_data, \n",
    "    values='purchase', index='group', columns='price', aggfunc='count')\n",
    "pivot_tab.drop(0, axis=1, inplace=True)\n",
    "display(pivot_tab)"
   ]
  },
  {
   "cell_type": "markdown",
   "id": "977423ed-8f8d-475c-b773-621edd95338d",
   "metadata": {},
   "source": [
    "Визуализируйте полученную сводную таблицу с помощью тепловой карты с аннотацией. \n",
    "Чему равно количество проданных туров за 60000 рублей в группах?"
   ]
  },
  {
   "cell_type": "code",
   "execution_count": 12,
   "id": "f634fa8d-585c-42e3-b7d5-78e8d9eaa8c5",
   "metadata": {},
   "outputs": [
    {
     "data": {
      "image/png": "[encoded data removed]",
      "text/plain": [
       "<Figure size 640x480 with 2 Axes>"
      ]
     },
     "metadata": {},
     "output_type": "display_data"
    }
   ],
   "source": [
    "sns.heatmap(pivot_tab, annot=True, cmap='coolwarm');"
   ]
  },
  {
   "cell_type": "markdown",
   "id": "9caa92ca-e261-4b8f-a16c-2abc322c9ffb",
   "metadata": {},
   "source": [
    "Сделайте выводы по построенной таблице. По каким турам покупательская способность участников группы А выше, чем участников группы B и наоборот?"
   ]
  },
  {
   "cell_type": "markdown",
   "id": "6d13fd45-e3df-468f-9d32-1fc45d38b10c",
   "metadata": {},
   "source": [
    "*Заметны большие различия между группами в покупке туров за 60000 и 100000 р. Участники тестовой группы (B) покупают значительно больше туров за 100000, в то время как покупка туров за 60000 у них существенно снижена относительно контрольной группы A.*"
   ]
  },
  {
   "cell_type": "markdown",
   "id": "8f021fb4-d0f6-4e43-b518-1a96c07a4531",
   "metadata": {
    "tags": []
   },
   "source": [
    "## **Задание 7.8.**\n",
    "\n",
    "Настало время поговорить о стабилизации кумулятивных метрик во времени. Но прежде, чем перейти к кумулятивным метрикам, нам необходимо построить таблицу с ежедневными данными результатов проведения A/B-тестирования.\n",
    "\n",
    "Сгруппируйте данные по дате и группе тестирования. В каждой группе вычислите количество посещений страницы, количество покупок и сумму покупок. \n",
    "\n",
    "Добавьте в таблицу информацию о ежедневной конверсии (ежедневное количество покупок / ежедневное количество посещений) в группе и ежедневном среднем чеке (ежедневная сумма покупок / ежедневное количество покупок)\n",
    "* Чему равна конверсия 3 января 2021 года? Ответ приведите в процентах и округлите до сотых.\n",
    "\n",
    "* Чему равен средний чек 3 января 2021 года? Ответ приведите в рублях и округлите до целого."
   ]
  },
  {
   "cell_type": "code",
   "execution_count": 13,
   "id": "4503b528-412e-433a-bc03-da7da52fa1a3",
   "metadata": {},
   "outputs": [
    {
     "data": {
      "text/html": [
       "<div>\n",
       "<style scoped>\n",
       "    .dataframe tbody tr th:only-of-type {\n",
       "        vertical-align: middle;\n",
       "    }\n",
       "\n",
       "    .dataframe tbody tr th {\n",
       "        vertical-align: top;\n",
       "    }\n",
       "\n",
       "    .dataframe thead th {\n",
       "        text-align: right;\n",
       "    }\n",
       "</style>\n",
       "<table border=\"1\" class=\"dataframe\">\n",
       "  <thead>\n",
       "    <tr style=\"text-align: right;\">\n",
       "      <th></th>\n",
       "      <th>count_visits</th>\n",
       "      <th>count_purchases</th>\n",
       "      <th>sum_price</th>\n",
       "      <th>conversion</th>\n",
       "      <th>mean_check</th>\n",
       "    </tr>\n",
       "    <tr>\n",
       "      <th>group</th>\n",
       "      <th></th>\n",
       "      <th></th>\n",
       "      <th></th>\n",
       "      <th></th>\n",
       "      <th></th>\n",
       "    </tr>\n",
       "  </thead>\n",
       "  <tbody>\n",
       "    <tr>\n",
       "      <th>A</th>\n",
       "      <td>6596</td>\n",
       "      <td>748</td>\n",
       "      <td>62000000</td>\n",
       "      <td>11.34</td>\n",
       "      <td>82888.0</td>\n",
       "    </tr>\n",
       "    <tr>\n",
       "      <th>B</th>\n",
       "      <td>6619</td>\n",
       "      <td>754</td>\n",
       "      <td>65960000</td>\n",
       "      <td>11.39</td>\n",
       "      <td>87480.0</td>\n",
       "    </tr>\n",
       "  </tbody>\n",
       "</table>\n",
       "</div>"
      ],
      "text/plain": [
       "       count_visits  count_purchases  sum_price  conversion  mean_check\n",
       "group                                                                  \n",
       "A              6596              748   62000000       11.34     82888.0\n",
       "B              6619              754   65960000       11.39     87480.0"
      ]
     },
     "metadata": {},
     "output_type": "display_data"
    }
   ],
   "source": [
    "daily = updated_data.groupby(['date', 'group']) \\\n",
    "    .agg({'user_id': 'count', 'purchase': 'sum', 'price': 'sum'}) \\\n",
    "    .rename(columns={'user_id': 'count_visits', 'purchase': 'count_purchases', \n",
    "             'price': 'sum_price'})\n",
    "daily['conversion'] \\\n",
    "    = (daily['count_purchases'] / daily['count_visits'] * 100).round(2)\n",
    "daily['mean_check'] \\\n",
    "    = (daily['sum_price'] / daily['count_purchases']).round()\n",
    "display(daily.loc['2021-01-03'])"
   ]
  },
  {
   "cell_type": "markdown",
   "id": "bc8e241b-1ef1-4f67-ab90-77251889b7f2",
   "metadata": {},
   "source": [
    "## **Задание 7.9.** \n",
    "\n",
    "Добавьте в таблицу с ежедневными показателями кумулятивные признаки:\n",
    "* кумулятивное количество посещений страницы\n",
    "* кумулятивное количество покупок\n",
    "* кумулятивную сумму покупок\n",
    "\n",
    "Не забудьте при расчете кумулятивной суммы сгруппировать данные по группам. \n",
    "\n",
    "Вычислите кумулятивную конверсию и кумулятивный средний чек на основе полученных кумулятивных показателей. \n",
    "\n",
    "* Какая **кумулятивная** конверсия была в группе B на 20 января? Ответ приведите в процентах, округлив до сотых.\n",
    "* Какой **кумулятивный** средний чек был в группе А на 12 января 2021 года? Ответ приведите в рублях, округлив до целых."
   ]
  },
  {
   "cell_type": "code",
   "execution_count": 14,
   "id": "afe59f9a-8d39-45c1-a14f-9f62091d81a1",
   "metadata": {},
   "outputs": [
    {
     "name": "stdout",
     "output_type": "stream",
     "text": [
      "Кумулятивная конверсия в группе B 20 января 2021 г.:  11.9 \n",
      "\n",
      "Кумулятивный средний чек в группе A 12 января 2021 г.:  81492.0\n"
     ]
    }
   ],
   "source": [
    "daily['cumul_visits'] = daily.groupby('group')['count_visits'].cumsum()\n",
    "daily['cumul_purchases'] = daily.groupby('group')['count_purchases'].cumsum()\n",
    "daily['cumul_price'] = daily.groupby('group')['sum_price'].cumsum()\n",
    "\n",
    "daily['cumul_conversion'] \\\n",
    "    = (daily['cumul_purchases'] / daily['cumul_visits'] * 100).round(2)\n",
    "daily['cumul_mean_check'] \\\n",
    "    = (daily['cumul_price'] / daily['cumul_purchases']).round()\n",
    "\n",
    "print('Кумулятивная конверсия в группе B 20 января 2021 г.: ',\n",
    "      daily.loc['2021-01-20','B']['cumul_conversion'],'\\n')\n",
    "print('Кумулятивный средний чек в группе A 12 января 2021 г.: ',\n",
    "      daily.loc['2021-01-12', 'A']['cumul_mean_check'])"
   ]
  },
  {
   "cell_type": "markdown",
   "id": "c252b8ba-371b-4795-8fc3-a62317e9ba39",
   "metadata": {},
   "source": [
    "Постройте кумулятивные графики конверсии и среднего чека в каждой группе по дням. Сделайте выводы. Можно ли назвать A/B-тест завершенным - стабилизировались ли значения метрик во времени? Как соотносятся кумулятивные показатели в каждой группе?"
   ]
  },
  {
   "cell_type": "code",
   "execution_count": 15,
   "id": "27e23d20-7ed6-4a26-973d-6d0320b81adb",
   "metadata": {},
   "outputs": [
    {
     "data": {
      "image/png": "[encoded data removed]",
      "text/plain": [
       "<Figure size 1300x400 with 2 Axes>"
      ]
     },
     "metadata": {},
     "output_type": "display_data"
    }
   ],
   "source": [
    "fig, ax = plt.subplots(1, 2, figsize=(13, 4))\n",
    "sns.lineplot(data=daily.reset_index(), \n",
    "             x='date', y='cumul_conversion', hue='group', ax=ax[0])\n",
    "sns.lineplot(data=daily.reset_index(), \n",
    "             x='date', y='cumul_mean_check', hue='group', ax=ax[1])\n",
    "fig.subplots_adjust(top=.85)\n",
    "fig.suptitle('Cumulative metrics', fontsize=14)\n",
    "plt.tight_layout()\n",
    "ax[0].xaxis.set_tick_params(rotation=45)\n",
    "ax[1].xaxis.set_tick_params(rotation=45)\n",
    "ax[0].set(xlabel='Date', ylabel='Cumulative conversion')\n",
    "ax[1].set(xlabel='Date', ylabel='Cumulative mean check');"
   ]
  },
  {
   "cell_type": "markdown",
   "id": "f645f8e5-ad16-4b3b-8228-fbdeeb286833",
   "metadata": {},
   "source": [
    "*Кумулятивные метрики стабилизировались, A/B-тестирование можно считать завершенным. Кумулятивная конверсия в тестовой группе (B) несколько меньше конверсии в контрольной группе (A). Кумулятивный средний чек тестовой группы выше с первого дня и на всем протяжении тестирования*"
   ]
  },
  {
   "cell_type": "markdown",
   "id": "2ecaa382-56e2-47f4-b086-24b4742570a3",
   "metadata": {
    "tags": []
   },
   "source": [
    "## **Задание 7.10.**\n",
    "\n",
    "Настало время переходить к проверке статистической значимости разницы между метриками в группах. Начнем с конверсии.\n",
    "\n",
    "Какой тест вы примените для проверки гипотезы о равенстве конверсий в группах?\n",
    "\n",
    "Проведите тестирование при следующих нулевой и альтернативной гипотезе:\n",
    "* $H_0$: Конверсии в группах А и B равны; \n",
    "* $H_1$: Конверсия в группе А больше чем конверсия в группе B;\n",
    "\n",
    "Вычислите p-value вашего теста для конверсий в группах А и B. Сравните полученное значение p-value с уровнем значимости $\\alpha$=0.05. "
   ]
  },
  {
   "cell_type": "code",
   "execution_count": 16,
   "id": "cc306bf9",
   "metadata": {},
   "outputs": [
    {
     "data": {
      "text/html": [
       "<div>\n",
       "<style scoped>\n",
       "    .dataframe tbody tr th:only-of-type {\n",
       "        vertical-align: middle;\n",
       "    }\n",
       "\n",
       "    .dataframe tbody tr th {\n",
       "        vertical-align: top;\n",
       "    }\n",
       "\n",
       "    .dataframe thead th {\n",
       "        text-align: right;\n",
       "    }\n",
       "</style>\n",
       "<table border=\"1\" class=\"dataframe\">\n",
       "  <thead>\n",
       "    <tr style=\"text-align: right;\">\n",
       "      <th></th>\n",
       "      <th>success</th>\n",
       "      <th>nobs</th>\n",
       "    </tr>\n",
       "    <tr>\n",
       "      <th>group</th>\n",
       "      <th></th>\n",
       "      <th></th>\n",
       "    </tr>\n",
       "  </thead>\n",
       "  <tbody>\n",
       "    <tr>\n",
       "      <th>A</th>\n",
       "      <td>17487</td>\n",
       "      <td>145307</td>\n",
       "    </tr>\n",
       "    <tr>\n",
       "      <th>B</th>\n",
       "      <td>17290</td>\n",
       "      <td>145381</td>\n",
       "    </tr>\n",
       "  </tbody>\n",
       "</table>\n",
       "</div>"
      ],
      "text/plain": [
       "       success    nobs\n",
       "group                 \n",
       "A        17487  145307\n",
       "B        17290  145381"
      ]
     },
     "metadata": {},
     "output_type": "display_data"
    },
    {
     "name": "stdout",
     "output_type": "stream",
     "text": [
      "p-value = 0.120\n"
     ]
    }
   ],
   "source": [
    "# Считаем показатели пропорциq по группам: число успехов (success), число попыток (nobs)\n",
    "proportion_tab = updated_data.groupby('group')['purchase'].agg(['sum', 'count']) \\\n",
    "    .rename(columns={'sum': 'success', 'count': 'nobs'})\n",
    "display(proportion_tab)\n",
    "\n",
    "_, p = proportions_ztest(\n",
    "    count=proportion_tab['success'],\n",
    "    nobs=proportion_tab['nobs'],           \n",
    "    alternative='larger'  # A > B\n",
    ")\n",
    "print(f'p-value = {p:.3f}')"
   ]
  },
  {
   "cell_type": "markdown",
   "id": "da794b48-80e3-47af-aceb-084a1862c86b",
   "metadata": {},
   "source": [
    "Приведите свои выводы по результатам проведенного статистического теста. Есть ли статистическая разница между конверсиями в группах А и B?"
   ]
  },
  {
   "cell_type": "markdown",
   "id": "75dddb06-389d-4d65-92c7-425efa28e51a",
   "metadata": {},
   "source": [
    "*p-value превышает заданный уровень значимости $\\alpha$ = 0.05, следовательно нулевую гипотезу отвергнуть нельзя, а разница конверсий статистически незначима*"
   ]
  },
  {
   "cell_type": "markdown",
   "id": "32c5a1af-8cb2-4f3c-a126-410b70fb3ff3",
   "metadata": {
    "tags": []
   },
   "source": [
    "## **Задание 7.11.**\n",
    "Убедитесь в своих рассуждениях, построив 95%-ый доверительный интервал для конверсий и разницы между ними. Используйте $z_{крит}$ в своих расчетах\n",
    "\n",
    "Укажите нижнюю и верхнюю границы доверительных интервалов. Границы приведите в процентах и округлите до 2 знака после запятой. Например: нижняя граница 89.24%, верхняя граница 91.25%."
   ]
  },
  {
   "cell_type": "code",
   "execution_count": 17,
   "id": "e9decb7d-ff5e-40a6-8b71-63627c4ef64a",
   "metadata": {},
   "outputs": [
    {
     "name": "stdout",
     "output_type": "stream",
     "text": [
      "Группа A, доверительный интервал: 11.87%, 12.2%\n",
      "Группа B, доверительный интервал: 11.73%, 12.06%\n",
      "Разница пропорций, доверительный интервал: -0.38%, 0.09%\n"
     ]
    }
   ],
   "source": [
    "def proportion_conf_interval(n, x_p, gamma=0.95):\n",
    "    \"\"\"Calculating confidence interval for a sample proportion\n",
    "\n",
    "    Args:\n",
    "        n (int): sample size\n",
    "        x_p (float, 0 < x_p < 1): sample proportion\n",
    "        gamma (float, optional): confidence level. Defaults to 0.95.\n",
    "\n",
    "    Returns:\n",
    "        tuple: left and right boundaries of the confidence interval in percent\n",
    "    \"\"\"\n",
    "    from scipy.stats import norm\n",
    "     \n",
    "    alpha = 1 - gamma                        # significance level\n",
    "    z_crit = -norm.ppf(alpha/2)              # z critical\n",
    "    eps = z_crit * (x_p*(1-x_p)/n)**0.5      # +-\n",
    "    lower_bound = round((x_p-eps) * 100, 2)  # left (lower) boundary\n",
    "    upper_bound = round((x_p+eps) * 100, 2)  # right (upper) boundary\n",
    "    \n",
    "    return (lower_bound, upper_bound)\n",
    "\n",
    "\n",
    "def diff_proportion_conf_interval(n, x_p, gamma=0.95):\n",
    "    \"\"\" Calculating confidence interval for a difference in proportions\n",
    "        of two samples\n",
    "\n",
    "    Args:\n",
    "        n (list of integers: sizes of the two samples as [size_A, size_B]\n",
    "        x_p (list of floats): sample proportions\n",
    "        gamma (float, optional): confidence level. Defaults to 0.95.\n",
    "        \n",
    "    Returns:\n",
    "        tuple: left and right boundaries of the confidence interval in percent\n",
    "    \"\"\"\n",
    "    from scipy.stats import norm\n",
    "\n",
    "    alpha = 1 - gamma\n",
    "    diff = x_p[1] - x_p[0]\n",
    "    z_crit = -norm.ppf(alpha/2)               # z critical\n",
    "    eps = z_crit * (x_p[0]*(1-x_p[0])/n[0] + x_p[1]*(1-x_p[1])/n[1])**0.5\n",
    "    lower_bound = round((diff-eps) * 100, 2)  # left (lower) boundary\n",
    "    upper_bound = round((diff+eps) * 100, 2)  # right (upper) boundary\n",
    "    \n",
    "    return (lower_bound, upper_bound)\n",
    "\n",
    "\n",
    "# Доверительный интервал конверсии группы A:\n",
    "n_A = proportion_tab.loc['A']['nobs']\n",
    "xp_A = proportion_tab.loc['A']['success'] / proportion_tab.loc['A']['nobs']\n",
    "conf_interval = proportion_conf_interval(n_A, xp_A)\n",
    "print(f'Группа A, доверительный интервал: {conf_interval[0]}%, {conf_interval[1]}%')\n",
    "\n",
    "# Доверительный интервал конверсии группы B:\n",
    "n_B = proportion_tab.loc['B']['nobs']\n",
    "xp_B = proportion_tab.loc['B']['success'] / proportion_tab.loc['B']['nobs']\n",
    "conf_interval = proportion_conf_interval(n_B, xp_B)\n",
    "print(f'Группа B, доверительный интервал: {conf_interval[0]}%, {conf_interval[1]}%')\n",
    "\n",
    "# Доверительный интервал разницы конверсий:\n",
    "n = [n_A, n_B]\n",
    "xp = [xp_A, xp_B]\n",
    "conf_interval = diff_proportion_conf_interval(n, xp, gamma=0.95)\n",
    "print(f'Разница пропорций, доверительный интервал: {conf_interval[0]}%, {conf_interval[1]}%')"
   ]
  },
  {
   "cell_type": "markdown",
   "id": "9332372d-66b2-45e9-a74c-f5d8b1d44afb",
   "metadata": {},
   "source": [
    "Проинтерпретируйте построенные доверительные интервалы для конверсий в группах. Есть ли перекрытие между доверительными интервалами для групп? Есть ли статистическая разница между конверсиями в группах А и B?"
   ]
  },
  {
   "cell_type": "markdown",
   "id": "d1220df4",
   "metadata": {},
   "source": [
    "*Доверительные интервалы для конверсий в тестовой и контрольной группах значительно перекрываются. Доверительный интервал для разницы пропорций включает в себя ноль (левая граница - в области отрицательных значений, правая - в области положительных), это показывает, что различие конверсий статистически незначимо.*"
   ]
  },
  {
   "cell_type": "markdown",
   "id": "73c54883-b919-4889-bbf2-e1bdeb0b7055",
   "metadata": {},
   "source": [
    "## **Задание 7.12.**\n",
    "\n",
    "Ранее мы построили таблицу с ежедневными показателями. Теперь она нам снова понадобится, так как нас интересует ежедневный средний чек.\n",
    "\n",
    "Проверьте гипотезу о нормальности распределения ежедневного среднего чека в каждой из групп тестирования. \n",
    "\n",
    "* Какой тест вы примените  для проверки гипотезы о нормальности распределения ежедневного среднего чека?\n",
    "* Как будут звучать нулевая и альтернативная гипотезы?\n",
    "* Каковы результаты статистического теста с уровнем значимости $\\alpha$ =0.05?"
   ]
  },
  {
   "cell_type": "code",
   "execution_count": 18,
   "id": "898041ae-de7e-4b74-975e-111d494fbb82",
   "metadata": {},
   "outputs": [
    {
     "name": "stdout",
     "output_type": "stream",
     "text": [
      "Группа A, p-value = 0.253\n",
      "Группа B, p-value = 0.094\n"
     ]
    }
   ],
   "source": [
    "daily = daily.reset_index()  # Индексы в колонки\n",
    "# Выборки средних чеков в группах:\n",
    "mean_check_A = daily[daily['group'] == 'A']['mean_check']\n",
    "mean_check_B = daily[daily['group'] == 'B']['mean_check']\n",
    "\n",
    "_, p = shapiro(mean_check_A)\n",
    "print(f'Группа A, p-value = {p:.3f}')\n",
    "\n",
    "_, p = shapiro(mean_check_B)\n",
    "print(f'Группа B, p-value = {p:.3f}')"
   ]
  },
  {
   "cell_type": "markdown",
   "id": "d8d0274c",
   "metadata": {},
   "source": [
    "* *Для проверки распределений на нормальность применим тест Shapiro-Wilk. Устанавливаем стандартный уровень значимости $\\alpha$ = 0.05.*\n",
    "* *Нулевая гипотеза - распределение нормальное, альтернативная гипотеза - распределение отлично от нормального.*\n",
    "* *В обеих группах p-value превышает установленный уровень значимости, следовательно нулевая гипотеза не отвергается, распределения можно считать нормальными.*"
   ]
  },
  {
   "cell_type": "markdown",
   "id": "cbddecf9-4d15-4ff1-84e9-46c4d98fc1e0",
   "metadata": {
    "tags": []
   },
   "source": [
    "## **Задание 7.13.**\n",
    "Настало время сравнить варианты дизайна страницы по метрике среднего чека. \n",
    "\n",
    "Какой тест вы примените для проверки гипотезы о равенстве средних чеков по дням в группах?\n",
    "\n",
    "Проведите тестирование при следующих нулевой и альтернативной гипотезе:\n",
    "* $H_0$: Ежедневные средние чеки в группах А и B равны; \n",
    "* $H_1$: Ежедневный средний чек в группе А меньше чем в группе B;\n",
    "\n",
    "Вычислите p-value вашего теста для ежедневного среднего чека в группах А и B. Сравните полученное значение p-value с уровнем значимости $\\alpha$ =0.05. "
   ]
  },
  {
   "cell_type": "code",
   "execution_count": 19,
   "id": "05d43f23-2c2d-4795-bb96-1ffbfe81c391",
   "metadata": {},
   "outputs": [
    {
     "name": "stdout",
     "output_type": "stream",
     "text": [
      "p-value = 1.128e-12\n"
     ]
    }
   ],
   "source": [
    "_, p = ttest_ind(mean_check_A, mean_check_B, alternative='less')\n",
    "print(f'p-value = {p:.3e}')"
   ]
  },
  {
   "cell_type": "markdown",
   "id": "8534ab25-68b8-48f7-b2c1-ef1b72d8a767",
   "metadata": {},
   "source": [
    " Приведите свои выводы по проведенному статистическому тесту. Есть ли статистическая разница между ежедневными средними чеками в группах А и B?"
   ]
  },
  {
   "cell_type": "markdown",
   "id": "6965d310",
   "metadata": {},
   "source": [
    "*Применяем односторонний t-критерий для независимых выборок. Значение p-value меньше установленного уровня значимости, следовательно нулевая гипотеза о равенстве средних чеков отвергается, и принимается альтернативная - средний чек в группе A меньше, чем в группе B.*"
   ]
  },
  {
   "cell_type": "markdown",
   "id": "5e46c9a6-a943-48b4-ad72-935337469613",
   "metadata": {
    "tags": []
   },
   "source": [
    "## **Задание 7.14.**\n",
    "\n",
    "Постройте 95%-ый доверительный интервал для среднего чека в каждой группе. Так как выборка средних чеков небольшая, используйте  $t_{крит}$ в своих расчетах.\n",
    "\n",
    "Укажите нижнюю границу доверительного интервала для истинного среднего чека каждой из групп. Ответ приведите в процентах и округлите до целого."
   ]
  },
  {
   "cell_type": "code",
   "execution_count": 20,
   "id": "480430db-ffae-4aad-8e22-f5c70d4800b8",
   "metadata": {},
   "outputs": [
    {
     "name": "stdout",
     "output_type": "stream",
     "text": [
      "Выборка A, доверительный интервал (95%): 79630 82308\n",
      "Выборка B, доверительный интервал (95%): 87626 89526\n"
     ]
    }
   ],
   "source": [
    "def mean_conf_interval(n, x_mean, sd, gamma=0.95):    \n",
    "    \"\"\"Calculating confidence interval for a mean value\n",
    "       using Student's t-distribution\n",
    "\n",
    "    Args:\n",
    "        n (int): sample size\n",
    "        x_mean (float): mean value\n",
    "        sd (float): standard deviation\n",
    "        gamma (float, optional): confidence level. Defaults to 0.95.\n",
    "        \n",
    "    Returns:\n",
    "        tuple: left and right boundaries of the confidence interval\n",
    "    \"\"\"\n",
    "    from scipy.stats import t\n",
    "            \n",
    "    alpha = 1 - gamma              # significance level\n",
    "    t_crit = -t.ppf(alpha/2, n-1)  # t critical\n",
    "    eps = t_crit * sd / n**0.5     # +-\n",
    "    lower_bound = x_mean - eps     # left (lower) boundary\n",
    "    upper_bound = x_mean + eps     # right (upper) boundary\n",
    "        \n",
    "    return (lower_bound, upper_bound)\n",
    "\n",
    "\n",
    "n = len(mean_check_A)         # размер выборки A      \n",
    "x_mean = mean_check_A.mean()  # средний чек, усредненный по выборке A\n",
    "sd = mean_check_A.std()       # выборочная дисперсия\n",
    "conf_interval = mean_conf_interval(n, x_mean, sd)\n",
    "print('Выборка A, доверительный интервал (95%):', \n",
    "      '%.0f'%conf_interval[0], '%.0f'%conf_interval[1])\n",
    "\n",
    "n = len(mean_check_B)         # размер выборки B     \n",
    "x_mean = mean_check_B.mean()  # средний чек, усредненный по выборке B\n",
    "sd = mean_check_B.std()       # выборочная дисперсия\n",
    "conf_interval = mean_conf_interval(n, x_mean, sd)\n",
    "print('Выборка B, доверительный интервал (95%):', \n",
    "      '%.0f'%conf_interval[0], '%.0f'%conf_interval[1])"
   ]
  },
  {
   "cell_type": "markdown",
   "id": "74a78db8-48f7-41d2-94cb-faefb30b8f76",
   "metadata": {},
   "source": [
    "Проинтерпретируйте построенные доверительные интервалы для ежедневных средних чеков в группах. Есть ли между ними пересечения?"
   ]
  },
  {
   "cell_type": "markdown",
   "id": "b4e0bd56",
   "metadata": {},
   "source": [
    "*Доверительные интервалы для групп A и B не пересекаются, различия в среднем чеке статистически значимы.*"
   ]
  },
  {
   "cell_type": "markdown",
   "id": "c078852f-892f-42ed-8d78-73edf8eb1f5e",
   "metadata": {
    "tags": []
   },
   "source": [
    "## **Сделайте общий вывод по результатам A/B-теста**\n",
    "\n",
    "Какой варианта дизайна посадочной страницы является более эффективным в комплексе по метрикам конверсии и среднего чека и почему? "
   ]
  },
  {
   "cell_type": "markdown",
   "id": "c90b2713",
   "metadata": {},
   "source": [
    "*В тестовой группе (B) средний чек выше, чем в контрольной (А), при этом различия в конверсиях нет (различие статистически незначимо). Таким образом, применение варианта дизайна B позволит увеличить прибыль. Анализ количества продаж в зависимости от стоимости тура показывает, что в тестовой группе B увеличение среднего чека происходит за счет того, что при выборе между турами за 60 т.р. и 100 т.р. клиенты выбирают более дорогостоящий тур чаще, чем в контрольной группе A.*"
   ]
  }
 ],
 "metadata": {
  "kernelspec": {
   "display_name": "Python 3",
   "language": "python",
   "name": "python3"
  },
  "language_info": {
   "codemirror_mode": {
    "name": "ipython",
    "version": 3
   },
   "file_extension": ".py",
   "mimetype": "text/x-python",
   "name": "python",
   "nbconvert_exporter": "python",
   "pygments_lexer": "ipython3",
   "version": "3.10.7"
  },
  "vscode": {
   "interpreter": {
    "hash": "aee8b7b246df8f9039afb4144a1f6fd8d2ca17a180786b69acc140d282b71a49"
   }
  }
 },
 "nbformat": 4,
 "nbformat_minor": 5
}
