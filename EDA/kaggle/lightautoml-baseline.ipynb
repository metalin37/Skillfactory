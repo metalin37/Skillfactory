{
 "cells": [
  {
   "cell_type": "markdown",
   "id": "a0ef7ac3",
   "metadata": {
    "papermill": {
     "duration": 0.035605,
     "end_time": "2023-02-07T19:36:46.786230",
     "exception": false,
     "start_time": "2023-02-07T19:36:46.750625",
     "status": "completed"
    },
    "tags": []
   },
   "source": [
    "<img src=\"https://github.com/AILab-MLTools/LightAutoML/raw/master/imgs/LightAutoML_logo_big.png\" alt=\"LightAutoML logo\" style=\"width:70%;\"/>"
   ]
  },
  {
   "cell_type": "markdown",
   "id": "01bce776",
   "metadata": {
    "papermill": {
     "duration": 0.032678,
     "end_time": "2023-02-07T19:36:46.852169",
     "exception": false,
     "start_time": "2023-02-07T19:36:46.819491",
     "status": "completed"
    },
    "tags": []
   },
   "source": [
    "# LightAutoML baseline\n",
    "\n",
    "Official LightAutoML github repository is [here](https://github.com/AILab-MLTools/LightAutoML). \n",
    "\n",
    "### Do not forget to put upvote for the notebook, follow me on Kaggle and the ⭐️ for github repo if you like it - one click for you, great pleasure for us ☺️ \n",
    "### If you miss the [simple baseline notebook](https://www.kaggle.com/code/alexryzhkov/clone-my-notebook) for this competition, please take a look and upvote it as well. "
   ]
  },
  {
   "cell_type": "code",
   "execution_count": 1,
   "id": "ccdd710b",
   "metadata": {
    "_kg_hide-input": true,
    "execution": {
     "iopub.execute_input": "2023-02-07T19:36:46.927099Z",
     "iopub.status.busy": "2023-02-07T19:36:46.925196Z",
     "iopub.status.idle": "2023-02-07T19:36:46.936369Z",
     "shell.execute_reply": "2023-02-07T19:36:46.936975Z",
     "shell.execute_reply.started": "2023-02-07T10:59:28.474117Z"
    },
    "papermill": {
     "duration": 0.049767,
     "end_time": "2023-02-07T19:36:46.937346",
     "exception": false,
     "start_time": "2023-02-07T19:36:46.887579",
     "status": "completed"
    },
    "tags": []
   },
   "outputs": [],
   "source": [
    "s = '<iframe src=\"https://ghbtns.com/github-btn.html?user=sb-ai-lab&repo=LightAutoML&type=star&count=true&size=large\" frameborder=\"0\" scrolling=\"0\" width=\"170\" height=\"30\" title=\"LightAutoML GitHub\"></iframe>'\n"
   ]
  },
  {
   "cell_type": "markdown",
   "id": "c6fdd515",
   "metadata": {
    "papermill": {
     "duration": 0.033786,
     "end_time": "2023-02-07T19:36:47.004219",
     "exception": false,
     "start_time": "2023-02-07T19:36:46.970433",
     "status": "completed"
    },
    "tags": []
   },
   "source": [
    "## This notebook is the updated copy of our [Tutorial_1 from the GIT repository](https://github.com/AILab-MLTools/LightAutoML/blob/master/examples/tutorials/Tutorial_1_basics.ipynb). Please check our [tutorials folder](https://github.com/AILab-MLTools/LightAutoML/blob/master/examples/tutorials) if you are interested in other examples of LightAutoML functionality."
   ]
  },
  {
   "cell_type": "markdown",
   "id": "f4245422",
   "metadata": {
    "papermill": {
     "duration": 0.032328,
     "end_time": "2023-02-07T19:36:47.069475",
     "exception": false,
     "start_time": "2023-02-07T19:36:47.037147",
     "status": "completed"
    },
    "tags": []
   },
   "source": [
    "## 0. Prerequisites"
   ]
  },
  {
   "cell_type": "markdown",
   "id": "72934b1f",
   "metadata": {
    "papermill": {
     "duration": 0.033671,
     "end_time": "2023-02-07T19:36:47.136020",
     "exception": false,
     "start_time": "2023-02-07T19:36:47.102349",
     "status": "completed"
    },
    "tags": []
   },
   "source": [
    "### 0.0. install LightAutoML"
   ]
  },
  {
   "cell_type": "code",
   "execution_count": 2,
   "id": "10b04c10",
   "metadata": {
    "_kg_hide-output": true,
    "execution": {
     "iopub.execute_input": "2023-02-07T19:36:47.206883Z",
     "iopub.status.busy": "2023-02-07T19:36:47.206101Z",
     "iopub.status.idle": "2023-02-07T19:38:49.124515Z",
     "shell.execute_reply": "2023-02-07T19:38:49.125465Z",
     "shell.execute_reply.started": "2023-02-07T16:14:22.729119Z"
    },
    "papermill": {
     "duration": 121.95687,
     "end_time": "2023-02-07T19:38:49.126041",
     "exception": false,
     "start_time": "2023-02-07T19:36:47.169171",
     "status": "completed"
    },
    "scrolled": true,
    "tags": []
   },
   "outputs": [],
   "source": [
    "%%capture\n",
    "!pip install lightautoml\n",
    "\n",
    "# QUICK WORKAROUND FOR PROBLEM WITH PANDAS\n",
    "!pip install -U pandas"
   ]
  },
  {
   "cell_type": "markdown",
   "id": "a639a634",
   "metadata": {
    "papermill": {
     "duration": 0.032789,
     "end_time": "2023-02-07T19:38:49.196202",
     "exception": false,
     "start_time": "2023-02-07T19:38:49.163413",
     "status": "completed"
    },
    "tags": []
   },
   "source": [
    "### 0.1. Import libraries\n",
    "\n",
    "Here we will import the libraries we use in this kernel:\n",
    "- Standard python libraries for timing, working with OS etc.\n",
    "- Essential python DS libraries like numpy, pandas, scikit-learn and torch (the last we will use in the next cell)\n",
    "- LightAutoML modules: `TabularAutoML` preset for AutoML model creation and Task class to setup what kind of ML problem we solve (binary/multiclass classification or regression)"
   ]
  },
  {
   "cell_type": "code",
   "execution_count": 3,
   "id": "0e0af8de",
   "metadata": {
    "execution": {
     "iopub.execute_input": "2023-02-07T19:38:49.274784Z",
     "iopub.status.busy": "2023-02-07T19:38:49.273128Z",
     "iopub.status.idle": "2023-02-07T19:38:53.320870Z",
     "shell.execute_reply": "2023-02-07T19:38:53.319632Z",
     "shell.execute_reply.started": "2023-02-07T16:17:01.321103Z"
    },
    "papermill": {
     "duration": 4.091614,
     "end_time": "2023-02-07T19:38:53.321068",
     "exception": false,
     "start_time": "2023-02-07T19:38:49.229454",
     "status": "completed"
    },
    "tags": []
   },
   "outputs": [
    {
     "data": {
      "text/html": [
       "<style type='text/css'>\n",
       ".datatable table.frame { margin-bottom: 0; }\n",
       ".datatable table.frame thead { border-bottom: none; }\n",
       ".datatable table.frame tr.coltypes td {  color: #FFFFFF;  line-height: 6px;  padding: 0 0.5em;}\n",
       ".datatable .bool    { background: #DDDD99; }\n",
       ".datatable .object  { background: #565656; }\n",
       ".datatable .int     { background: #5D9E5D; }\n",
       ".datatable .float   { background: #4040CC; }\n",
       ".datatable .str     { background: #CC4040; }\n",
       ".datatable .time    { background: #40CC40; }\n",
       ".datatable .row_index {  background: var(--jp-border-color3);  border-right: 1px solid var(--jp-border-color0);  color: var(--jp-ui-font-color3);  font-size: 9px;}\n",
       ".datatable .frame tbody td { text-align: left; }\n",
       ".datatable .frame tr.coltypes .row_index {  background: var(--jp-border-color0);}\n",
       ".datatable th:nth-child(2) { padding-left: 12px; }\n",
       ".datatable .hellipsis {  color: var(--jp-cell-editor-border-color);}\n",
       ".datatable .vellipsis {  background: var(--jp-layout-color0);  color: var(--jp-cell-editor-border-color);}\n",
       ".datatable .na {  color: var(--jp-cell-editor-border-color);  font-size: 80%;}\n",
       ".datatable .sp {  opacity: 0.25;}\n",
       ".datatable .footer { font-size: 9px; }\n",
       ".datatable .frame_dimensions {  background: var(--jp-border-color3);  border-top: 1px solid var(--jp-border-color0);  color: var(--jp-ui-font-color3);  display: inline-block;  opacity: 0.6;  padding: 1px 10px 1px 5px;}\n",
       "</style>\n"
      ],
      "text/plain": [
       "<IPython.core.display.HTML object>"
      ]
     },
     "metadata": {},
     "output_type": "display_data"
    }
   ],
   "source": [
    "# Standard python libraries\n",
    "import os\n",
    "import time\n",
    "\n",
    "# Essential DS libraries\n",
    "import numpy as np\n",
    "import pandas as pd\n",
    "from sklearn.metrics import mean_absolute_error\n",
    "from sklearn.model_selection import train_test_split\n",
    "import torch\n",
    "\n",
    "# LightAutoML presets, task and report generation\n",
    "from lightautoml.automl.presets.tabular_presets import TabularAutoML\n",
    "from lightautoml.tasks import Task"
   ]
  },
  {
   "cell_type": "markdown",
   "id": "deaa7f8d",
   "metadata": {
    "papermill": {
     "duration": 0.033571,
     "end_time": "2023-02-07T19:38:53.396773",
     "exception": false,
     "start_time": "2023-02-07T19:38:53.363202",
     "status": "completed"
    },
    "tags": []
   },
   "source": [
    "### 0.2. Constants\n",
    "\n",
    "Here we setup the constants to use in the kernel:\n",
    "- `N_THREADS` - number of vCPUs for LightAutoML model creation\n",
    "- `N_FOLDS` - number of folds in LightAutoML inner CV\n",
    "- `RANDOM_STATE` - random seed for better reproducibility\n",
    "- `TEST_SIZE` - houldout data part size \n",
    "- `TIMEOUT` - limit in seconds for model to train\n",
    "- `TARGET_NAME` - target column name in dataset"
   ]
  },
  {
   "cell_type": "code",
   "execution_count": 4,
   "id": "7ef91be9",
   "metadata": {
    "execution": {
     "iopub.execute_input": "2023-02-07T19:38:53.472380Z",
     "iopub.status.busy": "2023-02-07T19:38:53.471297Z",
     "iopub.status.idle": "2023-02-07T19:38:53.476173Z",
     "shell.execute_reply": "2023-02-07T19:38:53.476853Z",
     "shell.execute_reply.started": "2023-02-07T16:17:07.165093Z"
    },
    "papermill": {
     "duration": 0.043173,
     "end_time": "2023-02-07T19:38:53.477054",
     "exception": false,
     "start_time": "2023-02-07T19:38:53.433881",
     "status": "completed"
    },
    "tags": []
   },
   "outputs": [],
   "source": [
    "N_THREADS = 4\n",
    "N_FOLDS = 5\n",
    "RANDOM_STATE = 42\n",
    "TEST_SIZE = 0.2\n",
    "TIMEOUT = 900 # equal to 15 minutes\n",
    "TARGET_NAME = 'final_price'"
   ]
  },
  {
   "cell_type": "markdown",
   "id": "9bacf228",
   "metadata": {
    "papermill": {
     "duration": 0.033107,
     "end_time": "2023-02-07T19:38:53.544175",
     "exception": false,
     "start_time": "2023-02-07T19:38:53.511068",
     "status": "completed"
    },
    "tags": []
   },
   "source": [
    "### 0.3. Imported models setup\n",
    "\n",
    "For better reproducibility fix numpy random seed with max number of threads for Torch (which usually try to use all the threads on server):"
   ]
  },
  {
   "cell_type": "code",
   "execution_count": 5,
   "id": "2c3bb2b6",
   "metadata": {
    "execution": {
     "iopub.execute_input": "2023-02-07T19:38:53.615617Z",
     "iopub.status.busy": "2023-02-07T19:38:53.614345Z",
     "iopub.status.idle": "2023-02-07T19:38:53.643271Z",
     "shell.execute_reply": "2023-02-07T19:38:53.643941Z",
     "shell.execute_reply.started": "2023-02-07T18:15:07.702623Z"
    },
    "papermill": {
     "duration": 0.066579,
     "end_time": "2023-02-07T19:38:53.644154",
     "exception": false,
     "start_time": "2023-02-07T19:38:53.577575",
     "status": "completed"
    },
    "tags": []
   },
   "outputs": [],
   "source": [
    "np.random.seed(RANDOM_STATE)\n",
    "torch.set_num_threads(N_THREADS)"
   ]
  },
  {
   "cell_type": "markdown",
   "id": "b727a4d3",
   "metadata": {
    "papermill": {
     "duration": 0.033572,
     "end_time": "2023-02-07T19:38:53.712824",
     "exception": false,
     "start_time": "2023-02-07T19:38:53.679252",
     "status": "completed"
    },
    "tags": []
   },
   "source": [
    "### 0.4. Data loading\n",
    "Let's check the data we have:"
   ]
  },
  {
   "cell_type": "code",
   "execution_count": 6,
   "id": "f807e200",
   "metadata": {
    "execution": {
     "iopub.execute_input": "2023-02-07T19:38:53.784933Z",
     "iopub.status.busy": "2023-02-07T19:38:53.783866Z",
     "iopub.status.idle": "2023-02-07T19:38:53.786597Z",
     "shell.execute_reply": "2023-02-07T19:38:53.785891Z",
     "shell.execute_reply.started": "2023-02-07T16:17:14.026063Z"
    },
    "papermill": {
     "duration": 0.040766,
     "end_time": "2023-02-07T19:38:53.786757",
     "exception": false,
     "start_time": "2023-02-07T19:38:53.745991",
     "status": "completed"
    },
    "tags": []
   },
   "outputs": [],
   "source": [
    "INPUT_DIR = '../input/sf-dst-predict-car-price/'"
   ]
  },
  {
   "cell_type": "code",
   "execution_count": 7,
   "id": "940bec33",
   "metadata": {
    "execution": {
     "iopub.execute_input": "2023-02-07T19:38:53.860043Z",
     "iopub.status.busy": "2023-02-07T19:38:53.857522Z",
     "iopub.status.idle": "2023-02-07T19:38:54.066925Z",
     "shell.execute_reply": "2023-02-07T19:38:54.067677Z",
     "shell.execute_reply.started": "2023-02-07T19:18:30.978605Z"
    },
    "papermill": {
     "duration": 0.24689,
     "end_time": "2023-02-07T19:38:54.067917",
     "exception": false,
     "start_time": "2023-02-07T19:38:53.821027",
     "status": "completed"
    },
    "scrolled": true,
    "tags": []
   },
   "outputs": [
    {
     "name": "stdout",
     "output_type": "stream",
     "text": [
      "(35000, 15)\n"
     ]
    },
    {
     "data": {
      "text/html": [
       "<div>\n",
       "<style scoped>\n",
       "    .dataframe tbody tr th:only-of-type {\n",
       "        vertical-align: middle;\n",
       "    }\n",
       "\n",
       "    .dataframe tbody tr th {\n",
       "        vertical-align: top;\n",
       "    }\n",
       "\n",
       "    .dataframe thead th {\n",
       "        text-align: right;\n",
       "    }\n",
       "</style>\n",
       "<table border=\"1\" class=\"dataframe\">\n",
       "  <thead>\n",
       "    <tr style=\"text-align: right;\">\n",
       "      <th></th>\n",
       "      <th>row_ID</th>\n",
       "      <th>vehicle_manufacturer</th>\n",
       "      <th>vehicle_model</th>\n",
       "      <th>vehicle_category</th>\n",
       "      <th>current_mileage</th>\n",
       "      <th>vehicle_year</th>\n",
       "      <th>vehicle_gearbox_type</th>\n",
       "      <th>doors_cnt</th>\n",
       "      <th>wheels</th>\n",
       "      <th>vehicle_color</th>\n",
       "      <th>vehicle_interior_color</th>\n",
       "      <th>car_vin</th>\n",
       "      <th>car_leather_interior</th>\n",
       "      <th>deal_type</th>\n",
       "      <th>final_price</th>\n",
       "    </tr>\n",
       "  </thead>\n",
       "  <tbody>\n",
       "    <tr>\n",
       "      <th>0</th>\n",
       "      <td>0</td>\n",
       "      <td>TOYOTA</td>\n",
       "      <td>Aqua s</td>\n",
       "      <td>Sedan</td>\n",
       "      <td>133000</td>\n",
       "      <td>2014</td>\n",
       "      <td>Automatic</td>\n",
       "      <td>4/5</td>\n",
       "      <td>Right-hand drive</td>\n",
       "      <td>Silver</td>\n",
       "      <td>Black</td>\n",
       "      <td>NaN</td>\n",
       "      <td>0</td>\n",
       "      <td>For Sale</td>\n",
       "      <td>3650.0</td>\n",
       "    </tr>\n",
       "    <tr>\n",
       "      <th>1</th>\n",
       "      <td>1</td>\n",
       "      <td>MERCEDES-BENZ</td>\n",
       "      <td>C 220</td>\n",
       "      <td>Sedan</td>\n",
       "      <td>24500</td>\n",
       "      <td>2010</td>\n",
       "      <td>Manual</td>\n",
       "      <td>4/5</td>\n",
       "      <td>Left wheel</td>\n",
       "      <td>Silver</td>\n",
       "      <td>Black</td>\n",
       "      <td>NaN</td>\n",
       "      <td>0</td>\n",
       "      <td>For Sale</td>\n",
       "      <td>6800.0</td>\n",
       "    </tr>\n",
       "    <tr>\n",
       "      <th>2</th>\n",
       "      <td>2</td>\n",
       "      <td>HYUNDAI</td>\n",
       "      <td>Veloster</td>\n",
       "      <td>Hatchback</td>\n",
       "      <td>31000</td>\n",
       "      <td>2016</td>\n",
       "      <td>Tiptronic</td>\n",
       "      <td>2/3</td>\n",
       "      <td>Left wheel</td>\n",
       "      <td>Silver</td>\n",
       "      <td>Black</td>\n",
       "      <td>KMHTC6AE3GU293912</td>\n",
       "      <td>1</td>\n",
       "      <td>For Sale</td>\n",
       "      <td>6300.0</td>\n",
       "    </tr>\n",
       "    <tr>\n",
       "      <th>3</th>\n",
       "      <td>3</td>\n",
       "      <td>HYUNDAI</td>\n",
       "      <td>Santa FE</td>\n",
       "      <td>Jeep</td>\n",
       "      <td>115459</td>\n",
       "      <td>2015</td>\n",
       "      <td>Automatic</td>\n",
       "      <td>4/5</td>\n",
       "      <td>Left wheel</td>\n",
       "      <td>Blue</td>\n",
       "      <td>Black</td>\n",
       "      <td>NaN</td>\n",
       "      <td>1</td>\n",
       "      <td>For Sale</td>\n",
       "      <td>14488.0</td>\n",
       "    </tr>\n",
       "    <tr>\n",
       "      <th>4</th>\n",
       "      <td>4</td>\n",
       "      <td>TOYOTA</td>\n",
       "      <td>CHR</td>\n",
       "      <td>Jeep</td>\n",
       "      <td>18950</td>\n",
       "      <td>2019</td>\n",
       "      <td>Automatic</td>\n",
       "      <td>4/5</td>\n",
       "      <td>Left wheel</td>\n",
       "      <td>Black</td>\n",
       "      <td>NaN</td>\n",
       "      <td>JTNKHMBX7K1030253</td>\n",
       "      <td>1</td>\n",
       "      <td>For Sale</td>\n",
       "      <td>5000.0</td>\n",
       "    </tr>\n",
       "  </tbody>\n",
       "</table>\n",
       "</div>"
      ],
      "text/plain": [
       "   row_ID vehicle_manufacturer vehicle_model vehicle_category  \\\n",
       "0       0               TOYOTA        Aqua s            Sedan   \n",
       "1       1        MERCEDES-BENZ         C 220            Sedan   \n",
       "2       2              HYUNDAI      Veloster        Hatchback   \n",
       "3       3              HYUNDAI      Santa FE             Jeep   \n",
       "4       4               TOYOTA           CHR             Jeep   \n",
       "\n",
       "   current_mileage  vehicle_year vehicle_gearbox_type doors_cnt  \\\n",
       "0           133000          2014            Automatic       4/5   \n",
       "1            24500          2010               Manual       4/5   \n",
       "2            31000          2016            Tiptronic       2/3   \n",
       "3           115459          2015            Automatic       4/5   \n",
       "4            18950          2019            Automatic       4/5   \n",
       "\n",
       "                  wheels vehicle_color vehicle_interior_color  \\\n",
       "0    Right-hand drive          Silver                  Black    \n",
       "1           Left wheel         Silver                  Black    \n",
       "2           Left wheel         Silver                  Black    \n",
       "3           Left wheel           Blue                  Black    \n",
       "4           Left wheel          Black                     NaN   \n",
       "\n",
       "               car_vin  car_leather_interior deal_type  final_price  \n",
       "0                  NaN                     0  For Sale       3650.0  \n",
       "1                  NaN                     0  For Sale       6800.0  \n",
       "2   KMHTC6AE3GU293912                      1  For Sale       6300.0  \n",
       "3                  NaN                     1  For Sale      14488.0  \n",
       "4   JTNKHMBX7K1030253                      1  For Sale       5000.0  "
      ]
     },
     "execution_count": 7,
     "metadata": {},
     "output_type": "execute_result"
    }
   ],
   "source": [
    "train_data = pd.read_csv(INPUT_DIR + 'train_data.csv')\n",
    "print(train_data.shape)\n",
    "train_data.head()"
   ]
  },
  {
   "cell_type": "code",
   "execution_count": 8,
   "id": "eb0a118e",
   "metadata": {
    "execution": {
     "iopub.execute_input": "2023-02-07T19:38:54.141738Z",
     "iopub.status.busy": "2023-02-07T19:38:54.140930Z",
     "iopub.status.idle": "2023-02-07T19:38:54.197576Z",
     "shell.execute_reply": "2023-02-07T19:38:54.198094Z",
     "shell.execute_reply.started": "2023-02-07T19:18:35.971260Z"
    },
    "papermill": {
     "duration": 0.095576,
     "end_time": "2023-02-07T19:38:54.198288",
     "exception": false,
     "start_time": "2023-02-07T19:38:54.102712",
     "status": "completed"
    },
    "tags": []
   },
   "outputs": [
    {
     "name": "stdout",
     "output_type": "stream",
     "text": [
      "(10697, 14)\n"
     ]
    },
    {
     "data": {
      "text/html": [
       "<div>\n",
       "<style scoped>\n",
       "    .dataframe tbody tr th:only-of-type {\n",
       "        vertical-align: middle;\n",
       "    }\n",
       "\n",
       "    .dataframe tbody tr th {\n",
       "        vertical-align: top;\n",
       "    }\n",
       "\n",
       "    .dataframe thead th {\n",
       "        text-align: right;\n",
       "    }\n",
       "</style>\n",
       "<table border=\"1\" class=\"dataframe\">\n",
       "  <thead>\n",
       "    <tr style=\"text-align: right;\">\n",
       "      <th></th>\n",
       "      <th>row_ID</th>\n",
       "      <th>vehicle_manufacturer</th>\n",
       "      <th>vehicle_model</th>\n",
       "      <th>vehicle_category</th>\n",
       "      <th>current_mileage</th>\n",
       "      <th>vehicle_year</th>\n",
       "      <th>vehicle_gearbox_type</th>\n",
       "      <th>doors_cnt</th>\n",
       "      <th>wheels</th>\n",
       "      <th>vehicle_color</th>\n",
       "      <th>vehicle_interior_color</th>\n",
       "      <th>car_vin</th>\n",
       "      <th>car_leather_interior</th>\n",
       "      <th>deal_type</th>\n",
       "    </tr>\n",
       "  </thead>\n",
       "  <tbody>\n",
       "    <tr>\n",
       "      <th>0</th>\n",
       "      <td>35000</td>\n",
       "      <td>TOYOTA</td>\n",
       "      <td>Prius</td>\n",
       "      <td>Hatchback</td>\n",
       "      <td>323733</td>\n",
       "      <td>2012</td>\n",
       "      <td>Automatic</td>\n",
       "      <td>4/5</td>\n",
       "      <td>Left wheel</td>\n",
       "      <td>Grey</td>\n",
       "      <td>Black</td>\n",
       "      <td>JTDKN3DU6C5439638</td>\n",
       "      <td>1</td>\n",
       "      <td>For Sale</td>\n",
       "    </tr>\n",
       "    <tr>\n",
       "      <th>1</th>\n",
       "      <td>35001</td>\n",
       "      <td>HYUNDAI</td>\n",
       "      <td>Elantra</td>\n",
       "      <td>Sedan</td>\n",
       "      <td>112000</td>\n",
       "      <td>2013</td>\n",
       "      <td>Tiptronic</td>\n",
       "      <td>4/5</td>\n",
       "      <td>Left wheel</td>\n",
       "      <td>Grey</td>\n",
       "      <td>Black</td>\n",
       "      <td>SURATSHIA</td>\n",
       "      <td>1</td>\n",
       "      <td>For Sale</td>\n",
       "    </tr>\n",
       "    <tr>\n",
       "      <th>2</th>\n",
       "      <td>35002</td>\n",
       "      <td>LEXUS</td>\n",
       "      <td>NX 300</td>\n",
       "      <td>Jeep</td>\n",
       "      <td>16920</td>\n",
       "      <td>2018</td>\n",
       "      <td>Automatic</td>\n",
       "      <td>NaN</td>\n",
       "      <td>Left wheel</td>\n",
       "      <td>Brown</td>\n",
       "      <td>NaN</td>\n",
       "      <td>JTJYARBZ5J2104521</td>\n",
       "      <td>1</td>\n",
       "      <td>For Sale</td>\n",
       "    </tr>\n",
       "    <tr>\n",
       "      <th>3</th>\n",
       "      <td>35003</td>\n",
       "      <td>LEXUS</td>\n",
       "      <td>CT 200h</td>\n",
       "      <td>Hatchback</td>\n",
       "      <td>302742</td>\n",
       "      <td>2012</td>\n",
       "      <td>Automatic</td>\n",
       "      <td>4/5</td>\n",
       "      <td>Left wheel</td>\n",
       "      <td>White</td>\n",
       "      <td>NaN</td>\n",
       "      <td>JTHKD5BH4C2070945</td>\n",
       "      <td>1</td>\n",
       "      <td>For Sale</td>\n",
       "    </tr>\n",
       "    <tr>\n",
       "      <th>4</th>\n",
       "      <td>35004</td>\n",
       "      <td>TOYOTA</td>\n",
       "      <td>RAV 4</td>\n",
       "      <td>Jeep</td>\n",
       "      <td>1800</td>\n",
       "      <td>2002</td>\n",
       "      <td>Manual</td>\n",
       "      <td>4/5</td>\n",
       "      <td>Left wheel</td>\n",
       "      <td>Silver</td>\n",
       "      <td>Black</td>\n",
       "      <td>NaN</td>\n",
       "      <td>0</td>\n",
       "      <td>For Sale</td>\n",
       "    </tr>\n",
       "  </tbody>\n",
       "</table>\n",
       "</div>"
      ],
      "text/plain": [
       "   row_ID vehicle_manufacturer vehicle_model vehicle_category  \\\n",
       "0   35000               TOYOTA         Prius        Hatchback   \n",
       "1   35001              HYUNDAI       Elantra            Sedan   \n",
       "2   35002                LEXUS        NX 300             Jeep   \n",
       "3   35003                LEXUS       CT 200h        Hatchback   \n",
       "4   35004               TOYOTA         RAV 4             Jeep   \n",
       "\n",
       "   current_mileage  vehicle_year vehicle_gearbox_type doors_cnt  \\\n",
       "0           323733          2012            Automatic       4/5   \n",
       "1           112000          2013            Tiptronic       4/5   \n",
       "2            16920          2018            Automatic       NaN   \n",
       "3           302742          2012            Automatic       4/5   \n",
       "4             1800          2002               Manual       4/5   \n",
       "\n",
       "           wheels vehicle_color vehicle_interior_color              car_vin  \\\n",
       "0    Left wheel           Grey                  Black    JTDKN3DU6C5439638    \n",
       "1    Left wheel           Grey                  Black            SURATSHIA    \n",
       "2    Left wheel          Brown                     NaN   JTJYARBZ5J2104521    \n",
       "3    Left wheel          White                     NaN   JTHKD5BH4C2070945    \n",
       "4    Left wheel         Silver                  Black                   NaN   \n",
       "\n",
       "   car_leather_interior deal_type  \n",
       "0                     1  For Sale  \n",
       "1                     1  For Sale  \n",
       "2                     1  For Sale  \n",
       "3                     1  For Sale  \n",
       "4                     0  For Sale  "
      ]
     },
     "execution_count": 8,
     "metadata": {},
     "output_type": "execute_result"
    }
   ],
   "source": [
    "test_data = pd.read_csv(INPUT_DIR + 'test_data.csv')\n",
    "print(test_data.shape)\n",
    "test_data.head()"
   ]
  },
  {
   "cell_type": "code",
   "execution_count": 9,
   "id": "e516f03d",
   "metadata": {
    "execution": {
     "iopub.execute_input": "2023-02-07T19:38:54.275115Z",
     "iopub.status.busy": "2023-02-07T19:38:54.274342Z",
     "iopub.status.idle": "2023-02-07T19:38:54.289961Z",
     "shell.execute_reply": "2023-02-07T19:38:54.290470Z",
     "shell.execute_reply.started": "2023-02-07T19:18:38.734743Z"
    },
    "papermill": {
     "duration": 0.056518,
     "end_time": "2023-02-07T19:38:54.290669",
     "exception": false,
     "start_time": "2023-02-07T19:38:54.234151",
     "status": "completed"
    },
    "tags": []
   },
   "outputs": [
    {
     "name": "stdout",
     "output_type": "stream",
     "text": [
      "(10697, 2)\n"
     ]
    },
    {
     "data": {
      "text/html": [
       "<div>\n",
       "<style scoped>\n",
       "    .dataframe tbody tr th:only-of-type {\n",
       "        vertical-align: middle;\n",
       "    }\n",
       "\n",
       "    .dataframe tbody tr th {\n",
       "        vertical-align: top;\n",
       "    }\n",
       "\n",
       "    .dataframe thead th {\n",
       "        text-align: right;\n",
       "    }\n",
       "</style>\n",
       "<table border=\"1\" class=\"dataframe\">\n",
       "  <thead>\n",
       "    <tr style=\"text-align: right;\">\n",
       "      <th></th>\n",
       "      <th>row_ID</th>\n",
       "      <th>final_price</th>\n",
       "    </tr>\n",
       "  </thead>\n",
       "  <tbody>\n",
       "    <tr>\n",
       "      <th>0</th>\n",
       "      <td>35000</td>\n",
       "      <td>0</td>\n",
       "    </tr>\n",
       "    <tr>\n",
       "      <th>1</th>\n",
       "      <td>35001</td>\n",
       "      <td>0</td>\n",
       "    </tr>\n",
       "    <tr>\n",
       "      <th>2</th>\n",
       "      <td>35002</td>\n",
       "      <td>0</td>\n",
       "    </tr>\n",
       "    <tr>\n",
       "      <th>3</th>\n",
       "      <td>35003</td>\n",
       "      <td>0</td>\n",
       "    </tr>\n",
       "    <tr>\n",
       "      <th>4</th>\n",
       "      <td>35004</td>\n",
       "      <td>0</td>\n",
       "    </tr>\n",
       "  </tbody>\n",
       "</table>\n",
       "</div>"
      ],
      "text/plain": [
       "   row_ID  final_price\n",
       "0   35000            0\n",
       "1   35001            0\n",
       "2   35002            0\n",
       "3   35003            0\n",
       "4   35004            0"
      ]
     },
     "execution_count": 9,
     "metadata": {},
     "output_type": "execute_result"
    }
   ],
   "source": [
    "submission = pd.read_csv(INPUT_DIR + 'sample_submission.csv')\n",
    "print(submission.shape)\n",
    "submission.head()"
   ]
  },
  {
   "cell_type": "code",
   "execution_count": 10,
   "id": "bdf36afe",
   "metadata": {
    "execution": {
     "iopub.execute_input": "2023-02-07T19:38:54.366153Z",
     "iopub.status.busy": "2023-02-07T19:38:54.365411Z",
     "iopub.status.idle": "2023-02-07T19:38:54.406379Z",
     "shell.execute_reply": "2023-02-07T19:38:54.406930Z",
     "shell.execute_reply.started": "2023-02-07T19:18:41.586865Z"
    },
    "papermill": {
     "duration": 0.0806,
     "end_time": "2023-02-07T19:38:54.407248",
     "exception": false,
     "start_time": "2023-02-07T19:38:54.326648",
     "status": "completed"
    },
    "tags": []
   },
   "outputs": [
    {
     "name": "stdout",
     "output_type": "stream",
     "text": [
      "Кол-во строк до 34999\n",
      "Кол-во строк после 34999\n",
      "CPU times: user 22.1 ms, sys: 5.29 ms, total: 27.4 ms\n",
      "Wall time: 33.6 ms\n"
     ]
    }
   ],
   "source": [
    "%%time\n",
    "train_data = train_data.drop(index=17918)\n",
    "print('Кол-во строк до',len( train_data))\n",
    "train_data = train_data.drop('doors_cnt', axis=1)\n",
    "train_data = train_data.drop('car_vin', axis=1)\n",
    "train_data = train_data.reset_index()\n",
    "print('Кол-во строк после',len(train_data))"
   ]
  },
  {
   "cell_type": "code",
   "execution_count": 11,
   "id": "5b8c7da8",
   "metadata": {
    "execution": {
     "iopub.execute_input": "2023-02-07T19:38:54.485743Z",
     "iopub.status.busy": "2023-02-07T19:38:54.484712Z",
     "iopub.status.idle": "2023-02-07T19:38:54.510435Z",
     "shell.execute_reply": "2023-02-07T19:38:54.511041Z",
     "shell.execute_reply.started": "2023-02-07T19:18:57.579254Z"
    },
    "papermill": {
     "duration": 0.066642,
     "end_time": "2023-02-07T19:38:54.511231",
     "exception": false,
     "start_time": "2023-02-07T19:38:54.444589",
     "status": "completed"
    },
    "tags": []
   },
   "outputs": [
    {
     "data": {
      "text/html": [
       "<div>\n",
       "<style scoped>\n",
       "    .dataframe tbody tr th:only-of-type {\n",
       "        vertical-align: middle;\n",
       "    }\n",
       "\n",
       "    .dataframe tbody tr th {\n",
       "        vertical-align: top;\n",
       "    }\n",
       "\n",
       "    .dataframe thead th {\n",
       "        text-align: right;\n",
       "    }\n",
       "</style>\n",
       "<table border=\"1\" class=\"dataframe\">\n",
       "  <thead>\n",
       "    <tr style=\"text-align: right;\">\n",
       "      <th></th>\n",
       "      <th>index</th>\n",
       "      <th>row_ID</th>\n",
       "      <th>vehicle_manufacturer</th>\n",
       "      <th>vehicle_model</th>\n",
       "      <th>vehicle_category</th>\n",
       "      <th>current_mileage</th>\n",
       "      <th>vehicle_year</th>\n",
       "      <th>vehicle_gearbox_type</th>\n",
       "      <th>wheels</th>\n",
       "      <th>vehicle_color</th>\n",
       "      <th>vehicle_interior_color</th>\n",
       "      <th>car_leather_interior</th>\n",
       "      <th>deal_type</th>\n",
       "      <th>final_price</th>\n",
       "    </tr>\n",
       "  </thead>\n",
       "  <tbody>\n",
       "    <tr>\n",
       "      <th>0</th>\n",
       "      <td>0</td>\n",
       "      <td>0</td>\n",
       "      <td>TOYOTA</td>\n",
       "      <td>Aqua s</td>\n",
       "      <td>Sedan</td>\n",
       "      <td>133000</td>\n",
       "      <td>2014</td>\n",
       "      <td>Automatic</td>\n",
       "      <td>Right-hand drive</td>\n",
       "      <td>Silver</td>\n",
       "      <td>Black</td>\n",
       "      <td>0</td>\n",
       "      <td>For Sale</td>\n",
       "      <td>3650.0</td>\n",
       "    </tr>\n",
       "    <tr>\n",
       "      <th>1</th>\n",
       "      <td>1</td>\n",
       "      <td>1</td>\n",
       "      <td>MERCEDES-BENZ</td>\n",
       "      <td>C 220</td>\n",
       "      <td>Sedan</td>\n",
       "      <td>24500</td>\n",
       "      <td>2010</td>\n",
       "      <td>Manual</td>\n",
       "      <td>Left wheel</td>\n",
       "      <td>Silver</td>\n",
       "      <td>Black</td>\n",
       "      <td>0</td>\n",
       "      <td>For Sale</td>\n",
       "      <td>6800.0</td>\n",
       "    </tr>\n",
       "    <tr>\n",
       "      <th>2</th>\n",
       "      <td>2</td>\n",
       "      <td>2</td>\n",
       "      <td>HYUNDAI</td>\n",
       "      <td>Veloster</td>\n",
       "      <td>Hatchback</td>\n",
       "      <td>31000</td>\n",
       "      <td>2016</td>\n",
       "      <td>Tiptronic</td>\n",
       "      <td>Left wheel</td>\n",
       "      <td>Silver</td>\n",
       "      <td>Black</td>\n",
       "      <td>1</td>\n",
       "      <td>For Sale</td>\n",
       "      <td>6300.0</td>\n",
       "    </tr>\n",
       "    <tr>\n",
       "      <th>3</th>\n",
       "      <td>3</td>\n",
       "      <td>3</td>\n",
       "      <td>HYUNDAI</td>\n",
       "      <td>Santa FE</td>\n",
       "      <td>Jeep</td>\n",
       "      <td>115459</td>\n",
       "      <td>2015</td>\n",
       "      <td>Automatic</td>\n",
       "      <td>Left wheel</td>\n",
       "      <td>Blue</td>\n",
       "      <td>Black</td>\n",
       "      <td>1</td>\n",
       "      <td>For Sale</td>\n",
       "      <td>14488.0</td>\n",
       "    </tr>\n",
       "    <tr>\n",
       "      <th>4</th>\n",
       "      <td>4</td>\n",
       "      <td>4</td>\n",
       "      <td>TOYOTA</td>\n",
       "      <td>CHR</td>\n",
       "      <td>Jeep</td>\n",
       "      <td>18950</td>\n",
       "      <td>2019</td>\n",
       "      <td>Automatic</td>\n",
       "      <td>Left wheel</td>\n",
       "      <td>Black</td>\n",
       "      <td>NaN</td>\n",
       "      <td>1</td>\n",
       "      <td>For Sale</td>\n",
       "      <td>5000.0</td>\n",
       "    </tr>\n",
       "    <tr>\n",
       "      <th>...</th>\n",
       "      <td>...</td>\n",
       "      <td>...</td>\n",
       "      <td>...</td>\n",
       "      <td>...</td>\n",
       "      <td>...</td>\n",
       "      <td>...</td>\n",
       "      <td>...</td>\n",
       "      <td>...</td>\n",
       "      <td>...</td>\n",
       "      <td>...</td>\n",
       "      <td>...</td>\n",
       "      <td>...</td>\n",
       "      <td>...</td>\n",
       "      <td>...</td>\n",
       "    </tr>\n",
       "    <tr>\n",
       "      <th>34994</th>\n",
       "      <td>34995</td>\n",
       "      <td>34995</td>\n",
       "      <td>FORD</td>\n",
       "      <td>Fusion</td>\n",
       "      <td>Sedan</td>\n",
       "      <td>87579</td>\n",
       "      <td>2013</td>\n",
       "      <td>Automatic</td>\n",
       "      <td>Left wheel</td>\n",
       "      <td>Black</td>\n",
       "      <td>NaN</td>\n",
       "      <td>1</td>\n",
       "      <td>For Sale</td>\n",
       "      <td>6000.0</td>\n",
       "    </tr>\n",
       "    <tr>\n",
       "      <th>34995</th>\n",
       "      <td>34996</td>\n",
       "      <td>34996</td>\n",
       "      <td>SSANGYONG</td>\n",
       "      <td>REXTON</td>\n",
       "      <td>Jeep</td>\n",
       "      <td>116092</td>\n",
       "      <td>2009</td>\n",
       "      <td>Automatic</td>\n",
       "      <td>Left wheel</td>\n",
       "      <td>Silver</td>\n",
       "      <td>Black</td>\n",
       "      <td>1</td>\n",
       "      <td>For Sale</td>\n",
       "      <td>9642.0</td>\n",
       "    </tr>\n",
       "    <tr>\n",
       "      <th>34996</th>\n",
       "      <td>34997</td>\n",
       "      <td>34997</td>\n",
       "      <td>BMW</td>\n",
       "      <td>635</td>\n",
       "      <td>Sedan</td>\n",
       "      <td>43000</td>\n",
       "      <td>2015</td>\n",
       "      <td>Tiptronic</td>\n",
       "      <td>Left wheel</td>\n",
       "      <td>Grey</td>\n",
       "      <td>Grey</td>\n",
       "      <td>1</td>\n",
       "      <td>For Sale</td>\n",
       "      <td>23500.0</td>\n",
       "    </tr>\n",
       "    <tr>\n",
       "      <th>34997</th>\n",
       "      <td>34998</td>\n",
       "      <td>34998</td>\n",
       "      <td>HYUNDAI</td>\n",
       "      <td>Tucson</td>\n",
       "      <td>Jeep</td>\n",
       "      <td>82139</td>\n",
       "      <td>2015</td>\n",
       "      <td>Automatic</td>\n",
       "      <td>Left wheel</td>\n",
       "      <td>White</td>\n",
       "      <td>Black</td>\n",
       "      <td>1</td>\n",
       "      <td>For Sale</td>\n",
       "      <td>12826.0</td>\n",
       "    </tr>\n",
       "    <tr>\n",
       "      <th>34998</th>\n",
       "      <td>34999</td>\n",
       "      <td>34999</td>\n",
       "      <td>TOYOTA</td>\n",
       "      <td>Avalon</td>\n",
       "      <td>Sedan</td>\n",
       "      <td>237178</td>\n",
       "      <td>2015</td>\n",
       "      <td>Automatic</td>\n",
       "      <td>Left wheel</td>\n",
       "      <td>Blue</td>\n",
       "      <td>Black</td>\n",
       "      <td>1</td>\n",
       "      <td>For Sale</td>\n",
       "      <td>1050.0</td>\n",
       "    </tr>\n",
       "  </tbody>\n",
       "</table>\n",
       "<p>34999 rows × 14 columns</p>\n",
       "</div>"
      ],
      "text/plain": [
       "       index  row_ID vehicle_manufacturer vehicle_model vehicle_category  \\\n",
       "0          0       0               TOYOTA        Aqua s            Sedan   \n",
       "1          1       1        MERCEDES-BENZ         C 220            Sedan   \n",
       "2          2       2              HYUNDAI      Veloster        Hatchback   \n",
       "3          3       3              HYUNDAI      Santa FE             Jeep   \n",
       "4          4       4               TOYOTA           CHR             Jeep   \n",
       "...      ...     ...                  ...           ...              ...   \n",
       "34994  34995   34995                 FORD        Fusion            Sedan   \n",
       "34995  34996   34996            SSANGYONG        REXTON             Jeep   \n",
       "34996  34997   34997                  BMW           635            Sedan   \n",
       "34997  34998   34998              HYUNDAI        Tucson             Jeep   \n",
       "34998  34999   34999               TOYOTA        Avalon            Sedan   \n",
       "\n",
       "       current_mileage  vehicle_year vehicle_gearbox_type  \\\n",
       "0               133000          2014            Automatic   \n",
       "1                24500          2010               Manual   \n",
       "2                31000          2016            Tiptronic   \n",
       "3               115459          2015            Automatic   \n",
       "4                18950          2019            Automatic   \n",
       "...                ...           ...                  ...   \n",
       "34994            87579          2013            Automatic   \n",
       "34995           116092          2009            Automatic   \n",
       "34996            43000          2015            Tiptronic   \n",
       "34997            82139          2015            Automatic   \n",
       "34998           237178          2015            Automatic   \n",
       "\n",
       "                      wheels vehicle_color vehicle_interior_color  \\\n",
       "0        Right-hand drive          Silver                  Black    \n",
       "1               Left wheel         Silver                  Black    \n",
       "2               Left wheel         Silver                  Black    \n",
       "3               Left wheel           Blue                  Black    \n",
       "4               Left wheel          Black                     NaN   \n",
       "...                      ...           ...                    ...   \n",
       "34994           Left wheel          Black                     NaN   \n",
       "34995           Left wheel         Silver                  Black    \n",
       "34996           Left wheel           Grey                   Grey    \n",
       "34997           Left wheel          White                  Black    \n",
       "34998           Left wheel           Blue                  Black    \n",
       "\n",
       "       car_leather_interior deal_type  final_price  \n",
       "0                         0  For Sale       3650.0  \n",
       "1                         0  For Sale       6800.0  \n",
       "2                         1  For Sale       6300.0  \n",
       "3                         1  For Sale      14488.0  \n",
       "4                         1  For Sale       5000.0  \n",
       "...                     ...       ...          ...  \n",
       "34994                     1  For Sale       6000.0  \n",
       "34995                     1  For Sale       9642.0  \n",
       "34996                     1  For Sale      23500.0  \n",
       "34997                     1  For Sale      12826.0  \n",
       "34998                     1  For Sale       1050.0  \n",
       "\n",
       "[34999 rows x 14 columns]"
      ]
     },
     "execution_count": 11,
     "metadata": {},
     "output_type": "execute_result"
    }
   ],
   "source": [
    "train_data"
   ]
  },
  {
   "cell_type": "code",
   "execution_count": 12,
   "id": "4b3ce94a",
   "metadata": {
    "execution": {
     "iopub.execute_input": "2023-02-07T19:38:54.589482Z",
     "iopub.status.busy": "2023-02-07T19:38:54.588732Z",
     "iopub.status.idle": "2023-02-07T19:38:54.662115Z",
     "shell.execute_reply": "2023-02-07T19:38:54.661025Z",
     "shell.execute_reply.started": "2023-02-07T19:19:13.782596Z"
    },
    "papermill": {
     "duration": 0.113684,
     "end_time": "2023-02-07T19:38:54.662348",
     "exception": false,
     "start_time": "2023-02-07T19:38:54.548664",
     "status": "completed"
    },
    "tags": []
   },
   "outputs": [
    {
     "name": "stdout",
     "output_type": "stream",
     "text": [
      "Кол-во строк до 34999\n",
      "Кол-во строк после 1 этапа 34993\n",
      "CPU times: user 59.1 ms, sys: 1.88 ms, total: 61 ms\n",
      "Wall time: 63.5 ms\n"
     ]
    }
   ],
   "source": [
    "%%time\n",
    "# train_data = train_data.drop('level_0', axis=1)\n",
    "print('Кол-во строк до',len( train_data))\n",
    "#train_data = train_data.reset_index()\n",
    "df_isnull = train_data.isnull()\n",
    "ff = df_isnull[df_isnull['vehicle_model'] == True].index\n",
    "for i in ff:\n",
    "    train_data = train_data.drop(index=i)\n",
    "\n",
    "train_data = train_data.reset_index()\n",
    "print('Кол-во строк после 1 этапа', len(train_data))"
   ]
  },
  {
   "cell_type": "code",
   "execution_count": 13,
   "id": "56eebe85",
   "metadata": {
    "execution": {
     "iopub.execute_input": "2023-02-07T19:38:54.743438Z",
     "iopub.status.busy": "2023-02-07T19:38:54.742674Z",
     "iopub.status.idle": "2023-02-07T19:39:00.477229Z",
     "shell.execute_reply": "2023-02-07T19:39:00.476613Z",
     "shell.execute_reply.started": "2023-02-07T19:19:21.476541Z"
    },
    "papermill": {
     "duration": 5.775644,
     "end_time": "2023-02-07T19:39:00.477391",
     "exception": false,
     "start_time": "2023-02-07T19:38:54.701747",
     "status": "completed"
    },
    "tags": []
   },
   "outputs": [
    {
     "name": "stdout",
     "output_type": "stream",
     "text": [
      "Кол-во строк после 2 этапа 34993\n",
      "CPU times: user 5.72 s, sys: 0 ns, total: 5.72 s\n",
      "Wall time: 5.72 s\n"
     ]
    }
   ],
   "source": [
    "%%time\n",
    "\n",
    "import random\n",
    "random.seed(42)\n",
    "train_data = train_data.drop('level_0', axis=1)\n",
    "df_isnull = train_data.isnull()\n",
    "# функция поиска цвета по ключу\n",
    "def get_key(d, value):\n",
    "    for k, v in d.items():\n",
    "        if v == value:\n",
    "            return k\n",
    "# вычисляем топовые цвета\n",
    "pop_color_mask = train_data['vehicle_interior_color'].value_counts(normalize=True) > 0.01\n",
    "color_list = pop_color_mask[pop_color_mask == True]\n",
    "color_list = list(color_list.index)\n",
    "# заполняем словарь цветом\n",
    "dct = {}\n",
    "for i in range(len(color_list)):\n",
    "    dct[color_list[i]] = i\n",
    "\n",
    "# заносим топовые цвета в пустые данные\n",
    "cc = df_isnull[df_isnull['vehicle_interior_color'] == True].index\n",
    "for i in cc:\n",
    "    train_data.loc[i,'vehicle_interior_color'] = get_key(dct, random.randrange(0, len(color_list)))\n",
    "print('Кол-во строк после 2 этапа', len(train_data))"
   ]
  },
  {
   "cell_type": "code",
   "execution_count": 14,
   "id": "6dbd2181",
   "metadata": {
    "execution": {
     "iopub.execute_input": "2023-02-07T19:39:00.560035Z",
     "iopub.status.busy": "2023-02-07T19:39:00.558980Z",
     "iopub.status.idle": "2023-02-07T19:39:00.909516Z",
     "shell.execute_reply": "2023-02-07T19:39:00.908485Z",
     "shell.execute_reply.started": "2023-02-07T19:19:33.630400Z"
    },
    "papermill": {
     "duration": 0.392954,
     "end_time": "2023-02-07T19:39:00.909745",
     "exception": false,
     "start_time": "2023-02-07T19:39:00.516791",
     "status": "completed"
    },
    "tags": []
   },
   "outputs": [
    {
     "name": "stdout",
     "output_type": "stream",
     "text": [
      "Кол-во строк после 3 этапа 34993\n",
      "CPU times: user 342 ms, sys: 0 ns, total: 342 ms\n",
      "Wall time: 342 ms\n"
     ]
    }
   ],
   "source": [
    "%%time\n",
    "\n",
    "# вычисляем топовые цвета\n",
    "v_pop_color_mask = train_data['vehicle_color'].value_counts(normalize=True) > 0.01\n",
    "v_color_list = pop_color_mask[pop_color_mask == True]\n",
    "v_color_list = list(v_color_list.index)\n",
    "# заполняем словарь цветом\n",
    "dct_v = {}\n",
    "for i in range(len(v_color_list)):\n",
    "    dct_v[v_color_list[i]] = i\n",
    "\n",
    "# заносим топовые цвета в пустые данные\n",
    "v_cc = df_isnull[df_isnull['vehicle_color'] == True].index\n",
    "for i in v_cc:\n",
    "    train_data.loc[i,'vehicle_color'] = get_key(dct_v, random.randrange(0, len(v_color_list)))\n",
    "print('Кол-во строк после 3 этапа', len(train_data))"
   ]
  },
  {
   "cell_type": "markdown",
   "id": "75a7a15a",
   "metadata": {
    "papermill": {
     "duration": 0.038274,
     "end_time": "2023-02-07T19:39:00.987227",
     "exception": false,
     "start_time": "2023-02-07T19:39:00.948953",
     "status": "completed"
    },
    "tags": []
   },
   "source": [
    "### Step 0.5. Some user feature preparation\n",
    "\n",
    "Be creative :)"
   ]
  },
  {
   "cell_type": "code",
   "execution_count": 15,
   "id": "f1a1eb6f",
   "metadata": {
    "execution": {
     "iopub.execute_input": "2023-02-07T19:39:01.069534Z",
     "iopub.status.busy": "2023-02-07T19:39:01.068485Z",
     "iopub.status.idle": "2023-02-07T19:39:01.075057Z",
     "shell.execute_reply": "2023-02-07T19:39:01.075935Z",
     "shell.execute_reply.started": "2023-02-07T19:19:43.030743Z"
    },
    "papermill": {
     "duration": 0.050378,
     "end_time": "2023-02-07T19:39:01.076171",
     "exception": false,
     "start_time": "2023-02-07T19:39:01.025793",
     "status": "completed"
    },
    "tags": []
   },
   "outputs": [
    {
     "name": "stdout",
     "output_type": "stream",
     "text": [
      "CPU times: user 18 µs, sys: 0 ns, total: 18 µs\n",
      "Wall time: 22.2 µs\n"
     ]
    }
   ],
   "source": [
    "%%time\n",
    "\n",
    "def create_expert_feats(data):\n",
    "    pass\n",
    "\n",
    "create_expert_feats(train_data)\n",
    "create_expert_feats(test_data)"
   ]
  },
  {
   "cell_type": "markdown",
   "id": "b0effe67",
   "metadata": {
    "papermill": {
     "duration": 0.039116,
     "end_time": "2023-02-07T19:39:01.154435",
     "exception": false,
     "start_time": "2023-02-07T19:39:01.115319",
     "status": "completed"
    },
    "tags": []
   },
   "source": [
    "### 0.6. Data splitting for train-holdout\n",
    "As we have only one file with target values, we can split it into 80%-20% for holdout usage:"
   ]
  },
  {
   "cell_type": "code",
   "execution_count": 16,
   "id": "0db16575",
   "metadata": {
    "execution": {
     "iopub.execute_input": "2023-02-07T19:39:01.236238Z",
     "iopub.status.busy": "2023-02-07T19:39:01.235184Z",
     "iopub.status.idle": "2023-02-07T19:39:01.271721Z",
     "shell.execute_reply": "2023-02-07T19:39:01.271134Z",
     "shell.execute_reply.started": "2023-02-07T19:19:47.878101Z"
    },
    "papermill": {
     "duration": 0.078513,
     "end_time": "2023-02-07T19:39:01.271922",
     "exception": false,
     "start_time": "2023-02-07T19:39:01.193409",
     "status": "completed"
    },
    "tags": []
   },
   "outputs": [
    {
     "name": "stdout",
     "output_type": "stream",
     "text": [
      "Data splitted. Parts sizes: tr_data = (27994, 14), te_data = (6999, 14)\n"
     ]
    },
    {
     "data": {
      "text/html": [
       "<div>\n",
       "<style scoped>\n",
       "    .dataframe tbody tr th:only-of-type {\n",
       "        vertical-align: middle;\n",
       "    }\n",
       "\n",
       "    .dataframe tbody tr th {\n",
       "        vertical-align: top;\n",
       "    }\n",
       "\n",
       "    .dataframe thead th {\n",
       "        text-align: right;\n",
       "    }\n",
       "</style>\n",
       "<table border=\"1\" class=\"dataframe\">\n",
       "  <thead>\n",
       "    <tr style=\"text-align: right;\">\n",
       "      <th></th>\n",
       "      <th>index</th>\n",
       "      <th>row_ID</th>\n",
       "      <th>vehicle_manufacturer</th>\n",
       "      <th>vehicle_model</th>\n",
       "      <th>vehicle_category</th>\n",
       "      <th>current_mileage</th>\n",
       "      <th>vehicle_year</th>\n",
       "      <th>vehicle_gearbox_type</th>\n",
       "      <th>wheels</th>\n",
       "      <th>vehicle_color</th>\n",
       "      <th>vehicle_interior_color</th>\n",
       "      <th>car_leather_interior</th>\n",
       "      <th>deal_type</th>\n",
       "      <th>final_price</th>\n",
       "    </tr>\n",
       "  </thead>\n",
       "  <tbody>\n",
       "    <tr>\n",
       "      <th>32926</th>\n",
       "      <td>32933</td>\n",
       "      <td>32933</td>\n",
       "      <td>TOYOTA</td>\n",
       "      <td>Camry</td>\n",
       "      <td>Sedan</td>\n",
       "      <td>555555</td>\n",
       "      <td>2010</td>\n",
       "      <td>Automatic</td>\n",
       "      <td>Left wheel</td>\n",
       "      <td>White</td>\n",
       "      <td>Beige</td>\n",
       "      <td>1</td>\n",
       "      <td>For Rent</td>\n",
       "      <td>11.0</td>\n",
       "    </tr>\n",
       "    <tr>\n",
       "      <th>28581</th>\n",
       "      <td>28587</td>\n",
       "      <td>28587</td>\n",
       "      <td>LEXUS</td>\n",
       "      <td>RX 450</td>\n",
       "      <td>Jeep</td>\n",
       "      <td>59858</td>\n",
       "      <td>2016</td>\n",
       "      <td>Automatic</td>\n",
       "      <td>Left wheel</td>\n",
       "      <td>Silver</td>\n",
       "      <td>Grey</td>\n",
       "      <td>1</td>\n",
       "      <td>For Sale</td>\n",
       "      <td>3600.0</td>\n",
       "    </tr>\n",
       "    <tr>\n",
       "      <th>2982</th>\n",
       "      <td>2982</td>\n",
       "      <td>2982</td>\n",
       "      <td>TOYOTA</td>\n",
       "      <td>Prius</td>\n",
       "      <td>Sedan</td>\n",
       "      <td>170000</td>\n",
       "      <td>2010</td>\n",
       "      <td>Variator</td>\n",
       "      <td>Left wheel</td>\n",
       "      <td>Blue</td>\n",
       "      <td>Beige</td>\n",
       "      <td>0</td>\n",
       "      <td>For Sale</td>\n",
       "      <td>4600.0</td>\n",
       "    </tr>\n",
       "    <tr>\n",
       "      <th>32351</th>\n",
       "      <td>32357</td>\n",
       "      <td>32357</td>\n",
       "      <td>VAZ</td>\n",
       "      <td>2121 (Niva)</td>\n",
       "      <td>Jeep</td>\n",
       "      <td>0</td>\n",
       "      <td>2018</td>\n",
       "      <td>Manual</td>\n",
       "      <td>Left wheel</td>\n",
       "      <td>Red</td>\n",
       "      <td>Beige</td>\n",
       "      <td>0</td>\n",
       "      <td>For Sale</td>\n",
       "      <td>383.0</td>\n",
       "    </tr>\n",
       "    <tr>\n",
       "      <th>28744</th>\n",
       "      <td>28750</td>\n",
       "      <td>28750</td>\n",
       "      <td>TOYOTA</td>\n",
       "      <td>Camry</td>\n",
       "      <td>Sedan</td>\n",
       "      <td>190549</td>\n",
       "      <td>2013</td>\n",
       "      <td>Automatic</td>\n",
       "      <td>Left wheel</td>\n",
       "      <td>Black</td>\n",
       "      <td>Black</td>\n",
       "      <td>1</td>\n",
       "      <td>For Sale</td>\n",
       "      <td>1600.0</td>\n",
       "    </tr>\n",
       "  </tbody>\n",
       "</table>\n",
       "</div>"
      ],
      "text/plain": [
       "       index  row_ID vehicle_manufacturer vehicle_model vehicle_category  \\\n",
       "32926  32933   32933               TOYOTA         Camry            Sedan   \n",
       "28581  28587   28587                LEXUS        RX 450             Jeep   \n",
       "2982    2982    2982               TOYOTA         Prius            Sedan   \n",
       "32351  32357   32357                  VAZ   2121 (Niva)             Jeep   \n",
       "28744  28750   28750               TOYOTA         Camry            Sedan   \n",
       "\n",
       "       current_mileage  vehicle_year vehicle_gearbox_type          wheels  \\\n",
       "32926           555555          2010            Automatic    Left wheel     \n",
       "28581            59858          2016            Automatic    Left wheel     \n",
       "2982            170000          2010             Variator    Left wheel     \n",
       "32351                0          2018               Manual    Left wheel     \n",
       "28744           190549          2013            Automatic    Left wheel     \n",
       "\n",
       "      vehicle_color vehicle_interior_color  car_leather_interior deal_type  \\\n",
       "32926        White                  Beige                      1  For Rent   \n",
       "28581       Silver                   Grey                      1  For Sale   \n",
       "2982          Blue                  Beige                      0  For Sale   \n",
       "32351          Red                  Beige                      0  For Sale   \n",
       "28744        Black                  Black                      1  For Sale   \n",
       "\n",
       "       final_price  \n",
       "32926         11.0  \n",
       "28581       3600.0  \n",
       "2982        4600.0  \n",
       "32351        383.0  \n",
       "28744       1600.0  "
      ]
     },
     "execution_count": 16,
     "metadata": {},
     "output_type": "execute_result"
    }
   ],
   "source": [
    "tr_data, te_data = train_test_split(\n",
    "    train_data, \n",
    "    test_size=TEST_SIZE, \n",
    "    random_state=RANDOM_STATE\n",
    ")\n",
    "\n",
    "print(f'Data splitted. Parts sizes: tr_data = {tr_data.shape}, te_data = {te_data.shape}')\n",
    "\n",
    "tr_data.head()"
   ]
  },
  {
   "cell_type": "markdown",
   "id": "5c2d90fd",
   "metadata": {
    "papermill": {
     "duration": 0.039453,
     "end_time": "2023-02-07T19:39:01.351978",
     "exception": false,
     "start_time": "2023-02-07T19:39:01.312525",
     "status": "completed"
    },
    "tags": []
   },
   "source": [
    "# 1. Task definition"
   ]
  },
  {
   "cell_type": "markdown",
   "id": "4f87f463",
   "metadata": {
    "papermill": {
     "duration": 0.039258,
     "end_time": "2023-02-07T19:39:01.430905",
     "exception": false,
     "start_time": "2023-02-07T19:39:01.391647",
     "status": "completed"
    },
    "tags": []
   },
   "source": [
    "### 1.1. Task type\n",
    "\n",
    "On the cell below we create Task object - the class to setup what task LightAutoML model should solve with specific loss and metric if necessary (more info can be found [here](https://lightautoml.readthedocs.io/en/latest/pages/modules/generated/lightautoml.tasks.base.Task.html#lightautoml.tasks.base.Task) in our documentation):"
   ]
  },
  {
   "cell_type": "code",
   "execution_count": 17,
   "id": "3f44d5dd",
   "metadata": {
    "execution": {
     "iopub.execute_input": "2023-02-07T19:39:01.518038Z",
     "iopub.status.busy": "2023-02-07T19:39:01.516896Z",
     "iopub.status.idle": "2023-02-07T19:39:01.519860Z",
     "shell.execute_reply": "2023-02-07T19:39:01.519127Z",
     "shell.execute_reply.started": "2023-02-07T19:19:56.141345Z"
    },
    "papermill": {
     "duration": 0.049355,
     "end_time": "2023-02-07T19:39:01.520027",
     "exception": false,
     "start_time": "2023-02-07T19:39:01.470672",
     "status": "completed"
    },
    "tags": []
   },
   "outputs": [],
   "source": [
    "task = Task('reg', loss = 'mae', metric = 'mae')"
   ]
  },
  {
   "cell_type": "markdown",
   "id": "94dd9733",
   "metadata": {
    "papermill": {
     "duration": 0.04016,
     "end_time": "2023-02-07T19:39:01.602096",
     "exception": false,
     "start_time": "2023-02-07T19:39:01.561936",
     "status": "completed"
    },
    "tags": []
   },
   "source": [
    "### 1.2. Feature roles setup"
   ]
  },
  {
   "cell_type": "markdown",
   "id": "5a95876a",
   "metadata": {
    "papermill": {
     "duration": 0.03981,
     "end_time": "2023-02-07T19:39:01.681722",
     "exception": false,
     "start_time": "2023-02-07T19:39:01.641912",
     "status": "completed"
    },
    "tags": []
   },
   "source": [
    "To solve the task, we need to setup columns roles. The **only role you must setup is target role**, everything else (drop, numeric, categorical, group, weights etc.) is up to user - LightAutoML models have automatic columns typization inside:"
   ]
  },
  {
   "cell_type": "code",
   "execution_count": 18,
   "id": "edc0bad7",
   "metadata": {
    "execution": {
     "iopub.execute_input": "2023-02-07T19:39:01.767882Z",
     "iopub.status.busy": "2023-02-07T19:39:01.766880Z",
     "iopub.status.idle": "2023-02-07T19:39:01.768722Z",
     "shell.execute_reply": "2023-02-07T19:39:01.769264Z",
     "shell.execute_reply.started": "2023-02-07T19:19:59.978833Z"
    },
    "papermill": {
     "duration": 0.047784,
     "end_time": "2023-02-07T19:39:01.769493",
     "exception": false,
     "start_time": "2023-02-07T19:39:01.721709",
     "status": "completed"
    },
    "tags": []
   },
   "outputs": [],
   "source": [
    "roles = {\n",
    "    'target': TARGET_NAME,\n",
    "    'drop': ['row_ID','index']\n",
    "}"
   ]
  },
  {
   "cell_type": "markdown",
   "id": "83bb9d5a",
   "metadata": {
    "papermill": {
     "duration": 0.04018,
     "end_time": "2023-02-07T19:39:01.851082",
     "exception": false,
     "start_time": "2023-02-07T19:39:01.810902",
     "status": "completed"
    },
    "tags": []
   },
   "source": [
    "### 1.3. LightAutoML model creation - TabularAutoML preset"
   ]
  },
  {
   "cell_type": "markdown",
   "id": "2c1800aa",
   "metadata": {
    "papermill": {
     "duration": 0.040873,
     "end_time": "2023-02-07T19:39:01.932069",
     "exception": false,
     "start_time": "2023-02-07T19:39:01.891196",
     "status": "completed"
    },
    "tags": []
   },
   "source": [
    "In next the cell we are going to create LightAutoML model with `TabularAutoML` class - preset with default model structure like in the image below:\n",
    "\n",
    "<img src=\"https://github.com/AILab-MLTools/LightAutoML/raw/master/imgs/tutorial_blackbox_pipeline.png\" alt=\"TabularAutoML preset pipeline\" style=\"width:85%;\"/>\n",
    "\n",
    "in just several lines. Let's discuss the params we can setup:\n",
    "- `task` - the type of the ML task (the only **must have** parameter)\n",
    "- `timeout` - time limit in seconds for model to train\n",
    "- `cpu_limit` - vCPU count for model to use\n",
    "- `reader_params` - parameter change for Reader object inside preset, which works on the first step of data preparation: automatic feature typization, preliminary almost-constant features, correct CV setup etc. For example, we setup `n_jobs` threads for typization algo, `cv` folds and `random_state` as inside CV seed.\n",
    "\n",
    "**Important note**: `reader_params` key is one of the YAML config keys, which is used inside `TabularAutoML` preset. [More details](https://github.com/AILab-MLTools/LightAutoML/blob/master/lightautoml/automl/presets/tabular_config.yml) on its structure with explanation comments can be found on the link attached. Each key from this config can be modified with user settings during preset object initialization. To get more info about different parameters setting (for example, ML algos which can be used in `general_params->use_algos`) please take a look at our [article on TowardsDataScience](https://towardsdatascience.com/lightautoml-preset-usage-tutorial-2cce7da6f936).\n",
    "\n",
    "Moreover, to receive the automatic report for our model we can use `ReportDeco` decorator and work with the decorated version in the same way as we do with usual one (more details in [this tutorial](https://github.com/AILab-MLTools/LightAutoML/blob/master/examples/tutorials/Tutorial_1_basics.ipynb))"
   ]
  },
  {
   "cell_type": "code",
   "execution_count": 19,
   "id": "ebf0dbc4",
   "metadata": {
    "execution": {
     "iopub.execute_input": "2023-02-07T19:39:02.020259Z",
     "iopub.status.busy": "2023-02-07T19:39:02.019493Z",
     "iopub.status.idle": "2023-02-07T19:39:02.044292Z",
     "shell.execute_reply": "2023-02-07T19:39:02.044895Z",
     "shell.execute_reply.started": "2023-02-07T19:20:04.146633Z"
    },
    "papermill": {
     "duration": 0.072765,
     "end_time": "2023-02-07T19:39:02.045095",
     "exception": false,
     "start_time": "2023-02-07T19:39:01.972330",
     "status": "completed"
    },
    "tags": []
   },
   "outputs": [],
   "source": [
    "automl = TabularAutoML(\n",
    "    task = task, \n",
    "    timeout = TIMEOUT,\n",
    "    cpu_limit = N_THREADS,\n",
    "    reader_params = {'n_jobs': N_THREADS, 'cv': N_FOLDS, 'random_state': RANDOM_STATE}\n",
    ")"
   ]
  },
  {
   "cell_type": "markdown",
   "id": "cfab50a3",
   "metadata": {
    "papermill": {
     "duration": 0.042813,
     "end_time": "2023-02-07T19:39:02.128352",
     "exception": false,
     "start_time": "2023-02-07T19:39:02.085539",
     "status": "completed"
    },
    "tags": []
   },
   "source": [
    "# 2. AutoML training"
   ]
  },
  {
   "cell_type": "markdown",
   "id": "ae2b767e",
   "metadata": {
    "papermill": {
     "duration": 0.039803,
     "end_time": "2023-02-07T19:39:02.208611",
     "exception": false,
     "start_time": "2023-02-07T19:39:02.168808",
     "status": "completed"
    },
    "tags": []
   },
   "source": [
    "To run autoML training use fit_predict method:\n",
    "- `train_data` - Dataset to train.\n",
    "- `roles` - Roles dict.\n",
    "- `verbose` - Controls the verbosity: the higher, the more messages.\n",
    "        <1  : messages are not displayed;\n",
    "        >=1 : the computation process for layers is displayed;\n",
    "        >=2 : the information about folds processing is also displayed;\n",
    "        >=3 : the hyperparameters optimization process is also displayed;\n",
    "        >=4 : the training process for every algorithm is displayed;\n",
    "\n",
    "Note: out-of-fold prediction is calculated during training and returned from the fit_predict method"
   ]
  },
  {
   "cell_type": "code",
   "execution_count": 20,
   "id": "db1adbd0",
   "metadata": {
    "execution": {
     "iopub.execute_input": "2023-02-07T19:39:02.291702Z",
     "iopub.status.busy": "2023-02-07T19:39:02.290952Z",
     "iopub.status.idle": "2023-02-07T19:48:37.190883Z",
     "shell.execute_reply": "2023-02-07T19:48:37.191556Z",
     "shell.execute_reply.started": "2023-02-07T19:20:11.477623Z"
    },
    "papermill": {
     "duration": 574.943596,
     "end_time": "2023-02-07T19:48:37.192045",
     "exception": false,
     "start_time": "2023-02-07T19:39:02.248449",
     "status": "completed"
    },
    "scrolled": true,
    "tags": []
   },
   "outputs": [
    {
     "name": "stdout",
     "output_type": "stream",
     "text": [
      "[19:39:02] Stdout logging level is INFO.\n",
      "[19:39:02] Copying TaskTimer may affect the parent PipelineTimer, so copy will create new unlimited TaskTimer\n",
      "[19:39:02] Task: reg\n",
      "\n",
      "[19:39:02] Start automl preset with listed constraints:\n",
      "[19:39:02] - time: 900.00 seconds\n",
      "[19:39:02] - CPU: 4 cores\n",
      "[19:39:02] - memory: 16 GB\n",
      "\n",
      "[19:39:02] \u001b[1mTrain data shape: (27994, 14)\u001b[0m\n",
      "\n",
      "[19:39:10] Layer \u001b[1m1\u001b[0m train process start. Time left 891.80 secs\n",
      "[19:39:11] Start fitting \u001b[1mLvl_0_Pipe_0_Mod_0_LinearL2\u001b[0m ...\n",
      "[19:39:27] Fitting \u001b[1mLvl_0_Pipe_0_Mod_0_LinearL2\u001b[0m finished. score = \u001b[1m-3910.538961577451\u001b[0m\n",
      "[19:39:27] \u001b[1mLvl_0_Pipe_0_Mod_0_LinearL2\u001b[0m fitting and predicting completed\n",
      "[19:39:27] Time left 874.93 secs\n",
      "\n",
      "[19:39:31] \u001b[1mSelector_LightGBM\u001b[0m fitting and predicting completed\n",
      "[19:39:33] Start fitting \u001b[1mLvl_0_Pipe_1_Mod_0_LightGBM\u001b[0m ...\n",
      "[19:39:55] Fitting \u001b[1mLvl_0_Pipe_1_Mod_0_LightGBM\u001b[0m finished. score = \u001b[1m-2991.7607203723996\u001b[0m\n",
      "[19:39:55] \u001b[1mLvl_0_Pipe_1_Mod_0_LightGBM\u001b[0m fitting and predicting completed\n",
      "[19:39:55] Start hyperparameters optimization for \u001b[1mLvl_0_Pipe_1_Mod_1_Tuned_LightGBM\u001b[0m ... Time budget is 91.84 secs\n",
      "[19:41:29] Hyperparameters optimization for \u001b[1mLvl_0_Pipe_1_Mod_1_Tuned_LightGBM\u001b[0m completed\n",
      "[19:41:29] Start fitting \u001b[1mLvl_0_Pipe_1_Mod_1_Tuned_LightGBM\u001b[0m ...\n",
      "[19:42:29] Fitting \u001b[1mLvl_0_Pipe_1_Mod_1_Tuned_LightGBM\u001b[0m finished. score = \u001b[1m-2861.552834496955\u001b[0m\n",
      "[19:42:29] \u001b[1mLvl_0_Pipe_1_Mod_1_Tuned_LightGBM\u001b[0m fitting and predicting completed\n",
      "[19:42:30] Start fitting \u001b[1mLvl_0_Pipe_1_Mod_2_CatBoost\u001b[0m ...\n",
      "[19:42:54] Fitting \u001b[1mLvl_0_Pipe_1_Mod_2_CatBoost\u001b[0m finished. score = \u001b[1m-3299.5966130396528\u001b[0m\n",
      "[19:42:54] \u001b[1mLvl_0_Pipe_1_Mod_2_CatBoost\u001b[0m fitting and predicting completed\n",
      "[19:42:54] Start hyperparameters optimization for \u001b[1mLvl_0_Pipe_1_Mod_3_Tuned_CatBoost\u001b[0m ... Time budget is 300.00 secs\n",
      "[19:47:59] Hyperparameters optimization for \u001b[1mLvl_0_Pipe_1_Mod_3_Tuned_CatBoost\u001b[0m completed\n",
      "[19:47:59] Start fitting \u001b[1mLvl_0_Pipe_1_Mod_3_Tuned_CatBoost\u001b[0m ...\n",
      "[19:48:37] Fitting \u001b[1mLvl_0_Pipe_1_Mod_3_Tuned_CatBoost\u001b[0m finished. score = \u001b[1m-3153.280039172901\u001b[0m\n",
      "[19:48:37] \u001b[1mLvl_0_Pipe_1_Mod_3_Tuned_CatBoost\u001b[0m fitting and predicting completed\n",
      "[19:48:37] Time left 325.26 secs\n",
      "\n",
      "[19:48:37] \u001b[1mLayer 1 training completed.\u001b[0m\n",
      "\n",
      "[19:48:37] Blending: optimization starts with equal weights and score \u001b[1m-3112.2325219454456\u001b[0m\n",
      "[19:48:37] Blending: iteration \u001b[1m0\u001b[0m: score = \u001b[1m-2861.552834496955\u001b[0m, weights = \u001b[1m[0. 0. 1. 0. 0.]\u001b[0m\n",
      "[19:48:37] Blending: iteration \u001b[1m1\u001b[0m: score = \u001b[1m-2861.552834496955\u001b[0m, weights = \u001b[1m[0. 0. 1. 0. 0.]\u001b[0m\n",
      "[19:48:37] Blending: no score update. Terminated\n",
      "\n",
      "[19:48:37] \u001b[1mAutoml preset training completed in 574.88 seconds\u001b[0m\n",
      "\n",
      "[19:48:37] Model description:\n",
      "Final prediction for new objects (level 0) = \n",
      "\t 1.00000 * (5 averaged models Lvl_0_Pipe_1_Mod_1_Tuned_LightGBM) \n",
      "\n",
      "CPU times: user 29min 34s, sys: 1min 37s, total: 31min 11s\n",
      "Wall time: 9min 34s\n"
     ]
    }
   ],
   "source": [
    "%%time \n",
    "oof_pred = automl.fit_predict(tr_data, roles = roles, verbose = 1)"
   ]
  },
  {
   "cell_type": "code",
   "execution_count": 21,
   "id": "79f5342f",
   "metadata": {
    "execution": {
     "iopub.execute_input": "2023-02-07T19:48:37.302289Z",
     "iopub.status.busy": "2023-02-07T19:48:37.301428Z",
     "iopub.status.idle": "2023-02-07T19:48:37.305372Z",
     "shell.execute_reply": "2023-02-07T19:48:37.304711Z",
     "shell.execute_reply.started": "2023-02-07T19:30:24.731760Z"
    },
    "papermill": {
     "duration": 0.062108,
     "end_time": "2023-02-07T19:48:37.305542",
     "exception": false,
     "start_time": "2023-02-07T19:48:37.243434",
     "status": "completed"
    },
    "tags": []
   },
   "outputs": [
    {
     "name": "stdout",
     "output_type": "stream",
     "text": [
      "Final prediction for new objects (level 0) = \n",
      "\t 1.00000 * (5 averaged models Lvl_0_Pipe_1_Mod_1_Tuned_LightGBM) \n"
     ]
    }
   ],
   "source": [
    "print(automl.create_model_str_desc())"
   ]
  },
  {
   "cell_type": "markdown",
   "id": "b3f4826b",
   "metadata": {
    "papermill": {
     "duration": 0.052684,
     "end_time": "2023-02-07T19:48:37.410250",
     "exception": false,
     "start_time": "2023-02-07T19:48:37.357566",
     "status": "completed"
    },
    "tags": []
   },
   "source": [
    "# 3. Prediction on holdout and model evaluation\n",
    "\n",
    "We now have the trained model called `automl` and it's time to see what MAE score it can receive on train and holdout data:"
   ]
  },
  {
   "cell_type": "code",
   "execution_count": 22,
   "id": "5c4bc3a4",
   "metadata": {
    "execution": {
     "iopub.execute_input": "2023-02-07T19:48:37.532084Z",
     "iopub.status.busy": "2023-02-07T19:48:37.527921Z",
     "iopub.status.idle": "2023-02-07T19:48:40.812084Z",
     "shell.execute_reply": "2023-02-07T19:48:40.812791Z",
     "shell.execute_reply.started": "2023-02-07T19:30:29.361073Z"
    },
    "papermill": {
     "duration": 3.350067,
     "end_time": "2023-02-07T19:48:40.813002",
     "exception": false,
     "start_time": "2023-02-07T19:48:37.462935",
     "status": "completed"
    },
    "tags": []
   },
   "outputs": [
    {
     "name": "stdout",
     "output_type": "stream",
     "text": [
      "Prediction for te_data:\n",
      "array([[ 1586.4534],\n",
      "       [ 5869.412 ],\n",
      "       [ 6665.004 ],\n",
      "       ...,\n",
      "       [ 1754.5135],\n",
      "       [13888.232 ],\n",
      "       [ 4557.9243]], dtype=float32)\n",
      "Shape = (6999, 1)\n",
      "CPU times: user 9.87 s, sys: 32.1 ms, total: 9.9 s\n",
      "Wall time: 3.29 s\n"
     ]
    }
   ],
   "source": [
    "%%time\n",
    "\n",
    "te_pred = automl.predict(te_data)\n",
    "print(f'Prediction for te_data:\\n{te_pred}\\nShape = {te_pred.shape}')"
   ]
  },
  {
   "cell_type": "code",
   "execution_count": 23,
   "id": "3c084902",
   "metadata": {
    "execution": {
     "iopub.execute_input": "2023-02-07T19:48:40.923592Z",
     "iopub.status.busy": "2023-02-07T19:48:40.922600Z",
     "iopub.status.idle": "2023-02-07T19:48:40.928333Z",
     "shell.execute_reply": "2023-02-07T19:48:40.928850Z",
     "shell.execute_reply.started": "2023-02-07T19:30:36.140958Z"
    },
    "papermill": {
     "duration": 0.064242,
     "end_time": "2023-02-07T19:48:40.929053",
     "exception": false,
     "start_time": "2023-02-07T19:48:40.864811",
     "status": "completed"
    },
    "tags": []
   },
   "outputs": [
    {
     "name": "stdout",
     "output_type": "stream",
     "text": [
      "TRAIN out-of-fold score: 2861.552834496955\n",
      "HOLDOUT score: 1580.7705785151993\n"
     ]
    }
   ],
   "source": [
    "print(f'TRAIN out-of-fold score: {mean_absolute_error(tr_data[TARGET_NAME].values, oof_pred.data[:, 0])}')\n",
    "print(f'HOLDOUT score: {mean_absolute_error(te_data[TARGET_NAME].values, te_pred.data[:, 0])}')"
   ]
  },
  {
   "cell_type": "markdown",
   "id": "d793aae7",
   "metadata": {
    "papermill": {
     "duration": 0.058128,
     "end_time": "2023-02-07T19:48:41.039572",
     "exception": false,
     "start_time": "2023-02-07T19:48:40.981444",
     "status": "completed"
    },
    "tags": []
   },
   "source": [
    "# 4. Feature importances calculation \n",
    "\n",
    "For feature importances calculation we have 2 different methods in LightAutoML:\n",
    "- Fast (`fast`) - this method uses feature importances from feature selector LGBM model inside LightAutoML. It works extremely fast and almost always (almost because of situations, when feature selection is turned off or selector was removed from the final models with all GBM models). no need to use new labelled data.\n",
    "- Accurate (`accurate`) - this method calculate *features permutation importances* for the whole LightAutoML model based on the **new labelled data**. It always works but can take a lot of time to finish (depending on the model structure, new labelled dataset size etc.)."
   ]
  },
  {
   "cell_type": "code",
   "execution_count": 24,
   "id": "e290dcd4",
   "metadata": {
    "execution": {
     "iopub.execute_input": "2023-02-07T19:48:41.174221Z",
     "iopub.status.busy": "2023-02-07T19:48:41.173089Z",
     "iopub.status.idle": "2023-02-07T19:48:41.720365Z",
     "shell.execute_reply": "2023-02-07T19:48:41.720936Z",
     "shell.execute_reply.started": "2023-02-07T19:30:42.438623Z"
    },
    "papermill": {
     "duration": 0.617382,
     "end_time": "2023-02-07T19:48:41.721152",
     "exception": false,
     "start_time": "2023-02-07T19:48:41.103770",
     "status": "completed"
    },
    "tags": []
   },
   "outputs": [
    {
     "name": "stdout",
     "output_type": "stream",
     "text": [
      "CPU times: user 131 ms, sys: 78.7 ms, total: 209 ms\n",
      "Wall time: 133 ms\n"
     ]
    },
    {
     "data": {
      "text/plain": [
       "<AxesSubplot:xlabel='Feature'>"
      ]
     },
     "execution_count": 24,
     "metadata": {},
     "output_type": "execute_result"
    },
    {
     "data": {
      "image/png": "[encoded data removed]",
      "text/plain": [
       "<Figure size 2160x720 with 1 Axes>"
      ]
     },
     "metadata": {
      "needs_background": "light"
     },
     "output_type": "display_data"
    }
   ],
   "source": [
    "%%time\n",
    "\n",
    "# Fast feature importances calculation\n",
    "fast_fi = automl.get_feature_scores('fast')\n",
    "fast_fi.set_index('Feature')['Importance'].plot.bar(figsize = (30, 10), grid = True)"
   ]
  },
  {
   "cell_type": "code",
   "execution_count": 25,
   "id": "cbba3b93",
   "metadata": {
    "execution": {
     "iopub.execute_input": "2023-02-07T19:48:41.835879Z",
     "iopub.status.busy": "2023-02-07T19:48:41.834838Z",
     "iopub.status.idle": "2023-02-07T19:49:15.144761Z",
     "shell.execute_reply": "2023-02-07T19:49:15.145603Z",
     "shell.execute_reply.started": "2023-02-07T19:30:58.968996Z"
    },
    "papermill": {
     "duration": 33.369534,
     "end_time": "2023-02-07T19:49:15.145902",
     "exception": false,
     "start_time": "2023-02-07T19:48:41.776368",
     "status": "completed"
    },
    "tags": []
   },
   "outputs": [
    {
     "name": "stdout",
     "output_type": "stream",
     "text": [
      "CPU times: user 1min 52s, sys: 150 ms, total: 1min 52s\n",
      "Wall time: 33.2 s\n"
     ]
    }
   ],
   "source": [
    "%%time\n",
    "\n",
    "# Accurate feature importances calculation (Permutation importances) -  can take long time to calculate on bigger datasets\n",
    "accurate_fi = automl.get_feature_scores('accurate', te_data, silent = False)"
   ]
  },
  {
   "cell_type": "code",
   "execution_count": 26,
   "id": "604b085c",
   "metadata": {
    "execution": {
     "iopub.execute_input": "2023-02-07T19:49:15.283985Z",
     "iopub.status.busy": "2023-02-07T19:49:15.282884Z",
     "iopub.status.idle": "2023-02-07T19:49:15.641753Z",
     "shell.execute_reply": "2023-02-07T19:49:15.642461Z",
     "shell.execute_reply.started": "2023-02-07T19:31:36.757449Z"
    },
    "papermill": {
     "duration": 0.441072,
     "end_time": "2023-02-07T19:49:15.642697",
     "exception": false,
     "start_time": "2023-02-07T19:49:15.201625",
     "status": "completed"
    },
    "tags": []
   },
   "outputs": [
    {
     "data": {
      "text/plain": [
       "<AxesSubplot:xlabel='Feature'>"
      ]
     },
     "execution_count": 26,
     "metadata": {},
     "output_type": "execute_result"
    },
    {
     "data": {
      "image/png": "[encoded data removed]",
      "text/plain": [
       "<Figure size 2160x720 with 1 Axes>"
      ]
     },
     "metadata": {
      "needs_background": "light"
     },
     "output_type": "display_data"
    }
   ],
   "source": [
    "accurate_fi.set_index('Feature')['Importance'].plot.bar(figsize = (30, 10), grid = True)"
   ]
  },
  {
   "cell_type": "markdown",
   "id": "9c784a32",
   "metadata": {
    "papermill": {
     "duration": 0.057567,
     "end_time": "2023-02-07T19:49:15.758662",
     "exception": false,
     "start_time": "2023-02-07T19:49:15.701095",
     "status": "completed"
    },
    "tags": []
   },
   "source": [
    "# 5. Predict for test dataset\n",
    "\n",
    "We are also ready to predict for our test competition dataset and submission file creation:"
   ]
  },
  {
   "cell_type": "code",
   "execution_count": 27,
   "id": "efa781a5",
   "metadata": {
    "execution": {
     "iopub.execute_input": "2023-02-07T19:49:15.882113Z",
     "iopub.status.busy": "2023-02-07T19:49:15.880975Z",
     "iopub.status.idle": "2023-02-07T19:49:19.791879Z",
     "shell.execute_reply": "2023-02-07T19:49:19.792644Z",
     "shell.execute_reply.started": "2023-02-07T19:32:01.488999Z"
    },
    "papermill": {
     "duration": 3.976748,
     "end_time": "2023-02-07T19:49:19.792935",
     "exception": false,
     "start_time": "2023-02-07T19:49:15.816187",
     "status": "completed"
    },
    "tags": []
   },
   "outputs": [
    {
     "name": "stdout",
     "output_type": "stream",
     "text": [
      "Prediction for te_data:\n",
      "array([[ 2883.5947],\n",
      "       [ 6190.4844],\n",
      "       [ 8237.696 ],\n",
      "       ...,\n",
      "       [17576.377 ],\n",
      "       [ 5187.6807],\n",
      "       [ 6427.2197]], dtype=float32)\n",
      "Shape = (10697, 1)\n"
     ]
    }
   ],
   "source": [
    "test_pred = automl.predict(test_data)\n",
    "print(f'Prediction for te_data:\\n{test_pred}\\nShape = {test_pred.shape}')"
   ]
  },
  {
   "cell_type": "code",
   "execution_count": 28,
   "id": "0e123fef",
   "metadata": {
    "execution": {
     "iopub.execute_input": "2023-02-07T19:49:19.911339Z",
     "iopub.status.busy": "2023-02-07T19:49:19.910281Z",
     "iopub.status.idle": "2023-02-07T19:49:19.939408Z",
     "shell.execute_reply": "2023-02-07T19:49:19.940048Z",
     "shell.execute_reply.started": "2023-02-07T19:32:10.932019Z"
    },
    "papermill": {
     "duration": 0.090487,
     "end_time": "2023-02-07T19:49:19.940255",
     "exception": false,
     "start_time": "2023-02-07T19:49:19.849768",
     "status": "completed"
    },
    "tags": []
   },
   "outputs": [],
   "source": [
    "submission[TARGET_NAME] = test_pred.data[:, 0]\n",
    "submission.to_csv('submission.csv', index = False)\n",
    "#tr_data.to_csv('train_data_dd.csv', index = False)"
   ]
  },
  {
   "cell_type": "markdown",
   "id": "c77241e9",
   "metadata": {
    "papermill": {
     "duration": 0.055891,
     "end_time": "2023-02-07T19:49:20.053704",
     "exception": false,
     "start_time": "2023-02-07T19:49:19.997813",
     "status": "completed"
    },
    "tags": []
   },
   "source": [
    "# Additional materials"
   ]
  },
  {
   "cell_type": "markdown",
   "id": "335e9a49",
   "metadata": {
    "papermill": {
     "duration": 0.056714,
     "end_time": "2023-02-07T19:49:20.167118",
     "exception": false,
     "start_time": "2023-02-07T19:49:20.110404",
     "status": "completed"
    },
    "tags": []
   },
   "source": [
    "- [Official LightAutoML github repo](https://github.com/AILab-MLTools/LightAutoML)\n",
    "- [LightAutoML documentation](https://lightautoml.readthedocs.io/en/latest)\n",
    "- [LightAutoML tutorials](https://github.com/AILab-MLTools/LightAutoML/tree/master/examples/tutorials)\n",
    "- LightAutoML course:\n",
    "    - [Part 1 - general overview](https://ods.ai/tracks/automl-course-part1) \n",
    "    - [Part 2 - LightAutoML specific applications](https://ods.ai/tracks/automl-course-part2)\n",
    "    - [Part 3 - LightAutoML customization](https://ods.ai/tracks/automl-course-part3)\n",
    "- [OpenDataScience AutoML benchmark leaderboard](https://ods.ai/competitions/automl-benchmark/leaderboard)"
   ]
  },
  {
   "cell_type": "markdown",
   "id": "67e6ce90",
   "metadata": {
    "papermill": {
     "duration": 0.056658,
     "end_time": "2023-02-07T19:49:20.282778",
     "exception": false,
     "start_time": "2023-02-07T19:49:20.226120",
     "status": "completed"
    },
    "tags": []
   },
   "source": [
    "### If you still like the notebook, do not forget to put upvote for the notebook and the ⭐️ for github repo if you like it using the button below - one click for you, great pleasure for us ☺️\n",
    "\n",
    "### If you miss the [simple baseline notebook](https://www.kaggle.com/code/alexryzhkov/clone-my-notebook) for this competition, please take a look and upvote it as well. "
   ]
  },
  {
   "cell_type": "code",
   "execution_count": 29,
   "id": "cceabad9",
   "metadata": {
    "_kg_hide-input": true,
    "execution": {
     "iopub.execute_input": "2023-02-07T19:49:20.401526Z",
     "iopub.status.busy": "2023-02-07T19:49:20.400770Z",
     "iopub.status.idle": "2023-02-07T19:49:20.402701Z",
     "shell.execute_reply": "2023-02-07T19:49:20.403332Z",
     "shell.execute_reply.started": "2023-02-07T11:13:55.718408Z"
    },
    "papermill": {
     "duration": 0.063924,
     "end_time": "2023-02-07T19:49:20.403544",
     "exception": false,
     "start_time": "2023-02-07T19:49:20.339620",
     "status": "completed"
    },
    "tags": []
   },
   "outputs": [],
   "source": [
    "s = '<iframe src=\"https://ghbtns.com/github-btn.html?user=sb-ai-lab&repo=LightAutoML&type=star&count=true&size=large\" frameborder=\"0\" scrolling=\"0\" width=\"170\" height=\"30\" title=\"LightAutoML GitHub\"></iframe>'\n"
   ]
  }
 ],
 "metadata": {
  "kernelspec": {
   "display_name": "Python 3",
   "language": "python",
   "name": "python3"
  },
  "language_info": {
   "codemirror_mode": {
    "name": "ipython",
    "version": 3
   },
   "file_extension": ".py",
   "mimetype": "text/x-python",
   "name": "python",
   "nbconvert_exporter": "python",
   "pygments_lexer": "ipython3",
   "version": "3.7.12"
  },
  "papermill": {
   "default_parameters": {},
   "duration": 765.495449,
   "end_time": "2023-02-07T19:49:21.878118",
   "environment_variables": {},
   "exception": null,
   "input_path": "__notebook__.ipynb",
   "output_path": "__notebook__.ipynb",
   "parameters": {},
   "start_time": "2023-02-07T19:36:36.382669",
   "version": "2.3.3"
  }
 },
 "nbformat": 4,
 "nbformat_minor": 5
}
