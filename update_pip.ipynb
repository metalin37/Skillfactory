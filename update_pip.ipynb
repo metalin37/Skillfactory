{
 "cells": [
  {
   "attachments": {},
   "cell_type": "markdown",
   "metadata": {},
   "source": [
    "обновляем все пакеты установленные pip"
   ]
  },
  {
   "cell_type": "code",
   "execution_count": 5,
   "metadata": {},
   "outputs": [],
   "source": [
    "import subprocess as sbp\n",
    "import pip\n",
    "pkgs = eval(str(sbp.run(\"pip3 list -o --format=json\", shell=True,\n",
    "                         stdout=sbp.PIPE).stdout, encoding='utf-8'))\n",
    "for pkg in pkgs:\n",
    "    sbp.run(\"pip3 install --upgrade \" + pkg['name'], shell=True)"
   ]
  }
 ],
 "metadata": {
  "kernelspec": {
   "display_name": "Python 3",
   "language": "python",
   "name": "python3"
  },
  "language_info": {
   "codemirror_mode": {
    "name": "ipython",
    "version": 3
   },
   "file_extension": ".py",
   "mimetype": "text/x-python",
   "name": "python",
   "nbconvert_exporter": "python",
   "pygments_lexer": "ipython3",
   "version": "3.10.7"
  },
  "orig_nbformat": 4
 },
 "nbformat": 4,
 "nbformat_minor": 2
}
